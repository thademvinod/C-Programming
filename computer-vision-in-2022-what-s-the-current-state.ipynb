{
 "cells": [
  {
   "cell_type": "code",
   "execution_count": 1,
   "id": "a77d80f2",
   "metadata": {
    "_cell_guid": "b1076dfc-b9ad-4769-8c92-a6c4dae69d19",
    "_kg_hide-input": true,
    "_uuid": "8f2839f25d086af736a60e9eeb907d3b93b6e0e5",
    "execution": {
     "iopub.execute_input": "2022-11-27T02:55:56.556757Z",
     "iopub.status.busy": "2022-11-27T02:55:56.556327Z",
     "iopub.status.idle": "2022-11-27T02:56:02.039913Z",
     "shell.execute_reply": "2022-11-27T02:56:02.038519Z"
    },
    "papermill": {
     "duration": 5.503535,
     "end_time": "2022-11-27T02:56:02.042783",
     "exception": false,
     "start_time": "2022-11-27T02:55:56.539248",
     "status": "completed"
    },
    "tags": []
   },
   "outputs": [
    {
     "data": {
      "text/html": [
       "\n",
       "    <style>\n",
       "        .main-heading{\n",
       "            background-color: #4da67a;\n",
       "            color: white !important;\n",
       "            \n",
       "            font-size: 32px !important;\n",
       "            padding: 12px 12px;\n",
       "            margin-bottom: 5px;\n",
       "            border-radius: 4px;\n",
       "            box-shadow: rgba(0, 0, 0, 0.19) 0px 10px 10px, rgba(0, 0, 0, 0.23) 0px 6px 6px;\n",
       "            border-radius: 25px;\n",
       "            \n",
       "            \n",
       "        }\n",
       "\n",
       "        .sub-heading{\n",
       "            width: auto !important;\n",
       "            background-color: #7aa64d;\n",
       "            color: white !important;\n",
       "            \n",
       "            font-size: 24px !important;\n",
       "            padding: 10px 12px;\n",
       "            margin-bottom: 3px;\n",
       "            box-shadow: rgba(0, 0, 0, 0.16) 0px 3px 6px, rgba(0, 0, 0, 0.23) 0px 3px 6px;\n",
       "            border-radius: 20px;\n",
       "        }\n",
       "        \n",
       "        .default-font{\n",
       "            \n",
       "            font-size: 15px ;\n",
       "        }\n",
       "        .graph-q-font{\n",
       "            \n",
       "            font-size: 12px !important;\n",
       "        }\n",
       "        .graph-heading{\n",
       "            border-bottom: 5px solid #7aa64d;\n",
       "            width: auto !important;\n",
       "            color: #7aa64d !important;\n",
       "            \n",
       "            font-size: 24px !important;\n",
       "            padding: 10px 12px;\n",
       "            margin-bottom: 3px;\n",
       "        }\n",
       "        .ref-heading{\n",
       "            text-decoration: underline;\n",
       "            color: #7aa64d !important;\n",
       "            \n",
       "            font-size: 24px !important;\n",
       "            padding: 10px 12px;\n",
       "            margin-bottom: 3px;\n",
       "        }\n",
       "        .bold-text{\n",
       "            width: auto !important;\n",
       "            color: #7aa64d !important;\n",
       "            \n",
       "            font-size: 18px !important;\n",
       "            padding: 10px 12px;\n",
       "           \n",
       "        }\n",
       "    </style>\n"
      ],
      "text/plain": [
       "<IPython.core.display.HTML object>"
      ]
     },
     "execution_count": 1,
     "metadata": {},
     "output_type": "execute_result"
    }
   ],
   "source": [
    "import warnings\n",
    "import pandas as pd\n",
    "import plotly.express as px\n",
    "import plotly.graph_objects as go\n",
    "from plotly.subplots import make_subplots\n",
    "from IPython.core.display import HTML\n",
    "warnings.filterwarnings('ignore')\n",
    "pd.set_option('display.max_columns', 500)\n",
    "\n",
    "#Loading Datasets\n",
    "response_2022=pd.read_csv('/kaggle/input/kaggle-survey-2022/kaggle_survey_2022_responses.csv')\n",
    "response_2021=pd.read_csv('/kaggle/input/kaggle-survey-2021/kaggle_survey_2021_responses.csv')\n",
    "response_2020=pd.read_csv('/kaggle/input/kaggle-survey-2020/kaggle_survey_2020_responses.csv')\n",
    "\n",
    "# CSS styling for markdown\n",
    "styling = \"\"\"\n",
    "    <style>\n",
    "        .main-heading{\n",
    "            background-color: #4da67a;\n",
    "            color: white !important;\n",
    "            \n",
    "            font-size: 32px !important;\n",
    "            padding: 12px 12px;\n",
    "            margin-bottom: 5px;\n",
    "            border-radius: 4px;\n",
    "            box-shadow: rgba(0, 0, 0, 0.19) 0px 10px 10px, rgba(0, 0, 0, 0.23) 0px 6px 6px;\n",
    "            border-radius: 25px;\n",
    "            \n",
    "            \n",
    "        }\n",
    "\n",
    "        .sub-heading{\n",
    "            width: auto !important;\n",
    "            background-color: #7aa64d;\n",
    "            color: white !important;\n",
    "            \n",
    "            font-size: 24px !important;\n",
    "            padding: 10px 12px;\n",
    "            margin-bottom: 3px;\n",
    "            box-shadow: rgba(0, 0, 0, 0.16) 0px 3px 6px, rgba(0, 0, 0, 0.23) 0px 3px 6px;\n",
    "            border-radius: 20px;\n",
    "        }\n",
    "        \n",
    "        .default-font{\n",
    "            \n",
    "            font-size: 15px ;\n",
    "        }\n",
    "        .graph-q-font{\n",
    "            \n",
    "            font-size: 12px !important;\n",
    "        }\n",
    "        .graph-heading{\n",
    "            border-bottom: 5px solid #7aa64d;\n",
    "            width: auto !important;\n",
    "            color: #7aa64d !important;\n",
    "            \n",
    "            font-size: 24px !important;\n",
    "            padding: 10px 12px;\n",
    "            margin-bottom: 3px;\n",
    "        }\n",
    "        .ref-heading{\n",
    "            text-decoration: underline;\n",
    "            color: #7aa64d !important;\n",
    "            \n",
    "            font-size: 24px !important;\n",
    "            padding: 10px 12px;\n",
    "            margin-bottom: 3px;\n",
    "        }\n",
    "        .bold-text{\n",
    "            width: auto !important;\n",
    "            color: #7aa64d !important;\n",
    "            \n",
    "            font-size: 18px !important;\n",
    "            padding: 10px 12px;\n",
    "           \n",
    "        }\n",
    "    </style>\n",
    "\"\"\"\n",
    "HTML(styling)"
   ]
  },
  {
   "cell_type": "code",
   "execution_count": 2,
   "id": "6c9043c1",
   "metadata": {
    "_kg_hide-input": true,
    "execution": {
     "iopub.execute_input": "2022-11-27T02:56:02.075364Z",
     "iopub.status.busy": "2022-11-27T02:56:02.074900Z",
     "iopub.status.idle": "2022-11-27T02:56:02.106026Z",
     "shell.execute_reply": "2022-11-27T02:56:02.104969Z"
    },
    "papermill": {
     "duration": 0.051386,
     "end_time": "2022-11-27T02:56:02.108595",
     "exception": false,
     "start_time": "2022-11-27T02:56:02.057209",
     "status": "completed"
    },
    "tags": []
   },
   "outputs": [],
   "source": [
    "## User Defined Functions\n",
    "\n",
    "# This user defined function works as 'pivot' function. It Takes a grouped by dataframe and creates a row for each column value \n",
    "# into a new dataframe and returns the new dataframe\n",
    "def get_vertical_df(df,idx_col,pcol_nm):\n",
    "    \n",
    "    new_resl = {idx_col: [],\n",
    "        pcol_nm: [],\n",
    "        'Count': []}\n",
    "    df_marks = pd.DataFrame(new_resl)\n",
    "\n",
    "    col_list=df.columns.to_list()\n",
    "    col_list.remove(idx_col)\n",
    "    col_list\n",
    "    for index, row in df.iterrows():\n",
    "        for col in col_list:\n",
    "            new_row = {idx_col:row[idx_col], pcol_nm:col, 'Percentage':row[col]}\n",
    "            df_marks = df_marks.append(new_row, ignore_index=True)\n",
    "    \n",
    "    return df_marks\n",
    "\n",
    "# This function is used to remove all the first brackets'()' from the column name \n",
    "def remove_after_text(pstring,ch):\n",
    "    # pstring is the string\n",
    "    # ch is the character after which all characters will be removed from pstring\n",
    "    \n",
    "    indx=pstring.find(ch)\n",
    "    if indx>0:\n",
    "        pstring=pstring[0:indx]\n",
    "    return pstring\n",
    "\n",
    "\n",
    "def get_summary_df(df,keyword,keyword_name,remove_after=False):\n",
    "    \n",
    "    course_columns=df.filter(regex='^'+keyword+'_',axis=1).columns.to_list()\n",
    "    rpt_col=course_columns\n",
    "    \n",
    "    df_gby=df[rpt_col].copy()\n",
    "    df_gby=df_gby.count().rename('Count').reset_index()\n",
    "    Total = df_gby['Count'].sum()\n",
    "    df_gby['Count']=df_gby['Count'].div(Total).mul(100).round(2)\n",
    "    df_gby['index'] = df_gby['index'].str.replace(keyword+'_','')\n",
    "    \n",
    "    if (remove_after==True):\n",
    "        df_gby['index'] = df_gby['index'].apply(lambda x: remove_after_text(x,'('))\n",
    "    df_gby.rename(columns = {'index':keyword_name,'Count':'Percentage'}, inplace = True)\n",
    "    \n",
    "    \n",
    "    return df_gby\n",
    "\n",
    "\n",
    "def get_industry_wise_df (df,keyword,keyword_name,remove_after=False):\n",
    "    \n",
    "    course_columns=df.filter(regex='^'+keyword+'_',axis=1).columns.to_list()\n",
    "    rpt_col=['Industry']+course_columns\n",
    "    df_gby=df[rpt_col].copy()\n",
    "    df_gby=df_gby.groupby(['Industry']).count().reset_index()\n",
    "    \n",
    "    df_gby['Total']=df_gby.sum(axis=1)\n",
    "    df_gby[ course_columns]=df_gby[course_columns].div(df_gby['Total'], axis=0).mul(100).round(2)\n",
    "    df_gby.drop(['Total'], axis=1,inplace=True)\n",
    "    vert_df=get_vertical_df(df_gby,'Industry',keyword_name)\n",
    "    vert_df.head(10)\n",
    "    \n",
    "    \n",
    "    vert_df[keyword_name] = vert_df[keyword_name].str.replace(keyword+'_','')\n",
    "    if (remove_after==True):\n",
    "        vert_df[keyword_name] = vert_df[keyword_name].apply(lambda x: remove_after_text(x,'('))\n",
    "    \n",
    "    return vert_df\n",
    "\n",
    "def get_base_keword_wise_df (df,base,keyword,keyword_name,remove_after=False):\n",
    "    #  df is dataset\n",
    "    # 'CV_None' column in p_df indicates whether a respondent uses CV or not .This column name is passed through 'base' parameter\n",
    "    # 'keyword' is the column name prefix, based on which the number of computer vision users and non-users is calculated. For example \n",
    "    # 'Cloud Computing Platform' is denoted by column name prefix 'CCP'. \n",
    "    \n",
    "    course_columns=df.filter(regex='^'+keyword+'_',axis=1).columns.to_list()\n",
    "    rpt_col=[base]+course_columns\n",
    "    df_gby=df[rpt_col].copy()\n",
    "    df_gby=df_gby.groupby([base]).count().reset_index()\n",
    "    \n",
    "    df_gby['Total']=df_gby.sum(axis=1)\n",
    "    df_gby[ course_columns]=df_gby[course_columns].div(df_gby['Total'], axis=0).mul(100).round(2)\n",
    "    df_gby.drop(['Total'], axis=1,inplace=True)\n",
    "    vert_df=get_vertical_df(df_gby,base,keyword_name)\n",
    "    vert_df.head(10)\n",
    "    \n",
    "    \n",
    "    vert_df[keyword_name] = vert_df[keyword_name].str.replace(keyword+'_','')\n",
    "    if (remove_after==True):\n",
    "        vert_df[keyword_name] = vert_df[keyword_name].apply(lambda x: remove_after_text(x,'('))\n",
    "    \n",
    "    return vert_df\n",
    "\n",
    "# This function is used to replace the industry name with short names for easy ploting on graph\n",
    "def industry_name_mapping(x):\n",
    "    # x industry name\n",
    "    \n",
    "    map_val=\"\"\n",
    "    if (x=='Shipping/Transportation'):\n",
    "        map_val='Ship/Trans'\n",
    "    elif (x=='Computers/Technology'):\n",
    "        map_val='Com/Tech'\n",
    "    elif (x=='Academics/Education'):\n",
    "        map_val='Academics/Edu'\n",
    "    elif (x=='Accounting/Finance'):\n",
    "        map_val='Accounting'\n",
    "    elif (x=='Government/Public Service'):\n",
    "        map_val='Government'\n",
    "    elif (x=='Medical/Pharmaceutical'):\n",
    "        map_val='Medical/Pharma'\n",
    "    elif (x=='Manufacturing/Fabrication'):\n",
    "        map_val='Mfs/Fabrication'\n",
    "    elif (x=='Insurance/Risk Assessment'):\n",
    "        map_val='Ins/Risk Assessment'\n",
    "    elif (x=='Online Service/Internet-based Services'):\n",
    "        map_val='Online Service'\n",
    "    elif (x=='Broadcasting/Communications'):\n",
    "        map_val='Broadcasting'\n",
    "    else:\n",
    "        map_val=x\n",
    "    return map_val\n",
    "\n",
    "# This function is used to replace the computer vision methods name with short names for easy ploting on graph\n",
    "def cv_name_mapping(x):\n",
    "    # x computer vision method name\n",
    "    map_val=\"\"\n",
    "    if (x=='General purpose image/video tools '):\n",
    "        map_val='General img/video tools '\n",
    "    elif (x=='Image segmentation methods '):\n",
    "        map_val='Img segmentation'\n",
    "    elif (x=='Object detection methods '):\n",
    "        map_val='Obj detection'\n",
    "    elif (x=='Image classification and other general purpose networks '):\n",
    "        map_val='Img claasify/General Nets '\n",
    "    elif (x=='Generative Networks '):\n",
    "        map_val='GAN'\n",
    "    elif (x=='Vision transformer networks '):\n",
    "        map_val='ViT'\n",
    "    else:\n",
    "        map_val=x\n",
    "    return map_val\n",
    "\n",
    "# This function is used to replace the country name with short names for easy ploting on graph\n",
    "def country_name_mapping(x):\n",
    "    map_val=\"\"\n",
    "    \n",
    "    if (x=='United Arab Emirates'):\n",
    "        map_val='UAE'\n",
    "    elif (x=='I do not wish to disclose my location'):\n",
    "        map_val='Unknown'\n",
    "    elif (x=='Iran, Islamic Republic of...'):\n",
    "        map_val='Iran'\n",
    "    elif (x=='United Kingdom of Great Britain and Northern Ireland'):\n",
    "        map_val='UK'\n",
    "    elif (x=='United States of America'):\n",
    "        map_val='USA'\n",
    "    else:\n",
    "        map_val=x\n",
    "    return map_val\n"
   ]
  },
  {
   "cell_type": "code",
   "execution_count": 3,
   "id": "4df6e87c",
   "metadata": {
    "_kg_hide-input": true,
    "execution": {
     "iopub.execute_input": "2022-11-27T02:56:02.138028Z",
     "iopub.status.busy": "2022-11-27T02:56:02.137648Z",
     "iopub.status.idle": "2022-11-27T02:56:03.266175Z",
     "shell.execute_reply": "2022-11-27T02:56:03.264865Z"
    },
    "papermill": {
     "duration": 1.146841,
     "end_time": "2022-11-27T02:56:03.269176",
     "exception": false,
     "start_time": "2022-11-27T02:56:02.122335",
     "status": "completed"
    },
    "tags": []
   },
   "outputs": [],
   "source": [
    "# As we are not considering all the columns for this analysis, we  only take the required columns here\n",
    "filter_columns_2022=response_2022.filter(regex='^Q19_',axis=1).columns.to_list()+['Q2','Q3','Q4','Q8','Q23','Q24','Q25','Q11','Q16','Q29']+response_2022.filter(regex='^Q33_',axis=1).columns.to_list()+response_2022.filter(regex='^Q28_',axis=1).columns.to_list()+response_2022.filter(regex='^Q6_',axis=1).columns.to_list()+response_2022.filter(regex='^Q7_',axis=1).columns.to_list()+response_2022.filter(regex='^Q44_',axis=1).columns.to_list()+response_2022.filter(regex='^Q12_',axis=1).columns.to_list()+response_2022.filter(regex='^Q13_',axis=1).columns.to_list()+response_2022.filter(regex='^Q14_',axis=1).columns.to_list()+response_2022.filter(regex='^Q15_',axis=1).columns.to_list()+response_2022.filter(regex='^Q35_',axis=1).columns.to_list()+response_2022.filter(regex='^Q36_',axis=1).columns.to_list()\n",
    "filter_columns_2022=filter_columns_2022+response_2022.filter(regex='^Q39_',axis=1).columns.to_list()+response_2022.filter(regex='^Q34_',axis=1).columns.to_list()+response_2022.filter(regex='^Q40_',axis=1).columns.to_list()+response_2022.filter(regex='^Q41_',axis=1).columns.to_list()+response_2022.filter(regex='^Q42_',axis=1).columns.to_list()+response_2022.filter(regex='^Q43_',axis=1).columns.to_list()+response_2022.filter(regex='^Q37_',axis=1).columns.to_list()+response_2022.filter(regex='^Q21_',axis=1).columns.to_list()+response_2022.filter(regex='^Q31_',axis=1).columns.to_list()+response_2022.filter(regex='^Q38_',axis=1).columns.to_list()+response_2022.filter(regex='^Q17_',axis=1).columns.to_list()+response_2022.filter(regex='^Q22',axis=1).columns.to_list()+response_2022.filter(regex='^Q18_',axis=1).columns.to_list()+response_2022.filter(regex='^Q20_',axis=1).columns.to_list()\n",
    "filtered_df_2022=response_2022[filter_columns_2022].copy()\n",
    "\n",
    "\n",
    "# Rename column names \n",
    "filtered_df_2022.rename(columns = {'Q43':'TPU','Q16':'Years of ML','Q11':'Years of Programming','Q25':'Size','Q29':'Salary','Q2':'Age','Q3':'Gender','Q24':'Industry','Q4':'Country','Q8':'Highest_Fomal_Edu','Q23':'Current_role','Q22':'MLHub_'}, inplace = True)\n",
    "\n",
    "# Getting the list of all columns which have multiple choice options and renaming the column names with certain prefix for the ease of understanding\n",
    "cols_with_underscore=filtered_df_2022.filter(regex='^Q[1-9]*[0-9]_',axis=1).columns.to_list()\n",
    "prefix=\"\"\n",
    "for c in cols_with_underscore:\n",
    "    if \"Q6_\" in c:\n",
    "        prefix='DSC_'\n",
    "    elif \"Q42_\" in c:\n",
    "        prefix='MLHard_'\n",
    "    elif \"Q41_\" in c:\n",
    "        prefix='EthicalAL_'\n",
    "    elif \"Q40_\" in c:\n",
    "        prefix='MonitorML_'\n",
    "    elif \"Q37_\" in c:\n",
    "        prefix='ManML_'\n",
    "    elif \"Q7_\" in c:\n",
    "        prefix='MSPP_'\n",
    "    elif \"Q44_\" in c:\n",
    "        prefix='FMS_'\n",
    "    elif \"Q12_\" in c:\n",
    "        prefix='PL_'\n",
    "    elif \"Q13_\" in c:\n",
    "        prefix='IDE_'\n",
    "    elif \"Q14_\" in c:\n",
    "        prefix='HNB_'\n",
    "    elif \"Q15_\" in c:\n",
    "        prefix='Viz_'\n",
    "    elif \"Q17_\" in c:\n",
    "        prefix='MLFW_'\n",
    "    elif \"Q18_\" in c:\n",
    "        prefix='MLAlgo_'\n",
    "    elif \"Q19_\" in c:\n",
    "        prefix='CV_'\n",
    "    elif \"Q20_\" in c:\n",
    "        prefix='NLP_'\n",
    "    elif \"Q21_\" in c:\n",
    "        prefix='PrMW_'\n",
    "    elif \"Q28_\" in c:\n",
    "        prefix='Activity_'\n",
    "    elif \"Q31_\" in c:\n",
    "        prefix='CCP_'\n",
    "    elif \"Q33_\" in c:\n",
    "        prefix='CPr_'\n",
    "    elif \"Q34_\" in c:\n",
    "        prefix='DPr_'\n",
    "    elif \"Q35_\" in c:\n",
    "        prefix='DP_'\n",
    "    elif \"Q36_\" in c:\n",
    "        prefix='BI_'\n",
    "    elif \"Q38_\" in c:\n",
    "        prefix='AutoML_'\n",
    "    elif \"Q39_\" in c:\n",
    "        prefix='MLModel_'\n",
    "    else:\n",
    "        prefix=\"\"\n",
    "    filtered_df_2022.rename(columns = {c:prefix+ filtered_df_2022[c].value_counts().index[0]}, inplace = True)\n",
    "    \n",
    "\n",
    "# Removing First row from Dataset as first record contains question text\n",
    "filtered_df_2022= filtered_df_2022.drop( filtered_df_2022.index[0])\n",
    "# Removing all the rows that have no current role\n",
    "df_2022=filtered_df_2022[filtered_df_2022['Current_role'].notnull()]\n",
    "# Removing 'Currently not employed' and 'Other' role, as we are not considering these\n",
    "df_2022=df_2022[(df_2022['Current_role']!='Currently not employed') & (df_2022['Current_role']!='Other')] \n",
    "\n",
    "# Renaming role for easy ploting on graph\n",
    "df_2022['Current_role']=df_2022['Current_role'].apply(lambda x: 'Data Analyst' if (x=='Data Analyst (Business, Marketing, Financial, Quantitative, etc)') else ( 'Manager' if (x=='Manager (Program, Project, Operations, Executive-level, etc)') else x) )\n",
    "df_2022['Current_role']=df_2022['Current_role'].apply(lambda x: 'ML/MLops Engineer' if(x=='Machine Learning/ MLops Engineer') else x)\n",
    "\n",
    "df_2022['Country']=df_2022['Country'].apply(lambda x:country_name_mapping(x))\n",
    "\n",
    "#First we take all the columns related to computer vision except 'CV_None'. The for each row, we checked whether any of these columns has \n",
    "#value or not. If any of these column has value that means this row is a CV user and updated the 'CV_None' value for this record as \n",
    "#'UsesCV'. For other records 'CV_None' is updated with 'None'.\n",
    "cv_col_list_without_none=[0,1,2,3,4,5,7]\n",
    "df_2022.loc[df_2022.iloc[:,cv_col_list_without_none].notnull().any(1),'CV_None']='UsesCV'\n",
    "df_2022.loc[df_2022.iloc[:,cv_col_list_without_none].isnull().all(1),'CV_None']='None' # Updating rows where row have all cv null \n",
    "\n",
    "# print(len(df_2022[df_2022['CV_None']=='UsesCV'])) #2324\n",
    "# print(len(df_2022[df_2022['CV_None']=='None'])) #6120\n"
   ]
  },
  {
   "cell_type": "code",
   "execution_count": 4,
   "id": "2d923841",
   "metadata": {
    "_kg_hide-input": true,
    "execution": {
     "iopub.execute_input": "2022-11-27T02:56:03.297765Z",
     "iopub.status.busy": "2022-11-27T02:56:03.297109Z",
     "iopub.status.idle": "2022-11-27T02:56:03.321135Z",
     "shell.execute_reply": "2022-11-27T02:56:03.320237Z"
    },
    "papermill": {
     "duration": 0.041084,
     "end_time": "2022-11-27T02:56:03.323703",
     "exception": false,
     "start_time": "2022-11-27T02:56:03.282619",
     "status": "completed"
    },
    "tags": []
   },
   "outputs": [],
   "source": [
    "salary_dict = {'$0-999' : 500,\n",
    "               '1,000-1,999' : 1500,\n",
    "               '2,000-2,999' : 2500,\n",
    "               '3,000-3,999' : 3500, \n",
    "               '4,000-4,999' : 4500, \n",
    "               '5,000-7,499' : 6250,\n",
    "               '7,500-9,999' : 8750,\n",
    "               '10,000-14,999' : 12500,\n",
    "               '15,000-19,999' : 17500,\n",
    "               '20,000-24,999' : 22500,\n",
    "               '25,000-29,999' : 27500,\n",
    "               '30,000-39,999' : 35000,\n",
    "               '40,000-49,999' : 45000,\n",
    "               '50,000-59,999' : 55000,\n",
    "               '60,000-69,999' : 65000, \n",
    "               '70,000-79,999' : 75000,\n",
    "               '80,000-89,999' : 85000,\n",
    "               '90,000-99,999' : 95000,\n",
    "               '100,000-124,999' : 112500, \n",
    "               '125,000-149,999' : 137500,\n",
    "               '150,000-199,999' : 175000,\n",
    "               '200,000-249,999' : 225000,\n",
    "               '250,000-299,999' : 275000,\n",
    "               '300,000-499,999' : 400000,\n",
    "               '$500,000-999,999' : 750000, \n",
    "               '>$1,000,000' : 1000000,\n",
    "       }\n",
    "\n",
    "df_2022['SalaryNum']  = df_2022['Salary'] .replace(salary_dict)\n",
    "\n",
    "yrs_prog=['< 1 years','1-3 years','3-5 years','5-10 years',  '10-20 years', '20+ years', 'I have never written code']\n",
    "yrs_progIndex = dict(zip(yrs_prog, range(len(yrs_prog))))\n",
    "yrs_ML=['Under 1 year','1-2 years','2-3 years','3-4 years','4-5 years','5-10 years','10-20 years','I do not use machine learning methods']\n",
    "yrs_MLIndex = dict(zip(yrs_ML, range(len(yrs_ML))))"
   ]
  },
  {
   "cell_type": "code",
   "execution_count": 5,
   "id": "381c504f",
   "metadata": {
    "_kg_hide-input": true,
    "execution": {
     "iopub.execute_input": "2022-11-27T02:56:03.352525Z",
     "iopub.status.busy": "2022-11-27T02:56:03.351753Z",
     "iopub.status.idle": "2022-11-27T02:56:03.439496Z",
     "shell.execute_reply": "2022-11-27T02:56:03.438273Z"
    },
    "papermill": {
     "duration": 0.105541,
     "end_time": "2022-11-27T02:56:03.442487",
     "exception": false,
     "start_time": "2022-11-27T02:56:03.336946",
     "status": "completed"
    },
    "tags": []
   },
   "outputs": [],
   "source": [
    "#Preparing data of 2021\n",
    "filter_columns_2021=['Q3','Q5']+response_2021.filter(regex='^Q18_',axis=1).columns.to_list()+['Q2']\n",
    "filtered_df_2021=response_2021[filter_columns_2021].copy()\n",
    "filtered_df_2021.rename(columns = {'Q2':'Gender','Q3':'Country','Q5':'Current_role'}, inplace = True)\n",
    "cols_with_underscore=filtered_df_2021.filter(regex='^Q[1-9]*[0-9]_',axis=1).columns.to_list()\n",
    "prefix=\"\"\n",
    "for c in cols_with_underscore:\n",
    "    if \"Q18_\" in c:\n",
    "        prefix='CV_'\n",
    "    else:\n",
    "        prefix=\"\"\n",
    "    filtered_df_2021.rename(columns = {c:prefix+ filtered_df_2021[c].value_counts().index[0]}, inplace = True)\n",
    "    \n",
    "# Removing some records\n",
    "# Removing First row from Dataset\n",
    "filtered_df_2021= filtered_df_2021.drop( filtered_df_2021.index[0])\n",
    "# Removing all the rows that have no current role\n",
    "df_2021=filtered_df_2021[filtered_df_2021['Current_role'].notnull()]\n",
    "# Removing 'Currently not employed' as we are not considering this\n",
    "df_2021=df_2021[(df_2021['Current_role']!='Currently not employed') & (df_2021['Current_role']!='Other')] \n",
    "\n",
    "# Renaming role for easy ploting on graph\n",
    "df_2021['Current_role']=df_2021['Current_role'].apply(lambda x: 'Data Analyst' if (x=='Data Analyst (Business, Marketing, Financial, Quantitative, etc)') else ( 'Manager' if (x=='Manager (Program, Project, Operations, Executive-level, etc)') else x) )\n",
    "df_2021['Current_role']=df_2021['Current_role'].apply(lambda x: 'ML/MLops Engineer' if(x=='Machine Learning/ MLops Engineer') else x)\n",
    "\n",
    "df_2021['Country']=df_2021['Country'].apply(lambda x:country_name_mapping(x))\n",
    "\n",
    "cv_col_list_without_none=[2,3,4,5,6,8]\n",
    "df_2021.loc[df_2021.iloc[:,cv_col_list_without_none].notnull().any(1),'CV_None']='UsesCV'\n",
    "df_2021.loc[df_2021.iloc[:,cv_col_list_without_none].isnull().all(1),'CV_None']='None' # Updating rows where row have all cv null \n",
    "\n",
    "# df_2021.head()"
   ]
  },
  {
   "cell_type": "code",
   "execution_count": 6,
   "id": "d225fa8a",
   "metadata": {
    "_kg_hide-input": true,
    "execution": {
     "iopub.execute_input": "2022-11-27T02:56:03.470813Z",
     "iopub.status.busy": "2022-11-27T02:56:03.470408Z",
     "iopub.status.idle": "2022-11-27T02:56:03.543598Z",
     "shell.execute_reply": "2022-11-27T02:56:03.542729Z"
    },
    "papermill": {
     "duration": 0.090273,
     "end_time": "2022-11-27T02:56:03.546130",
     "exception": false,
     "start_time": "2022-11-27T02:56:03.455857",
     "status": "completed"
    },
    "tags": []
   },
   "outputs": [],
   "source": [
    "#Preparing data of 2020\n",
    "filter_columns_2020=['Q3','Q5']+response_2020.filter(regex='^Q18_',axis=1).columns.to_list()+['Q2']\n",
    "filtered_df_2020=response_2020[filter_columns_2020].copy()\n",
    "filtered_df_2020.rename(columns = {'Q2':'Gender','Q3':'Country','Q5':'Current_role'}, inplace = True)\n",
    "cols_with_underscore=filtered_df_2020.filter(regex='^Q[1-9]*[0-9]_',axis=1).columns.to_list()\n",
    "prefix=\"\"\n",
    "for c in cols_with_underscore:\n",
    "    if \"Q18_\" in c:\n",
    "        prefix='CV_'\n",
    "    else:\n",
    "        prefix=\"\"\n",
    "    filtered_df_2020.rename(columns = {c:prefix+ filtered_df_2020[c].value_counts().index[0]}, inplace = True)\n",
    "    \n",
    "# Removing some records\n",
    "# Removing First row from Dataset\n",
    "filtered_df_2020= filtered_df_2020.drop( filtered_df_2020.index[0])\n",
    "# Removing all the rows that have no current role\n",
    "df_2020=filtered_df_2020[filtered_df_2020['Current_role'].notnull()]\n",
    "# Removing 'Currently not employed' as we are not considering this\n",
    "df_2020=df_2020[(df_2020['Current_role']!='Currently not employed') & (df_2020['Current_role']!='Other')] \n",
    "\n",
    "# Renaming role for easy ploting on graph\n",
    "df_2020['Current_role']=df_2020['Current_role'].apply(lambda x: 'Data Analyst' if (x=='Data Analyst (Business, Marketing, Financial, Quantitative, etc)') else ( 'Manager' if (x=='Manager (Program, Project, Operations, Executive-level, etc)') else x) )\n",
    "df_2020['Current_role']=df_2020['Current_role'].apply(lambda x: 'ML/MLops Engineer' if(x=='Machine Learning/ MLops Engineer') else x)\n",
    "\n",
    "df_2020['Country']=df_2020['Country'].apply(lambda x:country_name_mapping(x))\n",
    "\n",
    "cv_col_list_without_none=[2,3,4,5,6,8]\n",
    "df_2020.loc[df_2020.iloc[:,cv_col_list_without_none].notnull().any(1),'CV_None']='UsesCV'\n",
    "df_2020.loc[df_2020.iloc[:,cv_col_list_without_none].isnull().all(1),'CV_None']='None' # Updating rows where row have all cv null "
   ]
  },
  {
   "cell_type": "code",
   "execution_count": 7,
   "id": "733c7d8f",
   "metadata": {
    "_kg_hide-input": true,
    "execution": {
     "iopub.execute_input": "2022-11-27T02:56:03.575032Z",
     "iopub.status.busy": "2022-11-27T02:56:03.574338Z",
     "iopub.status.idle": "2022-11-27T02:56:03.614347Z",
     "shell.execute_reply": "2022-11-27T02:56:03.613469Z"
    },
    "papermill": {
     "duration": 0.057533,
     "end_time": "2022-11-27T02:56:03.616885",
     "exception": false,
     "start_time": "2022-11-27T02:56:03.559352",
     "status": "completed"
    },
    "tags": []
   },
   "outputs": [],
   "source": [
    "### Graph Ploting function\n",
    "def drawSingleBar(p_df,base,title=\"\",pwidth=500,pheight=500):\n",
    "    \n",
    "    # p_df is the dataset\n",
    "    # 'base' is the column based on which the number of computer vision users and non-users is calculated\n",
    "    \n",
    "    df=p_df.copy()\n",
    "    df=df[[base,'CV_None']].copy()\n",
    "    df=df.groupby([base,'CV_None'])['CV_None'].count().rename('Count') # Getting Industry wise participant count\n",
    "    df= df.groupby(level=[0]).apply(lambda x:100 * round(x / float(x.sum()),2)).rename('Percentage').reset_index()\n",
    "    df[base]=df[base].apply(lambda x: industry_name_mapping(x))\n",
    "    df=df.sort_values(['CV_None','Percentage'], ascending=[False,False])\n",
    "    df.rename(columns = {'CV_None':'Use of Computer Vision'},inplace=True)\n",
    "    \n",
    "    fig = px.bar(df, x=df[base], y=df['Percentage'], color=df['Use of Computer Vision'],color_discrete_sequence=['#B24E8F','#EBACBF'],width=pwidth,height=pheight, text_auto=True)\n",
    "    fig.update_layout(title_text=title,title_font_color=\"#7aa64d\",legend_title_font_color=\"#7aa64d\")\n",
    "    fig.show()\n",
    "    \n",
    "    \n",
    "def drawGroupedBar(p_df,base,keyword,keyword_name,title=\"\"):\n",
    "    # p_df is the dataset\n",
    "    # 'CV_None' column in p_df indicates whether a respondent uses CV or not .This column name is passed through 'base' parameter\n",
    "    # 'keyword' is the column name prefix, based on which the number of computer vision users and non-users is calculated. For example \n",
    "    # 'Automated Machine Learning Tool' is denoted by column name prefix 'AutoML'. \n",
    "\n",
    "    df=p_df.copy()\n",
    "    df=get_base_keword_wise_df(df,base,keyword,keyword_name,True)\n",
    "    df[keyword_name]=df[keyword_name].apply(lambda x: cv_name_mapping(x))\n",
    "    \n",
    "    No_CV = df[df['CV_None']=='None'].copy()\n",
    "    No_CV=No_CV.sort_values('Percentage', ascending=False)\n",
    "    \n",
    "    Yes_CV = df[df['CV_None']=='UsesCV'].copy()\n",
    "    Yes_CV=Yes_CV.sort_values('Percentage', ascending=False)\n",
    "    \n",
    "    fig = go.Figure()\n",
    "    fig.add_trace(go.Bar(x=Yes_CV[keyword_name], y=Yes_CV['Percentage'], name='Works on CV',text=round(Yes_CV['Percentage'],2),textposition='inside',marker=dict(color = '#B24E8F')))\n",
    "    fig.add_trace(go.Bar(x=No_CV[keyword_name], y=No_CV['Percentage'], name='Does not work on CV',text=round(No_CV[\"Percentage\"],2),textposition='inside',marker=dict(color = '#EBACBF')))\n",
    "    fig.update_layout(title_text=title ,title_y=0.87, title_x=0.5,autosize=False,width=900,height=500,margin=dict(l=50,r=50,b=100,t=100,pad=4),title_font=dict(size=18,color='#7aa64d'))\n",
    "    fig.show()\n",
    "    \n",
    "def drawStackedBar(p_df,base,keyword,keyword_name,title=\"\"):\n",
    "    # p_df is the dataset\n",
    "    # 'CV_None' column in p_df indicates whether a respondent uses CV or not .This column name is passed through 'base' parameter\n",
    "    # 'keyword' is the column name prefix, based on which the number of computer vision users and non-users is calculated. For example \n",
    "    # 'Automated Machine Learning Tool' is denoted by column name prefix 'AutoML'. \n",
    "\n",
    "    df=p_df.copy()\n",
    "    df['CV_None']=df['CV_None'].apply(lambda x:'Does not work on CV' if x=='None' else 'Works on CV')\n",
    "    df=get_base_keword_wise_df(df,base,keyword,keyword_name,True)\n",
    "    df[keyword_name]=df[keyword_name].apply(lambda x: cv_name_mapping(x))\n",
    "    df=df.sort_values(['CV_None','Percentage'], ascending=[True,True])\n",
    "    df.rename(columns = {'CV_None':'Use of Computer Vision'},inplace=True)\n",
    "            \n",
    "    fig = px.bar(df, x=df['Percentage'], y=df[keyword_name], color=df['Use of Computer Vision'],color_discrete_sequence=['#EBACBF','#B24E8F'], orientation='h',width=1200, text_auto=True)\n",
    "    fig.update_layout(title_text=title ,title_y=0.95, title_x=0.5,autosize=False,title_font_color=\"#7aa64d\",legend_title_font_color=\"#7aa64d\")\n",
    "    fig.show()\n",
    "    \n",
    "\n",
    "    \n",
    "def drawSubplotBar(p_df,base,keyword,keyword_name,title=\"\"):\n",
    "\n",
    "    df=p_df.copy()\n",
    "    df=get_base_keword_wise_df(df,base,keyword,keyword_name,True)\n",
    "    df[keyword_name]=df[keyword_name].apply(lambda x: cv_name_mapping(x))\n",
    "\n",
    "    No_CV = df[df['CV_None']=='None'].copy()\n",
    "    No_CV=No_CV.sort_values('Percentage', ascending=True)\n",
    "    \n",
    "    Yes_CV = df[df['CV_None']=='UsesCV'].copy()\n",
    "    Yes_CV=Yes_CV.sort_values('Percentage', ascending=True)\n",
    "    \n",
    "    if(title==\"\"):\n",
    "        title='Popularity of '+keyword_name+' usage(percentage) between who uses CV and does not use CV'\n",
    "    \n",
    "    fig = make_subplots(rows=1, cols=2)\n",
    "\n",
    "    fig.add_trace(go.Bar(x=Yes_CV['Percentage'], y=Yes_CV[keyword_name], name='Works on CV',text=round(Yes_CV['Percentage'],2),orientation='h',textposition='inside',marker=dict(color = '#B24E8F')),row=1, col=1)\n",
    "    fig.add_trace(go.Bar(x=No_CV['Percentage'], y=No_CV[keyword_name], name='Does not work on CV',text=round(No_CV[\"Percentage\"],2),orientation='h',textposition='inside',marker=dict(color = '#EBACBF')),row=1, col=2)\n",
    "\n",
    "    fig.update_layout(height=600, width=1300, title_text=title,title_x=0.5,title_font=dict(size=18,color='#7aa64d'))\n",
    "    fig.show()\n",
    "    \n",
    "    \n",
    "def find_country_loc(country):\n",
    "    \n",
    "    import pycountry\n",
    "    val=pycountry.countries.get(name=country)\n",
    "    if val is not None:\n",
    "        r_val=val.alpha_3\n",
    "    else:\n",
    "        if country=='USA':\n",
    "            r_val=\"USA\"\n",
    "        elif country=='UK':\n",
    "            r_val=\"GBR\"\n",
    "        elif country=='Russia':\n",
    "            r_val=\"RUS\"\n",
    "        elif country=='South Korea':\n",
    "            r_val=\"KOR\"\n",
    "        elif country=='Hong Kong':\n",
    "            r_val=\"HKG\"\n",
    "        elif country=='South Korea':\n",
    "            r_val=\"KOR\"\n",
    "        elif country=='UAE':\n",
    "            r_val=\"ARE\"\n",
    "        elif country=='Taiwan':\n",
    "            r_val=\"TWN\"\n",
    "        elif country=='Iran':\n",
    "            r_val=\"IRN\"\n",
    "        elif country=='Czech Republic':\n",
    "            r_val=\"CZE\"\n",
    "        else:\n",
    "            r_val=\"\"\n",
    "            \n",
    "    return r_val\n",
    "\n",
    "\n",
    "def drawChoropleth(p_df,base,param_title=\"\",pwidth=900,pheight=500):\n",
    "\n",
    "    import plotly.express as px\n",
    "    \n",
    "\n",
    "    df=p_df.copy()\n",
    "    df=df[[base,'CV_None']].copy()\n",
    "\n",
    "    df=df.groupby([base,'CV_None'])['CV_None'].count().rename('Count') # Getting Industry wise participant count\n",
    "    df= df.groupby(level=[0]).apply(lambda x:100 * round(x / float(x.sum()),2)).rename('Percentage').reset_index()\n",
    "    df=df.sort_values('Percentage', ascending=False)\n",
    "    df[base]=df[base].apply(lambda x: industry_name_mapping(x))\n",
    "    df['Location']=df['Country'].apply(lambda x: find_country_loc(x))\n",
    "    Yes_CV = df[df['CV_None']=='UsesCV'].copy()\n",
    "    \n",
    "\n",
    "    fig = px.choropleth(Yes_CV, locations='Location',color=\"Percentage\",hover_name=\"Country\",color_continuous_scale=px.colors.sequential.Magenta)\n",
    "    fig.update_layout(title_text=param_title, title_y=0.95, title_x=0.5,autosize=False,width=pwidth,height=pheight,margin=dict(l=50,r=50,b=100,t=100,pad=4),title_font=dict(size=18,color='#7aa64d'))\n",
    "    fig.show()\n",
    "\n",
    "def drawCVMethodHeatMap(p_df,base,keyword,keyword_name,title=\"\",pwidth=800,pheight=500):\n",
    "    \n",
    "    df=p_df.copy()\n",
    "    df=df[df['CV_None']=='UsesCV'].copy()\n",
    "    df.drop(columns=['CV_None'],inplace=True)\n",
    "\n",
    "    df=get_base_keword_wise_df(df,base,keyword,keyword_name,True)\n",
    "    df[keyword_name]=df[keyword_name].apply(lambda x: cv_name_mapping(x))\n",
    "    df.head()\n",
    "\n",
    "    fig = go.Figure(data=go.Heatmap(z=df['Percentage'],x=df[base],y=df['Computer Vision'],colorscale='Magenta',text=df['Percentage'].apply(lambda x:x if x>15 else \"\"),texttemplate=\"%{text}\"))\n",
    "    fig.update_layout(title_text=title, title_y=0.95, title_x=0.5,autosize=False,width=pwidth,height=pheight,margin=dict(l=50,r=50,b=100,t=100,pad=4),title_font=dict(size=18,color='#7aa64d'))\n",
    "    fig.show()\n"
   ]
  },
  {
   "cell_type": "markdown",
   "id": "d4e6bb3a",
   "metadata": {
    "papermill": {
     "duration": 0.01287,
     "end_time": "2022-11-27T02:56:03.643121",
     "exception": false,
     "start_time": "2022-11-27T02:56:03.630251",
     "status": "completed"
    },
    "tags": []
   },
   "source": [
    "\n",
    "# Table of Content \n",
    "\n",
    "1. [What is Computer Vision and why is it important??](#CV_Def)\n",
    "2. [Purpose of the Analysis](#CV_Pur)\n",
    "3. [Overview of the Analysis](#CV_Over)\n",
    "4. [Who Uses Computer Vision?](#CV_Use)\n",
    "5. [Benefits of Working on Computer Vision](#CV_Ben)\n",
    "6. [Preferences of CV users?](#CV_Pref)\n",
    "7. [Methods the CV users use](#CV_Methods)\n",
    "8. [Key Findings from the Analysis](#CV_Key)\n",
    "9. [Conclusion](#CV_Con)\n",
    "10. [References](#CV_Ref)"
   ]
  },
  {
   "cell_type": "markdown",
   "id": "0965ccf7",
   "metadata": {
    "papermill": {
     "duration": 0.012877,
     "end_time": "2022-11-27T02:56:03.669213",
     "exception": false,
     "start_time": "2022-11-27T02:56:03.656336",
     "status": "completed"
    },
    "tags": []
   },
   "source": [
    "<a id='CV_Def'></a>\n",
    "<h2 class=\"main-heading\">Computer Vision in 2022: Waht is the Current State?? </h2>\n",
    "\n",
    "<h2 class=\"sub-heading\">What is Computer Vision and why is it important?? </h2>\n",
    "\n",
    "<p class='default-font'>\n",
    "    Computer Vision is an exciting branch of computer science for the programmers. Computer vision (CV) is a subset of AI that enables systems to interpret information from digital visual inputs such as photos and videos. The insights gained from computer vision are then used to take automated actions. Just like AI gives computers the ability to ‘think’, computer vision allows them to ‘see’.</p>\n",
    "<p class='default-font'>\n",
    "    Computer vision can be defined as the study of extracting information from images. The typical example would be- Extract the number plate text from a car using automatic numberplate recognition (ANPR). Identify the gender of a face in a picture, the emotion it is displaying, or perhaps even try to recognize the individual person. Determine if a vehicle is stuck on the railroad line by examining an image of a level crossing. Calculate the population based on a picture of a train platform. Is the component shown in a manufacturing line image flawless or flawed? In each example, we are attempting to gain some valuable information from the images.<a href='https://www.alvervalleysoftware.com/2016/02/28/computer-vision-a-developers-viewpoint/'>[1]</a></p>\n",
    "    \n",
    "<p class='default-font'>Computer vision also has some other great uses<a href='https://www.linkedin.com/pulse/what-computer-vision-why-important-gabriella-leone/'>[2]</a>: </p>\n",
    "<ul class='default-font'>\n",
    "  <li>Optical Character Recognition (OCR): Recognizing and identifying text in documents, a scanner does this.</li>\n",
    "  <li>Vision Biometrics: Recognizing people who have been missing through iris patterns.</li>\n",
    "  <li>Object Recognition: Great for retail and fashion to find products in real-time based off of an image or scan.</li>\n",
    "  <li>Special Effects: Motion capture and shape capture, any movie with CGI.</li>\n",
    "  <li>3-D Printing and Image Capture: Used in movies, architectural structures, and more.</li>\n",
    "  <li>Sports: In a game when they draw additional lines on the field, yup computer vision.</li>\n",
    "  <li>Social Media: Anything with a story that allows you to wear something on your face.</li>\n",
    "  <li>Smart Cars: Through computer vision they can identify objects and humans.</li>\n",
    "  <li>Medical Imaging: 3D imaging and image guided surgery.</li>\n",
    "</ul>\n",
    "<p class='default-font'>It's is a rapidly growing field. It's gaining popularity day by day. </p>\n",
    "\n",
    "\n",
    "<a id='CV_Pur'></a>\n",
    "\n",
    "<p class='sub-heading'>Purpose of The Analysis</p>\n",
    "\n",
    "<p class='default-font'>\n",
    "More and more developers, engineers, professionals, etc. are getting involved in this field of study as it continues to grow. With the aid of the data from the 2022 Kaggle survey, we want to discover some facts about the state of computer vision today. \n",
    "</p>\n",
    "\n",
    "<p class='default-font'>The whole analysis is divided into two segments:</p>\n",
    "\n",
    "<ul class='default-font'>\n",
    "<li>First Segment: Total dataset is divided into two groups: those who utilize computer vision (CV User) and those who do not(Non-CV User). These two groups are then compared based on their choices, preferences, and so on.   \n",
    "    \n",
    "</li>\n",
    "<li>Second Segment: The purpose of this segment is to identify those who utilize 'Computer vision' methods on a regular basis, what are their selections and preferences for using different methods.</li>\n",
    "</ul>\n",
    "\n",
    "<p class='default-font'>Throughout the analysis, we are looking for answers to the following categories of questions:\n",
    "\n",
    "\n",
    "<ul class='default-font'>\n",
    "<li>Who uses Computer Vision?</li>\n",
    "<li>Benefits of Working on Computer Vision</li>\n",
    "<li>Preferences (Tools, Learning Platforms etc) of CV users in comparision with Non-CV users?</li>\n",
    "<li>Methods the CV users use</li>\n",
    "</ul>  </p>\n",
    "\n",
    "\n",
    "\n",
    "<a id='CV_Over'></a>\n",
    "<p class='sub-heading'>Overview of the Analysis</p>\n",
    "<p class='default-font'>We are primarily focusing on \"professionals\" for this analysis, thus we exclude 'students' and those who are 'Currently not employed' and have 'Other' role ,at the moment.This is because we want to gain a better understanding of what is currently going on in the field of 'computer vision' in the industry.</p>\n",
    "\n",
    "<p class='default-font'>For each visualization, the number of responders was counted, normalized, and converted to percentages. In the whole analysis where CV and Non-CV users are compared, <b style='color:#B24E8F'>Dark color</b> represents those work on computer vision on regular basis(CV User)  and <b style='color:#EBACBF'>Light color</b> represents those who don't work on computer vision(Non-CV User).  For others graphs, <b>colorscale</b> <b style='color:#FF00FF'>Magenta</b> is used. </p>"
   ]
  },
  {
   "cell_type": "markdown",
   "id": "a3587c48",
   "metadata": {
    "papermill": {
     "duration": 0.012896,
     "end_time": "2022-11-27T02:56:03.695347",
     "exception": false,
     "start_time": "2022-11-27T02:56:03.682451",
     "status": "completed"
    },
    "tags": []
   },
   "source": [
    "<a id='CV_Use'></a>\n",
    "<p class='sub-heading'>Who Uses Computer Vision?</p>\n",
    "\n",
    "<p class='graph-heading'>Industry</p>"
   ]
  },
  {
   "cell_type": "code",
   "execution_count": 8,
   "id": "f4d943be",
   "metadata": {
    "_kg_hide-input": true,
    "execution": {
     "iopub.execute_input": "2022-11-27T02:56:03.723905Z",
     "iopub.status.busy": "2022-11-27T02:56:03.723125Z",
     "iopub.status.idle": "2022-11-27T02:56:04.772611Z",
     "shell.execute_reply": "2022-11-27T02:56:04.771346Z"
    },
    "papermill": {
     "duration": 1.066711,
     "end_time": "2022-11-27T02:56:04.775224",
     "exception": false,
     "start_time": "2022-11-27T02:56:03.708513",
     "status": "completed"
    },
    "tags": []
   },
   "outputs": [
    {
     "data": {
      "text/html": [
       "        <script type=\"text/javascript\">\n",
       "        window.PlotlyConfig = {MathJaxConfig: 'local'};\n",
       "        if (window.MathJax && window.MathJax.Hub && window.MathJax.Hub.Config) {window.MathJax.Hub.Config({SVG: {font: \"STIX-Web\"}});}\n",
       "        if (typeof require !== 'undefined') {\n",
       "        require.undef(\"plotly\");\n",
       "        requirejs.config({\n",
       "            paths: {\n",
       "                'plotly': ['https://cdn.plot.ly/plotly-2.14.0.min']\n",
       "            }\n",
       "        });\n",
       "        require(['plotly'], function(Plotly) {\n",
       "            window._Plotly = Plotly;\n",
       "        });\n",
       "        }\n",
       "        </script>\n",
       "        "
      ]
     },
     "metadata": {},
     "output_type": "display_data"
    },
    {
     "data": {
      "text/html": [
       "<div>                            <div id=\"a4a92e02-4915-4c6c-94bb-61dbcce5f90e\" class=\"plotly-graph-div\" style=\"height:400px; width:700px;\"></div>            <script type=\"text/javascript\">                require([\"plotly\"], function(Plotly) {                    window.PLOTLYENV=window.PLOTLYENV || {};                                    if (document.getElementById(\"a4a92e02-4915-4c6c-94bb-61dbcce5f90e\")) {                    Plotly.newPlot(                        \"a4a92e02-4915-4c6c-94bb-61dbcce5f90e\",                        [{\"alignmentgroup\":\"True\",\"hovertemplate\":\"Use of Computer Vision=UsesCV<br>Industry=%{x}<br>Percentage=%{y}<extra></extra>\",\"legendgroup\":\"UsesCV\",\"marker\":{\"color\":\"#B24E8F\",\"pattern\":{\"shape\":\"\"}},\"name\":\"UsesCV\",\"offsetgroup\":\"UsesCV\",\"orientation\":\"v\",\"showlegend\":true,\"textposition\":\"auto\",\"texttemplate\":\"%{y}\",\"x\":[\"Com/Tech\",\"Academics/Edu\",\"Medical/Pharma\",\"Online Service\",\"Ship/Trans\",\"Mfs/Fabrication\",\"Other\",\"Government\",\"Ins/Risk Assessment\",\"Non-profit/Service\",\"Energy/Mining\",\"Marketing/CRM\",\"Accounting\",\"Retail/Sales\",\"Broadcasting\"],\"xaxis\":\"x\",\"y\":[37.0,31.0,31.0,30.0,28.000000000000004,24.0,23.0,21.0,21.0,21.0,20.0,20.0,18.0,17.0,15.0],\"yaxis\":\"y\",\"type\":\"bar\"},{\"alignmentgroup\":\"True\",\"hovertemplate\":\"Use of Computer Vision=None<br>Industry=%{x}<br>Percentage=%{y}<extra></extra>\",\"legendgroup\":\"None\",\"marker\":{\"color\":\"#EBACBF\",\"pattern\":{\"shape\":\"\"}},\"name\":\"None\",\"offsetgroup\":\"None\",\"orientation\":\"v\",\"showlegend\":true,\"textposition\":\"auto\",\"texttemplate\":\"%{y}\",\"x\":[\"Broadcasting\",\"Retail/Sales\",\"Accounting\",\"Energy/Mining\",\"Marketing/CRM\",\"Government\",\"Ins/Risk Assessment\",\"Non-profit/Service\",\"Other\",\"Mfs/Fabrication\",\"Ship/Trans\",\"Online Service\",\"Academics/Edu\",\"Medical/Pharma\",\"Com/Tech\"],\"xaxis\":\"x\",\"y\":[85.0,83.0,82.0,80.0,80.0,79.0,79.0,79.0,77.0,76.0,72.0,70.0,69.0,69.0,63.0],\"yaxis\":\"y\",\"type\":\"bar\"}],                        {\"template\":{\"data\":{\"histogram2dcontour\":[{\"type\":\"histogram2dcontour\",\"colorbar\":{\"outlinewidth\":0,\"ticks\":\"\"},\"colorscale\":[[0.0,\"#0d0887\"],[0.1111111111111111,\"#46039f\"],[0.2222222222222222,\"#7201a8\"],[0.3333333333333333,\"#9c179e\"],[0.4444444444444444,\"#bd3786\"],[0.5555555555555556,\"#d8576b\"],[0.6666666666666666,\"#ed7953\"],[0.7777777777777778,\"#fb9f3a\"],[0.8888888888888888,\"#fdca26\"],[1.0,\"#f0f921\"]]}],\"choropleth\":[{\"type\":\"choropleth\",\"colorbar\":{\"outlinewidth\":0,\"ticks\":\"\"}}],\"histogram2d\":[{\"type\":\"histogram2d\",\"colorbar\":{\"outlinewidth\":0,\"ticks\":\"\"},\"colorscale\":[[0.0,\"#0d0887\"],[0.1111111111111111,\"#46039f\"],[0.2222222222222222,\"#7201a8\"],[0.3333333333333333,\"#9c179e\"],[0.4444444444444444,\"#bd3786\"],[0.5555555555555556,\"#d8576b\"],[0.6666666666666666,\"#ed7953\"],[0.7777777777777778,\"#fb9f3a\"],[0.8888888888888888,\"#fdca26\"],[1.0,\"#f0f921\"]]}],\"heatmap\":[{\"type\":\"heatmap\",\"colorbar\":{\"outlinewidth\":0,\"ticks\":\"\"},\"colorscale\":[[0.0,\"#0d0887\"],[0.1111111111111111,\"#46039f\"],[0.2222222222222222,\"#7201a8\"],[0.3333333333333333,\"#9c179e\"],[0.4444444444444444,\"#bd3786\"],[0.5555555555555556,\"#d8576b\"],[0.6666666666666666,\"#ed7953\"],[0.7777777777777778,\"#fb9f3a\"],[0.8888888888888888,\"#fdca26\"],[1.0,\"#f0f921\"]]}],\"heatmapgl\":[{\"type\":\"heatmapgl\",\"colorbar\":{\"outlinewidth\":0,\"ticks\":\"\"},\"colorscale\":[[0.0,\"#0d0887\"],[0.1111111111111111,\"#46039f\"],[0.2222222222222222,\"#7201a8\"],[0.3333333333333333,\"#9c179e\"],[0.4444444444444444,\"#bd3786\"],[0.5555555555555556,\"#d8576b\"],[0.6666666666666666,\"#ed7953\"],[0.7777777777777778,\"#fb9f3a\"],[0.8888888888888888,\"#fdca26\"],[1.0,\"#f0f921\"]]}],\"contourcarpet\":[{\"type\":\"contourcarpet\",\"colorbar\":{\"outlinewidth\":0,\"ticks\":\"\"}}],\"contour\":[{\"type\":\"contour\",\"colorbar\":{\"outlinewidth\":0,\"ticks\":\"\"},\"colorscale\":[[0.0,\"#0d0887\"],[0.1111111111111111,\"#46039f\"],[0.2222222222222222,\"#7201a8\"],[0.3333333333333333,\"#9c179e\"],[0.4444444444444444,\"#bd3786\"],[0.5555555555555556,\"#d8576b\"],[0.6666666666666666,\"#ed7953\"],[0.7777777777777778,\"#fb9f3a\"],[0.8888888888888888,\"#fdca26\"],[1.0,\"#f0f921\"]]}],\"surface\":[{\"type\":\"surface\",\"colorbar\":{\"outlinewidth\":0,\"ticks\":\"\"},\"colorscale\":[[0.0,\"#0d0887\"],[0.1111111111111111,\"#46039f\"],[0.2222222222222222,\"#7201a8\"],[0.3333333333333333,\"#9c179e\"],[0.4444444444444444,\"#bd3786\"],[0.5555555555555556,\"#d8576b\"],[0.6666666666666666,\"#ed7953\"],[0.7777777777777778,\"#fb9f3a\"],[0.8888888888888888,\"#fdca26\"],[1.0,\"#f0f921\"]]}],\"mesh3d\":[{\"type\":\"mesh3d\",\"colorbar\":{\"outlinewidth\":0,\"ticks\":\"\"}}],\"scatter\":[{\"fillpattern\":{\"fillmode\":\"overlay\",\"size\":10,\"solidity\":0.2},\"type\":\"scatter\"}],\"parcoords\":[{\"type\":\"parcoords\",\"line\":{\"colorbar\":{\"outlinewidth\":0,\"ticks\":\"\"}}}],\"scatterpolargl\":[{\"type\":\"scatterpolargl\",\"marker\":{\"colorbar\":{\"outlinewidth\":0,\"ticks\":\"\"}}}],\"bar\":[{\"error_x\":{\"color\":\"#2a3f5f\"},\"error_y\":{\"color\":\"#2a3f5f\"},\"marker\":{\"line\":{\"color\":\"#E5ECF6\",\"width\":0.5},\"pattern\":{\"fillmode\":\"overlay\",\"size\":10,\"solidity\":0.2}},\"type\":\"bar\"}],\"scattergeo\":[{\"type\":\"scattergeo\",\"marker\":{\"colorbar\":{\"outlinewidth\":0,\"ticks\":\"\"}}}],\"scatterpolar\":[{\"type\":\"scatterpolar\",\"marker\":{\"colorbar\":{\"outlinewidth\":0,\"ticks\":\"\"}}}],\"histogram\":[{\"marker\":{\"pattern\":{\"fillmode\":\"overlay\",\"size\":10,\"solidity\":0.2}},\"type\":\"histogram\"}],\"scattergl\":[{\"type\":\"scattergl\",\"marker\":{\"colorbar\":{\"outlinewidth\":0,\"ticks\":\"\"}}}],\"scatter3d\":[{\"type\":\"scatter3d\",\"line\":{\"colorbar\":{\"outlinewidth\":0,\"ticks\":\"\"}},\"marker\":{\"colorbar\":{\"outlinewidth\":0,\"ticks\":\"\"}}}],\"scattermapbox\":[{\"type\":\"scattermapbox\",\"marker\":{\"colorbar\":{\"outlinewidth\":0,\"ticks\":\"\"}}}],\"scatterternary\":[{\"type\":\"scatterternary\",\"marker\":{\"colorbar\":{\"outlinewidth\":0,\"ticks\":\"\"}}}],\"scattercarpet\":[{\"type\":\"scattercarpet\",\"marker\":{\"colorbar\":{\"outlinewidth\":0,\"ticks\":\"\"}}}],\"carpet\":[{\"aaxis\":{\"endlinecolor\":\"#2a3f5f\",\"gridcolor\":\"white\",\"linecolor\":\"white\",\"minorgridcolor\":\"white\",\"startlinecolor\":\"#2a3f5f\"},\"baxis\":{\"endlinecolor\":\"#2a3f5f\",\"gridcolor\":\"white\",\"linecolor\":\"white\",\"minorgridcolor\":\"white\",\"startlinecolor\":\"#2a3f5f\"},\"type\":\"carpet\"}],\"table\":[{\"cells\":{\"fill\":{\"color\":\"#EBF0F8\"},\"line\":{\"color\":\"white\"}},\"header\":{\"fill\":{\"color\":\"#C8D4E3\"},\"line\":{\"color\":\"white\"}},\"type\":\"table\"}],\"barpolar\":[{\"marker\":{\"line\":{\"color\":\"#E5ECF6\",\"width\":0.5},\"pattern\":{\"fillmode\":\"overlay\",\"size\":10,\"solidity\":0.2}},\"type\":\"barpolar\"}],\"pie\":[{\"automargin\":true,\"type\":\"pie\"}]},\"layout\":{\"autotypenumbers\":\"strict\",\"colorway\":[\"#636efa\",\"#EF553B\",\"#00cc96\",\"#ab63fa\",\"#FFA15A\",\"#19d3f3\",\"#FF6692\",\"#B6E880\",\"#FF97FF\",\"#FECB52\"],\"font\":{\"color\":\"#2a3f5f\"},\"hovermode\":\"closest\",\"hoverlabel\":{\"align\":\"left\"},\"paper_bgcolor\":\"white\",\"plot_bgcolor\":\"#E5ECF6\",\"polar\":{\"bgcolor\":\"#E5ECF6\",\"angularaxis\":{\"gridcolor\":\"white\",\"linecolor\":\"white\",\"ticks\":\"\"},\"radialaxis\":{\"gridcolor\":\"white\",\"linecolor\":\"white\",\"ticks\":\"\"}},\"ternary\":{\"bgcolor\":\"#E5ECF6\",\"aaxis\":{\"gridcolor\":\"white\",\"linecolor\":\"white\",\"ticks\":\"\"},\"baxis\":{\"gridcolor\":\"white\",\"linecolor\":\"white\",\"ticks\":\"\"},\"caxis\":{\"gridcolor\":\"white\",\"linecolor\":\"white\",\"ticks\":\"\"}},\"coloraxis\":{\"colorbar\":{\"outlinewidth\":0,\"ticks\":\"\"}},\"colorscale\":{\"sequential\":[[0.0,\"#0d0887\"],[0.1111111111111111,\"#46039f\"],[0.2222222222222222,\"#7201a8\"],[0.3333333333333333,\"#9c179e\"],[0.4444444444444444,\"#bd3786\"],[0.5555555555555556,\"#d8576b\"],[0.6666666666666666,\"#ed7953\"],[0.7777777777777778,\"#fb9f3a\"],[0.8888888888888888,\"#fdca26\"],[1.0,\"#f0f921\"]],\"sequentialminus\":[[0.0,\"#0d0887\"],[0.1111111111111111,\"#46039f\"],[0.2222222222222222,\"#7201a8\"],[0.3333333333333333,\"#9c179e\"],[0.4444444444444444,\"#bd3786\"],[0.5555555555555556,\"#d8576b\"],[0.6666666666666666,\"#ed7953\"],[0.7777777777777778,\"#fb9f3a\"],[0.8888888888888888,\"#fdca26\"],[1.0,\"#f0f921\"]],\"diverging\":[[0,\"#8e0152\"],[0.1,\"#c51b7d\"],[0.2,\"#de77ae\"],[0.3,\"#f1b6da\"],[0.4,\"#fde0ef\"],[0.5,\"#f7f7f7\"],[0.6,\"#e6f5d0\"],[0.7,\"#b8e186\"],[0.8,\"#7fbc41\"],[0.9,\"#4d9221\"],[1,\"#276419\"]]},\"xaxis\":{\"gridcolor\":\"white\",\"linecolor\":\"white\",\"ticks\":\"\",\"title\":{\"standoff\":15},\"zerolinecolor\":\"white\",\"automargin\":true,\"zerolinewidth\":2},\"yaxis\":{\"gridcolor\":\"white\",\"linecolor\":\"white\",\"ticks\":\"\",\"title\":{\"standoff\":15},\"zerolinecolor\":\"white\",\"automargin\":true,\"zerolinewidth\":2},\"scene\":{\"xaxis\":{\"backgroundcolor\":\"#E5ECF6\",\"gridcolor\":\"white\",\"linecolor\":\"white\",\"showbackground\":true,\"ticks\":\"\",\"zerolinecolor\":\"white\",\"gridwidth\":2},\"yaxis\":{\"backgroundcolor\":\"#E5ECF6\",\"gridcolor\":\"white\",\"linecolor\":\"white\",\"showbackground\":true,\"ticks\":\"\",\"zerolinecolor\":\"white\",\"gridwidth\":2},\"zaxis\":{\"backgroundcolor\":\"#E5ECF6\",\"gridcolor\":\"white\",\"linecolor\":\"white\",\"showbackground\":true,\"ticks\":\"\",\"zerolinecolor\":\"white\",\"gridwidth\":2}},\"shapedefaults\":{\"line\":{\"color\":\"#2a3f5f\"}},\"annotationdefaults\":{\"arrowcolor\":\"#2a3f5f\",\"arrowhead\":0,\"arrowwidth\":1},\"geo\":{\"bgcolor\":\"white\",\"landcolor\":\"#E5ECF6\",\"subunitcolor\":\"white\",\"showland\":true,\"showlakes\":true,\"lakecolor\":\"white\"},\"title\":{\"x\":0.05},\"mapbox\":{\"style\":\"light\"}}},\"xaxis\":{\"anchor\":\"y\",\"domain\":[0.0,1.0],\"title\":{\"text\":\"Industry\"}},\"yaxis\":{\"anchor\":\"x\",\"domain\":[0.0,1.0],\"title\":{\"text\":\"Percentage\"}},\"legend\":{\"title\":{\"text\":\"Use of Computer Vision\",\"font\":{\"color\":\"#7aa64d\"}},\"tracegroupgap\":0},\"margin\":{\"t\":60},\"barmode\":\"relative\",\"height\":400,\"width\":700,\"title\":{\"font\":{\"color\":\"#7aa64d\"},\"text\":\"Utilization of Computer Vision in the Industry\"}},                        {\"responsive\": true}                    ).then(function(){\n",
       "                            \n",
       "var gd = document.getElementById('a4a92e02-4915-4c6c-94bb-61dbcce5f90e');\n",
       "var x = new MutationObserver(function (mutations, observer) {{\n",
       "        var display = window.getComputedStyle(gd).display;\n",
       "        if (!display || display === 'none') {{\n",
       "            console.log([gd, 'removed!']);\n",
       "            Plotly.purge(gd);\n",
       "            observer.disconnect();\n",
       "        }}\n",
       "}});\n",
       "\n",
       "// Listen for the removal of the full notebook cells\n",
       "var notebookContainer = gd.closest('#notebook-container');\n",
       "if (notebookContainer) {{\n",
       "    x.observe(notebookContainer, {childList: true});\n",
       "}}\n",
       "\n",
       "// Listen for the clearing of the current output cell\n",
       "var outputEl = gd.closest('.output');\n",
       "if (outputEl) {{\n",
       "    x.observe(outputEl, {childList: true});\n",
       "}}\n",
       "\n",
       "                        })                };                });            </script>        </div>"
      ]
     },
     "metadata": {},
     "output_type": "display_data"
    }
   ],
   "source": [
    "drawSingleBar(df_2022,'Industry','Utilization of Computer Vision in the Industry',700,400)"
   ]
  },
  {
   "cell_type": "markdown",
   "id": "0a127f4c",
   "metadata": {
    "papermill": {
     "duration": 0.013663,
     "end_time": "2022-11-27T02:56:04.802966",
     "exception": false,
     "start_time": "2022-11-27T02:56:04.789303",
     "status": "completed"
    },
    "tags": []
   },
   "source": [
    "<p class='default-font'>Computer vision has the potential to boost revenue, save time and money, improve customer experience and automate dangerous work, according to an IDG/Insight survey. The followings are the ways organizations have or are planning to implement CV include <a href='https://www.techrepublic.com/article/report-computer-vision-adoption-expected-to-grow-significantly-in-the-near-future/'>[3]</a>:  </p>\n",
    "<ul class='default-font'>\n",
    "<li>Improving security</li>\n",
    "<li>Improving employee safety</li>\n",
    "<li>Anomaly defect detection during production/manufacturing</li>\n",
    "<li>Improving customer experiences</li>\n",
    "</ul>\n",
    "\n",
    "<p class='default-font'>On the other hand,with any new technology there are bound to be challenges or concerns inhibiting early investment. According to IDG/Insight survey, organizations across industries reported several common obstacles to adopt computer vision\n",
    "<a href='https://www.insight.com/en_US/campaigns/hva/insight/early-adopters-see-value-in-computer-vision.html'>[4]</a>    .</p>\n",
    "<ul class='default-font'>\n",
    "<li>Security, privacy and/or compliance</li>\n",
    "<li>Concerns about data overload</li>\n",
    "<li>Lack of knowledge or capacity to manage</li>\n",
    "<li>Time to recognize ROI</li>\n",
    "<li>Cost of technology</li>\n",
    "\n",
    "\n",
    "</ul>\n",
    "\n",
    "<p class='default-font'>\n",
    "These obstacles impact largely in industries for adopting computer vision in their business. \n",
    "</p> \n",
    "    \n",
    "<p class='default-font'>From the above graph we see that ,<b>computer vision is most widely used(37%) in the computer/technology</b> industry. This is obvious because the term 'Computer Vision' itself explains that it is closely related to computer/technology.</p>\n",
    "    \n",
    "<p class='default-font'>After that, the most use of <b>computer vision is seen in the Academics/Education, Medical/Pharmaceuticles (31%)</b>. The primary driver behind the use of CV in academic and educational settings is innovation, while in the medical and pharmaceutical industries, it is to increase efficiency so that specialists may concentrate on more crucial activities. </p>\n",
    "    \n",
    "<p class='default-font'>Online Service/Internet based service industry is also doing well in adopting computer vision(30%).</p>\n",
    "\n",
    "<p class='default-font'>Transport industry is also doing good (more than 25%). Although computer vision has not yet been widely adopted industry wide, transportation organizations that have invested are realizing gains in terms of safety, customer experience, operational efficiency, sustainability and revenue generation, and are looking to take advantage of further advances in technology in the future. Automation and touchless processes integrated with computer vision greatly enhance transportation services as well. There are some challegnges  of CV adoption in this industry is like cost of adoption,system reliability, data security challenges etc.<a href='https://www.cio.com/article/308384/computer-vision-is-transforming-the-transportation-industry-making-it-safer-more-efficient-and-improving-the-bottom-line.html'>[5]</a></p>\n",
    "\n",
    "<p class='default-font'>Other industries have less than 25% of respondents using CV on regular basis.</p>\n",
    "\n",
    "<p class='default-font'><b>The adoption of CV in government sector is relatively low (21%).</b> Any action taken by governments should be done with extreme caution. AI in public services could be at best ineffective and at worst extremely dangerous if it is introduced without the proper consideration for ethics and safety<a href='https://www.oxfordinsights.com/ai-readiness2019'>[6]</a>. This might be one of the main reason that governments are lagging behind when it comes to the application of AI in this sector. As computer vision is a sub-part of AI, for the same reason the use of CV is lagging behind in government sector.</p>\n",
    "\n",
    "<p class='default-font'><b>The broadcasting industry has the lowest adoption of CV(15%).</b> </p>\n",
    "\n",
    "<p class='graph-heading'>Company Size</p>"
   ]
  },
  {
   "cell_type": "code",
   "execution_count": 9,
   "id": "3ab3c986",
   "metadata": {
    "_kg_hide-input": true,
    "execution": {
     "iopub.execute_input": "2022-11-27T02:56:04.832461Z",
     "iopub.status.busy": "2022-11-27T02:56:04.832019Z",
     "iopub.status.idle": "2022-11-27T02:56:04.929725Z",
     "shell.execute_reply": "2022-11-27T02:56:04.928664Z"
    },
    "papermill": {
     "duration": 0.115414,
     "end_time": "2022-11-27T02:56:04.932292",
     "exception": false,
     "start_time": "2022-11-27T02:56:04.816878",
     "status": "completed"
    },
    "tags": []
   },
   "outputs": [
    {
     "data": {
      "text/html": [
       "<div>                            <div id=\"559d173a-4134-47d4-8e42-f739fda056bd\" class=\"plotly-graph-div\" style=\"height:400px; width:600px;\"></div>            <script type=\"text/javascript\">                require([\"plotly\"], function(Plotly) {                    window.PLOTLYENV=window.PLOTLYENV || {};                                    if (document.getElementById(\"559d173a-4134-47d4-8e42-f739fda056bd\")) {                    Plotly.newPlot(                        \"559d173a-4134-47d4-8e42-f739fda056bd\",                        [{\"alignmentgroup\":\"True\",\"hovertemplate\":\"Use of Computer Vision=UsesCV<br>Size=%{x}<br>Percentage=%{y}<extra></extra>\",\"legendgroup\":\"UsesCV\",\"marker\":{\"color\":\"#B24E8F\",\"pattern\":{\"shape\":\"\"}},\"name\":\"UsesCV\",\"offsetgroup\":\"UsesCV\",\"orientation\":\"v\",\"showlegend\":true,\"textposition\":\"auto\",\"texttemplate\":\"%{y}\",\"x\":[\"0-49 employees\",\"50-249 employees\",\"250-999 employees\",\"10,000 or more employees\",\"1000-9,999 employees\"],\"xaxis\":\"x\",\"y\":[30.0,28.999999999999996,28.000000000000004,26.0,25.0],\"yaxis\":\"y\",\"type\":\"bar\"},{\"alignmentgroup\":\"True\",\"hovertemplate\":\"Use of Computer Vision=None<br>Size=%{x}<br>Percentage=%{y}<extra></extra>\",\"legendgroup\":\"None\",\"marker\":{\"color\":\"#EBACBF\",\"pattern\":{\"shape\":\"\"}},\"name\":\"None\",\"offsetgroup\":\"None\",\"orientation\":\"v\",\"showlegend\":true,\"textposition\":\"auto\",\"texttemplate\":\"%{y}\",\"x\":[\"1000-9,999 employees\",\"10,000 or more employees\",\"250-999 employees\",\"50-249 employees\",\"0-49 employees\"],\"xaxis\":\"x\",\"y\":[75.0,74.0,72.0,71.0,70.0],\"yaxis\":\"y\",\"type\":\"bar\"}],                        {\"template\":{\"data\":{\"histogram2dcontour\":[{\"type\":\"histogram2dcontour\",\"colorbar\":{\"outlinewidth\":0,\"ticks\":\"\"},\"colorscale\":[[0.0,\"#0d0887\"],[0.1111111111111111,\"#46039f\"],[0.2222222222222222,\"#7201a8\"],[0.3333333333333333,\"#9c179e\"],[0.4444444444444444,\"#bd3786\"],[0.5555555555555556,\"#d8576b\"],[0.6666666666666666,\"#ed7953\"],[0.7777777777777778,\"#fb9f3a\"],[0.8888888888888888,\"#fdca26\"],[1.0,\"#f0f921\"]]}],\"choropleth\":[{\"type\":\"choropleth\",\"colorbar\":{\"outlinewidth\":0,\"ticks\":\"\"}}],\"histogram2d\":[{\"type\":\"histogram2d\",\"colorbar\":{\"outlinewidth\":0,\"ticks\":\"\"},\"colorscale\":[[0.0,\"#0d0887\"],[0.1111111111111111,\"#46039f\"],[0.2222222222222222,\"#7201a8\"],[0.3333333333333333,\"#9c179e\"],[0.4444444444444444,\"#bd3786\"],[0.5555555555555556,\"#d8576b\"],[0.6666666666666666,\"#ed7953\"],[0.7777777777777778,\"#fb9f3a\"],[0.8888888888888888,\"#fdca26\"],[1.0,\"#f0f921\"]]}],\"heatmap\":[{\"type\":\"heatmap\",\"colorbar\":{\"outlinewidth\":0,\"ticks\":\"\"},\"colorscale\":[[0.0,\"#0d0887\"],[0.1111111111111111,\"#46039f\"],[0.2222222222222222,\"#7201a8\"],[0.3333333333333333,\"#9c179e\"],[0.4444444444444444,\"#bd3786\"],[0.5555555555555556,\"#d8576b\"],[0.6666666666666666,\"#ed7953\"],[0.7777777777777778,\"#fb9f3a\"],[0.8888888888888888,\"#fdca26\"],[1.0,\"#f0f921\"]]}],\"heatmapgl\":[{\"type\":\"heatmapgl\",\"colorbar\":{\"outlinewidth\":0,\"ticks\":\"\"},\"colorscale\":[[0.0,\"#0d0887\"],[0.1111111111111111,\"#46039f\"],[0.2222222222222222,\"#7201a8\"],[0.3333333333333333,\"#9c179e\"],[0.4444444444444444,\"#bd3786\"],[0.5555555555555556,\"#d8576b\"],[0.6666666666666666,\"#ed7953\"],[0.7777777777777778,\"#fb9f3a\"],[0.8888888888888888,\"#fdca26\"],[1.0,\"#f0f921\"]]}],\"contourcarpet\":[{\"type\":\"contourcarpet\",\"colorbar\":{\"outlinewidth\":0,\"ticks\":\"\"}}],\"contour\":[{\"type\":\"contour\",\"colorbar\":{\"outlinewidth\":0,\"ticks\":\"\"},\"colorscale\":[[0.0,\"#0d0887\"],[0.1111111111111111,\"#46039f\"],[0.2222222222222222,\"#7201a8\"],[0.3333333333333333,\"#9c179e\"],[0.4444444444444444,\"#bd3786\"],[0.5555555555555556,\"#d8576b\"],[0.6666666666666666,\"#ed7953\"],[0.7777777777777778,\"#fb9f3a\"],[0.8888888888888888,\"#fdca26\"],[1.0,\"#f0f921\"]]}],\"surface\":[{\"type\":\"surface\",\"colorbar\":{\"outlinewidth\":0,\"ticks\":\"\"},\"colorscale\":[[0.0,\"#0d0887\"],[0.1111111111111111,\"#46039f\"],[0.2222222222222222,\"#7201a8\"],[0.3333333333333333,\"#9c179e\"],[0.4444444444444444,\"#bd3786\"],[0.5555555555555556,\"#d8576b\"],[0.6666666666666666,\"#ed7953\"],[0.7777777777777778,\"#fb9f3a\"],[0.8888888888888888,\"#fdca26\"],[1.0,\"#f0f921\"]]}],\"mesh3d\":[{\"type\":\"mesh3d\",\"colorbar\":{\"outlinewidth\":0,\"ticks\":\"\"}}],\"scatter\":[{\"fillpattern\":{\"fillmode\":\"overlay\",\"size\":10,\"solidity\":0.2},\"type\":\"scatter\"}],\"parcoords\":[{\"type\":\"parcoords\",\"line\":{\"colorbar\":{\"outlinewidth\":0,\"ticks\":\"\"}}}],\"scatterpolargl\":[{\"type\":\"scatterpolargl\",\"marker\":{\"colorbar\":{\"outlinewidth\":0,\"ticks\":\"\"}}}],\"bar\":[{\"error_x\":{\"color\":\"#2a3f5f\"},\"error_y\":{\"color\":\"#2a3f5f\"},\"marker\":{\"line\":{\"color\":\"#E5ECF6\",\"width\":0.5},\"pattern\":{\"fillmode\":\"overlay\",\"size\":10,\"solidity\":0.2}},\"type\":\"bar\"}],\"scattergeo\":[{\"type\":\"scattergeo\",\"marker\":{\"colorbar\":{\"outlinewidth\":0,\"ticks\":\"\"}}}],\"scatterpolar\":[{\"type\":\"scatterpolar\",\"marker\":{\"colorbar\":{\"outlinewidth\":0,\"ticks\":\"\"}}}],\"histogram\":[{\"marker\":{\"pattern\":{\"fillmode\":\"overlay\",\"size\":10,\"solidity\":0.2}},\"type\":\"histogram\"}],\"scattergl\":[{\"type\":\"scattergl\",\"marker\":{\"colorbar\":{\"outlinewidth\":0,\"ticks\":\"\"}}}],\"scatter3d\":[{\"type\":\"scatter3d\",\"line\":{\"colorbar\":{\"outlinewidth\":0,\"ticks\":\"\"}},\"marker\":{\"colorbar\":{\"outlinewidth\":0,\"ticks\":\"\"}}}],\"scattermapbox\":[{\"type\":\"scattermapbox\",\"marker\":{\"colorbar\":{\"outlinewidth\":0,\"ticks\":\"\"}}}],\"scatterternary\":[{\"type\":\"scatterternary\",\"marker\":{\"colorbar\":{\"outlinewidth\":0,\"ticks\":\"\"}}}],\"scattercarpet\":[{\"type\":\"scattercarpet\",\"marker\":{\"colorbar\":{\"outlinewidth\":0,\"ticks\":\"\"}}}],\"carpet\":[{\"aaxis\":{\"endlinecolor\":\"#2a3f5f\",\"gridcolor\":\"white\",\"linecolor\":\"white\",\"minorgridcolor\":\"white\",\"startlinecolor\":\"#2a3f5f\"},\"baxis\":{\"endlinecolor\":\"#2a3f5f\",\"gridcolor\":\"white\",\"linecolor\":\"white\",\"minorgridcolor\":\"white\",\"startlinecolor\":\"#2a3f5f\"},\"type\":\"carpet\"}],\"table\":[{\"cells\":{\"fill\":{\"color\":\"#EBF0F8\"},\"line\":{\"color\":\"white\"}},\"header\":{\"fill\":{\"color\":\"#C8D4E3\"},\"line\":{\"color\":\"white\"}},\"type\":\"table\"}],\"barpolar\":[{\"marker\":{\"line\":{\"color\":\"#E5ECF6\",\"width\":0.5},\"pattern\":{\"fillmode\":\"overlay\",\"size\":10,\"solidity\":0.2}},\"type\":\"barpolar\"}],\"pie\":[{\"automargin\":true,\"type\":\"pie\"}]},\"layout\":{\"autotypenumbers\":\"strict\",\"colorway\":[\"#636efa\",\"#EF553B\",\"#00cc96\",\"#ab63fa\",\"#FFA15A\",\"#19d3f3\",\"#FF6692\",\"#B6E880\",\"#FF97FF\",\"#FECB52\"],\"font\":{\"color\":\"#2a3f5f\"},\"hovermode\":\"closest\",\"hoverlabel\":{\"align\":\"left\"},\"paper_bgcolor\":\"white\",\"plot_bgcolor\":\"#E5ECF6\",\"polar\":{\"bgcolor\":\"#E5ECF6\",\"angularaxis\":{\"gridcolor\":\"white\",\"linecolor\":\"white\",\"ticks\":\"\"},\"radialaxis\":{\"gridcolor\":\"white\",\"linecolor\":\"white\",\"ticks\":\"\"}},\"ternary\":{\"bgcolor\":\"#E5ECF6\",\"aaxis\":{\"gridcolor\":\"white\",\"linecolor\":\"white\",\"ticks\":\"\"},\"baxis\":{\"gridcolor\":\"white\",\"linecolor\":\"white\",\"ticks\":\"\"},\"caxis\":{\"gridcolor\":\"white\",\"linecolor\":\"white\",\"ticks\":\"\"}},\"coloraxis\":{\"colorbar\":{\"outlinewidth\":0,\"ticks\":\"\"}},\"colorscale\":{\"sequential\":[[0.0,\"#0d0887\"],[0.1111111111111111,\"#46039f\"],[0.2222222222222222,\"#7201a8\"],[0.3333333333333333,\"#9c179e\"],[0.4444444444444444,\"#bd3786\"],[0.5555555555555556,\"#d8576b\"],[0.6666666666666666,\"#ed7953\"],[0.7777777777777778,\"#fb9f3a\"],[0.8888888888888888,\"#fdca26\"],[1.0,\"#f0f921\"]],\"sequentialminus\":[[0.0,\"#0d0887\"],[0.1111111111111111,\"#46039f\"],[0.2222222222222222,\"#7201a8\"],[0.3333333333333333,\"#9c179e\"],[0.4444444444444444,\"#bd3786\"],[0.5555555555555556,\"#d8576b\"],[0.6666666666666666,\"#ed7953\"],[0.7777777777777778,\"#fb9f3a\"],[0.8888888888888888,\"#fdca26\"],[1.0,\"#f0f921\"]],\"diverging\":[[0,\"#8e0152\"],[0.1,\"#c51b7d\"],[0.2,\"#de77ae\"],[0.3,\"#f1b6da\"],[0.4,\"#fde0ef\"],[0.5,\"#f7f7f7\"],[0.6,\"#e6f5d0\"],[0.7,\"#b8e186\"],[0.8,\"#7fbc41\"],[0.9,\"#4d9221\"],[1,\"#276419\"]]},\"xaxis\":{\"gridcolor\":\"white\",\"linecolor\":\"white\",\"ticks\":\"\",\"title\":{\"standoff\":15},\"zerolinecolor\":\"white\",\"automargin\":true,\"zerolinewidth\":2},\"yaxis\":{\"gridcolor\":\"white\",\"linecolor\":\"white\",\"ticks\":\"\",\"title\":{\"standoff\":15},\"zerolinecolor\":\"white\",\"automargin\":true,\"zerolinewidth\":2},\"scene\":{\"xaxis\":{\"backgroundcolor\":\"#E5ECF6\",\"gridcolor\":\"white\",\"linecolor\":\"white\",\"showbackground\":true,\"ticks\":\"\",\"zerolinecolor\":\"white\",\"gridwidth\":2},\"yaxis\":{\"backgroundcolor\":\"#E5ECF6\",\"gridcolor\":\"white\",\"linecolor\":\"white\",\"showbackground\":true,\"ticks\":\"\",\"zerolinecolor\":\"white\",\"gridwidth\":2},\"zaxis\":{\"backgroundcolor\":\"#E5ECF6\",\"gridcolor\":\"white\",\"linecolor\":\"white\",\"showbackground\":true,\"ticks\":\"\",\"zerolinecolor\":\"white\",\"gridwidth\":2}},\"shapedefaults\":{\"line\":{\"color\":\"#2a3f5f\"}},\"annotationdefaults\":{\"arrowcolor\":\"#2a3f5f\",\"arrowhead\":0,\"arrowwidth\":1},\"geo\":{\"bgcolor\":\"white\",\"landcolor\":\"#E5ECF6\",\"subunitcolor\":\"white\",\"showland\":true,\"showlakes\":true,\"lakecolor\":\"white\"},\"title\":{\"x\":0.05},\"mapbox\":{\"style\":\"light\"}}},\"xaxis\":{\"anchor\":\"y\",\"domain\":[0.0,1.0],\"title\":{\"text\":\"Size\"}},\"yaxis\":{\"anchor\":\"x\",\"domain\":[0.0,1.0],\"title\":{\"text\":\"Percentage\"}},\"legend\":{\"title\":{\"text\":\"Use of Computer Vision\",\"font\":{\"color\":\"#7aa64d\"}},\"tracegroupgap\":0},\"margin\":{\"t\":60},\"barmode\":\"relative\",\"height\":400,\"width\":600,\"title\":{\"font\":{\"color\":\"#7aa64d\"},\"text\":\"Use of Computer Vision by Organization's Size\"}},                        {\"responsive\": true}                    ).then(function(){\n",
       "                            \n",
       "var gd = document.getElementById('559d173a-4134-47d4-8e42-f739fda056bd');\n",
       "var x = new MutationObserver(function (mutations, observer) {{\n",
       "        var display = window.getComputedStyle(gd).display;\n",
       "        if (!display || display === 'none') {{\n",
       "            console.log([gd, 'removed!']);\n",
       "            Plotly.purge(gd);\n",
       "            observer.disconnect();\n",
       "        }}\n",
       "}});\n",
       "\n",
       "// Listen for the removal of the full notebook cells\n",
       "var notebookContainer = gd.closest('#notebook-container');\n",
       "if (notebookContainer) {{\n",
       "    x.observe(notebookContainer, {childList: true});\n",
       "}}\n",
       "\n",
       "// Listen for the clearing of the current output cell\n",
       "var outputEl = gd.closest('.output');\n",
       "if (outputEl) {{\n",
       "    x.observe(outputEl, {childList: true});\n",
       "}}\n",
       "\n",
       "                        })                };                });            </script>        </div>"
      ]
     },
     "metadata": {},
     "output_type": "display_data"
    }
   ],
   "source": [
    "drawSingleBar(df_2022,'Size','Use of Computer Vision by Organization\\'s Size',600,400)"
   ]
  },
  {
   "cell_type": "markdown",
   "id": "37605668",
   "metadata": {
    "papermill": {
     "duration": 0.014277,
     "end_time": "2022-11-27T02:56:04.960911",
     "exception": false,
     "start_time": "2022-11-27T02:56:04.946634",
     "status": "completed"
    },
    "tags": []
   },
   "source": [
    "<p class='default-font'>Regular usage of computer vision slightly depends upon the company size. </p>\n",
    "<p class='graph-heading'>Country</p>"
   ]
  },
  {
   "cell_type": "code",
   "execution_count": 10,
   "id": "37542d49",
   "metadata": {
    "_kg_hide-input": true,
    "execution": {
     "iopub.execute_input": "2022-11-27T02:56:04.990869Z",
     "iopub.status.busy": "2022-11-27T02:56:04.990478Z",
     "iopub.status.idle": "2022-11-27T02:56:05.214846Z",
     "shell.execute_reply": "2022-11-27T02:56:05.213641Z"
    },
    "papermill": {
     "duration": 0.24242,
     "end_time": "2022-11-27T02:56:05.217392",
     "exception": false,
     "start_time": "2022-11-27T02:56:04.974972",
     "status": "completed"
    },
    "tags": []
   },
   "outputs": [
    {
     "data": {
      "text/html": [
       "<div>                            <div id=\"ce2454ea-f696-4e5c-88fc-3dc86bd650c4\" class=\"plotly-graph-div\" style=\"height:500px; width:1000px;\"></div>            <script type=\"text/javascript\">                require([\"plotly\"], function(Plotly) {                    window.PLOTLYENV=window.PLOTLYENV || {};                                    if (document.getElementById(\"ce2454ea-f696-4e5c-88fc-3dc86bd650c4\")) {                    Plotly.newPlot(                        \"ce2454ea-f696-4e5c-88fc-3dc86bd650c4\",                        [{\"coloraxis\":\"coloraxis\",\"geo\":\"geo\",\"hovertemplate\":\"<b>%{hovertext}</b><br><br>Location=%{location}<br>Percentage=%{z}<extra></extra>\",\"hovertext\":[\"Belgium\",\"Viet Nam\",\"Nepal\",\"Sri Lanka\",\"South Korea\",\"Taiwan\",\"China\",\"Thailand\",\"Morocco\",\"Germany\",\"Netherlands\",\"Peru\",\"Iran\",\"Ethiopia\",\"Spain\",\"Tunisia\",\"France\",\"Algeria\",\"South Africa\",\"Japan\",\"Romania\",\"Italy\",\"India\",\"Indonesia\",\"Turkey\",\"Other\",\"Egypt\",\"Czech Republic\",\"Canada\",\"Saudi Arabia\",\"UAE\",\"Portugal\",\"Israel\",\"Australia\",\"Unknown\",\"Singapore\",\"Bangladesh\",\"Colombia\",\"Pakistan\",\"Poland\",\"Brazil\",\"Russia\",\"USA\",\"Mexico\",\"Cameroon\",\"UK\",\"Chile\",\"Malaysia\",\"Ukraine\",\"Philippines\",\"Kenya\",\"Hong Kong (S.A.R.)\",\"Zimbabwe\",\"Ghana\",\"Ireland\",\"Argentina\",\"Ecuador\",\"Nigeria\"],\"locations\":[\"BEL\",\"VNM\",\"NPL\",\"LKA\",\"KOR\",\"TWN\",\"CHN\",\"THA\",\"MAR\",\"DEU\",\"NLD\",\"PER\",\"IRN\",\"ETH\",\"ESP\",\"TUN\",\"FRA\",\"DZA\",\"ZAF\",\"JPN\",\"ROU\",\"ITA\",\"IND\",\"IDN\",\"TUR\",\"\",\"EGY\",\"CZE\",\"CAN\",\"SAU\",\"ARE\",\"PRT\",\"ISR\",\"AUS\",\"\",\"SGP\",\"BGD\",\"COL\",\"PAK\",\"POL\",\"BRA\",\"RUS\",\"USA\",\"MEX\",\"CMR\",\"GBR\",\"CHL\",\"MYS\",\"UKR\",\"PHL\",\"KEN\",\"\",\"ZWE\",\"GHA\",\"IRL\",\"ARG\",\"ECU\",\"NGA\"],\"name\":\"\",\"z\":[53.0,52.0,50.0,50.0,47.0,45.0,44.0,41.0,39.0,39.0,38.0,38.0,36.0,35.0,34.0,33.0,33.0,33.0,32.0,32.0,32.0,31.0,28.999999999999996,28.000000000000004,28.000000000000004,27.0,27.0,27.0,27.0,26.0,26.0,26.0,25.0,25.0,25.0,25.0,23.0,23.0,23.0,22.0,22.0,22.0,22.0,21.0,21.0,21.0,20.0,19.0,19.0,18.0,17.0,16.0,15.0,14.000000000000002,14.000000000000002,11.0,8.0,8.0],\"type\":\"choropleth\"}],                        {\"template\":{\"data\":{\"histogram2dcontour\":[{\"type\":\"histogram2dcontour\",\"colorbar\":{\"outlinewidth\":0,\"ticks\":\"\"},\"colorscale\":[[0.0,\"#0d0887\"],[0.1111111111111111,\"#46039f\"],[0.2222222222222222,\"#7201a8\"],[0.3333333333333333,\"#9c179e\"],[0.4444444444444444,\"#bd3786\"],[0.5555555555555556,\"#d8576b\"],[0.6666666666666666,\"#ed7953\"],[0.7777777777777778,\"#fb9f3a\"],[0.8888888888888888,\"#fdca26\"],[1.0,\"#f0f921\"]]}],\"choropleth\":[{\"type\":\"choropleth\",\"colorbar\":{\"outlinewidth\":0,\"ticks\":\"\"}}],\"histogram2d\":[{\"type\":\"histogram2d\",\"colorbar\":{\"outlinewidth\":0,\"ticks\":\"\"},\"colorscale\":[[0.0,\"#0d0887\"],[0.1111111111111111,\"#46039f\"],[0.2222222222222222,\"#7201a8\"],[0.3333333333333333,\"#9c179e\"],[0.4444444444444444,\"#bd3786\"],[0.5555555555555556,\"#d8576b\"],[0.6666666666666666,\"#ed7953\"],[0.7777777777777778,\"#fb9f3a\"],[0.8888888888888888,\"#fdca26\"],[1.0,\"#f0f921\"]]}],\"heatmap\":[{\"type\":\"heatmap\",\"colorbar\":{\"outlinewidth\":0,\"ticks\":\"\"},\"colorscale\":[[0.0,\"#0d0887\"],[0.1111111111111111,\"#46039f\"],[0.2222222222222222,\"#7201a8\"],[0.3333333333333333,\"#9c179e\"],[0.4444444444444444,\"#bd3786\"],[0.5555555555555556,\"#d8576b\"],[0.6666666666666666,\"#ed7953\"],[0.7777777777777778,\"#fb9f3a\"],[0.8888888888888888,\"#fdca26\"],[1.0,\"#f0f921\"]]}],\"heatmapgl\":[{\"type\":\"heatmapgl\",\"colorbar\":{\"outlinewidth\":0,\"ticks\":\"\"},\"colorscale\":[[0.0,\"#0d0887\"],[0.1111111111111111,\"#46039f\"],[0.2222222222222222,\"#7201a8\"],[0.3333333333333333,\"#9c179e\"],[0.4444444444444444,\"#bd3786\"],[0.5555555555555556,\"#d8576b\"],[0.6666666666666666,\"#ed7953\"],[0.7777777777777778,\"#fb9f3a\"],[0.8888888888888888,\"#fdca26\"],[1.0,\"#f0f921\"]]}],\"contourcarpet\":[{\"type\":\"contourcarpet\",\"colorbar\":{\"outlinewidth\":0,\"ticks\":\"\"}}],\"contour\":[{\"type\":\"contour\",\"colorbar\":{\"outlinewidth\":0,\"ticks\":\"\"},\"colorscale\":[[0.0,\"#0d0887\"],[0.1111111111111111,\"#46039f\"],[0.2222222222222222,\"#7201a8\"],[0.3333333333333333,\"#9c179e\"],[0.4444444444444444,\"#bd3786\"],[0.5555555555555556,\"#d8576b\"],[0.6666666666666666,\"#ed7953\"],[0.7777777777777778,\"#fb9f3a\"],[0.8888888888888888,\"#fdca26\"],[1.0,\"#f0f921\"]]}],\"surface\":[{\"type\":\"surface\",\"colorbar\":{\"outlinewidth\":0,\"ticks\":\"\"},\"colorscale\":[[0.0,\"#0d0887\"],[0.1111111111111111,\"#46039f\"],[0.2222222222222222,\"#7201a8\"],[0.3333333333333333,\"#9c179e\"],[0.4444444444444444,\"#bd3786\"],[0.5555555555555556,\"#d8576b\"],[0.6666666666666666,\"#ed7953\"],[0.7777777777777778,\"#fb9f3a\"],[0.8888888888888888,\"#fdca26\"],[1.0,\"#f0f921\"]]}],\"mesh3d\":[{\"type\":\"mesh3d\",\"colorbar\":{\"outlinewidth\":0,\"ticks\":\"\"}}],\"scatter\":[{\"fillpattern\":{\"fillmode\":\"overlay\",\"size\":10,\"solidity\":0.2},\"type\":\"scatter\"}],\"parcoords\":[{\"type\":\"parcoords\",\"line\":{\"colorbar\":{\"outlinewidth\":0,\"ticks\":\"\"}}}],\"scatterpolargl\":[{\"type\":\"scatterpolargl\",\"marker\":{\"colorbar\":{\"outlinewidth\":0,\"ticks\":\"\"}}}],\"bar\":[{\"error_x\":{\"color\":\"#2a3f5f\"},\"error_y\":{\"color\":\"#2a3f5f\"},\"marker\":{\"line\":{\"color\":\"#E5ECF6\",\"width\":0.5},\"pattern\":{\"fillmode\":\"overlay\",\"size\":10,\"solidity\":0.2}},\"type\":\"bar\"}],\"scattergeo\":[{\"type\":\"scattergeo\",\"marker\":{\"colorbar\":{\"outlinewidth\":0,\"ticks\":\"\"}}}],\"scatterpolar\":[{\"type\":\"scatterpolar\",\"marker\":{\"colorbar\":{\"outlinewidth\":0,\"ticks\":\"\"}}}],\"histogram\":[{\"marker\":{\"pattern\":{\"fillmode\":\"overlay\",\"size\":10,\"solidity\":0.2}},\"type\":\"histogram\"}],\"scattergl\":[{\"type\":\"scattergl\",\"marker\":{\"colorbar\":{\"outlinewidth\":0,\"ticks\":\"\"}}}],\"scatter3d\":[{\"type\":\"scatter3d\",\"line\":{\"colorbar\":{\"outlinewidth\":0,\"ticks\":\"\"}},\"marker\":{\"colorbar\":{\"outlinewidth\":0,\"ticks\":\"\"}}}],\"scattermapbox\":[{\"type\":\"scattermapbox\",\"marker\":{\"colorbar\":{\"outlinewidth\":0,\"ticks\":\"\"}}}],\"scatterternary\":[{\"type\":\"scatterternary\",\"marker\":{\"colorbar\":{\"outlinewidth\":0,\"ticks\":\"\"}}}],\"scattercarpet\":[{\"type\":\"scattercarpet\",\"marker\":{\"colorbar\":{\"outlinewidth\":0,\"ticks\":\"\"}}}],\"carpet\":[{\"aaxis\":{\"endlinecolor\":\"#2a3f5f\",\"gridcolor\":\"white\",\"linecolor\":\"white\",\"minorgridcolor\":\"white\",\"startlinecolor\":\"#2a3f5f\"},\"baxis\":{\"endlinecolor\":\"#2a3f5f\",\"gridcolor\":\"white\",\"linecolor\":\"white\",\"minorgridcolor\":\"white\",\"startlinecolor\":\"#2a3f5f\"},\"type\":\"carpet\"}],\"table\":[{\"cells\":{\"fill\":{\"color\":\"#EBF0F8\"},\"line\":{\"color\":\"white\"}},\"header\":{\"fill\":{\"color\":\"#C8D4E3\"},\"line\":{\"color\":\"white\"}},\"type\":\"table\"}],\"barpolar\":[{\"marker\":{\"line\":{\"color\":\"#E5ECF6\",\"width\":0.5},\"pattern\":{\"fillmode\":\"overlay\",\"size\":10,\"solidity\":0.2}},\"type\":\"barpolar\"}],\"pie\":[{\"automargin\":true,\"type\":\"pie\"}]},\"layout\":{\"autotypenumbers\":\"strict\",\"colorway\":[\"#636efa\",\"#EF553B\",\"#00cc96\",\"#ab63fa\",\"#FFA15A\",\"#19d3f3\",\"#FF6692\",\"#B6E880\",\"#FF97FF\",\"#FECB52\"],\"font\":{\"color\":\"#2a3f5f\"},\"hovermode\":\"closest\",\"hoverlabel\":{\"align\":\"left\"},\"paper_bgcolor\":\"white\",\"plot_bgcolor\":\"#E5ECF6\",\"polar\":{\"bgcolor\":\"#E5ECF6\",\"angularaxis\":{\"gridcolor\":\"white\",\"linecolor\":\"white\",\"ticks\":\"\"},\"radialaxis\":{\"gridcolor\":\"white\",\"linecolor\":\"white\",\"ticks\":\"\"}},\"ternary\":{\"bgcolor\":\"#E5ECF6\",\"aaxis\":{\"gridcolor\":\"white\",\"linecolor\":\"white\",\"ticks\":\"\"},\"baxis\":{\"gridcolor\":\"white\",\"linecolor\":\"white\",\"ticks\":\"\"},\"caxis\":{\"gridcolor\":\"white\",\"linecolor\":\"white\",\"ticks\":\"\"}},\"coloraxis\":{\"colorbar\":{\"outlinewidth\":0,\"ticks\":\"\"}},\"colorscale\":{\"sequential\":[[0.0,\"#0d0887\"],[0.1111111111111111,\"#46039f\"],[0.2222222222222222,\"#7201a8\"],[0.3333333333333333,\"#9c179e\"],[0.4444444444444444,\"#bd3786\"],[0.5555555555555556,\"#d8576b\"],[0.6666666666666666,\"#ed7953\"],[0.7777777777777778,\"#fb9f3a\"],[0.8888888888888888,\"#fdca26\"],[1.0,\"#f0f921\"]],\"sequentialminus\":[[0.0,\"#0d0887\"],[0.1111111111111111,\"#46039f\"],[0.2222222222222222,\"#7201a8\"],[0.3333333333333333,\"#9c179e\"],[0.4444444444444444,\"#bd3786\"],[0.5555555555555556,\"#d8576b\"],[0.6666666666666666,\"#ed7953\"],[0.7777777777777778,\"#fb9f3a\"],[0.8888888888888888,\"#fdca26\"],[1.0,\"#f0f921\"]],\"diverging\":[[0,\"#8e0152\"],[0.1,\"#c51b7d\"],[0.2,\"#de77ae\"],[0.3,\"#f1b6da\"],[0.4,\"#fde0ef\"],[0.5,\"#f7f7f7\"],[0.6,\"#e6f5d0\"],[0.7,\"#b8e186\"],[0.8,\"#7fbc41\"],[0.9,\"#4d9221\"],[1,\"#276419\"]]},\"xaxis\":{\"gridcolor\":\"white\",\"linecolor\":\"white\",\"ticks\":\"\",\"title\":{\"standoff\":15},\"zerolinecolor\":\"white\",\"automargin\":true,\"zerolinewidth\":2},\"yaxis\":{\"gridcolor\":\"white\",\"linecolor\":\"white\",\"ticks\":\"\",\"title\":{\"standoff\":15},\"zerolinecolor\":\"white\",\"automargin\":true,\"zerolinewidth\":2},\"scene\":{\"xaxis\":{\"backgroundcolor\":\"#E5ECF6\",\"gridcolor\":\"white\",\"linecolor\":\"white\",\"showbackground\":true,\"ticks\":\"\",\"zerolinecolor\":\"white\",\"gridwidth\":2},\"yaxis\":{\"backgroundcolor\":\"#E5ECF6\",\"gridcolor\":\"white\",\"linecolor\":\"white\",\"showbackground\":true,\"ticks\":\"\",\"zerolinecolor\":\"white\",\"gridwidth\":2},\"zaxis\":{\"backgroundcolor\":\"#E5ECF6\",\"gridcolor\":\"white\",\"linecolor\":\"white\",\"showbackground\":true,\"ticks\":\"\",\"zerolinecolor\":\"white\",\"gridwidth\":2}},\"shapedefaults\":{\"line\":{\"color\":\"#2a3f5f\"}},\"annotationdefaults\":{\"arrowcolor\":\"#2a3f5f\",\"arrowhead\":0,\"arrowwidth\":1},\"geo\":{\"bgcolor\":\"white\",\"landcolor\":\"#E5ECF6\",\"subunitcolor\":\"white\",\"showland\":true,\"showlakes\":true,\"lakecolor\":\"white\"},\"title\":{\"x\":0.05},\"mapbox\":{\"style\":\"light\"}}},\"geo\":{\"domain\":{\"x\":[0.0,1.0],\"y\":[0.0,1.0]},\"center\":{}},\"coloraxis\":{\"colorbar\":{\"title\":{\"text\":\"Percentage\"}},\"colorscale\":[[0.0,\"rgb(243, 203, 211)\"],[0.16666666666666666,\"rgb(234, 169, 189)\"],[0.3333333333333333,\"rgb(221, 136, 172)\"],[0.5,\"rgb(202, 105, 157)\"],[0.6666666666666666,\"rgb(177, 77, 142)\"],[0.8333333333333334,\"rgb(145, 53, 125)\"],[1.0,\"rgb(108, 33, 103)\"]]},\"legend\":{\"tracegroupgap\":0},\"margin\":{\"t\":100,\"l\":50,\"r\":50,\"b\":100,\"pad\":4},\"title\":{\"font\":{\"size\":18,\"color\":\"#7aa64d\"},\"text\":\"Use of Computer Vision by Country\",\"y\":0.95,\"x\":0.5},\"autosize\":false,\"width\":1000,\"height\":500},                        {\"responsive\": true}                    ).then(function(){\n",
       "                            \n",
       "var gd = document.getElementById('ce2454ea-f696-4e5c-88fc-3dc86bd650c4');\n",
       "var x = new MutationObserver(function (mutations, observer) {{\n",
       "        var display = window.getComputedStyle(gd).display;\n",
       "        if (!display || display === 'none') {{\n",
       "            console.log([gd, 'removed!']);\n",
       "            Plotly.purge(gd);\n",
       "            observer.disconnect();\n",
       "        }}\n",
       "}});\n",
       "\n",
       "// Listen for the removal of the full notebook cells\n",
       "var notebookContainer = gd.closest('#notebook-container');\n",
       "if (notebookContainer) {{\n",
       "    x.observe(notebookContainer, {childList: true});\n",
       "}}\n",
       "\n",
       "// Listen for the clearing of the current output cell\n",
       "var outputEl = gd.closest('.output');\n",
       "if (outputEl) {{\n",
       "    x.observe(outputEl, {childList: true});\n",
       "}}\n",
       "\n",
       "                        })                };                });            </script>        </div>"
      ]
     },
     "metadata": {},
     "output_type": "display_data"
    }
   ],
   "source": [
    "# drawSingleBar(df_2022,'Country','Computer Vision by Country',1300,500)\n",
    "df=df_2022.copy()\n",
    "drawChoropleth(df,'Country','Use of Computer Vision by Country',1000)\n"
   ]
  },
  {
   "cell_type": "markdown",
   "id": "d32f7930",
   "metadata": {
    "papermill": {
     "duration": 0.015171,
     "end_time": "2022-11-27T02:56:05.247095",
     "exception": false,
     "start_time": "2022-11-27T02:56:05.231924",
     "status": "completed"
    },
    "tags": []
   },
   "source": [
    "<p class='default-font'>If we look carefully at the above image, we can see two clusters of dark shade. These countries are more advanced in the use of computer vision. One of these clusters consists of some countries in <b>East and South-East Asia</b>: Vietnam,China,Taiwan,South Korea,Nepal,Thailand,Japan. The other group consists of some <b>Western Europe and Northern Africa countries</b>: Belgium, Germany,Netherland,Peru,Ethiopia,Spain,Algeria,France,Tunisia. </p>\n",
    "\n",
    "<p class='graph-heading'>Current Role</p>"
   ]
  },
  {
   "cell_type": "code",
   "execution_count": 11,
   "id": "45b7fc9a",
   "metadata": {
    "_kg_hide-input": true,
    "execution": {
     "iopub.execute_input": "2022-11-27T02:56:05.278506Z",
     "iopub.status.busy": "2022-11-27T02:56:05.277813Z",
     "iopub.status.idle": "2022-11-27T02:56:05.383610Z",
     "shell.execute_reply": "2022-11-27T02:56:05.382492Z"
    },
    "papermill": {
     "duration": 0.124588,
     "end_time": "2022-11-27T02:56:05.386356",
     "exception": false,
     "start_time": "2022-11-27T02:56:05.261768",
     "status": "completed"
    },
    "tags": []
   },
   "outputs": [
    {
     "data": {
      "text/html": [
       "<div>                            <div id=\"4544d3d9-8d69-4e03-8e16-bb32391b8c52\" class=\"plotly-graph-div\" style=\"height:500px; width:800px;\"></div>            <script type=\"text/javascript\">                require([\"plotly\"], function(Plotly) {                    window.PLOTLYENV=window.PLOTLYENV || {};                                    if (document.getElementById(\"4544d3d9-8d69-4e03-8e16-bb32391b8c52\")) {                    Plotly.newPlot(                        \"4544d3d9-8d69-4e03-8e16-bb32391b8c52\",                        [{\"alignmentgroup\":\"True\",\"hovertemplate\":\"Use of Computer Vision=UsesCV<br>Current_role=%{x}<br>Percentage=%{y}<extra></extra>\",\"legendgroup\":\"UsesCV\",\"marker\":{\"color\":\"#B24E8F\",\"pattern\":{\"shape\":\"\"}},\"name\":\"UsesCV\",\"offsetgroup\":\"UsesCV\",\"orientation\":\"v\",\"showlegend\":true,\"textposition\":\"auto\",\"texttemplate\":\"%{y}\",\"x\":[\"ML/MLops Engineer\",\"Research Scientist\",\"Developer Advocate\",\"Data Architect\",\"Data Scientist\",\"Teacher / professor\",\"Software Engineer\",\"Data Engineer\",\"Manager\",\"Engineer (non-software)\",\"Data Administrator\",\"Data Analyst\",\"Statistician\"],\"xaxis\":\"x\",\"y\":[60.0,41.0,36.0,32.0,32.0,30.0,28.999999999999996,26.0,23.0,16.0,10.0,10.0,8.0],\"yaxis\":\"y\",\"type\":\"bar\"},{\"alignmentgroup\":\"True\",\"hovertemplate\":\"Use of Computer Vision=None<br>Current_role=%{x}<br>Percentage=%{y}<extra></extra>\",\"legendgroup\":\"None\",\"marker\":{\"color\":\"#EBACBF\",\"pattern\":{\"shape\":\"\"}},\"name\":\"None\",\"offsetgroup\":\"None\",\"orientation\":\"v\",\"showlegend\":true,\"textposition\":\"auto\",\"texttemplate\":\"%{y}\",\"x\":[\"Statistician\",\"Data Administrator\",\"Data Analyst\",\"Engineer (non-software)\",\"Manager\",\"Data Engineer\",\"Software Engineer\",\"Teacher / professor\",\"Data Architect\",\"Data Scientist\",\"Developer Advocate\",\"Research Scientist\",\"ML/MLops Engineer\"],\"xaxis\":\"x\",\"y\":[92.0,90.0,90.0,84.0,77.0,74.0,71.0,70.0,68.0,68.0,64.0,59.0,40.0],\"yaxis\":\"y\",\"type\":\"bar\"}],                        {\"template\":{\"data\":{\"histogram2dcontour\":[{\"type\":\"histogram2dcontour\",\"colorbar\":{\"outlinewidth\":0,\"ticks\":\"\"},\"colorscale\":[[0.0,\"#0d0887\"],[0.1111111111111111,\"#46039f\"],[0.2222222222222222,\"#7201a8\"],[0.3333333333333333,\"#9c179e\"],[0.4444444444444444,\"#bd3786\"],[0.5555555555555556,\"#d8576b\"],[0.6666666666666666,\"#ed7953\"],[0.7777777777777778,\"#fb9f3a\"],[0.8888888888888888,\"#fdca26\"],[1.0,\"#f0f921\"]]}],\"choropleth\":[{\"type\":\"choropleth\",\"colorbar\":{\"outlinewidth\":0,\"ticks\":\"\"}}],\"histogram2d\":[{\"type\":\"histogram2d\",\"colorbar\":{\"outlinewidth\":0,\"ticks\":\"\"},\"colorscale\":[[0.0,\"#0d0887\"],[0.1111111111111111,\"#46039f\"],[0.2222222222222222,\"#7201a8\"],[0.3333333333333333,\"#9c179e\"],[0.4444444444444444,\"#bd3786\"],[0.5555555555555556,\"#d8576b\"],[0.6666666666666666,\"#ed7953\"],[0.7777777777777778,\"#fb9f3a\"],[0.8888888888888888,\"#fdca26\"],[1.0,\"#f0f921\"]]}],\"heatmap\":[{\"type\":\"heatmap\",\"colorbar\":{\"outlinewidth\":0,\"ticks\":\"\"},\"colorscale\":[[0.0,\"#0d0887\"],[0.1111111111111111,\"#46039f\"],[0.2222222222222222,\"#7201a8\"],[0.3333333333333333,\"#9c179e\"],[0.4444444444444444,\"#bd3786\"],[0.5555555555555556,\"#d8576b\"],[0.6666666666666666,\"#ed7953\"],[0.7777777777777778,\"#fb9f3a\"],[0.8888888888888888,\"#fdca26\"],[1.0,\"#f0f921\"]]}],\"heatmapgl\":[{\"type\":\"heatmapgl\",\"colorbar\":{\"outlinewidth\":0,\"ticks\":\"\"},\"colorscale\":[[0.0,\"#0d0887\"],[0.1111111111111111,\"#46039f\"],[0.2222222222222222,\"#7201a8\"],[0.3333333333333333,\"#9c179e\"],[0.4444444444444444,\"#bd3786\"],[0.5555555555555556,\"#d8576b\"],[0.6666666666666666,\"#ed7953\"],[0.7777777777777778,\"#fb9f3a\"],[0.8888888888888888,\"#fdca26\"],[1.0,\"#f0f921\"]]}],\"contourcarpet\":[{\"type\":\"contourcarpet\",\"colorbar\":{\"outlinewidth\":0,\"ticks\":\"\"}}],\"contour\":[{\"type\":\"contour\",\"colorbar\":{\"outlinewidth\":0,\"ticks\":\"\"},\"colorscale\":[[0.0,\"#0d0887\"],[0.1111111111111111,\"#46039f\"],[0.2222222222222222,\"#7201a8\"],[0.3333333333333333,\"#9c179e\"],[0.4444444444444444,\"#bd3786\"],[0.5555555555555556,\"#d8576b\"],[0.6666666666666666,\"#ed7953\"],[0.7777777777777778,\"#fb9f3a\"],[0.8888888888888888,\"#fdca26\"],[1.0,\"#f0f921\"]]}],\"surface\":[{\"type\":\"surface\",\"colorbar\":{\"outlinewidth\":0,\"ticks\":\"\"},\"colorscale\":[[0.0,\"#0d0887\"],[0.1111111111111111,\"#46039f\"],[0.2222222222222222,\"#7201a8\"],[0.3333333333333333,\"#9c179e\"],[0.4444444444444444,\"#bd3786\"],[0.5555555555555556,\"#d8576b\"],[0.6666666666666666,\"#ed7953\"],[0.7777777777777778,\"#fb9f3a\"],[0.8888888888888888,\"#fdca26\"],[1.0,\"#f0f921\"]]}],\"mesh3d\":[{\"type\":\"mesh3d\",\"colorbar\":{\"outlinewidth\":0,\"ticks\":\"\"}}],\"scatter\":[{\"fillpattern\":{\"fillmode\":\"overlay\",\"size\":10,\"solidity\":0.2},\"type\":\"scatter\"}],\"parcoords\":[{\"type\":\"parcoords\",\"line\":{\"colorbar\":{\"outlinewidth\":0,\"ticks\":\"\"}}}],\"scatterpolargl\":[{\"type\":\"scatterpolargl\",\"marker\":{\"colorbar\":{\"outlinewidth\":0,\"ticks\":\"\"}}}],\"bar\":[{\"error_x\":{\"color\":\"#2a3f5f\"},\"error_y\":{\"color\":\"#2a3f5f\"},\"marker\":{\"line\":{\"color\":\"#E5ECF6\",\"width\":0.5},\"pattern\":{\"fillmode\":\"overlay\",\"size\":10,\"solidity\":0.2}},\"type\":\"bar\"}],\"scattergeo\":[{\"type\":\"scattergeo\",\"marker\":{\"colorbar\":{\"outlinewidth\":0,\"ticks\":\"\"}}}],\"scatterpolar\":[{\"type\":\"scatterpolar\",\"marker\":{\"colorbar\":{\"outlinewidth\":0,\"ticks\":\"\"}}}],\"histogram\":[{\"marker\":{\"pattern\":{\"fillmode\":\"overlay\",\"size\":10,\"solidity\":0.2}},\"type\":\"histogram\"}],\"scattergl\":[{\"type\":\"scattergl\",\"marker\":{\"colorbar\":{\"outlinewidth\":0,\"ticks\":\"\"}}}],\"scatter3d\":[{\"type\":\"scatter3d\",\"line\":{\"colorbar\":{\"outlinewidth\":0,\"ticks\":\"\"}},\"marker\":{\"colorbar\":{\"outlinewidth\":0,\"ticks\":\"\"}}}],\"scattermapbox\":[{\"type\":\"scattermapbox\",\"marker\":{\"colorbar\":{\"outlinewidth\":0,\"ticks\":\"\"}}}],\"scatterternary\":[{\"type\":\"scatterternary\",\"marker\":{\"colorbar\":{\"outlinewidth\":0,\"ticks\":\"\"}}}],\"scattercarpet\":[{\"type\":\"scattercarpet\",\"marker\":{\"colorbar\":{\"outlinewidth\":0,\"ticks\":\"\"}}}],\"carpet\":[{\"aaxis\":{\"endlinecolor\":\"#2a3f5f\",\"gridcolor\":\"white\",\"linecolor\":\"white\",\"minorgridcolor\":\"white\",\"startlinecolor\":\"#2a3f5f\"},\"baxis\":{\"endlinecolor\":\"#2a3f5f\",\"gridcolor\":\"white\",\"linecolor\":\"white\",\"minorgridcolor\":\"white\",\"startlinecolor\":\"#2a3f5f\"},\"type\":\"carpet\"}],\"table\":[{\"cells\":{\"fill\":{\"color\":\"#EBF0F8\"},\"line\":{\"color\":\"white\"}},\"header\":{\"fill\":{\"color\":\"#C8D4E3\"},\"line\":{\"color\":\"white\"}},\"type\":\"table\"}],\"barpolar\":[{\"marker\":{\"line\":{\"color\":\"#E5ECF6\",\"width\":0.5},\"pattern\":{\"fillmode\":\"overlay\",\"size\":10,\"solidity\":0.2}},\"type\":\"barpolar\"}],\"pie\":[{\"automargin\":true,\"type\":\"pie\"}]},\"layout\":{\"autotypenumbers\":\"strict\",\"colorway\":[\"#636efa\",\"#EF553B\",\"#00cc96\",\"#ab63fa\",\"#FFA15A\",\"#19d3f3\",\"#FF6692\",\"#B6E880\",\"#FF97FF\",\"#FECB52\"],\"font\":{\"color\":\"#2a3f5f\"},\"hovermode\":\"closest\",\"hoverlabel\":{\"align\":\"left\"},\"paper_bgcolor\":\"white\",\"plot_bgcolor\":\"#E5ECF6\",\"polar\":{\"bgcolor\":\"#E5ECF6\",\"angularaxis\":{\"gridcolor\":\"white\",\"linecolor\":\"white\",\"ticks\":\"\"},\"radialaxis\":{\"gridcolor\":\"white\",\"linecolor\":\"white\",\"ticks\":\"\"}},\"ternary\":{\"bgcolor\":\"#E5ECF6\",\"aaxis\":{\"gridcolor\":\"white\",\"linecolor\":\"white\",\"ticks\":\"\"},\"baxis\":{\"gridcolor\":\"white\",\"linecolor\":\"white\",\"ticks\":\"\"},\"caxis\":{\"gridcolor\":\"white\",\"linecolor\":\"white\",\"ticks\":\"\"}},\"coloraxis\":{\"colorbar\":{\"outlinewidth\":0,\"ticks\":\"\"}},\"colorscale\":{\"sequential\":[[0.0,\"#0d0887\"],[0.1111111111111111,\"#46039f\"],[0.2222222222222222,\"#7201a8\"],[0.3333333333333333,\"#9c179e\"],[0.4444444444444444,\"#bd3786\"],[0.5555555555555556,\"#d8576b\"],[0.6666666666666666,\"#ed7953\"],[0.7777777777777778,\"#fb9f3a\"],[0.8888888888888888,\"#fdca26\"],[1.0,\"#f0f921\"]],\"sequentialminus\":[[0.0,\"#0d0887\"],[0.1111111111111111,\"#46039f\"],[0.2222222222222222,\"#7201a8\"],[0.3333333333333333,\"#9c179e\"],[0.4444444444444444,\"#bd3786\"],[0.5555555555555556,\"#d8576b\"],[0.6666666666666666,\"#ed7953\"],[0.7777777777777778,\"#fb9f3a\"],[0.8888888888888888,\"#fdca26\"],[1.0,\"#f0f921\"]],\"diverging\":[[0,\"#8e0152\"],[0.1,\"#c51b7d\"],[0.2,\"#de77ae\"],[0.3,\"#f1b6da\"],[0.4,\"#fde0ef\"],[0.5,\"#f7f7f7\"],[0.6,\"#e6f5d0\"],[0.7,\"#b8e186\"],[0.8,\"#7fbc41\"],[0.9,\"#4d9221\"],[1,\"#276419\"]]},\"xaxis\":{\"gridcolor\":\"white\",\"linecolor\":\"white\",\"ticks\":\"\",\"title\":{\"standoff\":15},\"zerolinecolor\":\"white\",\"automargin\":true,\"zerolinewidth\":2},\"yaxis\":{\"gridcolor\":\"white\",\"linecolor\":\"white\",\"ticks\":\"\",\"title\":{\"standoff\":15},\"zerolinecolor\":\"white\",\"automargin\":true,\"zerolinewidth\":2},\"scene\":{\"xaxis\":{\"backgroundcolor\":\"#E5ECF6\",\"gridcolor\":\"white\",\"linecolor\":\"white\",\"showbackground\":true,\"ticks\":\"\",\"zerolinecolor\":\"white\",\"gridwidth\":2},\"yaxis\":{\"backgroundcolor\":\"#E5ECF6\",\"gridcolor\":\"white\",\"linecolor\":\"white\",\"showbackground\":true,\"ticks\":\"\",\"zerolinecolor\":\"white\",\"gridwidth\":2},\"zaxis\":{\"backgroundcolor\":\"#E5ECF6\",\"gridcolor\":\"white\",\"linecolor\":\"white\",\"showbackground\":true,\"ticks\":\"\",\"zerolinecolor\":\"white\",\"gridwidth\":2}},\"shapedefaults\":{\"line\":{\"color\":\"#2a3f5f\"}},\"annotationdefaults\":{\"arrowcolor\":\"#2a3f5f\",\"arrowhead\":0,\"arrowwidth\":1},\"geo\":{\"bgcolor\":\"white\",\"landcolor\":\"#E5ECF6\",\"subunitcolor\":\"white\",\"showland\":true,\"showlakes\":true,\"lakecolor\":\"white\"},\"title\":{\"x\":0.05},\"mapbox\":{\"style\":\"light\"}}},\"xaxis\":{\"anchor\":\"y\",\"domain\":[0.0,1.0],\"title\":{\"text\":\"Current_role\"}},\"yaxis\":{\"anchor\":\"x\",\"domain\":[0.0,1.0],\"title\":{\"text\":\"Percentage\"}},\"legend\":{\"title\":{\"text\":\"Use of Computer Vision\",\"font\":{\"color\":\"#7aa64d\"}},\"tracegroupgap\":0},\"margin\":{\"t\":60},\"barmode\":\"relative\",\"height\":500,\"width\":800,\"title\":{\"font\":{\"color\":\"#7aa64d\"},\"text\":\"Computer Vision by Current Role\"}},                        {\"responsive\": true}                    ).then(function(){\n",
       "                            \n",
       "var gd = document.getElementById('4544d3d9-8d69-4e03-8e16-bb32391b8c52');\n",
       "var x = new MutationObserver(function (mutations, observer) {{\n",
       "        var display = window.getComputedStyle(gd).display;\n",
       "        if (!display || display === 'none') {{\n",
       "            console.log([gd, 'removed!']);\n",
       "            Plotly.purge(gd);\n",
       "            observer.disconnect();\n",
       "        }}\n",
       "}});\n",
       "\n",
       "// Listen for the removal of the full notebook cells\n",
       "var notebookContainer = gd.closest('#notebook-container');\n",
       "if (notebookContainer) {{\n",
       "    x.observe(notebookContainer, {childList: true});\n",
       "}}\n",
       "\n",
       "// Listen for the clearing of the current output cell\n",
       "var outputEl = gd.closest('.output');\n",
       "if (outputEl) {{\n",
       "    x.observe(outputEl, {childList: true});\n",
       "}}\n",
       "\n",
       "                        })                };                });            </script>        </div>"
      ]
     },
     "metadata": {},
     "output_type": "display_data"
    }
   ],
   "source": [
    "drawSingleBar(df_2022,'Current_role','Computer Vision by Current Role',800)"
   ]
  },
  {
   "cell_type": "markdown",
   "id": "ac3366dd",
   "metadata": {
    "papermill": {
     "duration": 0.014785,
     "end_time": "2022-11-27T02:56:05.416357",
     "exception": false,
     "start_time": "2022-11-27T02:56:05.401572",
     "status": "completed"
    },
    "tags": []
   },
   "source": [
    "<p class='default-font'>The graph above provides a comparative picture of the amount of work data science professionals do with computer vision according to their role. This comparative picture is quite consistent with reality.</p>\n",
    "\n",
    "<ul class='default-font'>\n",
    "<li>Computer vision is mostly used by <b>ML/MLops Engineer (60%)</b>.Then <b>research scientists </b> work the most with computer vision <b>(41%)</b>.</li>\n",
    "<li>Among developer architects, data architects, data scientists, and teacher/professor, a sizable number of specialists(almost one-third) work on computer vision. </li>\n",
    "<li>Data Administrators, Data Analysts and Statisticians work the least work with computer vision . </li>\n",
    "</ul>\n",
    "<p class='graph-heading'>Gender</p>"
   ]
  },
  {
   "cell_type": "code",
   "execution_count": 12,
   "id": "022a09ec",
   "metadata": {
    "_kg_hide-input": true,
    "execution": {
     "iopub.execute_input": "2022-11-27T02:56:05.447668Z",
     "iopub.status.busy": "2022-11-27T02:56:05.447238Z",
     "iopub.status.idle": "2022-11-27T02:56:05.668992Z",
     "shell.execute_reply": "2022-11-27T02:56:05.667888Z"
    },
    "papermill": {
     "duration": 0.240545,
     "end_time": "2022-11-27T02:56:05.671556",
     "exception": false,
     "start_time": "2022-11-27T02:56:05.431011",
     "status": "completed"
    },
    "tags": []
   },
   "outputs": [
    {
     "data": {
      "text/html": [
       "<div>                            <div id=\"588b1a02-2a67-4272-ad1d-0b0f8c95fab7\" class=\"plotly-graph-div\" style=\"height:400px; width:600px;\"></div>            <script type=\"text/javascript\">                require([\"plotly\"], function(Plotly) {                    window.PLOTLYENV=window.PLOTLYENV || {};                                    if (document.getElementById(\"588b1a02-2a67-4272-ad1d-0b0f8c95fab7\")) {                    Plotly.newPlot(                        \"588b1a02-2a67-4272-ad1d-0b0f8c95fab7\",                        [{\"marker\":{\"color\":[28.999999999999996,71.0,21.0,79.0],\"colorscale\":[[0.0,\"rgb(108, 33, 103)\"],[0.16666666666666666,\"rgb(145, 53, 125)\"],[0.3333333333333333,\"rgb(177, 77, 142)\"],[0.5,\"rgb(202, 105, 157)\"],[0.6666666666666666,\"rgb(221, 136, 172)\"],[0.8333333333333334,\"rgb(234, 169, 189)\"],[1.0,\"rgb(243, 203, 211)\"]]},\"text\":[29.0,71.0,21.0,79.0],\"textposition\":\"inside\",\"x\":[\"Man\",\"Man\",\"Woman\",\"Woman\"],\"y\":[28.999999999999996,71.0,21.0,79.0],\"type\":\"bar\",\"xaxis\":\"x\",\"yaxis\":\"y\",\"hovertemplate\":\"%{x},%{y}%<extra></extra>\"},{\"marker\":{\"color\":[26.0,74.0,17.0,83.0],\"colorscale\":[[0.0,\"rgb(108, 33, 103)\"],[0.16666666666666666,\"rgb(145, 53, 125)\"],[0.3333333333333333,\"rgb(177, 77, 142)\"],[0.5,\"rgb(202, 105, 157)\"],[0.6666666666666666,\"rgb(221, 136, 172)\"],[0.8333333333333334,\"rgb(234, 169, 189)\"],[1.0,\"rgb(243, 203, 211)\"]]},\"text\":[26.0,74.0,17.0,83.0],\"textposition\":\"inside\",\"x\":[\"Man\",\"Man\",\"Woman\",\"Woman\"],\"y\":[26.0,74.0,17.0,83.0],\"type\":\"bar\",\"xaxis\":\"x2\",\"yaxis\":\"y2\",\"hovertemplate\":\"%{x},%{y}%<extra></extra>\"},{\"marker\":{\"color\":[28.000000000000004,72.0,18.0,82.0],\"colorscale\":[[0.0,\"rgb(108, 33, 103)\"],[0.16666666666666666,\"rgb(145, 53, 125)\"],[0.3333333333333333,\"rgb(177, 77, 142)\"],[0.5,\"rgb(202, 105, 157)\"],[0.6666666666666666,\"rgb(221, 136, 172)\"],[0.8333333333333334,\"rgb(234, 169, 189)\"],[1.0,\"rgb(243, 203, 211)\"]]},\"text\":[28.0,72.0,18.0,82.0],\"textposition\":\"inside\",\"x\":[\"Man\",\"Man\",\"Woman\",\"Woman\"],\"y\":[28.000000000000004,72.0,18.0,82.0],\"type\":\"bar\",\"xaxis\":\"x3\",\"yaxis\":\"y3\",\"hovertemplate\":\"%{x},%{y}%<extra></extra>\"}],                        {\"template\":{\"data\":{\"histogram2dcontour\":[{\"type\":\"histogram2dcontour\",\"colorbar\":{\"outlinewidth\":0,\"ticks\":\"\"},\"colorscale\":[[0.0,\"#0d0887\"],[0.1111111111111111,\"#46039f\"],[0.2222222222222222,\"#7201a8\"],[0.3333333333333333,\"#9c179e\"],[0.4444444444444444,\"#bd3786\"],[0.5555555555555556,\"#d8576b\"],[0.6666666666666666,\"#ed7953\"],[0.7777777777777778,\"#fb9f3a\"],[0.8888888888888888,\"#fdca26\"],[1.0,\"#f0f921\"]]}],\"choropleth\":[{\"type\":\"choropleth\",\"colorbar\":{\"outlinewidth\":0,\"ticks\":\"\"}}],\"histogram2d\":[{\"type\":\"histogram2d\",\"colorbar\":{\"outlinewidth\":0,\"ticks\":\"\"},\"colorscale\":[[0.0,\"#0d0887\"],[0.1111111111111111,\"#46039f\"],[0.2222222222222222,\"#7201a8\"],[0.3333333333333333,\"#9c179e\"],[0.4444444444444444,\"#bd3786\"],[0.5555555555555556,\"#d8576b\"],[0.6666666666666666,\"#ed7953\"],[0.7777777777777778,\"#fb9f3a\"],[0.8888888888888888,\"#fdca26\"],[1.0,\"#f0f921\"]]}],\"heatmap\":[{\"type\":\"heatmap\",\"colorbar\":{\"outlinewidth\":0,\"ticks\":\"\"},\"colorscale\":[[0.0,\"#0d0887\"],[0.1111111111111111,\"#46039f\"],[0.2222222222222222,\"#7201a8\"],[0.3333333333333333,\"#9c179e\"],[0.4444444444444444,\"#bd3786\"],[0.5555555555555556,\"#d8576b\"],[0.6666666666666666,\"#ed7953\"],[0.7777777777777778,\"#fb9f3a\"],[0.8888888888888888,\"#fdca26\"],[1.0,\"#f0f921\"]]}],\"heatmapgl\":[{\"type\":\"heatmapgl\",\"colorbar\":{\"outlinewidth\":0,\"ticks\":\"\"},\"colorscale\":[[0.0,\"#0d0887\"],[0.1111111111111111,\"#46039f\"],[0.2222222222222222,\"#7201a8\"],[0.3333333333333333,\"#9c179e\"],[0.4444444444444444,\"#bd3786\"],[0.5555555555555556,\"#d8576b\"],[0.6666666666666666,\"#ed7953\"],[0.7777777777777778,\"#fb9f3a\"],[0.8888888888888888,\"#fdca26\"],[1.0,\"#f0f921\"]]}],\"contourcarpet\":[{\"type\":\"contourcarpet\",\"colorbar\":{\"outlinewidth\":0,\"ticks\":\"\"}}],\"contour\":[{\"type\":\"contour\",\"colorbar\":{\"outlinewidth\":0,\"ticks\":\"\"},\"colorscale\":[[0.0,\"#0d0887\"],[0.1111111111111111,\"#46039f\"],[0.2222222222222222,\"#7201a8\"],[0.3333333333333333,\"#9c179e\"],[0.4444444444444444,\"#bd3786\"],[0.5555555555555556,\"#d8576b\"],[0.6666666666666666,\"#ed7953\"],[0.7777777777777778,\"#fb9f3a\"],[0.8888888888888888,\"#fdca26\"],[1.0,\"#f0f921\"]]}],\"surface\":[{\"type\":\"surface\",\"colorbar\":{\"outlinewidth\":0,\"ticks\":\"\"},\"colorscale\":[[0.0,\"#0d0887\"],[0.1111111111111111,\"#46039f\"],[0.2222222222222222,\"#7201a8\"],[0.3333333333333333,\"#9c179e\"],[0.4444444444444444,\"#bd3786\"],[0.5555555555555556,\"#d8576b\"],[0.6666666666666666,\"#ed7953\"],[0.7777777777777778,\"#fb9f3a\"],[0.8888888888888888,\"#fdca26\"],[1.0,\"#f0f921\"]]}],\"mesh3d\":[{\"type\":\"mesh3d\",\"colorbar\":{\"outlinewidth\":0,\"ticks\":\"\"}}],\"scatter\":[{\"fillpattern\":{\"fillmode\":\"overlay\",\"size\":10,\"solidity\":0.2},\"type\":\"scatter\"}],\"parcoords\":[{\"type\":\"parcoords\",\"line\":{\"colorbar\":{\"outlinewidth\":0,\"ticks\":\"\"}}}],\"scatterpolargl\":[{\"type\":\"scatterpolargl\",\"marker\":{\"colorbar\":{\"outlinewidth\":0,\"ticks\":\"\"}}}],\"bar\":[{\"error_x\":{\"color\":\"#2a3f5f\"},\"error_y\":{\"color\":\"#2a3f5f\"},\"marker\":{\"line\":{\"color\":\"#E5ECF6\",\"width\":0.5},\"pattern\":{\"fillmode\":\"overlay\",\"size\":10,\"solidity\":0.2}},\"type\":\"bar\"}],\"scattergeo\":[{\"type\":\"scattergeo\",\"marker\":{\"colorbar\":{\"outlinewidth\":0,\"ticks\":\"\"}}}],\"scatterpolar\":[{\"type\":\"scatterpolar\",\"marker\":{\"colorbar\":{\"outlinewidth\":0,\"ticks\":\"\"}}}],\"histogram\":[{\"marker\":{\"pattern\":{\"fillmode\":\"overlay\",\"size\":10,\"solidity\":0.2}},\"type\":\"histogram\"}],\"scattergl\":[{\"type\":\"scattergl\",\"marker\":{\"colorbar\":{\"outlinewidth\":0,\"ticks\":\"\"}}}],\"scatter3d\":[{\"type\":\"scatter3d\",\"line\":{\"colorbar\":{\"outlinewidth\":0,\"ticks\":\"\"}},\"marker\":{\"colorbar\":{\"outlinewidth\":0,\"ticks\":\"\"}}}],\"scattermapbox\":[{\"type\":\"scattermapbox\",\"marker\":{\"colorbar\":{\"outlinewidth\":0,\"ticks\":\"\"}}}],\"scatterternary\":[{\"type\":\"scatterternary\",\"marker\":{\"colorbar\":{\"outlinewidth\":0,\"ticks\":\"\"}}}],\"scattercarpet\":[{\"type\":\"scattercarpet\",\"marker\":{\"colorbar\":{\"outlinewidth\":0,\"ticks\":\"\"}}}],\"carpet\":[{\"aaxis\":{\"endlinecolor\":\"#2a3f5f\",\"gridcolor\":\"white\",\"linecolor\":\"white\",\"minorgridcolor\":\"white\",\"startlinecolor\":\"#2a3f5f\"},\"baxis\":{\"endlinecolor\":\"#2a3f5f\",\"gridcolor\":\"white\",\"linecolor\":\"white\",\"minorgridcolor\":\"white\",\"startlinecolor\":\"#2a3f5f\"},\"type\":\"carpet\"}],\"table\":[{\"cells\":{\"fill\":{\"color\":\"#EBF0F8\"},\"line\":{\"color\":\"white\"}},\"header\":{\"fill\":{\"color\":\"#C8D4E3\"},\"line\":{\"color\":\"white\"}},\"type\":\"table\"}],\"barpolar\":[{\"marker\":{\"line\":{\"color\":\"#E5ECF6\",\"width\":0.5},\"pattern\":{\"fillmode\":\"overlay\",\"size\":10,\"solidity\":0.2}},\"type\":\"barpolar\"}],\"pie\":[{\"automargin\":true,\"type\":\"pie\"}]},\"layout\":{\"autotypenumbers\":\"strict\",\"colorway\":[\"#636efa\",\"#EF553B\",\"#00cc96\",\"#ab63fa\",\"#FFA15A\",\"#19d3f3\",\"#FF6692\",\"#B6E880\",\"#FF97FF\",\"#FECB52\"],\"font\":{\"color\":\"#2a3f5f\"},\"hovermode\":\"closest\",\"hoverlabel\":{\"align\":\"left\"},\"paper_bgcolor\":\"white\",\"plot_bgcolor\":\"#E5ECF6\",\"polar\":{\"bgcolor\":\"#E5ECF6\",\"angularaxis\":{\"gridcolor\":\"white\",\"linecolor\":\"white\",\"ticks\":\"\"},\"radialaxis\":{\"gridcolor\":\"white\",\"linecolor\":\"white\",\"ticks\":\"\"}},\"ternary\":{\"bgcolor\":\"#E5ECF6\",\"aaxis\":{\"gridcolor\":\"white\",\"linecolor\":\"white\",\"ticks\":\"\"},\"baxis\":{\"gridcolor\":\"white\",\"linecolor\":\"white\",\"ticks\":\"\"},\"caxis\":{\"gridcolor\":\"white\",\"linecolor\":\"white\",\"ticks\":\"\"}},\"coloraxis\":{\"colorbar\":{\"outlinewidth\":0,\"ticks\":\"\"}},\"colorscale\":{\"sequential\":[[0.0,\"#0d0887\"],[0.1111111111111111,\"#46039f\"],[0.2222222222222222,\"#7201a8\"],[0.3333333333333333,\"#9c179e\"],[0.4444444444444444,\"#bd3786\"],[0.5555555555555556,\"#d8576b\"],[0.6666666666666666,\"#ed7953\"],[0.7777777777777778,\"#fb9f3a\"],[0.8888888888888888,\"#fdca26\"],[1.0,\"#f0f921\"]],\"sequentialminus\":[[0.0,\"#0d0887\"],[0.1111111111111111,\"#46039f\"],[0.2222222222222222,\"#7201a8\"],[0.3333333333333333,\"#9c179e\"],[0.4444444444444444,\"#bd3786\"],[0.5555555555555556,\"#d8576b\"],[0.6666666666666666,\"#ed7953\"],[0.7777777777777778,\"#fb9f3a\"],[0.8888888888888888,\"#fdca26\"],[1.0,\"#f0f921\"]],\"diverging\":[[0,\"#8e0152\"],[0.1,\"#c51b7d\"],[0.2,\"#de77ae\"],[0.3,\"#f1b6da\"],[0.4,\"#fde0ef\"],[0.5,\"#f7f7f7\"],[0.6,\"#e6f5d0\"],[0.7,\"#b8e186\"],[0.8,\"#7fbc41\"],[0.9,\"#4d9221\"],[1,\"#276419\"]]},\"xaxis\":{\"gridcolor\":\"white\",\"linecolor\":\"white\",\"ticks\":\"\",\"title\":{\"standoff\":15},\"zerolinecolor\":\"white\",\"automargin\":true,\"zerolinewidth\":2},\"yaxis\":{\"gridcolor\":\"white\",\"linecolor\":\"white\",\"ticks\":\"\",\"title\":{\"standoff\":15},\"zerolinecolor\":\"white\",\"automargin\":true,\"zerolinewidth\":2},\"scene\":{\"xaxis\":{\"backgroundcolor\":\"#E5ECF6\",\"gridcolor\":\"white\",\"linecolor\":\"white\",\"showbackground\":true,\"ticks\":\"\",\"zerolinecolor\":\"white\",\"gridwidth\":2},\"yaxis\":{\"backgroundcolor\":\"#E5ECF6\",\"gridcolor\":\"white\",\"linecolor\":\"white\",\"showbackground\":true,\"ticks\":\"\",\"zerolinecolor\":\"white\",\"gridwidth\":2},\"zaxis\":{\"backgroundcolor\":\"#E5ECF6\",\"gridcolor\":\"white\",\"linecolor\":\"white\",\"showbackground\":true,\"ticks\":\"\",\"zerolinecolor\":\"white\",\"gridwidth\":2}},\"shapedefaults\":{\"line\":{\"color\":\"#2a3f5f\"}},\"annotationdefaults\":{\"arrowcolor\":\"#2a3f5f\",\"arrowhead\":0,\"arrowwidth\":1},\"geo\":{\"bgcolor\":\"white\",\"landcolor\":\"#E5ECF6\",\"subunitcolor\":\"white\",\"showland\":true,\"showlakes\":true,\"lakecolor\":\"white\"},\"title\":{\"x\":0.05},\"mapbox\":{\"style\":\"light\"}}},\"xaxis\":{\"anchor\":\"y\",\"domain\":[0.0,0.2888888888888889],\"title\":{\"text\":\"2022\"}},\"yaxis\":{\"anchor\":\"x\",\"domain\":[0.0,1.0]},\"xaxis2\":{\"anchor\":\"y2\",\"domain\":[0.35555555555555557,0.6444444444444445],\"title\":{\"text\":\"2021\"}},\"yaxis2\":{\"anchor\":\"x2\",\"domain\":[0.0,1.0]},\"xaxis3\":{\"anchor\":\"y3\",\"domain\":[0.7111111111111111,1.0],\"title\":{\"text\":\"2020\"}},\"yaxis3\":{\"anchor\":\"x3\",\"domain\":[0.0,1.0]},\"title\":{\"font\":{\"size\":18,\"color\":\"#7aa64d\"},\"text\":\"Man and Woman in Computer Vision\"},\"height\":400,\"showlegend\":false,\"width\":600},                        {\"responsive\": true}                    ).then(function(){\n",
       "                            \n",
       "var gd = document.getElementById('588b1a02-2a67-4272-ad1d-0b0f8c95fab7');\n",
       "var x = new MutationObserver(function (mutations, observer) {{\n",
       "        var display = window.getComputedStyle(gd).display;\n",
       "        if (!display || display === 'none') {{\n",
       "            console.log([gd, 'removed!']);\n",
       "            Plotly.purge(gd);\n",
       "            observer.disconnect();\n",
       "        }}\n",
       "}});\n",
       "\n",
       "// Listen for the removal of the full notebook cells\n",
       "var notebookContainer = gd.closest('#notebook-container');\n",
       "if (notebookContainer) {{\n",
       "    x.observe(notebookContainer, {childList: true});\n",
       "}}\n",
       "\n",
       "// Listen for the clearing of the current output cell\n",
       "var outputEl = gd.closest('.output');\n",
       "if (outputEl) {{\n",
       "    x.observe(outputEl, {childList: true});\n",
       "}}\n",
       "\n",
       "                        })                };                });            </script>        </div>"
      ]
     },
     "metadata": {},
     "output_type": "display_data"
    }
   ],
   "source": [
    "title='Man and Woman in Computer Vision'\n",
    "fig = make_subplots(rows=1, cols=3)\n",
    "df=df_2022[df_2022['Gender'].isin(['Man','Woman'])].copy()\n",
    "df=df[['Gender','CV_None']].copy()\n",
    "df=df.groupby(['Gender','CV_None'])['CV_None'].count().rename('Count') # Getting Industry wise participant count\n",
    "df= df.groupby(level=[0]).apply(lambda x:100 * round(x / float(x.sum()),2)).rename('Percentage').reset_index()\n",
    "df=df.sort_values(['Gender','Percentage'], ascending=True)\n",
    "df.head()\n",
    "fig.add_trace(go.Bar(x=df['Gender'], y=df['Percentage'],text=round(df['Percentage'],2),textposition='inside',marker=dict(color = df[\"Percentage\"],colorscale='Magenta_r')),row=1, col=1)\n",
    "\n",
    "df=df_2021[df_2021['Gender'].isin(['Man','Woman'])].copy()\n",
    "df=df[['Gender','CV_None']].copy()\n",
    "df=df.groupby(['Gender','CV_None'])['CV_None'].count().rename('Count') # Getting Industry wise participant count\n",
    "df= df.groupby(level=[0]).apply(lambda x:100 * round(x / float(x.sum()),2)).rename('Percentage').reset_index()\n",
    "df=df.sort_values(['Gender','Percentage'], ascending=True)\n",
    "df.head()\n",
    "fig.add_trace(go.Bar(x=df['Gender'], y=df['Percentage'],text=round(df['Percentage'],2),textposition='inside',marker=dict(color = df[\"Percentage\"],colorscale='Magenta_r')),row=1, col=2)\n",
    "\n",
    "df=df_2020[df_2020['Gender'].isin(['Man','Woman'])].copy()\n",
    "df=df[['Gender','CV_None']].copy()\n",
    "df=df.groupby(['Gender','CV_None'])['CV_None'].count().rename('Count') # Getting Industry wise participant count\n",
    "df= df.groupby(level=[0]).apply(lambda x:100 * round(x / float(x.sum()),2)).rename('Percentage').reset_index()\n",
    "df=df.sort_values(['Gender','Percentage'], ascending=True)\n",
    "df.head()\n",
    "fig.add_trace(go.Bar(x=df['Gender'], y=df['Percentage'],text=round(df['Percentage'],2),textposition='inside',marker=dict(color = df[\"Percentage\"],colorscale='Magenta_r')),row=1, col=3)\n",
    "fig.update_xaxes(title_text='2022', row=1, col=1)\n",
    "fig.update_xaxes(title_text='2021', row=1, col=2)\n",
    "fig.update_xaxes(title_text='2020', row=1, col=3)\n",
    "fig.update_traces(hovertemplate='%{x},%{y}%<extra></extra>', selector=dict(type='bar'))\n",
    "fig.update_layout(height=400,showlegend=False, width=600, title_text=title,title_font=dict(size=18,color='#7aa64d'))\n",
    "fig.show()"
   ]
  },
  {
   "cell_type": "markdown",
   "id": "ed965c6f",
   "metadata": {
    "papermill": {
     "duration": 0.014558,
     "end_time": "2022-11-27T02:56:05.701204",
     "exception": false,
     "start_time": "2022-11-27T02:56:05.686646",
     "status": "completed"
    },
    "tags": []
   },
   "source": [
    "<p class='default-font'>Women do less computer vision work on regular basis than men.<b>But the gap between man and woman is decreasing.</b> The above graph shows the gap between man and woman working in CV over past three years.In 2020 the gap was 10, in 2021 the gap was 9 and in 2022 it is 8. </p>\n",
    "\n",
    "<p class='graph-heading'>Years of Experience</p>"
   ]
  },
  {
   "cell_type": "code",
   "execution_count": 13,
   "id": "a0e70085",
   "metadata": {
    "_kg_hide-input": true,
    "execution": {
     "iopub.execute_input": "2022-11-27T02:56:05.733165Z",
     "iopub.status.busy": "2022-11-27T02:56:05.732760Z",
     "iopub.status.idle": "2022-11-27T02:56:05.876606Z",
     "shell.execute_reply": "2022-11-27T02:56:05.875465Z"
    },
    "papermill": {
     "duration": 0.162419,
     "end_time": "2022-11-27T02:56:05.878918",
     "exception": false,
     "start_time": "2022-11-27T02:56:05.716499",
     "status": "completed"
    },
    "tags": []
   },
   "outputs": [
    {
     "data": {
      "text/html": [
       "<div>                            <div id=\"bc4ce224-6a98-484b-9922-7a90da011008\" class=\"plotly-graph-div\" style=\"height:400px; width:1000px;\"></div>            <script type=\"text/javascript\">                require([\"plotly\"], function(Plotly) {                    window.PLOTLYENV=window.PLOTLYENV || {};                                    if (document.getElementById(\"bc4ce224-6a98-484b-9922-7a90da011008\")) {                    Plotly.newPlot(                        \"bc4ce224-6a98-484b-9922-7a90da011008\",                        [{\"marker\":{\"color\":[36.0,35.0,35.0,32.0,27.0,12.0],\"colorscale\":[[0.0,\"rgb(243, 203, 211)\"],[0.16666666666666666,\"rgb(234, 169, 189)\"],[0.3333333333333333,\"rgb(221, 136, 172)\"],[0.5,\"rgb(202, 105, 157)\"],[0.6666666666666666,\"rgb(177, 77, 142)\"],[0.8333333333333334,\"rgb(145, 53, 125)\"],[1.0,\"rgb(108, 33, 103)\"]]},\"text\":[36.0,35.0,35.0,32.0,27.0,12.0],\"textposition\":\"inside\",\"x\":[\"20+ years\",\"10-20 years\",\"5-10 years\",\"3-5 years\",\"1-3 years\",\"< 1 years\"],\"y\":[36.0,35.0,35.0,32.0,27.0,12.0],\"type\":\"bar\",\"xaxis\":\"x\",\"yaxis\":\"y\",\"hovertemplate\":\"%{x},%{y}%<extra></extra>\"},{\"marker\":{\"color\":[45.0,45.0,44.0,43.0,42.0,33.0,16.0],\"colorscale\":[[0.0,\"rgb(243, 203, 211)\"],[0.16666666666666666,\"rgb(234, 169, 189)\"],[0.3333333333333333,\"rgb(221, 136, 172)\"],[0.5,\"rgb(202, 105, 157)\"],[0.6666666666666666,\"rgb(177, 77, 142)\"],[0.8333333333333334,\"rgb(145, 53, 125)\"],[1.0,\"rgb(108, 33, 103)\"]]},\"text\":[45.0,45.0,44.0,43.0,42.0,33.0,16.0],\"textposition\":\"inside\",\"x\":[\"2-3 years\",\"4-5 years\",\"3-4 years\",\"10-20 years\",\"5-10 years\",\"1-2 years\",\"Under 1 year\"],\"y\":[45.0,45.0,44.0,43.0,42.0,33.0,16.0],\"type\":\"bar\",\"xaxis\":\"x2\",\"yaxis\":\"y2\",\"hovertemplate\":\"%{x},%{y}%<extra></extra>\"}],                        {\"template\":{\"data\":{\"histogram2dcontour\":[{\"type\":\"histogram2dcontour\",\"colorbar\":{\"outlinewidth\":0,\"ticks\":\"\"},\"colorscale\":[[0.0,\"#0d0887\"],[0.1111111111111111,\"#46039f\"],[0.2222222222222222,\"#7201a8\"],[0.3333333333333333,\"#9c179e\"],[0.4444444444444444,\"#bd3786\"],[0.5555555555555556,\"#d8576b\"],[0.6666666666666666,\"#ed7953\"],[0.7777777777777778,\"#fb9f3a\"],[0.8888888888888888,\"#fdca26\"],[1.0,\"#f0f921\"]]}],\"choropleth\":[{\"type\":\"choropleth\",\"colorbar\":{\"outlinewidth\":0,\"ticks\":\"\"}}],\"histogram2d\":[{\"type\":\"histogram2d\",\"colorbar\":{\"outlinewidth\":0,\"ticks\":\"\"},\"colorscale\":[[0.0,\"#0d0887\"],[0.1111111111111111,\"#46039f\"],[0.2222222222222222,\"#7201a8\"],[0.3333333333333333,\"#9c179e\"],[0.4444444444444444,\"#bd3786\"],[0.5555555555555556,\"#d8576b\"],[0.6666666666666666,\"#ed7953\"],[0.7777777777777778,\"#fb9f3a\"],[0.8888888888888888,\"#fdca26\"],[1.0,\"#f0f921\"]]}],\"heatmap\":[{\"type\":\"heatmap\",\"colorbar\":{\"outlinewidth\":0,\"ticks\":\"\"},\"colorscale\":[[0.0,\"#0d0887\"],[0.1111111111111111,\"#46039f\"],[0.2222222222222222,\"#7201a8\"],[0.3333333333333333,\"#9c179e\"],[0.4444444444444444,\"#bd3786\"],[0.5555555555555556,\"#d8576b\"],[0.6666666666666666,\"#ed7953\"],[0.7777777777777778,\"#fb9f3a\"],[0.8888888888888888,\"#fdca26\"],[1.0,\"#f0f921\"]]}],\"heatmapgl\":[{\"type\":\"heatmapgl\",\"colorbar\":{\"outlinewidth\":0,\"ticks\":\"\"},\"colorscale\":[[0.0,\"#0d0887\"],[0.1111111111111111,\"#46039f\"],[0.2222222222222222,\"#7201a8\"],[0.3333333333333333,\"#9c179e\"],[0.4444444444444444,\"#bd3786\"],[0.5555555555555556,\"#d8576b\"],[0.6666666666666666,\"#ed7953\"],[0.7777777777777778,\"#fb9f3a\"],[0.8888888888888888,\"#fdca26\"],[1.0,\"#f0f921\"]]}],\"contourcarpet\":[{\"type\":\"contourcarpet\",\"colorbar\":{\"outlinewidth\":0,\"ticks\":\"\"}}],\"contour\":[{\"type\":\"contour\",\"colorbar\":{\"outlinewidth\":0,\"ticks\":\"\"},\"colorscale\":[[0.0,\"#0d0887\"],[0.1111111111111111,\"#46039f\"],[0.2222222222222222,\"#7201a8\"],[0.3333333333333333,\"#9c179e\"],[0.4444444444444444,\"#bd3786\"],[0.5555555555555556,\"#d8576b\"],[0.6666666666666666,\"#ed7953\"],[0.7777777777777778,\"#fb9f3a\"],[0.8888888888888888,\"#fdca26\"],[1.0,\"#f0f921\"]]}],\"surface\":[{\"type\":\"surface\",\"colorbar\":{\"outlinewidth\":0,\"ticks\":\"\"},\"colorscale\":[[0.0,\"#0d0887\"],[0.1111111111111111,\"#46039f\"],[0.2222222222222222,\"#7201a8\"],[0.3333333333333333,\"#9c179e\"],[0.4444444444444444,\"#bd3786\"],[0.5555555555555556,\"#d8576b\"],[0.6666666666666666,\"#ed7953\"],[0.7777777777777778,\"#fb9f3a\"],[0.8888888888888888,\"#fdca26\"],[1.0,\"#f0f921\"]]}],\"mesh3d\":[{\"type\":\"mesh3d\",\"colorbar\":{\"outlinewidth\":0,\"ticks\":\"\"}}],\"scatter\":[{\"fillpattern\":{\"fillmode\":\"overlay\",\"size\":10,\"solidity\":0.2},\"type\":\"scatter\"}],\"parcoords\":[{\"type\":\"parcoords\",\"line\":{\"colorbar\":{\"outlinewidth\":0,\"ticks\":\"\"}}}],\"scatterpolargl\":[{\"type\":\"scatterpolargl\",\"marker\":{\"colorbar\":{\"outlinewidth\":0,\"ticks\":\"\"}}}],\"bar\":[{\"error_x\":{\"color\":\"#2a3f5f\"},\"error_y\":{\"color\":\"#2a3f5f\"},\"marker\":{\"line\":{\"color\":\"#E5ECF6\",\"width\":0.5},\"pattern\":{\"fillmode\":\"overlay\",\"size\":10,\"solidity\":0.2}},\"type\":\"bar\"}],\"scattergeo\":[{\"type\":\"scattergeo\",\"marker\":{\"colorbar\":{\"outlinewidth\":0,\"ticks\":\"\"}}}],\"scatterpolar\":[{\"type\":\"scatterpolar\",\"marker\":{\"colorbar\":{\"outlinewidth\":0,\"ticks\":\"\"}}}],\"histogram\":[{\"marker\":{\"pattern\":{\"fillmode\":\"overlay\",\"size\":10,\"solidity\":0.2}},\"type\":\"histogram\"}],\"scattergl\":[{\"type\":\"scattergl\",\"marker\":{\"colorbar\":{\"outlinewidth\":0,\"ticks\":\"\"}}}],\"scatter3d\":[{\"type\":\"scatter3d\",\"line\":{\"colorbar\":{\"outlinewidth\":0,\"ticks\":\"\"}},\"marker\":{\"colorbar\":{\"outlinewidth\":0,\"ticks\":\"\"}}}],\"scattermapbox\":[{\"type\":\"scattermapbox\",\"marker\":{\"colorbar\":{\"outlinewidth\":0,\"ticks\":\"\"}}}],\"scatterternary\":[{\"type\":\"scatterternary\",\"marker\":{\"colorbar\":{\"outlinewidth\":0,\"ticks\":\"\"}}}],\"scattercarpet\":[{\"type\":\"scattercarpet\",\"marker\":{\"colorbar\":{\"outlinewidth\":0,\"ticks\":\"\"}}}],\"carpet\":[{\"aaxis\":{\"endlinecolor\":\"#2a3f5f\",\"gridcolor\":\"white\",\"linecolor\":\"white\",\"minorgridcolor\":\"white\",\"startlinecolor\":\"#2a3f5f\"},\"baxis\":{\"endlinecolor\":\"#2a3f5f\",\"gridcolor\":\"white\",\"linecolor\":\"white\",\"minorgridcolor\":\"white\",\"startlinecolor\":\"#2a3f5f\"},\"type\":\"carpet\"}],\"table\":[{\"cells\":{\"fill\":{\"color\":\"#EBF0F8\"},\"line\":{\"color\":\"white\"}},\"header\":{\"fill\":{\"color\":\"#C8D4E3\"},\"line\":{\"color\":\"white\"}},\"type\":\"table\"}],\"barpolar\":[{\"marker\":{\"line\":{\"color\":\"#E5ECF6\",\"width\":0.5},\"pattern\":{\"fillmode\":\"overlay\",\"size\":10,\"solidity\":0.2}},\"type\":\"barpolar\"}],\"pie\":[{\"automargin\":true,\"type\":\"pie\"}]},\"layout\":{\"autotypenumbers\":\"strict\",\"colorway\":[\"#636efa\",\"#EF553B\",\"#00cc96\",\"#ab63fa\",\"#FFA15A\",\"#19d3f3\",\"#FF6692\",\"#B6E880\",\"#FF97FF\",\"#FECB52\"],\"font\":{\"color\":\"#2a3f5f\"},\"hovermode\":\"closest\",\"hoverlabel\":{\"align\":\"left\"},\"paper_bgcolor\":\"white\",\"plot_bgcolor\":\"#E5ECF6\",\"polar\":{\"bgcolor\":\"#E5ECF6\",\"angularaxis\":{\"gridcolor\":\"white\",\"linecolor\":\"white\",\"ticks\":\"\"},\"radialaxis\":{\"gridcolor\":\"white\",\"linecolor\":\"white\",\"ticks\":\"\"}},\"ternary\":{\"bgcolor\":\"#E5ECF6\",\"aaxis\":{\"gridcolor\":\"white\",\"linecolor\":\"white\",\"ticks\":\"\"},\"baxis\":{\"gridcolor\":\"white\",\"linecolor\":\"white\",\"ticks\":\"\"},\"caxis\":{\"gridcolor\":\"white\",\"linecolor\":\"white\",\"ticks\":\"\"}},\"coloraxis\":{\"colorbar\":{\"outlinewidth\":0,\"ticks\":\"\"}},\"colorscale\":{\"sequential\":[[0.0,\"#0d0887\"],[0.1111111111111111,\"#46039f\"],[0.2222222222222222,\"#7201a8\"],[0.3333333333333333,\"#9c179e\"],[0.4444444444444444,\"#bd3786\"],[0.5555555555555556,\"#d8576b\"],[0.6666666666666666,\"#ed7953\"],[0.7777777777777778,\"#fb9f3a\"],[0.8888888888888888,\"#fdca26\"],[1.0,\"#f0f921\"]],\"sequentialminus\":[[0.0,\"#0d0887\"],[0.1111111111111111,\"#46039f\"],[0.2222222222222222,\"#7201a8\"],[0.3333333333333333,\"#9c179e\"],[0.4444444444444444,\"#bd3786\"],[0.5555555555555556,\"#d8576b\"],[0.6666666666666666,\"#ed7953\"],[0.7777777777777778,\"#fb9f3a\"],[0.8888888888888888,\"#fdca26\"],[1.0,\"#f0f921\"]],\"diverging\":[[0,\"#8e0152\"],[0.1,\"#c51b7d\"],[0.2,\"#de77ae\"],[0.3,\"#f1b6da\"],[0.4,\"#fde0ef\"],[0.5,\"#f7f7f7\"],[0.6,\"#e6f5d0\"],[0.7,\"#b8e186\"],[0.8,\"#7fbc41\"],[0.9,\"#4d9221\"],[1,\"#276419\"]]},\"xaxis\":{\"gridcolor\":\"white\",\"linecolor\":\"white\",\"ticks\":\"\",\"title\":{\"standoff\":15},\"zerolinecolor\":\"white\",\"automargin\":true,\"zerolinewidth\":2},\"yaxis\":{\"gridcolor\":\"white\",\"linecolor\":\"white\",\"ticks\":\"\",\"title\":{\"standoff\":15},\"zerolinecolor\":\"white\",\"automargin\":true,\"zerolinewidth\":2},\"scene\":{\"xaxis\":{\"backgroundcolor\":\"#E5ECF6\",\"gridcolor\":\"white\",\"linecolor\":\"white\",\"showbackground\":true,\"ticks\":\"\",\"zerolinecolor\":\"white\",\"gridwidth\":2},\"yaxis\":{\"backgroundcolor\":\"#E5ECF6\",\"gridcolor\":\"white\",\"linecolor\":\"white\",\"showbackground\":true,\"ticks\":\"\",\"zerolinecolor\":\"white\",\"gridwidth\":2},\"zaxis\":{\"backgroundcolor\":\"#E5ECF6\",\"gridcolor\":\"white\",\"linecolor\":\"white\",\"showbackground\":true,\"ticks\":\"\",\"zerolinecolor\":\"white\",\"gridwidth\":2}},\"shapedefaults\":{\"line\":{\"color\":\"#2a3f5f\"}},\"annotationdefaults\":{\"arrowcolor\":\"#2a3f5f\",\"arrowhead\":0,\"arrowwidth\":1},\"geo\":{\"bgcolor\":\"white\",\"landcolor\":\"#E5ECF6\",\"subunitcolor\":\"white\",\"showland\":true,\"showlakes\":true,\"lakecolor\":\"white\"},\"title\":{\"x\":0.05},\"mapbox\":{\"style\":\"light\"}}},\"xaxis\":{\"anchor\":\"y\",\"domain\":[0.0,0.45],\"title\":{\"text\":\"Years of Programming Experiecne\"}},\"yaxis\":{\"anchor\":\"x\",\"domain\":[0.0,1.0]},\"xaxis2\":{\"anchor\":\"y2\",\"domain\":[0.55,1.0],\"title\":{\"text\":\"Years of ML Experiecne\"}},\"yaxis2\":{\"anchor\":\"x2\",\"domain\":[0.0,1.0]},\"title\":{\"font\":{\"size\":18,\"color\":\"#7aa64d\"},\"text\":\"Computer Vision by 'Years of Programming Experience' and 'Years of ML Experience'<br><sup><i >Q11:For how many years have you been writing code and/or programming?    Q16:For how many years have you used machine learning methods?</i></sup>\"},\"height\":400,\"showlegend\":false,\"width\":1000},                        {\"responsive\": true}                    ).then(function(){\n",
       "                            \n",
       "var gd = document.getElementById('bc4ce224-6a98-484b-9922-7a90da011008');\n",
       "var x = new MutationObserver(function (mutations, observer) {{\n",
       "        var display = window.getComputedStyle(gd).display;\n",
       "        if (!display || display === 'none') {{\n",
       "            console.log([gd, 'removed!']);\n",
       "            Plotly.purge(gd);\n",
       "            observer.disconnect();\n",
       "        }}\n",
       "}});\n",
       "\n",
       "// Listen for the removal of the full notebook cells\n",
       "var notebookContainer = gd.closest('#notebook-container');\n",
       "if (notebookContainer) {{\n",
       "    x.observe(notebookContainer, {childList: true});\n",
       "}}\n",
       "\n",
       "// Listen for the clearing of the current output cell\n",
       "var outputEl = gd.closest('.output');\n",
       "if (outputEl) {{\n",
       "    x.observe(outputEl, {childList: true});\n",
       "}}\n",
       "\n",
       "                        })                };                });            </script>        </div>"
      ]
     },
     "metadata": {},
     "output_type": "display_data"
    }
   ],
   "source": [
    "title='Computer Vision by \\'Years of Programming Experience\\' and \\'Years of ML Experience\\''+'<br><sup><i >Q11:For how many years have you been writing code and/or programming?    Q16:For how many years have you used machine learning methods?</i></sup>'\n",
    "fig = make_subplots(rows=1, cols=2)\n",
    "df=df_2022.copy()\n",
    "df=df[['Years of Programming','CV_None']].copy()\n",
    "df=df.groupby(['Years of Programming','CV_None'])['CV_None'].count().rename('Count') # Getting Industry wise participant count\n",
    "df= df.groupby(level=[0]).apply(lambda x:100 * round(x / float(x.sum()),2)).rename('Percentage').reset_index()\n",
    "df=df.sort_values('Percentage', ascending=False)\n",
    "Yes_CV = df[df['CV_None']=='UsesCV'].copy()\n",
    "fig.add_trace(go.Bar(x=Yes_CV['Years of Programming'], y=Yes_CV['Percentage'],text=round(Yes_CV['Percentage'],2),textposition='inside',marker=dict(color = Yes_CV[\"Percentage\"],colorscale='Magenta')),row=1, col=1)\n",
    "\n",
    "df=df_2022.copy()\n",
    "df=df[['Years of ML','CV_None']].copy()\n",
    "df=df.groupby(['Years of ML','CV_None'])['CV_None'].count().rename('Count') # Getting Industry wise participant count\n",
    "df= df.groupby(level=[0]).apply(lambda x:100 * round(x / float(x.sum()),2)).rename('Percentage').reset_index()\n",
    "df=df.sort_values('Percentage', ascending=False)\n",
    "Yes_CV = df[df['CV_None']=='UsesCV'].copy()\n",
    "fig.add_trace(go.Bar(x=Yes_CV['Years of ML'], y=Yes_CV['Percentage'],text=round(Yes_CV[\"Percentage\"],2),textposition='inside',marker=dict(color = Yes_CV[\"Percentage\"],colorscale='Magenta')),row=1, col=2)\n",
    "\n",
    "fig.update_xaxes(title_text='Years of Programming Experiecne', row=1, col=1)\n",
    "fig.update_xaxes(title_text='Years of ML Experiecne', row=1, col=2)\n",
    "fig.update_traces(hovertemplate='%{x},%{y}%<extra></extra>', selector=dict(type='bar'))\n",
    "fig.update_layout(height=400,showlegend=False, width=1000, title_text=title,title_font=dict(size=18,color='#7aa64d'))\n",
    "fig.show()"
   ]
  },
  {
   "cell_type": "markdown",
   "id": "02a1244a",
   "metadata": {
    "papermill": {
     "duration": 0.015054,
     "end_time": "2022-11-27T02:56:05.909591",
     "exception": false,
     "start_time": "2022-11-27T02:56:05.894537",
     "status": "completed"
    },
    "tags": []
   },
   "source": [
    "<ul class='default-font'>\n",
    "<li><b>Working on computer vision is linerarly correlated with years of programming experience.</b> From the left graph we see the rate of work on computer vision increases along with programming experience.</li>\n",
    "<li>Years of ML experience and working in computer vision have different relationship. For specialists with 2 to 20 years of ML expertise, the rate of computer vision work is roughly the same.</li>\n",
    "</ul>\n",
    "\n",
    "<a id='CV_Ben'></a>\n",
    "<p class='sub-heading'>Benefits of Working on Computer Vision</p>"
   ]
  },
  {
   "cell_type": "code",
   "execution_count": 14,
   "id": "1e02a994",
   "metadata": {
    "_kg_hide-input": true,
    "execution": {
     "iopub.execute_input": "2022-11-27T02:56:05.941838Z",
     "iopub.status.busy": "2022-11-27T02:56:05.941433Z",
     "iopub.status.idle": "2022-11-27T02:56:05.965765Z",
     "shell.execute_reply": "2022-11-27T02:56:05.964593Z"
    },
    "papermill": {
     "duration": 0.043647,
     "end_time": "2022-11-27T02:56:05.968385",
     "exception": false,
     "start_time": "2022-11-27T02:56:05.924738",
     "status": "completed"
    },
    "tags": []
   },
   "outputs": [
    {
     "data": {
      "text/markdown": [
       "<p class='bold-text'><b>Average ratio of salary between Kagglers using and not using computer vision on a regular basis in their country: 2.37</b></p>"
      ],
      "text/plain": [
       "<IPython.core.display.Markdown object>"
      ]
     },
     "metadata": {},
     "output_type": "display_data"
    }
   ],
   "source": [
    "df = df_2022.groupby(['Country', 'CV_None']).SalaryNum.mean().round(2).to_frame().reset_index()\n",
    "df = df.pivot(index='Country', columns='CV_None')['SalaryNum'].reset_index()\n",
    "df['ratio'] = round(df['UsesCV'] / df['None'],2)\n",
    "df.rename(columns={'None':'Non CV User','UsesCV':'CV User'},inplace=True)\n",
    "\n",
    "df.head()\n",
    "from IPython.display import display, Markdown\n",
    "display(Markdown(\"<p class='bold-text'><b>Average ratio of salary between Kagglers using and not using computer vision on a regular basis in their country: \"+str(round(df['ratio'].mean(),2)) +\"</b></p>\" ))"
   ]
  },
  {
   "cell_type": "markdown",
   "id": "3771025b",
   "metadata": {
    "papermill": {
     "duration": 0.015434,
     "end_time": "2022-11-27T02:56:05.999379",
     "exception": false,
     "start_time": "2022-11-27T02:56:05.983945",
     "status": "completed"
    },
    "tags": []
   },
   "source": [
    "<a id='CV_Pref'></a>\n",
    "<p class='sub-heading'>Preferences of CV users?</p>"
   ]
  },
  {
   "cell_type": "code",
   "execution_count": 15,
   "id": "02452bed",
   "metadata": {
    "_kg_hide-input": true,
    "execution": {
     "iopub.execute_input": "2022-11-27T02:56:06.031589Z",
     "iopub.status.busy": "2022-11-27T02:56:06.031163Z",
     "iopub.status.idle": "2022-11-27T02:56:06.202106Z",
     "shell.execute_reply": "2022-11-27T02:56:06.200688Z"
    },
    "papermill": {
     "duration": 0.190161,
     "end_time": "2022-11-27T02:56:06.204910",
     "exception": false,
     "start_time": "2022-11-27T02:56:06.014749",
     "status": "completed"
    },
    "tags": []
   },
   "outputs": [
    {
     "data": {
      "text/html": [
       "<div>                            <div id=\"7ca30c39-f8b1-4167-8625-c94a5693408e\" class=\"plotly-graph-div\" style=\"height:600px; width:1300px;\"></div>            <script type=\"text/javascript\">                require([\"plotly\"], function(Plotly) {                    window.PLOTLYENV=window.PLOTLYENV || {};                                    if (document.getElementById(\"7ca30c39-f8b1-4167-8625-c94a5693408e\")) {                    Plotly.newPlot(                        \"7ca30c39-f8b1-4167-8625-c94a5693408e\",                        [{\"marker\":{\"color\":\"#B24E8F\"},\"name\":\"Works on CV\",\"orientation\":\"h\",\"text\":[0.04,0.82,1.03,2.35,2.43,3.47,5.32,5.4,6.15,6.3,6.42,7.1,8.04,14.47,30.66],\"textposition\":\"inside\",\"x\":[0.04,0.82,1.03,2.35,2.43,3.47,5.32,5.4,6.15,6.3,6.42,7.1,8.04,14.47,30.66],\"y\":[\"None\",\"Julia\",\"Go\",\"Other\",\"PHP\",\"C#\",\"MATLAB\",\"Bash\",\"C\",\"Java\",\"R\",\"Javascript\",\"C++\",\"SQL\",\"Python\"],\"type\":\"bar\",\"xaxis\":\"x\",\"yaxis\":\"y\"},{\"marker\":{\"color\":\"#EBACBF\"},\"name\":\"Does not work on CV\",\"orientation\":\"h\",\"text\":[0.5,0.55,0.69,2.17,2.69,2.91,3.56,3.87,3.98,4.39,4.98,5.56,9.62,21.58,32.94],\"textposition\":\"inside\",\"x\":[0.5,0.55,0.69,2.17,2.69,2.91,3.56,3.87,3.98,4.39,4.98,5.56,9.62,21.58,32.94],\"y\":[\"Julia\",\"Go\",\"None\",\"PHP\",\"C#\",\"MATLAB\",\"Other\",\"C\",\"Bash\",\"C++\",\"Java\",\"Javascript\",\"R\",\"SQL\",\"Python\"],\"type\":\"bar\",\"xaxis\":\"x2\",\"yaxis\":\"y2\"}],                        {\"template\":{\"data\":{\"histogram2dcontour\":[{\"type\":\"histogram2dcontour\",\"colorbar\":{\"outlinewidth\":0,\"ticks\":\"\"},\"colorscale\":[[0.0,\"#0d0887\"],[0.1111111111111111,\"#46039f\"],[0.2222222222222222,\"#7201a8\"],[0.3333333333333333,\"#9c179e\"],[0.4444444444444444,\"#bd3786\"],[0.5555555555555556,\"#d8576b\"],[0.6666666666666666,\"#ed7953\"],[0.7777777777777778,\"#fb9f3a\"],[0.8888888888888888,\"#fdca26\"],[1.0,\"#f0f921\"]]}],\"choropleth\":[{\"type\":\"choropleth\",\"colorbar\":{\"outlinewidth\":0,\"ticks\":\"\"}}],\"histogram2d\":[{\"type\":\"histogram2d\",\"colorbar\":{\"outlinewidth\":0,\"ticks\":\"\"},\"colorscale\":[[0.0,\"#0d0887\"],[0.1111111111111111,\"#46039f\"],[0.2222222222222222,\"#7201a8\"],[0.3333333333333333,\"#9c179e\"],[0.4444444444444444,\"#bd3786\"],[0.5555555555555556,\"#d8576b\"],[0.6666666666666666,\"#ed7953\"],[0.7777777777777778,\"#fb9f3a\"],[0.8888888888888888,\"#fdca26\"],[1.0,\"#f0f921\"]]}],\"heatmap\":[{\"type\":\"heatmap\",\"colorbar\":{\"outlinewidth\":0,\"ticks\":\"\"},\"colorscale\":[[0.0,\"#0d0887\"],[0.1111111111111111,\"#46039f\"],[0.2222222222222222,\"#7201a8\"],[0.3333333333333333,\"#9c179e\"],[0.4444444444444444,\"#bd3786\"],[0.5555555555555556,\"#d8576b\"],[0.6666666666666666,\"#ed7953\"],[0.7777777777777778,\"#fb9f3a\"],[0.8888888888888888,\"#fdca26\"],[1.0,\"#f0f921\"]]}],\"heatmapgl\":[{\"type\":\"heatmapgl\",\"colorbar\":{\"outlinewidth\":0,\"ticks\":\"\"},\"colorscale\":[[0.0,\"#0d0887\"],[0.1111111111111111,\"#46039f\"],[0.2222222222222222,\"#7201a8\"],[0.3333333333333333,\"#9c179e\"],[0.4444444444444444,\"#bd3786\"],[0.5555555555555556,\"#d8576b\"],[0.6666666666666666,\"#ed7953\"],[0.7777777777777778,\"#fb9f3a\"],[0.8888888888888888,\"#fdca26\"],[1.0,\"#f0f921\"]]}],\"contourcarpet\":[{\"type\":\"contourcarpet\",\"colorbar\":{\"outlinewidth\":0,\"ticks\":\"\"}}],\"contour\":[{\"type\":\"contour\",\"colorbar\":{\"outlinewidth\":0,\"ticks\":\"\"},\"colorscale\":[[0.0,\"#0d0887\"],[0.1111111111111111,\"#46039f\"],[0.2222222222222222,\"#7201a8\"],[0.3333333333333333,\"#9c179e\"],[0.4444444444444444,\"#bd3786\"],[0.5555555555555556,\"#d8576b\"],[0.6666666666666666,\"#ed7953\"],[0.7777777777777778,\"#fb9f3a\"],[0.8888888888888888,\"#fdca26\"],[1.0,\"#f0f921\"]]}],\"surface\":[{\"type\":\"surface\",\"colorbar\":{\"outlinewidth\":0,\"ticks\":\"\"},\"colorscale\":[[0.0,\"#0d0887\"],[0.1111111111111111,\"#46039f\"],[0.2222222222222222,\"#7201a8\"],[0.3333333333333333,\"#9c179e\"],[0.4444444444444444,\"#bd3786\"],[0.5555555555555556,\"#d8576b\"],[0.6666666666666666,\"#ed7953\"],[0.7777777777777778,\"#fb9f3a\"],[0.8888888888888888,\"#fdca26\"],[1.0,\"#f0f921\"]]}],\"mesh3d\":[{\"type\":\"mesh3d\",\"colorbar\":{\"outlinewidth\":0,\"ticks\":\"\"}}],\"scatter\":[{\"fillpattern\":{\"fillmode\":\"overlay\",\"size\":10,\"solidity\":0.2},\"type\":\"scatter\"}],\"parcoords\":[{\"type\":\"parcoords\",\"line\":{\"colorbar\":{\"outlinewidth\":0,\"ticks\":\"\"}}}],\"scatterpolargl\":[{\"type\":\"scatterpolargl\",\"marker\":{\"colorbar\":{\"outlinewidth\":0,\"ticks\":\"\"}}}],\"bar\":[{\"error_x\":{\"color\":\"#2a3f5f\"},\"error_y\":{\"color\":\"#2a3f5f\"},\"marker\":{\"line\":{\"color\":\"#E5ECF6\",\"width\":0.5},\"pattern\":{\"fillmode\":\"overlay\",\"size\":10,\"solidity\":0.2}},\"type\":\"bar\"}],\"scattergeo\":[{\"type\":\"scattergeo\",\"marker\":{\"colorbar\":{\"outlinewidth\":0,\"ticks\":\"\"}}}],\"scatterpolar\":[{\"type\":\"scatterpolar\",\"marker\":{\"colorbar\":{\"outlinewidth\":0,\"ticks\":\"\"}}}],\"histogram\":[{\"marker\":{\"pattern\":{\"fillmode\":\"overlay\",\"size\":10,\"solidity\":0.2}},\"type\":\"histogram\"}],\"scattergl\":[{\"type\":\"scattergl\",\"marker\":{\"colorbar\":{\"outlinewidth\":0,\"ticks\":\"\"}}}],\"scatter3d\":[{\"type\":\"scatter3d\",\"line\":{\"colorbar\":{\"outlinewidth\":0,\"ticks\":\"\"}},\"marker\":{\"colorbar\":{\"outlinewidth\":0,\"ticks\":\"\"}}}],\"scattermapbox\":[{\"type\":\"scattermapbox\",\"marker\":{\"colorbar\":{\"outlinewidth\":0,\"ticks\":\"\"}}}],\"scatterternary\":[{\"type\":\"scatterternary\",\"marker\":{\"colorbar\":{\"outlinewidth\":0,\"ticks\":\"\"}}}],\"scattercarpet\":[{\"type\":\"scattercarpet\",\"marker\":{\"colorbar\":{\"outlinewidth\":0,\"ticks\":\"\"}}}],\"carpet\":[{\"aaxis\":{\"endlinecolor\":\"#2a3f5f\",\"gridcolor\":\"white\",\"linecolor\":\"white\",\"minorgridcolor\":\"white\",\"startlinecolor\":\"#2a3f5f\"},\"baxis\":{\"endlinecolor\":\"#2a3f5f\",\"gridcolor\":\"white\",\"linecolor\":\"white\",\"minorgridcolor\":\"white\",\"startlinecolor\":\"#2a3f5f\"},\"type\":\"carpet\"}],\"table\":[{\"cells\":{\"fill\":{\"color\":\"#EBF0F8\"},\"line\":{\"color\":\"white\"}},\"header\":{\"fill\":{\"color\":\"#C8D4E3\"},\"line\":{\"color\":\"white\"}},\"type\":\"table\"}],\"barpolar\":[{\"marker\":{\"line\":{\"color\":\"#E5ECF6\",\"width\":0.5},\"pattern\":{\"fillmode\":\"overlay\",\"size\":10,\"solidity\":0.2}},\"type\":\"barpolar\"}],\"pie\":[{\"automargin\":true,\"type\":\"pie\"}]},\"layout\":{\"autotypenumbers\":\"strict\",\"colorway\":[\"#636efa\",\"#EF553B\",\"#00cc96\",\"#ab63fa\",\"#FFA15A\",\"#19d3f3\",\"#FF6692\",\"#B6E880\",\"#FF97FF\",\"#FECB52\"],\"font\":{\"color\":\"#2a3f5f\"},\"hovermode\":\"closest\",\"hoverlabel\":{\"align\":\"left\"},\"paper_bgcolor\":\"white\",\"plot_bgcolor\":\"#E5ECF6\",\"polar\":{\"bgcolor\":\"#E5ECF6\",\"angularaxis\":{\"gridcolor\":\"white\",\"linecolor\":\"white\",\"ticks\":\"\"},\"radialaxis\":{\"gridcolor\":\"white\",\"linecolor\":\"white\",\"ticks\":\"\"}},\"ternary\":{\"bgcolor\":\"#E5ECF6\",\"aaxis\":{\"gridcolor\":\"white\",\"linecolor\":\"white\",\"ticks\":\"\"},\"baxis\":{\"gridcolor\":\"white\",\"linecolor\":\"white\",\"ticks\":\"\"},\"caxis\":{\"gridcolor\":\"white\",\"linecolor\":\"white\",\"ticks\":\"\"}},\"coloraxis\":{\"colorbar\":{\"outlinewidth\":0,\"ticks\":\"\"}},\"colorscale\":{\"sequential\":[[0.0,\"#0d0887\"],[0.1111111111111111,\"#46039f\"],[0.2222222222222222,\"#7201a8\"],[0.3333333333333333,\"#9c179e\"],[0.4444444444444444,\"#bd3786\"],[0.5555555555555556,\"#d8576b\"],[0.6666666666666666,\"#ed7953\"],[0.7777777777777778,\"#fb9f3a\"],[0.8888888888888888,\"#fdca26\"],[1.0,\"#f0f921\"]],\"sequentialminus\":[[0.0,\"#0d0887\"],[0.1111111111111111,\"#46039f\"],[0.2222222222222222,\"#7201a8\"],[0.3333333333333333,\"#9c179e\"],[0.4444444444444444,\"#bd3786\"],[0.5555555555555556,\"#d8576b\"],[0.6666666666666666,\"#ed7953\"],[0.7777777777777778,\"#fb9f3a\"],[0.8888888888888888,\"#fdca26\"],[1.0,\"#f0f921\"]],\"diverging\":[[0,\"#8e0152\"],[0.1,\"#c51b7d\"],[0.2,\"#de77ae\"],[0.3,\"#f1b6da\"],[0.4,\"#fde0ef\"],[0.5,\"#f7f7f7\"],[0.6,\"#e6f5d0\"],[0.7,\"#b8e186\"],[0.8,\"#7fbc41\"],[0.9,\"#4d9221\"],[1,\"#276419\"]]},\"xaxis\":{\"gridcolor\":\"white\",\"linecolor\":\"white\",\"ticks\":\"\",\"title\":{\"standoff\":15},\"zerolinecolor\":\"white\",\"automargin\":true,\"zerolinewidth\":2},\"yaxis\":{\"gridcolor\":\"white\",\"linecolor\":\"white\",\"ticks\":\"\",\"title\":{\"standoff\":15},\"zerolinecolor\":\"white\",\"automargin\":true,\"zerolinewidth\":2},\"scene\":{\"xaxis\":{\"backgroundcolor\":\"#E5ECF6\",\"gridcolor\":\"white\",\"linecolor\":\"white\",\"showbackground\":true,\"ticks\":\"\",\"zerolinecolor\":\"white\",\"gridwidth\":2},\"yaxis\":{\"backgroundcolor\":\"#E5ECF6\",\"gridcolor\":\"white\",\"linecolor\":\"white\",\"showbackground\":true,\"ticks\":\"\",\"zerolinecolor\":\"white\",\"gridwidth\":2},\"zaxis\":{\"backgroundcolor\":\"#E5ECF6\",\"gridcolor\":\"white\",\"linecolor\":\"white\",\"showbackground\":true,\"ticks\":\"\",\"zerolinecolor\":\"white\",\"gridwidth\":2}},\"shapedefaults\":{\"line\":{\"color\":\"#2a3f5f\"}},\"annotationdefaults\":{\"arrowcolor\":\"#2a3f5f\",\"arrowhead\":0,\"arrowwidth\":1},\"geo\":{\"bgcolor\":\"white\",\"landcolor\":\"#E5ECF6\",\"subunitcolor\":\"white\",\"showland\":true,\"showlakes\":true,\"lakecolor\":\"white\"},\"title\":{\"x\":0.05},\"mapbox\":{\"style\":\"light\"}}},\"xaxis\":{\"anchor\":\"y\",\"domain\":[0.0,0.45]},\"yaxis\":{\"anchor\":\"x\",\"domain\":[0.0,1.0]},\"xaxis2\":{\"anchor\":\"y2\",\"domain\":[0.55,1.0]},\"yaxis2\":{\"anchor\":\"x2\",\"domain\":[0.0,1.0]},\"title\":{\"font\":{\"size\":18,\"color\":\"#7aa64d\"},\"text\":\"Programming Languages<br><i><sup>Q12:What programming languages do you use on a regular basis? </sup></i>\",\"x\":0.5},\"height\":600,\"width\":1300},                        {\"responsive\": true}                    ).then(function(){\n",
       "                            \n",
       "var gd = document.getElementById('7ca30c39-f8b1-4167-8625-c94a5693408e');\n",
       "var x = new MutationObserver(function (mutations, observer) {{\n",
       "        var display = window.getComputedStyle(gd).display;\n",
       "        if (!display || display === 'none') {{\n",
       "            console.log([gd, 'removed!']);\n",
       "            Plotly.purge(gd);\n",
       "            observer.disconnect();\n",
       "        }}\n",
       "}});\n",
       "\n",
       "// Listen for the removal of the full notebook cells\n",
       "var notebookContainer = gd.closest('#notebook-container');\n",
       "if (notebookContainer) {{\n",
       "    x.observe(notebookContainer, {childList: true});\n",
       "}}\n",
       "\n",
       "// Listen for the clearing of the current output cell\n",
       "var outputEl = gd.closest('.output');\n",
       "if (outputEl) {{\n",
       "    x.observe(outputEl, {childList: true});\n",
       "}}\n",
       "\n",
       "                        })                };                });            </script>        </div>"
      ]
     },
     "metadata": {},
     "output_type": "display_data"
    }
   ],
   "source": [
    "drawSubplotBar(df_2022,'CV_None','PL','Programming Language','Programming Languages'+'<br><i><sup>Q12:What programming languages do you use on a regular basis? </sup></i>')"
   ]
  },
  {
   "cell_type": "markdown",
   "id": "d35c39d3",
   "metadata": {
    "papermill": {
     "duration": 0.015091,
     "end_time": "2022-11-27T02:56:06.235719",
     "exception": false,
     "start_time": "2022-11-27T02:56:06.220628",
     "status": "completed"
    },
    "tags": []
   },
   "source": [
    "<p class='default-font'>The graph above compares the most popular languages in these two groups.</p>\n",
    "\n",
    "<ul class='default-font'>\n",
    "<li>In these two groups, Python and SQL are the most popular programming languages.</li>\n",
    "<li><b>Use of C and C++ is higher among CV users than Non-CV users.</b></li>\n",
    "<li><b>R is more often used by non-CV users than by CV users.</b></li>\n",
    "<li>Other languages are used less often in both groups.</li>\n",
    "</ul>"
   ]
  },
  {
   "cell_type": "code",
   "execution_count": 16,
   "id": "bea8b908",
   "metadata": {
    "_kg_hide-input": true,
    "execution": {
     "iopub.execute_input": "2022-11-27T02:56:06.269595Z",
     "iopub.status.busy": "2022-11-27T02:56:06.268910Z",
     "iopub.status.idle": "2022-11-27T02:56:06.397400Z",
     "shell.execute_reply": "2022-11-27T02:56:06.396312Z"
    },
    "papermill": {
     "duration": 0.148417,
     "end_time": "2022-11-27T02:56:06.399903",
     "exception": false,
     "start_time": "2022-11-27T02:56:06.251486",
     "status": "completed"
    },
    "tags": []
   },
   "outputs": [
    {
     "data": {
      "text/html": [
       "<div>                            <div id=\"c54c7bd8-d17d-4c28-9771-087f57cbb96e\" class=\"plotly-graph-div\" style=\"height:500px; width:900px;\"></div>            <script type=\"text/javascript\">                require([\"plotly\"], function(Plotly) {                    window.PLOTLYENV=window.PLOTLYENV || {};                                    if (document.getElementById(\"c54c7bd8-d17d-4c28-9771-087f57cbb96e\")) {                    Plotly.newPlot(                        \"c54c7bd8-d17d-4c28-9771-087f57cbb96e\",                        [{\"marker\":{\"color\":\"#B24E8F\"},\"name\":\"Works on CV\",\"text\":[29.96,28.26,17.78,7.99,3.8,2.75,2.52,2.06,1.47,1.34,1.18,0.88],\"textposition\":\"inside\",\"x\":[\" Amazon Web Services \",\" Google Cloud Platform \",\" Microsoft Azure \",\"None\",\" IBM Cloud / Red Hat \",\" Oracle Cloud \",\"Other\",\" VMware Cloud \",\" Alibaba Cloud \",\" SAP Cloud \",\" Tencent Cloud \",\" Huawei Cloud \"],\"y\":[29.96,28.26,17.78,7.99,3.8,2.75,2.52,2.06,1.47,1.34,1.18,0.88],\"type\":\"bar\"},{\"marker\":{\"color\":\"#EBACBF\"},\"name\":\"Does not work on CV\",\"text\":[28.15,23.75,17.37,17.29,3.35,2.88,2.65,1.79,1.28,0.64,0.43,0.43],\"textposition\":\"inside\",\"x\":[\" Amazon Web Services \",\" Google Cloud Platform \",\" Microsoft Azure \",\"None\",\" IBM Cloud / Red Hat \",\" Oracle Cloud \",\"Other\",\" VMware Cloud \",\" SAP Cloud \",\" Alibaba Cloud \",\" Tencent Cloud \",\" Huawei Cloud \"],\"y\":[28.15,23.75,17.37,17.29,3.35,2.88,2.65,1.79,1.28,0.64,0.43,0.43],\"type\":\"bar\"}],                        {\"template\":{\"data\":{\"histogram2dcontour\":[{\"type\":\"histogram2dcontour\",\"colorbar\":{\"outlinewidth\":0,\"ticks\":\"\"},\"colorscale\":[[0.0,\"#0d0887\"],[0.1111111111111111,\"#46039f\"],[0.2222222222222222,\"#7201a8\"],[0.3333333333333333,\"#9c179e\"],[0.4444444444444444,\"#bd3786\"],[0.5555555555555556,\"#d8576b\"],[0.6666666666666666,\"#ed7953\"],[0.7777777777777778,\"#fb9f3a\"],[0.8888888888888888,\"#fdca26\"],[1.0,\"#f0f921\"]]}],\"choropleth\":[{\"type\":\"choropleth\",\"colorbar\":{\"outlinewidth\":0,\"ticks\":\"\"}}],\"histogram2d\":[{\"type\":\"histogram2d\",\"colorbar\":{\"outlinewidth\":0,\"ticks\":\"\"},\"colorscale\":[[0.0,\"#0d0887\"],[0.1111111111111111,\"#46039f\"],[0.2222222222222222,\"#7201a8\"],[0.3333333333333333,\"#9c179e\"],[0.4444444444444444,\"#bd3786\"],[0.5555555555555556,\"#d8576b\"],[0.6666666666666666,\"#ed7953\"],[0.7777777777777778,\"#fb9f3a\"],[0.8888888888888888,\"#fdca26\"],[1.0,\"#f0f921\"]]}],\"heatmap\":[{\"type\":\"heatmap\",\"colorbar\":{\"outlinewidth\":0,\"ticks\":\"\"},\"colorscale\":[[0.0,\"#0d0887\"],[0.1111111111111111,\"#46039f\"],[0.2222222222222222,\"#7201a8\"],[0.3333333333333333,\"#9c179e\"],[0.4444444444444444,\"#bd3786\"],[0.5555555555555556,\"#d8576b\"],[0.6666666666666666,\"#ed7953\"],[0.7777777777777778,\"#fb9f3a\"],[0.8888888888888888,\"#fdca26\"],[1.0,\"#f0f921\"]]}],\"heatmapgl\":[{\"type\":\"heatmapgl\",\"colorbar\":{\"outlinewidth\":0,\"ticks\":\"\"},\"colorscale\":[[0.0,\"#0d0887\"],[0.1111111111111111,\"#46039f\"],[0.2222222222222222,\"#7201a8\"],[0.3333333333333333,\"#9c179e\"],[0.4444444444444444,\"#bd3786\"],[0.5555555555555556,\"#d8576b\"],[0.6666666666666666,\"#ed7953\"],[0.7777777777777778,\"#fb9f3a\"],[0.8888888888888888,\"#fdca26\"],[1.0,\"#f0f921\"]]}],\"contourcarpet\":[{\"type\":\"contourcarpet\",\"colorbar\":{\"outlinewidth\":0,\"ticks\":\"\"}}],\"contour\":[{\"type\":\"contour\",\"colorbar\":{\"outlinewidth\":0,\"ticks\":\"\"},\"colorscale\":[[0.0,\"#0d0887\"],[0.1111111111111111,\"#46039f\"],[0.2222222222222222,\"#7201a8\"],[0.3333333333333333,\"#9c179e\"],[0.4444444444444444,\"#bd3786\"],[0.5555555555555556,\"#d8576b\"],[0.6666666666666666,\"#ed7953\"],[0.7777777777777778,\"#fb9f3a\"],[0.8888888888888888,\"#fdca26\"],[1.0,\"#f0f921\"]]}],\"surface\":[{\"type\":\"surface\",\"colorbar\":{\"outlinewidth\":0,\"ticks\":\"\"},\"colorscale\":[[0.0,\"#0d0887\"],[0.1111111111111111,\"#46039f\"],[0.2222222222222222,\"#7201a8\"],[0.3333333333333333,\"#9c179e\"],[0.4444444444444444,\"#bd3786\"],[0.5555555555555556,\"#d8576b\"],[0.6666666666666666,\"#ed7953\"],[0.7777777777777778,\"#fb9f3a\"],[0.8888888888888888,\"#fdca26\"],[1.0,\"#f0f921\"]]}],\"mesh3d\":[{\"type\":\"mesh3d\",\"colorbar\":{\"outlinewidth\":0,\"ticks\":\"\"}}],\"scatter\":[{\"fillpattern\":{\"fillmode\":\"overlay\",\"size\":10,\"solidity\":0.2},\"type\":\"scatter\"}],\"parcoords\":[{\"type\":\"parcoords\",\"line\":{\"colorbar\":{\"outlinewidth\":0,\"ticks\":\"\"}}}],\"scatterpolargl\":[{\"type\":\"scatterpolargl\",\"marker\":{\"colorbar\":{\"outlinewidth\":0,\"ticks\":\"\"}}}],\"bar\":[{\"error_x\":{\"color\":\"#2a3f5f\"},\"error_y\":{\"color\":\"#2a3f5f\"},\"marker\":{\"line\":{\"color\":\"#E5ECF6\",\"width\":0.5},\"pattern\":{\"fillmode\":\"overlay\",\"size\":10,\"solidity\":0.2}},\"type\":\"bar\"}],\"scattergeo\":[{\"type\":\"scattergeo\",\"marker\":{\"colorbar\":{\"outlinewidth\":0,\"ticks\":\"\"}}}],\"scatterpolar\":[{\"type\":\"scatterpolar\",\"marker\":{\"colorbar\":{\"outlinewidth\":0,\"ticks\":\"\"}}}],\"histogram\":[{\"marker\":{\"pattern\":{\"fillmode\":\"overlay\",\"size\":10,\"solidity\":0.2}},\"type\":\"histogram\"}],\"scattergl\":[{\"type\":\"scattergl\",\"marker\":{\"colorbar\":{\"outlinewidth\":0,\"ticks\":\"\"}}}],\"scatter3d\":[{\"type\":\"scatter3d\",\"line\":{\"colorbar\":{\"outlinewidth\":0,\"ticks\":\"\"}},\"marker\":{\"colorbar\":{\"outlinewidth\":0,\"ticks\":\"\"}}}],\"scattermapbox\":[{\"type\":\"scattermapbox\",\"marker\":{\"colorbar\":{\"outlinewidth\":0,\"ticks\":\"\"}}}],\"scatterternary\":[{\"type\":\"scatterternary\",\"marker\":{\"colorbar\":{\"outlinewidth\":0,\"ticks\":\"\"}}}],\"scattercarpet\":[{\"type\":\"scattercarpet\",\"marker\":{\"colorbar\":{\"outlinewidth\":0,\"ticks\":\"\"}}}],\"carpet\":[{\"aaxis\":{\"endlinecolor\":\"#2a3f5f\",\"gridcolor\":\"white\",\"linecolor\":\"white\",\"minorgridcolor\":\"white\",\"startlinecolor\":\"#2a3f5f\"},\"baxis\":{\"endlinecolor\":\"#2a3f5f\",\"gridcolor\":\"white\",\"linecolor\":\"white\",\"minorgridcolor\":\"white\",\"startlinecolor\":\"#2a3f5f\"},\"type\":\"carpet\"}],\"table\":[{\"cells\":{\"fill\":{\"color\":\"#EBF0F8\"},\"line\":{\"color\":\"white\"}},\"header\":{\"fill\":{\"color\":\"#C8D4E3\"},\"line\":{\"color\":\"white\"}},\"type\":\"table\"}],\"barpolar\":[{\"marker\":{\"line\":{\"color\":\"#E5ECF6\",\"width\":0.5},\"pattern\":{\"fillmode\":\"overlay\",\"size\":10,\"solidity\":0.2}},\"type\":\"barpolar\"}],\"pie\":[{\"automargin\":true,\"type\":\"pie\"}]},\"layout\":{\"autotypenumbers\":\"strict\",\"colorway\":[\"#636efa\",\"#EF553B\",\"#00cc96\",\"#ab63fa\",\"#FFA15A\",\"#19d3f3\",\"#FF6692\",\"#B6E880\",\"#FF97FF\",\"#FECB52\"],\"font\":{\"color\":\"#2a3f5f\"},\"hovermode\":\"closest\",\"hoverlabel\":{\"align\":\"left\"},\"paper_bgcolor\":\"white\",\"plot_bgcolor\":\"#E5ECF6\",\"polar\":{\"bgcolor\":\"#E5ECF6\",\"angularaxis\":{\"gridcolor\":\"white\",\"linecolor\":\"white\",\"ticks\":\"\"},\"radialaxis\":{\"gridcolor\":\"white\",\"linecolor\":\"white\",\"ticks\":\"\"}},\"ternary\":{\"bgcolor\":\"#E5ECF6\",\"aaxis\":{\"gridcolor\":\"white\",\"linecolor\":\"white\",\"ticks\":\"\"},\"baxis\":{\"gridcolor\":\"white\",\"linecolor\":\"white\",\"ticks\":\"\"},\"caxis\":{\"gridcolor\":\"white\",\"linecolor\":\"white\",\"ticks\":\"\"}},\"coloraxis\":{\"colorbar\":{\"outlinewidth\":0,\"ticks\":\"\"}},\"colorscale\":{\"sequential\":[[0.0,\"#0d0887\"],[0.1111111111111111,\"#46039f\"],[0.2222222222222222,\"#7201a8\"],[0.3333333333333333,\"#9c179e\"],[0.4444444444444444,\"#bd3786\"],[0.5555555555555556,\"#d8576b\"],[0.6666666666666666,\"#ed7953\"],[0.7777777777777778,\"#fb9f3a\"],[0.8888888888888888,\"#fdca26\"],[1.0,\"#f0f921\"]],\"sequentialminus\":[[0.0,\"#0d0887\"],[0.1111111111111111,\"#46039f\"],[0.2222222222222222,\"#7201a8\"],[0.3333333333333333,\"#9c179e\"],[0.4444444444444444,\"#bd3786\"],[0.5555555555555556,\"#d8576b\"],[0.6666666666666666,\"#ed7953\"],[0.7777777777777778,\"#fb9f3a\"],[0.8888888888888888,\"#fdca26\"],[1.0,\"#f0f921\"]],\"diverging\":[[0,\"#8e0152\"],[0.1,\"#c51b7d\"],[0.2,\"#de77ae\"],[0.3,\"#f1b6da\"],[0.4,\"#fde0ef\"],[0.5,\"#f7f7f7\"],[0.6,\"#e6f5d0\"],[0.7,\"#b8e186\"],[0.8,\"#7fbc41\"],[0.9,\"#4d9221\"],[1,\"#276419\"]]},\"xaxis\":{\"gridcolor\":\"white\",\"linecolor\":\"white\",\"ticks\":\"\",\"title\":{\"standoff\":15},\"zerolinecolor\":\"white\",\"automargin\":true,\"zerolinewidth\":2},\"yaxis\":{\"gridcolor\":\"white\",\"linecolor\":\"white\",\"ticks\":\"\",\"title\":{\"standoff\":15},\"zerolinecolor\":\"white\",\"automargin\":true,\"zerolinewidth\":2},\"scene\":{\"xaxis\":{\"backgroundcolor\":\"#E5ECF6\",\"gridcolor\":\"white\",\"linecolor\":\"white\",\"showbackground\":true,\"ticks\":\"\",\"zerolinecolor\":\"white\",\"gridwidth\":2},\"yaxis\":{\"backgroundcolor\":\"#E5ECF6\",\"gridcolor\":\"white\",\"linecolor\":\"white\",\"showbackground\":true,\"ticks\":\"\",\"zerolinecolor\":\"white\",\"gridwidth\":2},\"zaxis\":{\"backgroundcolor\":\"#E5ECF6\",\"gridcolor\":\"white\",\"linecolor\":\"white\",\"showbackground\":true,\"ticks\":\"\",\"zerolinecolor\":\"white\",\"gridwidth\":2}},\"shapedefaults\":{\"line\":{\"color\":\"#2a3f5f\"}},\"annotationdefaults\":{\"arrowcolor\":\"#2a3f5f\",\"arrowhead\":0,\"arrowwidth\":1},\"geo\":{\"bgcolor\":\"white\",\"landcolor\":\"#E5ECF6\",\"subunitcolor\":\"white\",\"showland\":true,\"showlakes\":true,\"lakecolor\":\"white\"},\"title\":{\"x\":0.05},\"mapbox\":{\"style\":\"light\"}}},\"title\":{\"font\":{\"size\":18,\"color\":\"#7aa64d\"},\"text\":\"Cloud Computing Platforms<br><i><sup>Q31:Which of the following cloud computing platforms do you use? </sup></i>\",\"y\":0.87,\"x\":0.5},\"margin\":{\"l\":50,\"r\":50,\"b\":100,\"t\":100,\"pad\":4},\"autosize\":false,\"width\":900,\"height\":500},                        {\"responsive\": true}                    ).then(function(){\n",
       "                            \n",
       "var gd = document.getElementById('c54c7bd8-d17d-4c28-9771-087f57cbb96e');\n",
       "var x = new MutationObserver(function (mutations, observer) {{\n",
       "        var display = window.getComputedStyle(gd).display;\n",
       "        if (!display || display === 'none') {{\n",
       "            console.log([gd, 'removed!']);\n",
       "            Plotly.purge(gd);\n",
       "            observer.disconnect();\n",
       "        }}\n",
       "}});\n",
       "\n",
       "// Listen for the removal of the full notebook cells\n",
       "var notebookContainer = gd.closest('#notebook-container');\n",
       "if (notebookContainer) {{\n",
       "    x.observe(notebookContainer, {childList: true});\n",
       "}}\n",
       "\n",
       "// Listen for the clearing of the current output cell\n",
       "var outputEl = gd.closest('.output');\n",
       "if (outputEl) {{\n",
       "    x.observe(outputEl, {childList: true});\n",
       "}}\n",
       "\n",
       "                        })                };                });            </script>        </div>"
      ]
     },
     "metadata": {},
     "output_type": "display_data"
    }
   ],
   "source": [
    "drawGroupedBar(df_2022,'CV_None','CCP','Cloud Computing Platforms','Cloud Computing Platforms'+'<br><i><sup>Q31:Which of the following cloud computing platforms do you use? </sup></i>')"
   ]
  },
  {
   "cell_type": "markdown",
   "id": "a9285593",
   "metadata": {
    "papermill": {
     "duration": 0.015406,
     "end_time": "2022-11-27T02:56:06.431319",
     "exception": false,
     "start_time": "2022-11-27T02:56:06.415913",
     "status": "completed"
    },
    "tags": []
   },
   "source": [
    "<p class='default-font'>We can infer the following regarding cloud computing from the diagram above-</p>\n",
    "\n",
    "<ul class='default-font'>\n",
    "<li><b>AWS, GCP, and Microsoft Azure are the most popular cloud computing platforms</b> in both groups, ranking first, second, and third, respectively.</li>\n",
    "<li><b>Non-CV users have a higher tendency(17.29%) than CV users (7.99%) to not use cloud computing platforms.</b></li>\n",
    "<li> Though Alibaba Cloud remains the leader with a 37% market share in China, but from global perspective it's usage not does not exceed 2%.</li> \n",
    "</ul>"
   ]
  },
  {
   "cell_type": "code",
   "execution_count": 17,
   "id": "35f01e4b",
   "metadata": {
    "_kg_hide-input": true,
    "execution": {
     "iopub.execute_input": "2022-11-27T02:56:06.464795Z",
     "iopub.status.busy": "2022-11-27T02:56:06.464390Z",
     "iopub.status.idle": "2022-11-27T02:56:06.617465Z",
     "shell.execute_reply": "2022-11-27T02:56:06.616312Z"
    },
    "papermill": {
     "duration": 0.172836,
     "end_time": "2022-11-27T02:56:06.619869",
     "exception": false,
     "start_time": "2022-11-27T02:56:06.447033",
     "status": "completed"
    },
    "tags": []
   },
   "outputs": [
    {
     "data": {
      "text/html": [
       "<div>                            <div id=\"ed3c20fd-da13-4dc1-92a3-ef7d7e7a9d80\" class=\"plotly-graph-div\" style=\"height:525px; width:1200px;\"></div>            <script type=\"text/javascript\">                require([\"plotly\"], function(Plotly) {                    window.PLOTLYENV=window.PLOTLYENV || {};                                    if (document.getElementById(\"ed3c20fd-da13-4dc1-92a3-ef7d7e7a9d80\")) {                    Plotly.newPlot(                        \"ed3c20fd-da13-4dc1-92a3-ef7d7e7a9d80\",                        [{\"alignmentgroup\":\"True\",\"hovertemplate\":\"Use of Computer Vision=Does not work on CV<br>Percentage=%{x}<br>Auto ML=%{y}<extra></extra>\",\"legendgroup\":\"Does not work on CV\",\"marker\":{\"color\":\"#EBACBF\",\"pattern\":{\"shape\":\"\"}},\"name\":\"Does not work on CV\",\"offsetgroup\":\"Does not work on CV\",\"orientation\":\"h\",\"showlegend\":true,\"textposition\":\"auto\",\"texttemplate\":\"%{x}\",\"x\":[1.7,1.88,2.64,3.23,3.23,5.11,6.36,75.85],\"xaxis\":\"x\",\"y\":[\" DataRobot AutoML \",\" H2O Driverless AI  \",\"Other\",\" Databricks AutoML \",\"  Amazon Sagemaker Autopilot \",\"  Azure Automated Machine Learning \",\" Google Cloud AutoML \",\"No / None\"],\"yaxis\":\"y\",\"type\":\"bar\"},{\"alignmentgroup\":\"True\",\"hovertemplate\":\"Use of Computer Vision=Works on CV<br>Percentage=%{x}<br>Auto ML=%{y}<extra></extra>\",\"legendgroup\":\"Works on CV\",\"marker\":{\"color\":\"#B24E8F\",\"pattern\":{\"shape\":\"\"}},\"name\":\"Works on CV\",\"offsetgroup\":\"Works on CV\",\"orientation\":\"h\",\"showlegend\":true,\"textposition\":\"auto\",\"texttemplate\":\"%{x}\",\"x\":[2.17,3.3,3.64,4.77,7.68,8.22,13.19,57.04],\"xaxis\":\"x\",\"y\":[\"Other\",\" H2O Driverless AI  \",\" DataRobot AutoML \",\" Databricks AutoML \",\"  Amazon Sagemaker Autopilot \",\"  Azure Automated Machine Learning \",\" Google Cloud AutoML \",\"No / None\"],\"yaxis\":\"y\",\"type\":\"bar\"}],                        {\"template\":{\"data\":{\"histogram2dcontour\":[{\"type\":\"histogram2dcontour\",\"colorbar\":{\"outlinewidth\":0,\"ticks\":\"\"},\"colorscale\":[[0.0,\"#0d0887\"],[0.1111111111111111,\"#46039f\"],[0.2222222222222222,\"#7201a8\"],[0.3333333333333333,\"#9c179e\"],[0.4444444444444444,\"#bd3786\"],[0.5555555555555556,\"#d8576b\"],[0.6666666666666666,\"#ed7953\"],[0.7777777777777778,\"#fb9f3a\"],[0.8888888888888888,\"#fdca26\"],[1.0,\"#f0f921\"]]}],\"choropleth\":[{\"type\":\"choropleth\",\"colorbar\":{\"outlinewidth\":0,\"ticks\":\"\"}}],\"histogram2d\":[{\"type\":\"histogram2d\",\"colorbar\":{\"outlinewidth\":0,\"ticks\":\"\"},\"colorscale\":[[0.0,\"#0d0887\"],[0.1111111111111111,\"#46039f\"],[0.2222222222222222,\"#7201a8\"],[0.3333333333333333,\"#9c179e\"],[0.4444444444444444,\"#bd3786\"],[0.5555555555555556,\"#d8576b\"],[0.6666666666666666,\"#ed7953\"],[0.7777777777777778,\"#fb9f3a\"],[0.8888888888888888,\"#fdca26\"],[1.0,\"#f0f921\"]]}],\"heatmap\":[{\"type\":\"heatmap\",\"colorbar\":{\"outlinewidth\":0,\"ticks\":\"\"},\"colorscale\":[[0.0,\"#0d0887\"],[0.1111111111111111,\"#46039f\"],[0.2222222222222222,\"#7201a8\"],[0.3333333333333333,\"#9c179e\"],[0.4444444444444444,\"#bd3786\"],[0.5555555555555556,\"#d8576b\"],[0.6666666666666666,\"#ed7953\"],[0.7777777777777778,\"#fb9f3a\"],[0.8888888888888888,\"#fdca26\"],[1.0,\"#f0f921\"]]}],\"heatmapgl\":[{\"type\":\"heatmapgl\",\"colorbar\":{\"outlinewidth\":0,\"ticks\":\"\"},\"colorscale\":[[0.0,\"#0d0887\"],[0.1111111111111111,\"#46039f\"],[0.2222222222222222,\"#7201a8\"],[0.3333333333333333,\"#9c179e\"],[0.4444444444444444,\"#bd3786\"],[0.5555555555555556,\"#d8576b\"],[0.6666666666666666,\"#ed7953\"],[0.7777777777777778,\"#fb9f3a\"],[0.8888888888888888,\"#fdca26\"],[1.0,\"#f0f921\"]]}],\"contourcarpet\":[{\"type\":\"contourcarpet\",\"colorbar\":{\"outlinewidth\":0,\"ticks\":\"\"}}],\"contour\":[{\"type\":\"contour\",\"colorbar\":{\"outlinewidth\":0,\"ticks\":\"\"},\"colorscale\":[[0.0,\"#0d0887\"],[0.1111111111111111,\"#46039f\"],[0.2222222222222222,\"#7201a8\"],[0.3333333333333333,\"#9c179e\"],[0.4444444444444444,\"#bd3786\"],[0.5555555555555556,\"#d8576b\"],[0.6666666666666666,\"#ed7953\"],[0.7777777777777778,\"#fb9f3a\"],[0.8888888888888888,\"#fdca26\"],[1.0,\"#f0f921\"]]}],\"surface\":[{\"type\":\"surface\",\"colorbar\":{\"outlinewidth\":0,\"ticks\":\"\"},\"colorscale\":[[0.0,\"#0d0887\"],[0.1111111111111111,\"#46039f\"],[0.2222222222222222,\"#7201a8\"],[0.3333333333333333,\"#9c179e\"],[0.4444444444444444,\"#bd3786\"],[0.5555555555555556,\"#d8576b\"],[0.6666666666666666,\"#ed7953\"],[0.7777777777777778,\"#fb9f3a\"],[0.8888888888888888,\"#fdca26\"],[1.0,\"#f0f921\"]]}],\"mesh3d\":[{\"type\":\"mesh3d\",\"colorbar\":{\"outlinewidth\":0,\"ticks\":\"\"}}],\"scatter\":[{\"fillpattern\":{\"fillmode\":\"overlay\",\"size\":10,\"solidity\":0.2},\"type\":\"scatter\"}],\"parcoords\":[{\"type\":\"parcoords\",\"line\":{\"colorbar\":{\"outlinewidth\":0,\"ticks\":\"\"}}}],\"scatterpolargl\":[{\"type\":\"scatterpolargl\",\"marker\":{\"colorbar\":{\"outlinewidth\":0,\"ticks\":\"\"}}}],\"bar\":[{\"error_x\":{\"color\":\"#2a3f5f\"},\"error_y\":{\"color\":\"#2a3f5f\"},\"marker\":{\"line\":{\"color\":\"#E5ECF6\",\"width\":0.5},\"pattern\":{\"fillmode\":\"overlay\",\"size\":10,\"solidity\":0.2}},\"type\":\"bar\"}],\"scattergeo\":[{\"type\":\"scattergeo\",\"marker\":{\"colorbar\":{\"outlinewidth\":0,\"ticks\":\"\"}}}],\"scatterpolar\":[{\"type\":\"scatterpolar\",\"marker\":{\"colorbar\":{\"outlinewidth\":0,\"ticks\":\"\"}}}],\"histogram\":[{\"marker\":{\"pattern\":{\"fillmode\":\"overlay\",\"size\":10,\"solidity\":0.2}},\"type\":\"histogram\"}],\"scattergl\":[{\"type\":\"scattergl\",\"marker\":{\"colorbar\":{\"outlinewidth\":0,\"ticks\":\"\"}}}],\"scatter3d\":[{\"type\":\"scatter3d\",\"line\":{\"colorbar\":{\"outlinewidth\":0,\"ticks\":\"\"}},\"marker\":{\"colorbar\":{\"outlinewidth\":0,\"ticks\":\"\"}}}],\"scattermapbox\":[{\"type\":\"scattermapbox\",\"marker\":{\"colorbar\":{\"outlinewidth\":0,\"ticks\":\"\"}}}],\"scatterternary\":[{\"type\":\"scatterternary\",\"marker\":{\"colorbar\":{\"outlinewidth\":0,\"ticks\":\"\"}}}],\"scattercarpet\":[{\"type\":\"scattercarpet\",\"marker\":{\"colorbar\":{\"outlinewidth\":0,\"ticks\":\"\"}}}],\"carpet\":[{\"aaxis\":{\"endlinecolor\":\"#2a3f5f\",\"gridcolor\":\"white\",\"linecolor\":\"white\",\"minorgridcolor\":\"white\",\"startlinecolor\":\"#2a3f5f\"},\"baxis\":{\"endlinecolor\":\"#2a3f5f\",\"gridcolor\":\"white\",\"linecolor\":\"white\",\"minorgridcolor\":\"white\",\"startlinecolor\":\"#2a3f5f\"},\"type\":\"carpet\"}],\"table\":[{\"cells\":{\"fill\":{\"color\":\"#EBF0F8\"},\"line\":{\"color\":\"white\"}},\"header\":{\"fill\":{\"color\":\"#C8D4E3\"},\"line\":{\"color\":\"white\"}},\"type\":\"table\"}],\"barpolar\":[{\"marker\":{\"line\":{\"color\":\"#E5ECF6\",\"width\":0.5},\"pattern\":{\"fillmode\":\"overlay\",\"size\":10,\"solidity\":0.2}},\"type\":\"barpolar\"}],\"pie\":[{\"automargin\":true,\"type\":\"pie\"}]},\"layout\":{\"autotypenumbers\":\"strict\",\"colorway\":[\"#636efa\",\"#EF553B\",\"#00cc96\",\"#ab63fa\",\"#FFA15A\",\"#19d3f3\",\"#FF6692\",\"#B6E880\",\"#FF97FF\",\"#FECB52\"],\"font\":{\"color\":\"#2a3f5f\"},\"hovermode\":\"closest\",\"hoverlabel\":{\"align\":\"left\"},\"paper_bgcolor\":\"white\",\"plot_bgcolor\":\"#E5ECF6\",\"polar\":{\"bgcolor\":\"#E5ECF6\",\"angularaxis\":{\"gridcolor\":\"white\",\"linecolor\":\"white\",\"ticks\":\"\"},\"radialaxis\":{\"gridcolor\":\"white\",\"linecolor\":\"white\",\"ticks\":\"\"}},\"ternary\":{\"bgcolor\":\"#E5ECF6\",\"aaxis\":{\"gridcolor\":\"white\",\"linecolor\":\"white\",\"ticks\":\"\"},\"baxis\":{\"gridcolor\":\"white\",\"linecolor\":\"white\",\"ticks\":\"\"},\"caxis\":{\"gridcolor\":\"white\",\"linecolor\":\"white\",\"ticks\":\"\"}},\"coloraxis\":{\"colorbar\":{\"outlinewidth\":0,\"ticks\":\"\"}},\"colorscale\":{\"sequential\":[[0.0,\"#0d0887\"],[0.1111111111111111,\"#46039f\"],[0.2222222222222222,\"#7201a8\"],[0.3333333333333333,\"#9c179e\"],[0.4444444444444444,\"#bd3786\"],[0.5555555555555556,\"#d8576b\"],[0.6666666666666666,\"#ed7953\"],[0.7777777777777778,\"#fb9f3a\"],[0.8888888888888888,\"#fdca26\"],[1.0,\"#f0f921\"]],\"sequentialminus\":[[0.0,\"#0d0887\"],[0.1111111111111111,\"#46039f\"],[0.2222222222222222,\"#7201a8\"],[0.3333333333333333,\"#9c179e\"],[0.4444444444444444,\"#bd3786\"],[0.5555555555555556,\"#d8576b\"],[0.6666666666666666,\"#ed7953\"],[0.7777777777777778,\"#fb9f3a\"],[0.8888888888888888,\"#fdca26\"],[1.0,\"#f0f921\"]],\"diverging\":[[0,\"#8e0152\"],[0.1,\"#c51b7d\"],[0.2,\"#de77ae\"],[0.3,\"#f1b6da\"],[0.4,\"#fde0ef\"],[0.5,\"#f7f7f7\"],[0.6,\"#e6f5d0\"],[0.7,\"#b8e186\"],[0.8,\"#7fbc41\"],[0.9,\"#4d9221\"],[1,\"#276419\"]]},\"xaxis\":{\"gridcolor\":\"white\",\"linecolor\":\"white\",\"ticks\":\"\",\"title\":{\"standoff\":15},\"zerolinecolor\":\"white\",\"automargin\":true,\"zerolinewidth\":2},\"yaxis\":{\"gridcolor\":\"white\",\"linecolor\":\"white\",\"ticks\":\"\",\"title\":{\"standoff\":15},\"zerolinecolor\":\"white\",\"automargin\":true,\"zerolinewidth\":2},\"scene\":{\"xaxis\":{\"backgroundcolor\":\"#E5ECF6\",\"gridcolor\":\"white\",\"linecolor\":\"white\",\"showbackground\":true,\"ticks\":\"\",\"zerolinecolor\":\"white\",\"gridwidth\":2},\"yaxis\":{\"backgroundcolor\":\"#E5ECF6\",\"gridcolor\":\"white\",\"linecolor\":\"white\",\"showbackground\":true,\"ticks\":\"\",\"zerolinecolor\":\"white\",\"gridwidth\":2},\"zaxis\":{\"backgroundcolor\":\"#E5ECF6\",\"gridcolor\":\"white\",\"linecolor\":\"white\",\"showbackground\":true,\"ticks\":\"\",\"zerolinecolor\":\"white\",\"gridwidth\":2}},\"shapedefaults\":{\"line\":{\"color\":\"#2a3f5f\"}},\"annotationdefaults\":{\"arrowcolor\":\"#2a3f5f\",\"arrowhead\":0,\"arrowwidth\":1},\"geo\":{\"bgcolor\":\"white\",\"landcolor\":\"#E5ECF6\",\"subunitcolor\":\"white\",\"showland\":true,\"showlakes\":true,\"lakecolor\":\"white\"},\"title\":{\"x\":0.05},\"mapbox\":{\"style\":\"light\"}}},\"xaxis\":{\"anchor\":\"y\",\"domain\":[0.0,1.0],\"title\":{\"text\":\"Percentage\"}},\"yaxis\":{\"anchor\":\"x\",\"domain\":[0.0,1.0],\"title\":{\"text\":\"Auto ML\"}},\"legend\":{\"title\":{\"text\":\"Use of Computer Vision\",\"font\":{\"color\":\"#7aa64d\"}},\"tracegroupgap\":0},\"margin\":{\"t\":60},\"barmode\":\"relative\",\"width\":1200,\"title\":{\"font\":{\"color\":\"#7aa64d\"},\"text\":\"Auto ML<br><i><sup>Q38:Do you use any of the following automated machine learning tools?</sup></i>\",\"y\":0.95,\"x\":0.5},\"autosize\":false},                        {\"responsive\": true}                    ).then(function(){\n",
       "                            \n",
       "var gd = document.getElementById('ed3c20fd-da13-4dc1-92a3-ef7d7e7a9d80');\n",
       "var x = new MutationObserver(function (mutations, observer) {{\n",
       "        var display = window.getComputedStyle(gd).display;\n",
       "        if (!display || display === 'none') {{\n",
       "            console.log([gd, 'removed!']);\n",
       "            Plotly.purge(gd);\n",
       "            observer.disconnect();\n",
       "        }}\n",
       "}});\n",
       "\n",
       "// Listen for the removal of the full notebook cells\n",
       "var notebookContainer = gd.closest('#notebook-container');\n",
       "if (notebookContainer) {{\n",
       "    x.observe(notebookContainer, {childList: true});\n",
       "}}\n",
       "\n",
       "// Listen for the clearing of the current output cell\n",
       "var outputEl = gd.closest('.output');\n",
       "if (outputEl) {{\n",
       "    x.observe(outputEl, {childList: true});\n",
       "}}\n",
       "\n",
       "                        })                };                });            </script>        </div>"
      ]
     },
     "metadata": {},
     "output_type": "display_data"
    }
   ],
   "source": [
    "drawStackedBar(df_2022,'CV_None','AutoML','Auto ML','Auto ML'+'<br><i><sup>Q38:Do you use any of the following automated machine learning tools?</sup></i>')"
   ]
  },
  {
   "cell_type": "markdown",
   "id": "90762b2a",
   "metadata": {
    "papermill": {
     "duration": 0.016591,
     "end_time": "2022-11-27T02:56:06.652891",
     "exception": false,
     "start_time": "2022-11-27T02:56:06.636300",
     "status": "completed"
    },
    "tags": []
   },
   "source": [
    "<p class='default-font'>Automated machine machine learning (AutoML) is the process of using machine learning to solve real-world issues.The entire machine learning workflow is automated with AutoML. For AutoML the use of cloud infrastructures is preferred. By looking for the best hyperparameters and models for the modeling task, AutoML attempts to replace all the manual tuning and model experimentation that modern Data Scientists do.</p>\n",
    "\n",
    "\n",
    "\n",
    "<ul class='default-font'>\n",
    "<li><b>Most of the respondents don't use AutoML for their task(Non-CV 75% and CV user 57.04%)</b>. This may be because majority of AutoML tools are designed for most common use-cases. AutoML is incompatible with different datasets since the data are from different sources and are in different formats. As a result, it restricts users'capacities.</li>\n",
    "<li>One thing is to note here that, <b>CV users use automated machine learning tools more often than Non-CV users.</b> This could be because AutoML solution providers offer solutions for a range of computer vision applications, including image classification, object detection, instance segmentation, and more.</li>\n",
    "<li><b>Those who use AutoML, mostly use Google Cloud AutoML and then Azure and Amazon Sagemaker.</b></li>\n",
    "\n",
    "</ul>"
   ]
  },
  {
   "cell_type": "code",
   "execution_count": 18,
   "id": "2112d60a",
   "metadata": {
    "_kg_hide-input": true,
    "execution": {
     "iopub.execute_input": "2022-11-27T02:56:06.687613Z",
     "iopub.status.busy": "2022-11-27T02:56:06.687183Z",
     "iopub.status.idle": "2022-11-27T02:56:06.885572Z",
     "shell.execute_reply": "2022-11-27T02:56:06.884337Z"
    },
    "papermill": {
     "duration": 0.219071,
     "end_time": "2022-11-27T02:56:06.888127",
     "exception": false,
     "start_time": "2022-11-27T02:56:06.669056",
     "status": "completed"
    },
    "tags": []
   },
   "outputs": [
    {
     "data": {
      "text/html": [
       "<div>                            <div id=\"9ecc7270-30de-479e-9aae-22b9b5680cbe\" class=\"plotly-graph-div\" style=\"height:525px; width:1200px;\"></div>            <script type=\"text/javascript\">                require([\"plotly\"], function(Plotly) {                    window.PLOTLYENV=window.PLOTLYENV || {};                                    if (document.getElementById(\"9ecc7270-30de-479e-9aae-22b9b5680cbe\")) {                    Plotly.newPlot(                        \"9ecc7270-30de-479e-9aae-22b9b5680cbe\",                        [{\"alignmentgroup\":\"True\",\"hovertemplate\":\"Use of Computer Vision=Does not work on CV<br>Percentage=%{x}<br>Business Intelligence=%{y}<extra></extra>\",\"legendgroup\":\"Does not work on CV\",\"marker\":{\"color\":\"#EBACBF\",\"pattern\":{\"shape\":\"\"}},\"name\":\"Does not work on CV\",\"offsetgroup\":\"Does not work on CV\",\"orientation\":\"h\",\"showlegend\":true,\"textposition\":\"auto\",\"texttemplate\":\"%{x}\",\"x\":[0.27,0.42,0.51,1.13,1.24,1.93,1.93,2.26,2.46,2.83,2.88,8.19,23.61,24.47,25.87],\"xaxis\":\"x\",\"y\":[\"Thoughtspot \",\"Sisense \",\"Domo\",\"TIBCO Spotfire\",\"SAP Analytics Cloud \",\"Alteryx \",\"Microsoft Azure Synapse \",\"Looker\",\"Amazon QuickSight\",\"Other\",\"Qlik Sense\",\"Google Data Studio\",\"Microsoft Power BI\",\"Tableau\",\"None\"],\"yaxis\":\"y\",\"type\":\"bar\"},{\"alignmentgroup\":\"True\",\"hovertemplate\":\"Use of Computer Vision=Works on CV<br>Percentage=%{x}<br>Business Intelligence=%{y}<extra></extra>\",\"legendgroup\":\"Works on CV\",\"marker\":{\"color\":\"#B24E8F\",\"pattern\":{\"shape\":\"\"}},\"name\":\"Works on CV\",\"offsetgroup\":\"Works on CV\",\"orientation\":\"h\",\"showlegend\":true,\"textposition\":\"auto\",\"texttemplate\":\"%{x}\",\"x\":[0.39,0.58,0.82,1.36,1.63,1.87,1.91,2.33,2.72,2.88,3.77,9.88,19.72,20.73,29.4],\"xaxis\":\"x\",\"y\":[\"Thoughtspot \",\"Sisense \",\"Domo\",\"TIBCO Spotfire\",\"Alteryx \",\"Other\",\"SAP Analytics Cloud \",\"Looker\",\"Qlik Sense\",\"Microsoft Azure Synapse \",\"Amazon QuickSight\",\"Google Data Studio\",\"Microsoft Power BI\",\"Tableau\",\"None\"],\"yaxis\":\"y\",\"type\":\"bar\"}],                        {\"template\":{\"data\":{\"histogram2dcontour\":[{\"type\":\"histogram2dcontour\",\"colorbar\":{\"outlinewidth\":0,\"ticks\":\"\"},\"colorscale\":[[0.0,\"#0d0887\"],[0.1111111111111111,\"#46039f\"],[0.2222222222222222,\"#7201a8\"],[0.3333333333333333,\"#9c179e\"],[0.4444444444444444,\"#bd3786\"],[0.5555555555555556,\"#d8576b\"],[0.6666666666666666,\"#ed7953\"],[0.7777777777777778,\"#fb9f3a\"],[0.8888888888888888,\"#fdca26\"],[1.0,\"#f0f921\"]]}],\"choropleth\":[{\"type\":\"choropleth\",\"colorbar\":{\"outlinewidth\":0,\"ticks\":\"\"}}],\"histogram2d\":[{\"type\":\"histogram2d\",\"colorbar\":{\"outlinewidth\":0,\"ticks\":\"\"},\"colorscale\":[[0.0,\"#0d0887\"],[0.1111111111111111,\"#46039f\"],[0.2222222222222222,\"#7201a8\"],[0.3333333333333333,\"#9c179e\"],[0.4444444444444444,\"#bd3786\"],[0.5555555555555556,\"#d8576b\"],[0.6666666666666666,\"#ed7953\"],[0.7777777777777778,\"#fb9f3a\"],[0.8888888888888888,\"#fdca26\"],[1.0,\"#f0f921\"]]}],\"heatmap\":[{\"type\":\"heatmap\",\"colorbar\":{\"outlinewidth\":0,\"ticks\":\"\"},\"colorscale\":[[0.0,\"#0d0887\"],[0.1111111111111111,\"#46039f\"],[0.2222222222222222,\"#7201a8\"],[0.3333333333333333,\"#9c179e\"],[0.4444444444444444,\"#bd3786\"],[0.5555555555555556,\"#d8576b\"],[0.6666666666666666,\"#ed7953\"],[0.7777777777777778,\"#fb9f3a\"],[0.8888888888888888,\"#fdca26\"],[1.0,\"#f0f921\"]]}],\"heatmapgl\":[{\"type\":\"heatmapgl\",\"colorbar\":{\"outlinewidth\":0,\"ticks\":\"\"},\"colorscale\":[[0.0,\"#0d0887\"],[0.1111111111111111,\"#46039f\"],[0.2222222222222222,\"#7201a8\"],[0.3333333333333333,\"#9c179e\"],[0.4444444444444444,\"#bd3786\"],[0.5555555555555556,\"#d8576b\"],[0.6666666666666666,\"#ed7953\"],[0.7777777777777778,\"#fb9f3a\"],[0.8888888888888888,\"#fdca26\"],[1.0,\"#f0f921\"]]}],\"contourcarpet\":[{\"type\":\"contourcarpet\",\"colorbar\":{\"outlinewidth\":0,\"ticks\":\"\"}}],\"contour\":[{\"type\":\"contour\",\"colorbar\":{\"outlinewidth\":0,\"ticks\":\"\"},\"colorscale\":[[0.0,\"#0d0887\"],[0.1111111111111111,\"#46039f\"],[0.2222222222222222,\"#7201a8\"],[0.3333333333333333,\"#9c179e\"],[0.4444444444444444,\"#bd3786\"],[0.5555555555555556,\"#d8576b\"],[0.6666666666666666,\"#ed7953\"],[0.7777777777777778,\"#fb9f3a\"],[0.8888888888888888,\"#fdca26\"],[1.0,\"#f0f921\"]]}],\"surface\":[{\"type\":\"surface\",\"colorbar\":{\"outlinewidth\":0,\"ticks\":\"\"},\"colorscale\":[[0.0,\"#0d0887\"],[0.1111111111111111,\"#46039f\"],[0.2222222222222222,\"#7201a8\"],[0.3333333333333333,\"#9c179e\"],[0.4444444444444444,\"#bd3786\"],[0.5555555555555556,\"#d8576b\"],[0.6666666666666666,\"#ed7953\"],[0.7777777777777778,\"#fb9f3a\"],[0.8888888888888888,\"#fdca26\"],[1.0,\"#f0f921\"]]}],\"mesh3d\":[{\"type\":\"mesh3d\",\"colorbar\":{\"outlinewidth\":0,\"ticks\":\"\"}}],\"scatter\":[{\"fillpattern\":{\"fillmode\":\"overlay\",\"size\":10,\"solidity\":0.2},\"type\":\"scatter\"}],\"parcoords\":[{\"type\":\"parcoords\",\"line\":{\"colorbar\":{\"outlinewidth\":0,\"ticks\":\"\"}}}],\"scatterpolargl\":[{\"type\":\"scatterpolargl\",\"marker\":{\"colorbar\":{\"outlinewidth\":0,\"ticks\":\"\"}}}],\"bar\":[{\"error_x\":{\"color\":\"#2a3f5f\"},\"error_y\":{\"color\":\"#2a3f5f\"},\"marker\":{\"line\":{\"color\":\"#E5ECF6\",\"width\":0.5},\"pattern\":{\"fillmode\":\"overlay\",\"size\":10,\"solidity\":0.2}},\"type\":\"bar\"}],\"scattergeo\":[{\"type\":\"scattergeo\",\"marker\":{\"colorbar\":{\"outlinewidth\":0,\"ticks\":\"\"}}}],\"scatterpolar\":[{\"type\":\"scatterpolar\",\"marker\":{\"colorbar\":{\"outlinewidth\":0,\"ticks\":\"\"}}}],\"histogram\":[{\"marker\":{\"pattern\":{\"fillmode\":\"overlay\",\"size\":10,\"solidity\":0.2}},\"type\":\"histogram\"}],\"scattergl\":[{\"type\":\"scattergl\",\"marker\":{\"colorbar\":{\"outlinewidth\":0,\"ticks\":\"\"}}}],\"scatter3d\":[{\"type\":\"scatter3d\",\"line\":{\"colorbar\":{\"outlinewidth\":0,\"ticks\":\"\"}},\"marker\":{\"colorbar\":{\"outlinewidth\":0,\"ticks\":\"\"}}}],\"scattermapbox\":[{\"type\":\"scattermapbox\",\"marker\":{\"colorbar\":{\"outlinewidth\":0,\"ticks\":\"\"}}}],\"scatterternary\":[{\"type\":\"scatterternary\",\"marker\":{\"colorbar\":{\"outlinewidth\":0,\"ticks\":\"\"}}}],\"scattercarpet\":[{\"type\":\"scattercarpet\",\"marker\":{\"colorbar\":{\"outlinewidth\":0,\"ticks\":\"\"}}}],\"carpet\":[{\"aaxis\":{\"endlinecolor\":\"#2a3f5f\",\"gridcolor\":\"white\",\"linecolor\":\"white\",\"minorgridcolor\":\"white\",\"startlinecolor\":\"#2a3f5f\"},\"baxis\":{\"endlinecolor\":\"#2a3f5f\",\"gridcolor\":\"white\",\"linecolor\":\"white\",\"minorgridcolor\":\"white\",\"startlinecolor\":\"#2a3f5f\"},\"type\":\"carpet\"}],\"table\":[{\"cells\":{\"fill\":{\"color\":\"#EBF0F8\"},\"line\":{\"color\":\"white\"}},\"header\":{\"fill\":{\"color\":\"#C8D4E3\"},\"line\":{\"color\":\"white\"}},\"type\":\"table\"}],\"barpolar\":[{\"marker\":{\"line\":{\"color\":\"#E5ECF6\",\"width\":0.5},\"pattern\":{\"fillmode\":\"overlay\",\"size\":10,\"solidity\":0.2}},\"type\":\"barpolar\"}],\"pie\":[{\"automargin\":true,\"type\":\"pie\"}]},\"layout\":{\"autotypenumbers\":\"strict\",\"colorway\":[\"#636efa\",\"#EF553B\",\"#00cc96\",\"#ab63fa\",\"#FFA15A\",\"#19d3f3\",\"#FF6692\",\"#B6E880\",\"#FF97FF\",\"#FECB52\"],\"font\":{\"color\":\"#2a3f5f\"},\"hovermode\":\"closest\",\"hoverlabel\":{\"align\":\"left\"},\"paper_bgcolor\":\"white\",\"plot_bgcolor\":\"#E5ECF6\",\"polar\":{\"bgcolor\":\"#E5ECF6\",\"angularaxis\":{\"gridcolor\":\"white\",\"linecolor\":\"white\",\"ticks\":\"\"},\"radialaxis\":{\"gridcolor\":\"white\",\"linecolor\":\"white\",\"ticks\":\"\"}},\"ternary\":{\"bgcolor\":\"#E5ECF6\",\"aaxis\":{\"gridcolor\":\"white\",\"linecolor\":\"white\",\"ticks\":\"\"},\"baxis\":{\"gridcolor\":\"white\",\"linecolor\":\"white\",\"ticks\":\"\"},\"caxis\":{\"gridcolor\":\"white\",\"linecolor\":\"white\",\"ticks\":\"\"}},\"coloraxis\":{\"colorbar\":{\"outlinewidth\":0,\"ticks\":\"\"}},\"colorscale\":{\"sequential\":[[0.0,\"#0d0887\"],[0.1111111111111111,\"#46039f\"],[0.2222222222222222,\"#7201a8\"],[0.3333333333333333,\"#9c179e\"],[0.4444444444444444,\"#bd3786\"],[0.5555555555555556,\"#d8576b\"],[0.6666666666666666,\"#ed7953\"],[0.7777777777777778,\"#fb9f3a\"],[0.8888888888888888,\"#fdca26\"],[1.0,\"#f0f921\"]],\"sequentialminus\":[[0.0,\"#0d0887\"],[0.1111111111111111,\"#46039f\"],[0.2222222222222222,\"#7201a8\"],[0.3333333333333333,\"#9c179e\"],[0.4444444444444444,\"#bd3786\"],[0.5555555555555556,\"#d8576b\"],[0.6666666666666666,\"#ed7953\"],[0.7777777777777778,\"#fb9f3a\"],[0.8888888888888888,\"#fdca26\"],[1.0,\"#f0f921\"]],\"diverging\":[[0,\"#8e0152\"],[0.1,\"#c51b7d\"],[0.2,\"#de77ae\"],[0.3,\"#f1b6da\"],[0.4,\"#fde0ef\"],[0.5,\"#f7f7f7\"],[0.6,\"#e6f5d0\"],[0.7,\"#b8e186\"],[0.8,\"#7fbc41\"],[0.9,\"#4d9221\"],[1,\"#276419\"]]},\"xaxis\":{\"gridcolor\":\"white\",\"linecolor\":\"white\",\"ticks\":\"\",\"title\":{\"standoff\":15},\"zerolinecolor\":\"white\",\"automargin\":true,\"zerolinewidth\":2},\"yaxis\":{\"gridcolor\":\"white\",\"linecolor\":\"white\",\"ticks\":\"\",\"title\":{\"standoff\":15},\"zerolinecolor\":\"white\",\"automargin\":true,\"zerolinewidth\":2},\"scene\":{\"xaxis\":{\"backgroundcolor\":\"#E5ECF6\",\"gridcolor\":\"white\",\"linecolor\":\"white\",\"showbackground\":true,\"ticks\":\"\",\"zerolinecolor\":\"white\",\"gridwidth\":2},\"yaxis\":{\"backgroundcolor\":\"#E5ECF6\",\"gridcolor\":\"white\",\"linecolor\":\"white\",\"showbackground\":true,\"ticks\":\"\",\"zerolinecolor\":\"white\",\"gridwidth\":2},\"zaxis\":{\"backgroundcolor\":\"#E5ECF6\",\"gridcolor\":\"white\",\"linecolor\":\"white\",\"showbackground\":true,\"ticks\":\"\",\"zerolinecolor\":\"white\",\"gridwidth\":2}},\"shapedefaults\":{\"line\":{\"color\":\"#2a3f5f\"}},\"annotationdefaults\":{\"arrowcolor\":\"#2a3f5f\",\"arrowhead\":0,\"arrowwidth\":1},\"geo\":{\"bgcolor\":\"white\",\"landcolor\":\"#E5ECF6\",\"subunitcolor\":\"white\",\"showland\":true,\"showlakes\":true,\"lakecolor\":\"white\"},\"title\":{\"x\":0.05},\"mapbox\":{\"style\":\"light\"}}},\"xaxis\":{\"anchor\":\"y\",\"domain\":[0.0,1.0],\"title\":{\"text\":\"Percentage\"}},\"yaxis\":{\"anchor\":\"x\",\"domain\":[0.0,1.0],\"title\":{\"text\":\"Business Intelligence\"}},\"legend\":{\"title\":{\"text\":\"Use of Computer Vision\",\"font\":{\"color\":\"#7aa64d\"}},\"tracegroupgap\":0},\"margin\":{\"t\":60},\"barmode\":\"relative\",\"width\":1200,\"title\":{\"font\":{\"color\":\"#7aa64d\"},\"text\":\"Business Intelligence Tools<br><i><sup>Q36:Do you use any of the following business intelligence tools?</sup></i>\",\"y\":0.95,\"x\":0.5},\"autosize\":false},                        {\"responsive\": true}                    ).then(function(){\n",
       "                            \n",
       "var gd = document.getElementById('9ecc7270-30de-479e-9aae-22b9b5680cbe');\n",
       "var x = new MutationObserver(function (mutations, observer) {{\n",
       "        var display = window.getComputedStyle(gd).display;\n",
       "        if (!display || display === 'none') {{\n",
       "            console.log([gd, 'removed!']);\n",
       "            Plotly.purge(gd);\n",
       "            observer.disconnect();\n",
       "        }}\n",
       "}});\n",
       "\n",
       "// Listen for the removal of the full notebook cells\n",
       "var notebookContainer = gd.closest('#notebook-container');\n",
       "if (notebookContainer) {{\n",
       "    x.observe(notebookContainer, {childList: true});\n",
       "}}\n",
       "\n",
       "// Listen for the clearing of the current output cell\n",
       "var outputEl = gd.closest('.output');\n",
       "if (outputEl) {{\n",
       "    x.observe(outputEl, {childList: true});\n",
       "}}\n",
       "\n",
       "                        })                };                });            </script>        </div>"
      ]
     },
     "metadata": {},
     "output_type": "display_data"
    }
   ],
   "source": [
    "drawStackedBar(df_2022,'CV_None','BI','Business Intelligence','Business Intelligence Tools'+'<br><i><sup>Q36:Do you use any of the following business intelligence tools?</sup></i>')"
   ]
  },
  {
   "cell_type": "markdown",
   "id": "8b0a07cf",
   "metadata": {
    "papermill": {
     "duration": 0.015867,
     "end_time": "2022-11-27T02:56:06.920438",
     "exception": false,
     "start_time": "2022-11-27T02:56:06.904571",
     "status": "completed"
    },
    "tags": []
   },
   "source": [
    "<p class='default-font'></p>\n",
    "\n",
    "<ul class='default-font'>\n",
    "<li><b>A sizeable percentage(more than 25%) of the two categories do not use BI.</b></li>\n",
    "<li>Use of Tableau and Microsoft Power BI is slightly less among CV users.</li>\n",
    "<li>Google Data Studio is less often used than Tableau and Microsoft Power BI in both groups. </li>\n",
    "</ul>\n",
    "\n",
    "<!-- <p class='graph-heading'>Comparison of popular BI Tools among CV and non-CV Users</p> -->"
   ]
  },
  {
   "cell_type": "code",
   "execution_count": 19,
   "id": "73ff26d8",
   "metadata": {
    "_kg_hide-input": true,
    "execution": {
     "iopub.execute_input": "2022-11-27T02:56:06.954907Z",
     "iopub.status.busy": "2022-11-27T02:56:06.954496Z",
     "iopub.status.idle": "2022-11-27T02:56:07.122893Z",
     "shell.execute_reply": "2022-11-27T02:56:07.121677Z"
    },
    "papermill": {
     "duration": 0.188941,
     "end_time": "2022-11-27T02:56:07.125579",
     "exception": false,
     "start_time": "2022-11-27T02:56:06.936638",
     "status": "completed"
    },
    "tags": []
   },
   "outputs": [
    {
     "data": {
      "text/html": [
       "<div>                            <div id=\"f16667d6-d957-4b26-9b3e-7f9ef72defa2\" class=\"plotly-graph-div\" style=\"height:600px; width:1300px;\"></div>            <script type=\"text/javascript\">                require([\"plotly\"], function(Plotly) {                    window.PLOTLYENV=window.PLOTLYENV || {};                                    if (document.getElementById(\"f16667d6-d957-4b26-9b3e-7f9ef72defa2\")) {                    Plotly.newPlot(                        \"f16667d6-d957-4b26-9b3e-7f9ef72defa2\",                        [{\"marker\":{\"color\":\"#B24E8F\"},\"name\":\"Works on CV\",\"orientation\":\"h\",\"text\":[0.29,0.62,0.75,0.8,1.3,2.32,3.23,3.43,4.97,5.17,9.49,14.08,16.4,17.94,19.2],\"textposition\":\"inside\",\"x\":[0.29,0.62,0.75,0.8,1.3,2.32,3.23,3.43,4.97,5.17,9.49,14.08,16.4,17.94,19.2],\"y\":[\"None\",\" JAX \",\"Other\",\" Tidymodels \",\" Caret \",\" Fast.ai \",\" CatBoost \",\" PyTorch Lightning \",\" Huggingface \",\" LightGBM \",\" Xgboost \",\" PyTorch \",\" Keras \",\"  TensorFlow \",\"  Scikit-learn \"],\"type\":\"bar\",\"xaxis\":\"x\",\"yaxis\":\"y\"},{\"marker\":{\"color\":\"#EBACBF\"},\"name\":\"Does not work on CV\",\"orientation\":\"h\",\"text\":[0.33,0.84,1.29,1.86,1.95,2.71,2.88,2.94,4.58,5.95,8.42,10.81,12.97,14.01,28.44],\"textposition\":\"inside\",\"x\":[0.33,0.84,1.29,1.86,1.95,2.71,2.88,2.94,4.58,5.95,8.42,10.81,12.97,14.01,28.44],\"y\":[\" JAX \",\" Fast.ai \",\" PyTorch Lightning \",\" Tidymodels \",\"Other\",\" Huggingface \",\" CatBoost \",\" Caret \",\"None\",\" LightGBM \",\" PyTorch \",\" Keras \",\" Xgboost \",\"  TensorFlow \",\"  Scikit-learn \"],\"type\":\"bar\",\"xaxis\":\"x2\",\"yaxis\":\"y2\"}],                        {\"template\":{\"data\":{\"histogram2dcontour\":[{\"type\":\"histogram2dcontour\",\"colorbar\":{\"outlinewidth\":0,\"ticks\":\"\"},\"colorscale\":[[0.0,\"#0d0887\"],[0.1111111111111111,\"#46039f\"],[0.2222222222222222,\"#7201a8\"],[0.3333333333333333,\"#9c179e\"],[0.4444444444444444,\"#bd3786\"],[0.5555555555555556,\"#d8576b\"],[0.6666666666666666,\"#ed7953\"],[0.7777777777777778,\"#fb9f3a\"],[0.8888888888888888,\"#fdca26\"],[1.0,\"#f0f921\"]]}],\"choropleth\":[{\"type\":\"choropleth\",\"colorbar\":{\"outlinewidth\":0,\"ticks\":\"\"}}],\"histogram2d\":[{\"type\":\"histogram2d\",\"colorbar\":{\"outlinewidth\":0,\"ticks\":\"\"},\"colorscale\":[[0.0,\"#0d0887\"],[0.1111111111111111,\"#46039f\"],[0.2222222222222222,\"#7201a8\"],[0.3333333333333333,\"#9c179e\"],[0.4444444444444444,\"#bd3786\"],[0.5555555555555556,\"#d8576b\"],[0.6666666666666666,\"#ed7953\"],[0.7777777777777778,\"#fb9f3a\"],[0.8888888888888888,\"#fdca26\"],[1.0,\"#f0f921\"]]}],\"heatmap\":[{\"type\":\"heatmap\",\"colorbar\":{\"outlinewidth\":0,\"ticks\":\"\"},\"colorscale\":[[0.0,\"#0d0887\"],[0.1111111111111111,\"#46039f\"],[0.2222222222222222,\"#7201a8\"],[0.3333333333333333,\"#9c179e\"],[0.4444444444444444,\"#bd3786\"],[0.5555555555555556,\"#d8576b\"],[0.6666666666666666,\"#ed7953\"],[0.7777777777777778,\"#fb9f3a\"],[0.8888888888888888,\"#fdca26\"],[1.0,\"#f0f921\"]]}],\"heatmapgl\":[{\"type\":\"heatmapgl\",\"colorbar\":{\"outlinewidth\":0,\"ticks\":\"\"},\"colorscale\":[[0.0,\"#0d0887\"],[0.1111111111111111,\"#46039f\"],[0.2222222222222222,\"#7201a8\"],[0.3333333333333333,\"#9c179e\"],[0.4444444444444444,\"#bd3786\"],[0.5555555555555556,\"#d8576b\"],[0.6666666666666666,\"#ed7953\"],[0.7777777777777778,\"#fb9f3a\"],[0.8888888888888888,\"#fdca26\"],[1.0,\"#f0f921\"]]}],\"contourcarpet\":[{\"type\":\"contourcarpet\",\"colorbar\":{\"outlinewidth\":0,\"ticks\":\"\"}}],\"contour\":[{\"type\":\"contour\",\"colorbar\":{\"outlinewidth\":0,\"ticks\":\"\"},\"colorscale\":[[0.0,\"#0d0887\"],[0.1111111111111111,\"#46039f\"],[0.2222222222222222,\"#7201a8\"],[0.3333333333333333,\"#9c179e\"],[0.4444444444444444,\"#bd3786\"],[0.5555555555555556,\"#d8576b\"],[0.6666666666666666,\"#ed7953\"],[0.7777777777777778,\"#fb9f3a\"],[0.8888888888888888,\"#fdca26\"],[1.0,\"#f0f921\"]]}],\"surface\":[{\"type\":\"surface\",\"colorbar\":{\"outlinewidth\":0,\"ticks\":\"\"},\"colorscale\":[[0.0,\"#0d0887\"],[0.1111111111111111,\"#46039f\"],[0.2222222222222222,\"#7201a8\"],[0.3333333333333333,\"#9c179e\"],[0.4444444444444444,\"#bd3786\"],[0.5555555555555556,\"#d8576b\"],[0.6666666666666666,\"#ed7953\"],[0.7777777777777778,\"#fb9f3a\"],[0.8888888888888888,\"#fdca26\"],[1.0,\"#f0f921\"]]}],\"mesh3d\":[{\"type\":\"mesh3d\",\"colorbar\":{\"outlinewidth\":0,\"ticks\":\"\"}}],\"scatter\":[{\"fillpattern\":{\"fillmode\":\"overlay\",\"size\":10,\"solidity\":0.2},\"type\":\"scatter\"}],\"parcoords\":[{\"type\":\"parcoords\",\"line\":{\"colorbar\":{\"outlinewidth\":0,\"ticks\":\"\"}}}],\"scatterpolargl\":[{\"type\":\"scatterpolargl\",\"marker\":{\"colorbar\":{\"outlinewidth\":0,\"ticks\":\"\"}}}],\"bar\":[{\"error_x\":{\"color\":\"#2a3f5f\"},\"error_y\":{\"color\":\"#2a3f5f\"},\"marker\":{\"line\":{\"color\":\"#E5ECF6\",\"width\":0.5},\"pattern\":{\"fillmode\":\"overlay\",\"size\":10,\"solidity\":0.2}},\"type\":\"bar\"}],\"scattergeo\":[{\"type\":\"scattergeo\",\"marker\":{\"colorbar\":{\"outlinewidth\":0,\"ticks\":\"\"}}}],\"scatterpolar\":[{\"type\":\"scatterpolar\",\"marker\":{\"colorbar\":{\"outlinewidth\":0,\"ticks\":\"\"}}}],\"histogram\":[{\"marker\":{\"pattern\":{\"fillmode\":\"overlay\",\"size\":10,\"solidity\":0.2}},\"type\":\"histogram\"}],\"scattergl\":[{\"type\":\"scattergl\",\"marker\":{\"colorbar\":{\"outlinewidth\":0,\"ticks\":\"\"}}}],\"scatter3d\":[{\"type\":\"scatter3d\",\"line\":{\"colorbar\":{\"outlinewidth\":0,\"ticks\":\"\"}},\"marker\":{\"colorbar\":{\"outlinewidth\":0,\"ticks\":\"\"}}}],\"scattermapbox\":[{\"type\":\"scattermapbox\",\"marker\":{\"colorbar\":{\"outlinewidth\":0,\"ticks\":\"\"}}}],\"scatterternary\":[{\"type\":\"scatterternary\",\"marker\":{\"colorbar\":{\"outlinewidth\":0,\"ticks\":\"\"}}}],\"scattercarpet\":[{\"type\":\"scattercarpet\",\"marker\":{\"colorbar\":{\"outlinewidth\":0,\"ticks\":\"\"}}}],\"carpet\":[{\"aaxis\":{\"endlinecolor\":\"#2a3f5f\",\"gridcolor\":\"white\",\"linecolor\":\"white\",\"minorgridcolor\":\"white\",\"startlinecolor\":\"#2a3f5f\"},\"baxis\":{\"endlinecolor\":\"#2a3f5f\",\"gridcolor\":\"white\",\"linecolor\":\"white\",\"minorgridcolor\":\"white\",\"startlinecolor\":\"#2a3f5f\"},\"type\":\"carpet\"}],\"table\":[{\"cells\":{\"fill\":{\"color\":\"#EBF0F8\"},\"line\":{\"color\":\"white\"}},\"header\":{\"fill\":{\"color\":\"#C8D4E3\"},\"line\":{\"color\":\"white\"}},\"type\":\"table\"}],\"barpolar\":[{\"marker\":{\"line\":{\"color\":\"#E5ECF6\",\"width\":0.5},\"pattern\":{\"fillmode\":\"overlay\",\"size\":10,\"solidity\":0.2}},\"type\":\"barpolar\"}],\"pie\":[{\"automargin\":true,\"type\":\"pie\"}]},\"layout\":{\"autotypenumbers\":\"strict\",\"colorway\":[\"#636efa\",\"#EF553B\",\"#00cc96\",\"#ab63fa\",\"#FFA15A\",\"#19d3f3\",\"#FF6692\",\"#B6E880\",\"#FF97FF\",\"#FECB52\"],\"font\":{\"color\":\"#2a3f5f\"},\"hovermode\":\"closest\",\"hoverlabel\":{\"align\":\"left\"},\"paper_bgcolor\":\"white\",\"plot_bgcolor\":\"#E5ECF6\",\"polar\":{\"bgcolor\":\"#E5ECF6\",\"angularaxis\":{\"gridcolor\":\"white\",\"linecolor\":\"white\",\"ticks\":\"\"},\"radialaxis\":{\"gridcolor\":\"white\",\"linecolor\":\"white\",\"ticks\":\"\"}},\"ternary\":{\"bgcolor\":\"#E5ECF6\",\"aaxis\":{\"gridcolor\":\"white\",\"linecolor\":\"white\",\"ticks\":\"\"},\"baxis\":{\"gridcolor\":\"white\",\"linecolor\":\"white\",\"ticks\":\"\"},\"caxis\":{\"gridcolor\":\"white\",\"linecolor\":\"white\",\"ticks\":\"\"}},\"coloraxis\":{\"colorbar\":{\"outlinewidth\":0,\"ticks\":\"\"}},\"colorscale\":{\"sequential\":[[0.0,\"#0d0887\"],[0.1111111111111111,\"#46039f\"],[0.2222222222222222,\"#7201a8\"],[0.3333333333333333,\"#9c179e\"],[0.4444444444444444,\"#bd3786\"],[0.5555555555555556,\"#d8576b\"],[0.6666666666666666,\"#ed7953\"],[0.7777777777777778,\"#fb9f3a\"],[0.8888888888888888,\"#fdca26\"],[1.0,\"#f0f921\"]],\"sequentialminus\":[[0.0,\"#0d0887\"],[0.1111111111111111,\"#46039f\"],[0.2222222222222222,\"#7201a8\"],[0.3333333333333333,\"#9c179e\"],[0.4444444444444444,\"#bd3786\"],[0.5555555555555556,\"#d8576b\"],[0.6666666666666666,\"#ed7953\"],[0.7777777777777778,\"#fb9f3a\"],[0.8888888888888888,\"#fdca26\"],[1.0,\"#f0f921\"]],\"diverging\":[[0,\"#8e0152\"],[0.1,\"#c51b7d\"],[0.2,\"#de77ae\"],[0.3,\"#f1b6da\"],[0.4,\"#fde0ef\"],[0.5,\"#f7f7f7\"],[0.6,\"#e6f5d0\"],[0.7,\"#b8e186\"],[0.8,\"#7fbc41\"],[0.9,\"#4d9221\"],[1,\"#276419\"]]},\"xaxis\":{\"gridcolor\":\"white\",\"linecolor\":\"white\",\"ticks\":\"\",\"title\":{\"standoff\":15},\"zerolinecolor\":\"white\",\"automargin\":true,\"zerolinewidth\":2},\"yaxis\":{\"gridcolor\":\"white\",\"linecolor\":\"white\",\"ticks\":\"\",\"title\":{\"standoff\":15},\"zerolinecolor\":\"white\",\"automargin\":true,\"zerolinewidth\":2},\"scene\":{\"xaxis\":{\"backgroundcolor\":\"#E5ECF6\",\"gridcolor\":\"white\",\"linecolor\":\"white\",\"showbackground\":true,\"ticks\":\"\",\"zerolinecolor\":\"white\",\"gridwidth\":2},\"yaxis\":{\"backgroundcolor\":\"#E5ECF6\",\"gridcolor\":\"white\",\"linecolor\":\"white\",\"showbackground\":true,\"ticks\":\"\",\"zerolinecolor\":\"white\",\"gridwidth\":2},\"zaxis\":{\"backgroundcolor\":\"#E5ECF6\",\"gridcolor\":\"white\",\"linecolor\":\"white\",\"showbackground\":true,\"ticks\":\"\",\"zerolinecolor\":\"white\",\"gridwidth\":2}},\"shapedefaults\":{\"line\":{\"color\":\"#2a3f5f\"}},\"annotationdefaults\":{\"arrowcolor\":\"#2a3f5f\",\"arrowhead\":0,\"arrowwidth\":1},\"geo\":{\"bgcolor\":\"white\",\"landcolor\":\"#E5ECF6\",\"subunitcolor\":\"white\",\"showland\":true,\"showlakes\":true,\"lakecolor\":\"white\"},\"title\":{\"x\":0.05},\"mapbox\":{\"style\":\"light\"}}},\"xaxis\":{\"anchor\":\"y\",\"domain\":[0.0,0.45]},\"yaxis\":{\"anchor\":\"x\",\"domain\":[0.0,1.0]},\"xaxis2\":{\"anchor\":\"y2\",\"domain\":[0.55,1.0]},\"yaxis2\":{\"anchor\":\"x2\",\"domain\":[0.0,1.0]},\"title\":{\"font\":{\"size\":18,\"color\":\"#7aa64d\"},\"text\":\"Machine Learning Frameworks<br><i><sup>Q17Which of the following machine learning frameworks do you use on a regular basis?</sup></i>\",\"x\":0.5},\"height\":600,\"width\":1300},                        {\"responsive\": true}                    ).then(function(){\n",
       "                            \n",
       "var gd = document.getElementById('f16667d6-d957-4b26-9b3e-7f9ef72defa2');\n",
       "var x = new MutationObserver(function (mutations, observer) {{\n",
       "        var display = window.getComputedStyle(gd).display;\n",
       "        if (!display || display === 'none') {{\n",
       "            console.log([gd, 'removed!']);\n",
       "            Plotly.purge(gd);\n",
       "            observer.disconnect();\n",
       "        }}\n",
       "}});\n",
       "\n",
       "// Listen for the removal of the full notebook cells\n",
       "var notebookContainer = gd.closest('#notebook-container');\n",
       "if (notebookContainer) {{\n",
       "    x.observe(notebookContainer, {childList: true});\n",
       "}}\n",
       "\n",
       "// Listen for the clearing of the current output cell\n",
       "var outputEl = gd.closest('.output');\n",
       "if (outputEl) {{\n",
       "    x.observe(outputEl, {childList: true});\n",
       "}}\n",
       "\n",
       "                        })                };                });            </script>        </div>"
      ]
     },
     "metadata": {},
     "output_type": "display_data"
    }
   ],
   "source": [
    "drawSubplotBar(df_2022,'CV_None','MLFW','ML Framework','Machine Learning Frameworks'+'<br><i><sup>Q17Which of the following machine learning frameworks do you use on a regular basis?</sup></i>')"
   ]
  },
  {
   "cell_type": "markdown",
   "id": "19e05ef4",
   "metadata": {
    "papermill": {
     "duration": 0.016865,
     "end_time": "2022-11-27T02:56:07.160177",
     "exception": false,
     "start_time": "2022-11-27T02:56:07.143312",
     "status": "completed"
    },
    "tags": []
   },
   "source": [
    "<p class='default-font'>Scikit-learn and tensorflow remains top two most widely used ML framework for both groups. CV users use <b>keras</b> most often than Non-CV users. <b>PyTorch</b> is also more popular among CV users.</p>"
   ]
  },
  {
   "cell_type": "code",
   "execution_count": 20,
   "id": "fbb65848",
   "metadata": {
    "_kg_hide-input": true,
    "execution": {
     "iopub.execute_input": "2022-11-27T02:56:07.195315Z",
     "iopub.status.busy": "2022-11-27T02:56:07.194892Z",
     "iopub.status.idle": "2022-11-27T02:56:07.400782Z",
     "shell.execute_reply": "2022-11-27T02:56:07.399572Z"
    },
    "papermill": {
     "duration": 0.226302,
     "end_time": "2022-11-27T02:56:07.403194",
     "exception": false,
     "start_time": "2022-11-27T02:56:07.176892",
     "status": "completed"
    },
    "tags": []
   },
   "outputs": [
    {
     "data": {
      "text/html": [
       "<div>                            <div id=\"d6a08ebd-e8ba-4c97-8f30-5ef161113192\" class=\"plotly-graph-div\" style=\"height:525px; width:1200px;\"></div>            <script type=\"text/javascript\">                require([\"plotly\"], function(Plotly) {                    window.PLOTLYENV=window.PLOTLYENV || {};                                    if (document.getElementById(\"d6a08ebd-e8ba-4c97-8f30-5ef161113192\")) {                    Plotly.newPlot(                        \"d6a08ebd-e8ba-4c97-8f30-5ef161113192\",                        [{\"alignmentgroup\":\"True\",\"hovertemplate\":\"Use of Computer Vision=Does not work on CV<br>Percentage=%{x}<br>Hosted Notebooks=%{y}<extra></extra>\",\"legendgroup\":\"Does not work on CV\",\"marker\":{\"color\":\"#EBACBF\",\"pattern\":{\"shape\":\"\"}},\"name\":\"Does not work on CV\",\"offsetgroup\":\"Does not work on CV\",\"orientation\":\"h\",\"showlegend\":true,\"textposition\":\"auto\",\"texttemplate\":\"%{x}\",\"x\":[0.12,0.28,0.46,0.59,0.7,0.76,1.87,2.31,2.64,2.71,3.01,3.09,3.29,23.36,26.3,28.51],\"xaxis\":\"x\",\"y\":[\"Hex Workspaces\",\" Code Ocean \",\" Gradient Notebooks \",\" Noteable Notebooks \",\" Deepnote Notebooks \",\" Amazon EMR Notebooks \",\" Amazon Sagemaker Studio Lab \",\"Other\",\"Google Cloud Vertex AI Workbench \",\" IBM Watson Studio \",\"Azure Notebooks\",\" Amazon Sagemaker Studio \",\" Databricks Collaborative Notebooks \",\" Kaggle Notebooks\",\"Colab Notebooks\",\"None\"],\"yaxis\":\"y\",\"type\":\"bar\"},{\"alignmentgroup\":\"True\",\"hovertemplate\":\"Use of Computer Vision=Works on CV<br>Percentage=%{x}<br>Hosted Notebooks=%{y}<extra></extra>\",\"legendgroup\":\"Works on CV\",\"marker\":{\"color\":\"#B24E8F\",\"pattern\":{\"shape\":\"\"}},\"name\":\"Works on CV\",\"offsetgroup\":\"Works on CV\",\"orientation\":\"h\",\"showlegend\":true,\"textposition\":\"auto\",\"texttemplate\":\"%{x}\",\"x\":[0.27,0.64,0.91,1.05,1.44,1.51,1.51,2.74,2.95,3.59,4.23,4.27,4.82,8.55,26.74,34.78],\"xaxis\":\"x\",\"y\":[\"Hex Workspaces\",\" Code Ocean \",\" Noteable Notebooks \",\" Deepnote Notebooks \",\" Gradient Notebooks \",\" Amazon EMR Notebooks \",\"Other\",\" IBM Watson Studio \",\" Databricks Collaborative Notebooks \",\" Amazon Sagemaker Studio Lab \",\"Azure Notebooks\",\"Google Cloud Vertex AI Workbench \",\" Amazon Sagemaker Studio \",\"None\",\" Kaggle Notebooks\",\"Colab Notebooks\"],\"yaxis\":\"y\",\"type\":\"bar\"}],                        {\"template\":{\"data\":{\"histogram2dcontour\":[{\"type\":\"histogram2dcontour\",\"colorbar\":{\"outlinewidth\":0,\"ticks\":\"\"},\"colorscale\":[[0.0,\"#0d0887\"],[0.1111111111111111,\"#46039f\"],[0.2222222222222222,\"#7201a8\"],[0.3333333333333333,\"#9c179e\"],[0.4444444444444444,\"#bd3786\"],[0.5555555555555556,\"#d8576b\"],[0.6666666666666666,\"#ed7953\"],[0.7777777777777778,\"#fb9f3a\"],[0.8888888888888888,\"#fdca26\"],[1.0,\"#f0f921\"]]}],\"choropleth\":[{\"type\":\"choropleth\",\"colorbar\":{\"outlinewidth\":0,\"ticks\":\"\"}}],\"histogram2d\":[{\"type\":\"histogram2d\",\"colorbar\":{\"outlinewidth\":0,\"ticks\":\"\"},\"colorscale\":[[0.0,\"#0d0887\"],[0.1111111111111111,\"#46039f\"],[0.2222222222222222,\"#7201a8\"],[0.3333333333333333,\"#9c179e\"],[0.4444444444444444,\"#bd3786\"],[0.5555555555555556,\"#d8576b\"],[0.6666666666666666,\"#ed7953\"],[0.7777777777777778,\"#fb9f3a\"],[0.8888888888888888,\"#fdca26\"],[1.0,\"#f0f921\"]]}],\"heatmap\":[{\"type\":\"heatmap\",\"colorbar\":{\"outlinewidth\":0,\"ticks\":\"\"},\"colorscale\":[[0.0,\"#0d0887\"],[0.1111111111111111,\"#46039f\"],[0.2222222222222222,\"#7201a8\"],[0.3333333333333333,\"#9c179e\"],[0.4444444444444444,\"#bd3786\"],[0.5555555555555556,\"#d8576b\"],[0.6666666666666666,\"#ed7953\"],[0.7777777777777778,\"#fb9f3a\"],[0.8888888888888888,\"#fdca26\"],[1.0,\"#f0f921\"]]}],\"heatmapgl\":[{\"type\":\"heatmapgl\",\"colorbar\":{\"outlinewidth\":0,\"ticks\":\"\"},\"colorscale\":[[0.0,\"#0d0887\"],[0.1111111111111111,\"#46039f\"],[0.2222222222222222,\"#7201a8\"],[0.3333333333333333,\"#9c179e\"],[0.4444444444444444,\"#bd3786\"],[0.5555555555555556,\"#d8576b\"],[0.6666666666666666,\"#ed7953\"],[0.7777777777777778,\"#fb9f3a\"],[0.8888888888888888,\"#fdca26\"],[1.0,\"#f0f921\"]]}],\"contourcarpet\":[{\"type\":\"contourcarpet\",\"colorbar\":{\"outlinewidth\":0,\"ticks\":\"\"}}],\"contour\":[{\"type\":\"contour\",\"colorbar\":{\"outlinewidth\":0,\"ticks\":\"\"},\"colorscale\":[[0.0,\"#0d0887\"],[0.1111111111111111,\"#46039f\"],[0.2222222222222222,\"#7201a8\"],[0.3333333333333333,\"#9c179e\"],[0.4444444444444444,\"#bd3786\"],[0.5555555555555556,\"#d8576b\"],[0.6666666666666666,\"#ed7953\"],[0.7777777777777778,\"#fb9f3a\"],[0.8888888888888888,\"#fdca26\"],[1.0,\"#f0f921\"]]}],\"surface\":[{\"type\":\"surface\",\"colorbar\":{\"outlinewidth\":0,\"ticks\":\"\"},\"colorscale\":[[0.0,\"#0d0887\"],[0.1111111111111111,\"#46039f\"],[0.2222222222222222,\"#7201a8\"],[0.3333333333333333,\"#9c179e\"],[0.4444444444444444,\"#bd3786\"],[0.5555555555555556,\"#d8576b\"],[0.6666666666666666,\"#ed7953\"],[0.7777777777777778,\"#fb9f3a\"],[0.8888888888888888,\"#fdca26\"],[1.0,\"#f0f921\"]]}],\"mesh3d\":[{\"type\":\"mesh3d\",\"colorbar\":{\"outlinewidth\":0,\"ticks\":\"\"}}],\"scatter\":[{\"fillpattern\":{\"fillmode\":\"overlay\",\"size\":10,\"solidity\":0.2},\"type\":\"scatter\"}],\"parcoords\":[{\"type\":\"parcoords\",\"line\":{\"colorbar\":{\"outlinewidth\":0,\"ticks\":\"\"}}}],\"scatterpolargl\":[{\"type\":\"scatterpolargl\",\"marker\":{\"colorbar\":{\"outlinewidth\":0,\"ticks\":\"\"}}}],\"bar\":[{\"error_x\":{\"color\":\"#2a3f5f\"},\"error_y\":{\"color\":\"#2a3f5f\"},\"marker\":{\"line\":{\"color\":\"#E5ECF6\",\"width\":0.5},\"pattern\":{\"fillmode\":\"overlay\",\"size\":10,\"solidity\":0.2}},\"type\":\"bar\"}],\"scattergeo\":[{\"type\":\"scattergeo\",\"marker\":{\"colorbar\":{\"outlinewidth\":0,\"ticks\":\"\"}}}],\"scatterpolar\":[{\"type\":\"scatterpolar\",\"marker\":{\"colorbar\":{\"outlinewidth\":0,\"ticks\":\"\"}}}],\"histogram\":[{\"marker\":{\"pattern\":{\"fillmode\":\"overlay\",\"size\":10,\"solidity\":0.2}},\"type\":\"histogram\"}],\"scattergl\":[{\"type\":\"scattergl\",\"marker\":{\"colorbar\":{\"outlinewidth\":0,\"ticks\":\"\"}}}],\"scatter3d\":[{\"type\":\"scatter3d\",\"line\":{\"colorbar\":{\"outlinewidth\":0,\"ticks\":\"\"}},\"marker\":{\"colorbar\":{\"outlinewidth\":0,\"ticks\":\"\"}}}],\"scattermapbox\":[{\"type\":\"scattermapbox\",\"marker\":{\"colorbar\":{\"outlinewidth\":0,\"ticks\":\"\"}}}],\"scatterternary\":[{\"type\":\"scatterternary\",\"marker\":{\"colorbar\":{\"outlinewidth\":0,\"ticks\":\"\"}}}],\"scattercarpet\":[{\"type\":\"scattercarpet\",\"marker\":{\"colorbar\":{\"outlinewidth\":0,\"ticks\":\"\"}}}],\"carpet\":[{\"aaxis\":{\"endlinecolor\":\"#2a3f5f\",\"gridcolor\":\"white\",\"linecolor\":\"white\",\"minorgridcolor\":\"white\",\"startlinecolor\":\"#2a3f5f\"},\"baxis\":{\"endlinecolor\":\"#2a3f5f\",\"gridcolor\":\"white\",\"linecolor\":\"white\",\"minorgridcolor\":\"white\",\"startlinecolor\":\"#2a3f5f\"},\"type\":\"carpet\"}],\"table\":[{\"cells\":{\"fill\":{\"color\":\"#EBF0F8\"},\"line\":{\"color\":\"white\"}},\"header\":{\"fill\":{\"color\":\"#C8D4E3\"},\"line\":{\"color\":\"white\"}},\"type\":\"table\"}],\"barpolar\":[{\"marker\":{\"line\":{\"color\":\"#E5ECF6\",\"width\":0.5},\"pattern\":{\"fillmode\":\"overlay\",\"size\":10,\"solidity\":0.2}},\"type\":\"barpolar\"}],\"pie\":[{\"automargin\":true,\"type\":\"pie\"}]},\"layout\":{\"autotypenumbers\":\"strict\",\"colorway\":[\"#636efa\",\"#EF553B\",\"#00cc96\",\"#ab63fa\",\"#FFA15A\",\"#19d3f3\",\"#FF6692\",\"#B6E880\",\"#FF97FF\",\"#FECB52\"],\"font\":{\"color\":\"#2a3f5f\"},\"hovermode\":\"closest\",\"hoverlabel\":{\"align\":\"left\"},\"paper_bgcolor\":\"white\",\"plot_bgcolor\":\"#E5ECF6\",\"polar\":{\"bgcolor\":\"#E5ECF6\",\"angularaxis\":{\"gridcolor\":\"white\",\"linecolor\":\"white\",\"ticks\":\"\"},\"radialaxis\":{\"gridcolor\":\"white\",\"linecolor\":\"white\",\"ticks\":\"\"}},\"ternary\":{\"bgcolor\":\"#E5ECF6\",\"aaxis\":{\"gridcolor\":\"white\",\"linecolor\":\"white\",\"ticks\":\"\"},\"baxis\":{\"gridcolor\":\"white\",\"linecolor\":\"white\",\"ticks\":\"\"},\"caxis\":{\"gridcolor\":\"white\",\"linecolor\":\"white\",\"ticks\":\"\"}},\"coloraxis\":{\"colorbar\":{\"outlinewidth\":0,\"ticks\":\"\"}},\"colorscale\":{\"sequential\":[[0.0,\"#0d0887\"],[0.1111111111111111,\"#46039f\"],[0.2222222222222222,\"#7201a8\"],[0.3333333333333333,\"#9c179e\"],[0.4444444444444444,\"#bd3786\"],[0.5555555555555556,\"#d8576b\"],[0.6666666666666666,\"#ed7953\"],[0.7777777777777778,\"#fb9f3a\"],[0.8888888888888888,\"#fdca26\"],[1.0,\"#f0f921\"]],\"sequentialminus\":[[0.0,\"#0d0887\"],[0.1111111111111111,\"#46039f\"],[0.2222222222222222,\"#7201a8\"],[0.3333333333333333,\"#9c179e\"],[0.4444444444444444,\"#bd3786\"],[0.5555555555555556,\"#d8576b\"],[0.6666666666666666,\"#ed7953\"],[0.7777777777777778,\"#fb9f3a\"],[0.8888888888888888,\"#fdca26\"],[1.0,\"#f0f921\"]],\"diverging\":[[0,\"#8e0152\"],[0.1,\"#c51b7d\"],[0.2,\"#de77ae\"],[0.3,\"#f1b6da\"],[0.4,\"#fde0ef\"],[0.5,\"#f7f7f7\"],[0.6,\"#e6f5d0\"],[0.7,\"#b8e186\"],[0.8,\"#7fbc41\"],[0.9,\"#4d9221\"],[1,\"#276419\"]]},\"xaxis\":{\"gridcolor\":\"white\",\"linecolor\":\"white\",\"ticks\":\"\",\"title\":{\"standoff\":15},\"zerolinecolor\":\"white\",\"automargin\":true,\"zerolinewidth\":2},\"yaxis\":{\"gridcolor\":\"white\",\"linecolor\":\"white\",\"ticks\":\"\",\"title\":{\"standoff\":15},\"zerolinecolor\":\"white\",\"automargin\":true,\"zerolinewidth\":2},\"scene\":{\"xaxis\":{\"backgroundcolor\":\"#E5ECF6\",\"gridcolor\":\"white\",\"linecolor\":\"white\",\"showbackground\":true,\"ticks\":\"\",\"zerolinecolor\":\"white\",\"gridwidth\":2},\"yaxis\":{\"backgroundcolor\":\"#E5ECF6\",\"gridcolor\":\"white\",\"linecolor\":\"white\",\"showbackground\":true,\"ticks\":\"\",\"zerolinecolor\":\"white\",\"gridwidth\":2},\"zaxis\":{\"backgroundcolor\":\"#E5ECF6\",\"gridcolor\":\"white\",\"linecolor\":\"white\",\"showbackground\":true,\"ticks\":\"\",\"zerolinecolor\":\"white\",\"gridwidth\":2}},\"shapedefaults\":{\"line\":{\"color\":\"#2a3f5f\"}},\"annotationdefaults\":{\"arrowcolor\":\"#2a3f5f\",\"arrowhead\":0,\"arrowwidth\":1},\"geo\":{\"bgcolor\":\"white\",\"landcolor\":\"#E5ECF6\",\"subunitcolor\":\"white\",\"showland\":true,\"showlakes\":true,\"lakecolor\":\"white\"},\"title\":{\"x\":0.05},\"mapbox\":{\"style\":\"light\"}}},\"xaxis\":{\"anchor\":\"y\",\"domain\":[0.0,1.0],\"title\":{\"text\":\"Percentage\"}},\"yaxis\":{\"anchor\":\"x\",\"domain\":[0.0,1.0],\"title\":{\"text\":\"Hosted Notebooks\"}},\"legend\":{\"title\":{\"text\":\"Use of Computer Vision\",\"font\":{\"color\":\"#7aa64d\"}},\"tracegroupgap\":0},\"margin\":{\"t\":60},\"barmode\":\"relative\",\"width\":1200,\"title\":{\"font\":{\"color\":\"#7aa64d\"},\"text\":\"Hosted Notebooks<br><i><sup>Q14:Do you use any of the following hosted notebook products?  </sup></i>\",\"y\":0.95,\"x\":0.5},\"autosize\":false},                        {\"responsive\": true}                    ).then(function(){\n",
       "                            \n",
       "var gd = document.getElementById('d6a08ebd-e8ba-4c97-8f30-5ef161113192');\n",
       "var x = new MutationObserver(function (mutations, observer) {{\n",
       "        var display = window.getComputedStyle(gd).display;\n",
       "        if (!display || display === 'none') {{\n",
       "            console.log([gd, 'removed!']);\n",
       "            Plotly.purge(gd);\n",
       "            observer.disconnect();\n",
       "        }}\n",
       "}});\n",
       "\n",
       "// Listen for the removal of the full notebook cells\n",
       "var notebookContainer = gd.closest('#notebook-container');\n",
       "if (notebookContainer) {{\n",
       "    x.observe(notebookContainer, {childList: true});\n",
       "}}\n",
       "\n",
       "// Listen for the clearing of the current output cell\n",
       "var outputEl = gd.closest('.output');\n",
       "if (outputEl) {{\n",
       "    x.observe(outputEl, {childList: true});\n",
       "}}\n",
       "\n",
       "                        })                };                });            </script>        </div>"
      ]
     },
     "metadata": {},
     "output_type": "display_data"
    }
   ],
   "source": [
    "drawStackedBar(df_2022,'CV_None','HNB','Hosted Notebooks','Hosted Notebooks'+'<br><i><sup>Q14:Do you use any of the following hosted notebook products?  </sup></i>')"
   ]
  },
  {
   "cell_type": "markdown",
   "id": "77cd27fb",
   "metadata": {
    "papermill": {
     "duration": 0.016812,
     "end_time": "2022-11-27T02:56:07.437192",
     "exception": false,
     "start_time": "2022-11-27T02:56:07.420380",
     "status": "completed"
    },
    "tags": []
   },
   "source": [
    "<p class='default-font'><b>Hosted Notebook usage is more common among CV users than Non-CV users.</b> Between the two groups, <b>Colab and Kaggle are the two most preferred</b> hosted notebook services. Both Google subsidiaries Kaggle and Colab offer a nearly identical set of capabilities for developing and implementing data analysis or machine learning applications.Others are very far behind from these two. </p>"
   ]
  },
  {
   "cell_type": "code",
   "execution_count": 21,
   "id": "b7aefdfb",
   "metadata": {
    "_kg_hide-input": true,
    "execution": {
     "iopub.execute_input": "2022-11-27T02:56:07.473141Z",
     "iopub.status.busy": "2022-11-27T02:56:07.472709Z",
     "iopub.status.idle": "2022-11-27T02:56:07.690453Z",
     "shell.execute_reply": "2022-11-27T02:56:07.689644Z"
    },
    "papermill": {
     "duration": 0.238474,
     "end_time": "2022-11-27T02:56:07.692784",
     "exception": false,
     "start_time": "2022-11-27T02:56:07.454310",
     "status": "completed"
    },
    "tags": []
   },
   "outputs": [
    {
     "data": {
      "text/html": [
       "<div>                            <div id=\"99fcf318-1e72-416d-812b-848de5ffcd8c\" class=\"plotly-graph-div\" style=\"height:600px; width:1300px;\"></div>            <script type=\"text/javascript\">                require([\"plotly\"], function(Plotly) {                    window.PLOTLYENV=window.PLOTLYENV || {};                                    if (document.getElementById(\"99fcf318-1e72-416d-812b-848de5ffcd8c\")) {                    Plotly.newPlot(                        \"99fcf318-1e72-416d-812b-848de5ffcd8c\",                        [{\"marker\":{\"color\":\"#B24E8F\"},\"name\":\"Works on CV\",\"orientation\":\"h\",\"text\":[0.09,1.96,2.76,3.89,3.95,4.43,4.64,5.39,7.08,7.26,10.05,10.43,16.31,21.76],\"textposition\":\"inside\",\"x\":[0.09,1.96,2.76,3.89,3.95,4.43,4.64,5.39,7.08,7.26,10.05,10.43,16.31,21.76],\"y\":[\"None\",\"Other\",\"IntelliJ\",\"  Sublime Text  \",\" MATLAB \",\"  Vim / Emacs  \",\" RStudio \",\"  Spyder  \",\" Visual Studio \",\"  Notepad++  \",\"JupyterLab \",\" PyCharm \",\"VSCode \",\" Jupyter NB\"],\"type\":\"bar\",\"xaxis\":\"x\",\"yaxis\":\"y\"},{\"marker\":{\"color\":\"#EBACBF\"},\"name\":\"Does not work on CV\",\"orientation\":\"h\",\"text\":[1.0,2.41,2.55,2.64,3.07,3.68,4.79,6.72,7.85,7.87,8.89,8.91,15.37,24.23],\"textposition\":\"inside\",\"x\":[1.0,2.41,2.55,2.64,3.07,3.68,4.79,6.72,7.85,7.87,8.89,8.91,15.37,24.23],\"y\":[\"None\",\" MATLAB \",\"IntelliJ\",\"Other\",\"  Vim / Emacs  \",\"  Sublime Text  \",\"  Spyder  \",\" Visual Studio \",\"  Notepad++  \",\" RStudio \",\"JupyterLab \",\" PyCharm \",\"VSCode \",\" Jupyter NB\"],\"type\":\"bar\",\"xaxis\":\"x2\",\"yaxis\":\"y2\"}],                        {\"template\":{\"data\":{\"histogram2dcontour\":[{\"type\":\"histogram2dcontour\",\"colorbar\":{\"outlinewidth\":0,\"ticks\":\"\"},\"colorscale\":[[0.0,\"#0d0887\"],[0.1111111111111111,\"#46039f\"],[0.2222222222222222,\"#7201a8\"],[0.3333333333333333,\"#9c179e\"],[0.4444444444444444,\"#bd3786\"],[0.5555555555555556,\"#d8576b\"],[0.6666666666666666,\"#ed7953\"],[0.7777777777777778,\"#fb9f3a\"],[0.8888888888888888,\"#fdca26\"],[1.0,\"#f0f921\"]]}],\"choropleth\":[{\"type\":\"choropleth\",\"colorbar\":{\"outlinewidth\":0,\"ticks\":\"\"}}],\"histogram2d\":[{\"type\":\"histogram2d\",\"colorbar\":{\"outlinewidth\":0,\"ticks\":\"\"},\"colorscale\":[[0.0,\"#0d0887\"],[0.1111111111111111,\"#46039f\"],[0.2222222222222222,\"#7201a8\"],[0.3333333333333333,\"#9c179e\"],[0.4444444444444444,\"#bd3786\"],[0.5555555555555556,\"#d8576b\"],[0.6666666666666666,\"#ed7953\"],[0.7777777777777778,\"#fb9f3a\"],[0.8888888888888888,\"#fdca26\"],[1.0,\"#f0f921\"]]}],\"heatmap\":[{\"type\":\"heatmap\",\"colorbar\":{\"outlinewidth\":0,\"ticks\":\"\"},\"colorscale\":[[0.0,\"#0d0887\"],[0.1111111111111111,\"#46039f\"],[0.2222222222222222,\"#7201a8\"],[0.3333333333333333,\"#9c179e\"],[0.4444444444444444,\"#bd3786\"],[0.5555555555555556,\"#d8576b\"],[0.6666666666666666,\"#ed7953\"],[0.7777777777777778,\"#fb9f3a\"],[0.8888888888888888,\"#fdca26\"],[1.0,\"#f0f921\"]]}],\"heatmapgl\":[{\"type\":\"heatmapgl\",\"colorbar\":{\"outlinewidth\":0,\"ticks\":\"\"},\"colorscale\":[[0.0,\"#0d0887\"],[0.1111111111111111,\"#46039f\"],[0.2222222222222222,\"#7201a8\"],[0.3333333333333333,\"#9c179e\"],[0.4444444444444444,\"#bd3786\"],[0.5555555555555556,\"#d8576b\"],[0.6666666666666666,\"#ed7953\"],[0.7777777777777778,\"#fb9f3a\"],[0.8888888888888888,\"#fdca26\"],[1.0,\"#f0f921\"]]}],\"contourcarpet\":[{\"type\":\"contourcarpet\",\"colorbar\":{\"outlinewidth\":0,\"ticks\":\"\"}}],\"contour\":[{\"type\":\"contour\",\"colorbar\":{\"outlinewidth\":0,\"ticks\":\"\"},\"colorscale\":[[0.0,\"#0d0887\"],[0.1111111111111111,\"#46039f\"],[0.2222222222222222,\"#7201a8\"],[0.3333333333333333,\"#9c179e\"],[0.4444444444444444,\"#bd3786\"],[0.5555555555555556,\"#d8576b\"],[0.6666666666666666,\"#ed7953\"],[0.7777777777777778,\"#fb9f3a\"],[0.8888888888888888,\"#fdca26\"],[1.0,\"#f0f921\"]]}],\"surface\":[{\"type\":\"surface\",\"colorbar\":{\"outlinewidth\":0,\"ticks\":\"\"},\"colorscale\":[[0.0,\"#0d0887\"],[0.1111111111111111,\"#46039f\"],[0.2222222222222222,\"#7201a8\"],[0.3333333333333333,\"#9c179e\"],[0.4444444444444444,\"#bd3786\"],[0.5555555555555556,\"#d8576b\"],[0.6666666666666666,\"#ed7953\"],[0.7777777777777778,\"#fb9f3a\"],[0.8888888888888888,\"#fdca26\"],[1.0,\"#f0f921\"]]}],\"mesh3d\":[{\"type\":\"mesh3d\",\"colorbar\":{\"outlinewidth\":0,\"ticks\":\"\"}}],\"scatter\":[{\"fillpattern\":{\"fillmode\":\"overlay\",\"size\":10,\"solidity\":0.2},\"type\":\"scatter\"}],\"parcoords\":[{\"type\":\"parcoords\",\"line\":{\"colorbar\":{\"outlinewidth\":0,\"ticks\":\"\"}}}],\"scatterpolargl\":[{\"type\":\"scatterpolargl\",\"marker\":{\"colorbar\":{\"outlinewidth\":0,\"ticks\":\"\"}}}],\"bar\":[{\"error_x\":{\"color\":\"#2a3f5f\"},\"error_y\":{\"color\":\"#2a3f5f\"},\"marker\":{\"line\":{\"color\":\"#E5ECF6\",\"width\":0.5},\"pattern\":{\"fillmode\":\"overlay\",\"size\":10,\"solidity\":0.2}},\"type\":\"bar\"}],\"scattergeo\":[{\"type\":\"scattergeo\",\"marker\":{\"colorbar\":{\"outlinewidth\":0,\"ticks\":\"\"}}}],\"scatterpolar\":[{\"type\":\"scatterpolar\",\"marker\":{\"colorbar\":{\"outlinewidth\":0,\"ticks\":\"\"}}}],\"histogram\":[{\"marker\":{\"pattern\":{\"fillmode\":\"overlay\",\"size\":10,\"solidity\":0.2}},\"type\":\"histogram\"}],\"scattergl\":[{\"type\":\"scattergl\",\"marker\":{\"colorbar\":{\"outlinewidth\":0,\"ticks\":\"\"}}}],\"scatter3d\":[{\"type\":\"scatter3d\",\"line\":{\"colorbar\":{\"outlinewidth\":0,\"ticks\":\"\"}},\"marker\":{\"colorbar\":{\"outlinewidth\":0,\"ticks\":\"\"}}}],\"scattermapbox\":[{\"type\":\"scattermapbox\",\"marker\":{\"colorbar\":{\"outlinewidth\":0,\"ticks\":\"\"}}}],\"scatterternary\":[{\"type\":\"scatterternary\",\"marker\":{\"colorbar\":{\"outlinewidth\":0,\"ticks\":\"\"}}}],\"scattercarpet\":[{\"type\":\"scattercarpet\",\"marker\":{\"colorbar\":{\"outlinewidth\":0,\"ticks\":\"\"}}}],\"carpet\":[{\"aaxis\":{\"endlinecolor\":\"#2a3f5f\",\"gridcolor\":\"white\",\"linecolor\":\"white\",\"minorgridcolor\":\"white\",\"startlinecolor\":\"#2a3f5f\"},\"baxis\":{\"endlinecolor\":\"#2a3f5f\",\"gridcolor\":\"white\",\"linecolor\":\"white\",\"minorgridcolor\":\"white\",\"startlinecolor\":\"#2a3f5f\"},\"type\":\"carpet\"}],\"table\":[{\"cells\":{\"fill\":{\"color\":\"#EBF0F8\"},\"line\":{\"color\":\"white\"}},\"header\":{\"fill\":{\"color\":\"#C8D4E3\"},\"line\":{\"color\":\"white\"}},\"type\":\"table\"}],\"barpolar\":[{\"marker\":{\"line\":{\"color\":\"#E5ECF6\",\"width\":0.5},\"pattern\":{\"fillmode\":\"overlay\",\"size\":10,\"solidity\":0.2}},\"type\":\"barpolar\"}],\"pie\":[{\"automargin\":true,\"type\":\"pie\"}]},\"layout\":{\"autotypenumbers\":\"strict\",\"colorway\":[\"#636efa\",\"#EF553B\",\"#00cc96\",\"#ab63fa\",\"#FFA15A\",\"#19d3f3\",\"#FF6692\",\"#B6E880\",\"#FF97FF\",\"#FECB52\"],\"font\":{\"color\":\"#2a3f5f\"},\"hovermode\":\"closest\",\"hoverlabel\":{\"align\":\"left\"},\"paper_bgcolor\":\"white\",\"plot_bgcolor\":\"#E5ECF6\",\"polar\":{\"bgcolor\":\"#E5ECF6\",\"angularaxis\":{\"gridcolor\":\"white\",\"linecolor\":\"white\",\"ticks\":\"\"},\"radialaxis\":{\"gridcolor\":\"white\",\"linecolor\":\"white\",\"ticks\":\"\"}},\"ternary\":{\"bgcolor\":\"#E5ECF6\",\"aaxis\":{\"gridcolor\":\"white\",\"linecolor\":\"white\",\"ticks\":\"\"},\"baxis\":{\"gridcolor\":\"white\",\"linecolor\":\"white\",\"ticks\":\"\"},\"caxis\":{\"gridcolor\":\"white\",\"linecolor\":\"white\",\"ticks\":\"\"}},\"coloraxis\":{\"colorbar\":{\"outlinewidth\":0,\"ticks\":\"\"}},\"colorscale\":{\"sequential\":[[0.0,\"#0d0887\"],[0.1111111111111111,\"#46039f\"],[0.2222222222222222,\"#7201a8\"],[0.3333333333333333,\"#9c179e\"],[0.4444444444444444,\"#bd3786\"],[0.5555555555555556,\"#d8576b\"],[0.6666666666666666,\"#ed7953\"],[0.7777777777777778,\"#fb9f3a\"],[0.8888888888888888,\"#fdca26\"],[1.0,\"#f0f921\"]],\"sequentialminus\":[[0.0,\"#0d0887\"],[0.1111111111111111,\"#46039f\"],[0.2222222222222222,\"#7201a8\"],[0.3333333333333333,\"#9c179e\"],[0.4444444444444444,\"#bd3786\"],[0.5555555555555556,\"#d8576b\"],[0.6666666666666666,\"#ed7953\"],[0.7777777777777778,\"#fb9f3a\"],[0.8888888888888888,\"#fdca26\"],[1.0,\"#f0f921\"]],\"diverging\":[[0,\"#8e0152\"],[0.1,\"#c51b7d\"],[0.2,\"#de77ae\"],[0.3,\"#f1b6da\"],[0.4,\"#fde0ef\"],[0.5,\"#f7f7f7\"],[0.6,\"#e6f5d0\"],[0.7,\"#b8e186\"],[0.8,\"#7fbc41\"],[0.9,\"#4d9221\"],[1,\"#276419\"]]},\"xaxis\":{\"gridcolor\":\"white\",\"linecolor\":\"white\",\"ticks\":\"\",\"title\":{\"standoff\":15},\"zerolinecolor\":\"white\",\"automargin\":true,\"zerolinewidth\":2},\"yaxis\":{\"gridcolor\":\"white\",\"linecolor\":\"white\",\"ticks\":\"\",\"title\":{\"standoff\":15},\"zerolinecolor\":\"white\",\"automargin\":true,\"zerolinewidth\":2},\"scene\":{\"xaxis\":{\"backgroundcolor\":\"#E5ECF6\",\"gridcolor\":\"white\",\"linecolor\":\"white\",\"showbackground\":true,\"ticks\":\"\",\"zerolinecolor\":\"white\",\"gridwidth\":2},\"yaxis\":{\"backgroundcolor\":\"#E5ECF6\",\"gridcolor\":\"white\",\"linecolor\":\"white\",\"showbackground\":true,\"ticks\":\"\",\"zerolinecolor\":\"white\",\"gridwidth\":2},\"zaxis\":{\"backgroundcolor\":\"#E5ECF6\",\"gridcolor\":\"white\",\"linecolor\":\"white\",\"showbackground\":true,\"ticks\":\"\",\"zerolinecolor\":\"white\",\"gridwidth\":2}},\"shapedefaults\":{\"line\":{\"color\":\"#2a3f5f\"}},\"annotationdefaults\":{\"arrowcolor\":\"#2a3f5f\",\"arrowhead\":0,\"arrowwidth\":1},\"geo\":{\"bgcolor\":\"white\",\"landcolor\":\"#E5ECF6\",\"subunitcolor\":\"white\",\"showland\":true,\"showlakes\":true,\"lakecolor\":\"white\"},\"title\":{\"x\":0.05},\"mapbox\":{\"style\":\"light\"}}},\"xaxis\":{\"anchor\":\"y\",\"domain\":[0.0,0.45]},\"yaxis\":{\"anchor\":\"x\",\"domain\":[0.0,1.0]},\"xaxis2\":{\"anchor\":\"y2\",\"domain\":[0.55,1.0]},\"yaxis2\":{\"anchor\":\"x2\",\"domain\":[0.0,1.0]},\"title\":{\"font\":{\"size\":18,\"color\":\"#7aa64d\"},\"text\":\"Integrated Development Environment<br><i><sup>Q13:Which of the following integrated development environments (IDE's) do you use on a regular basis? </sup></i>\",\"x\":0.5},\"height\":600,\"width\":1300},                        {\"responsive\": true}                    ).then(function(){\n",
       "                            \n",
       "var gd = document.getElementById('99fcf318-1e72-416d-812b-848de5ffcd8c');\n",
       "var x = new MutationObserver(function (mutations, observer) {{\n",
       "        var display = window.getComputedStyle(gd).display;\n",
       "        if (!display || display === 'none') {{\n",
       "            console.log([gd, 'removed!']);\n",
       "            Plotly.purge(gd);\n",
       "            observer.disconnect();\n",
       "        }}\n",
       "}});\n",
       "\n",
       "// Listen for the removal of the full notebook cells\n",
       "var notebookContainer = gd.closest('#notebook-container');\n",
       "if (notebookContainer) {{\n",
       "    x.observe(notebookContainer, {childList: true});\n",
       "}}\n",
       "\n",
       "// Listen for the clearing of the current output cell\n",
       "var outputEl = gd.closest('.output');\n",
       "if (outputEl) {{\n",
       "    x.observe(outputEl, {childList: true});\n",
       "}}\n",
       "\n",
       "                        })                };                });            </script>        </div>"
      ]
     },
     "metadata": {},
     "output_type": "display_data"
    }
   ],
   "source": [
    "df=df_2022.copy()\n",
    "df=df.rename(columns={'IDE_ Jupyter Notebook': 'IDE_ Jupyter NB', \n",
    "                      'IDE_ Visual Studio Code (VSCode) ': 'IDE_VSCode ',\n",
    "                      'MSPP_Social media platforms (Reddit, Twitter, etc)':'MSPP_Social Media',\n",
    "                     'MSPP_Video platforms (YouTube, Twitch, etc)':'MSPP_Video PLTF',\n",
    "                     'MSPP_None / I do not study data science':'MSPP_None'})\n",
    "\n",
    "df.filter(regex='^IDE_',axis=1).columns.to_list()\n",
    "drawSubplotBar(df,'CV_None','IDE','IDE','Integrated Development Environment'+'<br><i><sup>Q13:Which of the following integrated development environments (IDE\\'s) do you use on a regular basis? </sup></i>')"
   ]
  },
  {
   "cell_type": "markdown",
   "id": "19cfa2ca",
   "metadata": {
    "papermill": {
     "duration": 0.018069,
     "end_time": "2022-11-27T02:56:07.728936",
     "exception": false,
     "start_time": "2022-11-27T02:56:07.710867",
     "status": "completed"
    },
    "tags": []
   },
   "source": [
    "<p class='default-font'>There is no significant difference between the two groups in terms of IDE use.The order of top four popular IDE for both groups remains same: Jupyter Notebook, Visual Studio Code, Pycharm and JupyterLab. <b>RStudio is  less often use among CV users.</b></p>"
   ]
  },
  {
   "cell_type": "code",
   "execution_count": 22,
   "id": "53dcc744",
   "metadata": {
    "_kg_hide-input": true,
    "execution": {
     "iopub.execute_input": "2022-11-27T02:56:07.765789Z",
     "iopub.status.busy": "2022-11-27T02:56:07.764841Z",
     "iopub.status.idle": "2022-11-27T02:56:07.917879Z",
     "shell.execute_reply": "2022-11-27T02:56:07.916762Z"
    },
    "papermill": {
     "duration": 0.174234,
     "end_time": "2022-11-27T02:56:07.920488",
     "exception": false,
     "start_time": "2022-11-27T02:56:07.746254",
     "status": "completed"
    },
    "tags": []
   },
   "outputs": [
    {
     "data": {
      "text/html": [
       "<div>                            <div id=\"e74ccbd7-5877-466f-88e5-2267f8215422\" class=\"plotly-graph-div\" style=\"height:600px; width:1300px;\"></div>            <script type=\"text/javascript\">                require([\"plotly\"], function(Plotly) {                    window.PLOTLYENV=window.PLOTLYENV || {};                                    if (document.getElementById(\"e74ccbd7-5877-466f-88e5-2267f8215422\")) {                    Plotly.newPlot(                        \"e74ccbd7-5877-466f-88e5-2267f8215422\",                        [{\"marker\":{\"color\":\"#B24E8F\"},\"name\":\"Works on CV\",\"orientation\":\"h\",\"text\":[0.49,3.79,6.44,13.93,23.13,25.68,26.54],\"textposition\":\"inside\",\"x\":[0.49,3.79,6.44,13.93,23.13,25.68,26.54],\"y\":[\"None\",\"Other\",\"Social Media\",\"Uni CRSE\",\"Video PLTF\",\"Online CRSE\",\"Kaggle \"],\"type\":\"bar\",\"xaxis\":\"x\",\"yaxis\":\"y\"},{\"marker\":{\"color\":\"#EBACBF\"},\"name\":\"Does not work on CV\",\"orientation\":\"h\",\"text\":[1.8,4.51,5.95,10.82,23.82,24.2,28.91],\"textposition\":\"inside\",\"x\":[1.8,4.51,5.95,10.82,23.82,24.2,28.91],\"y\":[\"None\",\"Other\",\"Social Media\",\"Uni CRSE\",\"Video PLTF\",\"Kaggle \",\"Online CRSE\"],\"type\":\"bar\",\"xaxis\":\"x2\",\"yaxis\":\"y2\"}],                        {\"template\":{\"data\":{\"histogram2dcontour\":[{\"type\":\"histogram2dcontour\",\"colorbar\":{\"outlinewidth\":0,\"ticks\":\"\"},\"colorscale\":[[0.0,\"#0d0887\"],[0.1111111111111111,\"#46039f\"],[0.2222222222222222,\"#7201a8\"],[0.3333333333333333,\"#9c179e\"],[0.4444444444444444,\"#bd3786\"],[0.5555555555555556,\"#d8576b\"],[0.6666666666666666,\"#ed7953\"],[0.7777777777777778,\"#fb9f3a\"],[0.8888888888888888,\"#fdca26\"],[1.0,\"#f0f921\"]]}],\"choropleth\":[{\"type\":\"choropleth\",\"colorbar\":{\"outlinewidth\":0,\"ticks\":\"\"}}],\"histogram2d\":[{\"type\":\"histogram2d\",\"colorbar\":{\"outlinewidth\":0,\"ticks\":\"\"},\"colorscale\":[[0.0,\"#0d0887\"],[0.1111111111111111,\"#46039f\"],[0.2222222222222222,\"#7201a8\"],[0.3333333333333333,\"#9c179e\"],[0.4444444444444444,\"#bd3786\"],[0.5555555555555556,\"#d8576b\"],[0.6666666666666666,\"#ed7953\"],[0.7777777777777778,\"#fb9f3a\"],[0.8888888888888888,\"#fdca26\"],[1.0,\"#f0f921\"]]}],\"heatmap\":[{\"type\":\"heatmap\",\"colorbar\":{\"outlinewidth\":0,\"ticks\":\"\"},\"colorscale\":[[0.0,\"#0d0887\"],[0.1111111111111111,\"#46039f\"],[0.2222222222222222,\"#7201a8\"],[0.3333333333333333,\"#9c179e\"],[0.4444444444444444,\"#bd3786\"],[0.5555555555555556,\"#d8576b\"],[0.6666666666666666,\"#ed7953\"],[0.7777777777777778,\"#fb9f3a\"],[0.8888888888888888,\"#fdca26\"],[1.0,\"#f0f921\"]]}],\"heatmapgl\":[{\"type\":\"heatmapgl\",\"colorbar\":{\"outlinewidth\":0,\"ticks\":\"\"},\"colorscale\":[[0.0,\"#0d0887\"],[0.1111111111111111,\"#46039f\"],[0.2222222222222222,\"#7201a8\"],[0.3333333333333333,\"#9c179e\"],[0.4444444444444444,\"#bd3786\"],[0.5555555555555556,\"#d8576b\"],[0.6666666666666666,\"#ed7953\"],[0.7777777777777778,\"#fb9f3a\"],[0.8888888888888888,\"#fdca26\"],[1.0,\"#f0f921\"]]}],\"contourcarpet\":[{\"type\":\"contourcarpet\",\"colorbar\":{\"outlinewidth\":0,\"ticks\":\"\"}}],\"contour\":[{\"type\":\"contour\",\"colorbar\":{\"outlinewidth\":0,\"ticks\":\"\"},\"colorscale\":[[0.0,\"#0d0887\"],[0.1111111111111111,\"#46039f\"],[0.2222222222222222,\"#7201a8\"],[0.3333333333333333,\"#9c179e\"],[0.4444444444444444,\"#bd3786\"],[0.5555555555555556,\"#d8576b\"],[0.6666666666666666,\"#ed7953\"],[0.7777777777777778,\"#fb9f3a\"],[0.8888888888888888,\"#fdca26\"],[1.0,\"#f0f921\"]]}],\"surface\":[{\"type\":\"surface\",\"colorbar\":{\"outlinewidth\":0,\"ticks\":\"\"},\"colorscale\":[[0.0,\"#0d0887\"],[0.1111111111111111,\"#46039f\"],[0.2222222222222222,\"#7201a8\"],[0.3333333333333333,\"#9c179e\"],[0.4444444444444444,\"#bd3786\"],[0.5555555555555556,\"#d8576b\"],[0.6666666666666666,\"#ed7953\"],[0.7777777777777778,\"#fb9f3a\"],[0.8888888888888888,\"#fdca26\"],[1.0,\"#f0f921\"]]}],\"mesh3d\":[{\"type\":\"mesh3d\",\"colorbar\":{\"outlinewidth\":0,\"ticks\":\"\"}}],\"scatter\":[{\"fillpattern\":{\"fillmode\":\"overlay\",\"size\":10,\"solidity\":0.2},\"type\":\"scatter\"}],\"parcoords\":[{\"type\":\"parcoords\",\"line\":{\"colorbar\":{\"outlinewidth\":0,\"ticks\":\"\"}}}],\"scatterpolargl\":[{\"type\":\"scatterpolargl\",\"marker\":{\"colorbar\":{\"outlinewidth\":0,\"ticks\":\"\"}}}],\"bar\":[{\"error_x\":{\"color\":\"#2a3f5f\"},\"error_y\":{\"color\":\"#2a3f5f\"},\"marker\":{\"line\":{\"color\":\"#E5ECF6\",\"width\":0.5},\"pattern\":{\"fillmode\":\"overlay\",\"size\":10,\"solidity\":0.2}},\"type\":\"bar\"}],\"scattergeo\":[{\"type\":\"scattergeo\",\"marker\":{\"colorbar\":{\"outlinewidth\":0,\"ticks\":\"\"}}}],\"scatterpolar\":[{\"type\":\"scatterpolar\",\"marker\":{\"colorbar\":{\"outlinewidth\":0,\"ticks\":\"\"}}}],\"histogram\":[{\"marker\":{\"pattern\":{\"fillmode\":\"overlay\",\"size\":10,\"solidity\":0.2}},\"type\":\"histogram\"}],\"scattergl\":[{\"type\":\"scattergl\",\"marker\":{\"colorbar\":{\"outlinewidth\":0,\"ticks\":\"\"}}}],\"scatter3d\":[{\"type\":\"scatter3d\",\"line\":{\"colorbar\":{\"outlinewidth\":0,\"ticks\":\"\"}},\"marker\":{\"colorbar\":{\"outlinewidth\":0,\"ticks\":\"\"}}}],\"scattermapbox\":[{\"type\":\"scattermapbox\",\"marker\":{\"colorbar\":{\"outlinewidth\":0,\"ticks\":\"\"}}}],\"scatterternary\":[{\"type\":\"scatterternary\",\"marker\":{\"colorbar\":{\"outlinewidth\":0,\"ticks\":\"\"}}}],\"scattercarpet\":[{\"type\":\"scattercarpet\",\"marker\":{\"colorbar\":{\"outlinewidth\":0,\"ticks\":\"\"}}}],\"carpet\":[{\"aaxis\":{\"endlinecolor\":\"#2a3f5f\",\"gridcolor\":\"white\",\"linecolor\":\"white\",\"minorgridcolor\":\"white\",\"startlinecolor\":\"#2a3f5f\"},\"baxis\":{\"endlinecolor\":\"#2a3f5f\",\"gridcolor\":\"white\",\"linecolor\":\"white\",\"minorgridcolor\":\"white\",\"startlinecolor\":\"#2a3f5f\"},\"type\":\"carpet\"}],\"table\":[{\"cells\":{\"fill\":{\"color\":\"#EBF0F8\"},\"line\":{\"color\":\"white\"}},\"header\":{\"fill\":{\"color\":\"#C8D4E3\"},\"line\":{\"color\":\"white\"}},\"type\":\"table\"}],\"barpolar\":[{\"marker\":{\"line\":{\"color\":\"#E5ECF6\",\"width\":0.5},\"pattern\":{\"fillmode\":\"overlay\",\"size\":10,\"solidity\":0.2}},\"type\":\"barpolar\"}],\"pie\":[{\"automargin\":true,\"type\":\"pie\"}]},\"layout\":{\"autotypenumbers\":\"strict\",\"colorway\":[\"#636efa\",\"#EF553B\",\"#00cc96\",\"#ab63fa\",\"#FFA15A\",\"#19d3f3\",\"#FF6692\",\"#B6E880\",\"#FF97FF\",\"#FECB52\"],\"font\":{\"color\":\"#2a3f5f\"},\"hovermode\":\"closest\",\"hoverlabel\":{\"align\":\"left\"},\"paper_bgcolor\":\"white\",\"plot_bgcolor\":\"#E5ECF6\",\"polar\":{\"bgcolor\":\"#E5ECF6\",\"angularaxis\":{\"gridcolor\":\"white\",\"linecolor\":\"white\",\"ticks\":\"\"},\"radialaxis\":{\"gridcolor\":\"white\",\"linecolor\":\"white\",\"ticks\":\"\"}},\"ternary\":{\"bgcolor\":\"#E5ECF6\",\"aaxis\":{\"gridcolor\":\"white\",\"linecolor\":\"white\",\"ticks\":\"\"},\"baxis\":{\"gridcolor\":\"white\",\"linecolor\":\"white\",\"ticks\":\"\"},\"caxis\":{\"gridcolor\":\"white\",\"linecolor\":\"white\",\"ticks\":\"\"}},\"coloraxis\":{\"colorbar\":{\"outlinewidth\":0,\"ticks\":\"\"}},\"colorscale\":{\"sequential\":[[0.0,\"#0d0887\"],[0.1111111111111111,\"#46039f\"],[0.2222222222222222,\"#7201a8\"],[0.3333333333333333,\"#9c179e\"],[0.4444444444444444,\"#bd3786\"],[0.5555555555555556,\"#d8576b\"],[0.6666666666666666,\"#ed7953\"],[0.7777777777777778,\"#fb9f3a\"],[0.8888888888888888,\"#fdca26\"],[1.0,\"#f0f921\"]],\"sequentialminus\":[[0.0,\"#0d0887\"],[0.1111111111111111,\"#46039f\"],[0.2222222222222222,\"#7201a8\"],[0.3333333333333333,\"#9c179e\"],[0.4444444444444444,\"#bd3786\"],[0.5555555555555556,\"#d8576b\"],[0.6666666666666666,\"#ed7953\"],[0.7777777777777778,\"#fb9f3a\"],[0.8888888888888888,\"#fdca26\"],[1.0,\"#f0f921\"]],\"diverging\":[[0,\"#8e0152\"],[0.1,\"#c51b7d\"],[0.2,\"#de77ae\"],[0.3,\"#f1b6da\"],[0.4,\"#fde0ef\"],[0.5,\"#f7f7f7\"],[0.6,\"#e6f5d0\"],[0.7,\"#b8e186\"],[0.8,\"#7fbc41\"],[0.9,\"#4d9221\"],[1,\"#276419\"]]},\"xaxis\":{\"gridcolor\":\"white\",\"linecolor\":\"white\",\"ticks\":\"\",\"title\":{\"standoff\":15},\"zerolinecolor\":\"white\",\"automargin\":true,\"zerolinewidth\":2},\"yaxis\":{\"gridcolor\":\"white\",\"linecolor\":\"white\",\"ticks\":\"\",\"title\":{\"standoff\":15},\"zerolinecolor\":\"white\",\"automargin\":true,\"zerolinewidth\":2},\"scene\":{\"xaxis\":{\"backgroundcolor\":\"#E5ECF6\",\"gridcolor\":\"white\",\"linecolor\":\"white\",\"showbackground\":true,\"ticks\":\"\",\"zerolinecolor\":\"white\",\"gridwidth\":2},\"yaxis\":{\"backgroundcolor\":\"#E5ECF6\",\"gridcolor\":\"white\",\"linecolor\":\"white\",\"showbackground\":true,\"ticks\":\"\",\"zerolinecolor\":\"white\",\"gridwidth\":2},\"zaxis\":{\"backgroundcolor\":\"#E5ECF6\",\"gridcolor\":\"white\",\"linecolor\":\"white\",\"showbackground\":true,\"ticks\":\"\",\"zerolinecolor\":\"white\",\"gridwidth\":2}},\"shapedefaults\":{\"line\":{\"color\":\"#2a3f5f\"}},\"annotationdefaults\":{\"arrowcolor\":\"#2a3f5f\",\"arrowhead\":0,\"arrowwidth\":1},\"geo\":{\"bgcolor\":\"white\",\"landcolor\":\"#E5ECF6\",\"subunitcolor\":\"white\",\"showland\":true,\"showlakes\":true,\"lakecolor\":\"white\"},\"title\":{\"x\":0.05},\"mapbox\":{\"style\":\"light\"}}},\"xaxis\":{\"anchor\":\"y\",\"domain\":[0.0,0.45]},\"yaxis\":{\"anchor\":\"x\",\"domain\":[0.0,1.0]},\"xaxis2\":{\"anchor\":\"y2\",\"domain\":[0.55,1.0]},\"yaxis2\":{\"anchor\":\"x2\",\"domain\":[0.0,1.0]},\"title\":{\"font\":{\"size\":18,\"color\":\"#7aa64d\"},\"text\":\"Most Helpful Product/Platform<br><i><sup>Q7:What products or platforms did you find to be most helpful when you first started studying data science? </sup></i>\",\"x\":0.5},\"height\":600,\"width\":1300},                        {\"responsive\": true}                    ).then(function(){\n",
       "                            \n",
       "var gd = document.getElementById('e74ccbd7-5877-466f-88e5-2267f8215422');\n",
       "var x = new MutationObserver(function (mutations, observer) {{\n",
       "        var display = window.getComputedStyle(gd).display;\n",
       "        if (!display || display === 'none') {{\n",
       "            console.log([gd, 'removed!']);\n",
       "            Plotly.purge(gd);\n",
       "            observer.disconnect();\n",
       "        }}\n",
       "}});\n",
       "\n",
       "// Listen for the removal of the full notebook cells\n",
       "var notebookContainer = gd.closest('#notebook-container');\n",
       "if (notebookContainer) {{\n",
       "    x.observe(notebookContainer, {childList: true});\n",
       "}}\n",
       "\n",
       "// Listen for the clearing of the current output cell\n",
       "var outputEl = gd.closest('.output');\n",
       "if (outputEl) {{\n",
       "    x.observe(outputEl, {childList: true});\n",
       "}}\n",
       "\n",
       "                        })                };                });            </script>        </div>"
      ]
     },
     "metadata": {},
     "output_type": "display_data"
    }
   ],
   "source": [
    "df=df_2022.copy()\n",
    "df=df.rename(columns={'MSPP_University courses': 'MSPP_Uni CRSE', \n",
    "                      'MSPP_Online courses (Coursera, EdX, etc)': 'MSPP_Online CRSE',\n",
    "                      'MSPP_Social media platforms (Reddit, Twitter, etc)':'MSPP_Social Media',\n",
    "                     'MSPP_Video platforms (YouTube, Twitch, etc)':'MSPP_Video PLTF',\n",
    "                     'MSPP_None / I do not study data science':'MSPP_None'})\n",
    "\n",
    "# df.filter(regex='^MSPP_',axis=1).columns.to_list()\n",
    "drawSubplotBar(df,'CV_None','MSPP','MSPP','Most Helpful Product/Platform'+'<br><i><sup>Q7:What products or platforms did you find to be most helpful when you first started studying data science? </sup></i>')"
   ]
  },
  {
   "cell_type": "markdown",
   "id": "6ff7fc8c",
   "metadata": {
    "papermill": {
     "duration": 0.017602,
     "end_time": "2022-11-27T02:56:07.956577",
     "exception": false,
     "start_time": "2022-11-27T02:56:07.938975",
     "status": "completed"
    },
    "tags": []
   },
   "source": [
    "<p class='default-font'>Kaggle,online courses and video platforms are the top three learning platforms for both groups. Popularity of Kaggle is slightly high among CV users. Kaggle holds the first position among CV users. <b>University courses are less often preferred as learning platform among Kagglers (26.54%).</b></p>"
   ]
  },
  {
   "cell_type": "code",
   "execution_count": 23,
   "id": "3a6959d1",
   "metadata": {
    "_kg_hide-input": true,
    "execution": {
     "iopub.execute_input": "2022-11-27T02:56:07.994275Z",
     "iopub.status.busy": "2022-11-27T02:56:07.993146Z",
     "iopub.status.idle": "2022-11-27T02:56:08.180115Z",
     "shell.execute_reply": "2022-11-27T02:56:08.179279Z"
    },
    "papermill": {
     "duration": 0.207951,
     "end_time": "2022-11-27T02:56:08.182336",
     "exception": false,
     "start_time": "2022-11-27T02:56:07.974385",
     "status": "completed"
    },
    "tags": []
   },
   "outputs": [
    {
     "data": {
      "text/html": [
       "<div>                            <div id=\"d15b86dc-e099-40bc-98ec-63ce39aa46a3\" class=\"plotly-graph-div\" style=\"height:600px; width:1300px;\"></div>            <script type=\"text/javascript\">                require([\"plotly\"], function(Plotly) {                    window.PLOTLYENV=window.PLOTLYENV || {};                                    if (document.getElementById(\"d15b86dc-e099-40bc-98ec-63ce39aa46a3\")) {                    Plotly.newPlot(                        \"d15b86dc-e099-40bc-98ec-63ce39aa46a3\",                        [{\"marker\":{\"color\":\"#B24E8F\"},\"name\":\"Works on CV\",\"orientation\":\"h\",\"text\":[0.54,1.15,3.77,4.26,5.69,6.94,7.03,8.31,9.96,15.61,17.43,19.3],\"textposition\":\"inside\",\"x\":[0.54,1.15,3.77,4.26,5.69,6.94,7.03,8.31,9.96,15.61,17.43,19.3],\"y\":[\"None\",\"Other\",\"Slack Comm\",\"Podcasts \",\"Reddit \",\"Course Forums \",\"Email newsl\",\"Twitter \",\"Journal Pub\",\"Blogs \",\"YouTube \",\"Kaggle \"],\"type\":\"bar\",\"xaxis\":\"x\",\"yaxis\":\"y\"},{\"marker\":{\"color\":\"#EBACBF\"},\"name\":\"Does not work on CV\",\"orientation\":\"h\",\"text\":[1.51,2.08,3.05,4.38,4.71,6.97,7.11,7.2,7.31,15.47,19.77,20.44],\"textposition\":\"inside\",\"x\":[1.51,2.08,3.05,4.38,4.71,6.97,7.11,7.2,7.31,15.47,19.77,20.44],\"y\":[\"Other\",\"None\",\"Slack Comm\",\"Podcasts \",\"Reddit \",\"Course Forums \",\"Email newsl\",\"Journal Pub\",\"Twitter \",\"Blogs \",\"Kaggle \",\"YouTube \"],\"type\":\"bar\",\"xaxis\":\"x2\",\"yaxis\":\"y2\"}],                        {\"template\":{\"data\":{\"histogram2dcontour\":[{\"type\":\"histogram2dcontour\",\"colorbar\":{\"outlinewidth\":0,\"ticks\":\"\"},\"colorscale\":[[0.0,\"#0d0887\"],[0.1111111111111111,\"#46039f\"],[0.2222222222222222,\"#7201a8\"],[0.3333333333333333,\"#9c179e\"],[0.4444444444444444,\"#bd3786\"],[0.5555555555555556,\"#d8576b\"],[0.6666666666666666,\"#ed7953\"],[0.7777777777777778,\"#fb9f3a\"],[0.8888888888888888,\"#fdca26\"],[1.0,\"#f0f921\"]]}],\"choropleth\":[{\"type\":\"choropleth\",\"colorbar\":{\"outlinewidth\":0,\"ticks\":\"\"}}],\"histogram2d\":[{\"type\":\"histogram2d\",\"colorbar\":{\"outlinewidth\":0,\"ticks\":\"\"},\"colorscale\":[[0.0,\"#0d0887\"],[0.1111111111111111,\"#46039f\"],[0.2222222222222222,\"#7201a8\"],[0.3333333333333333,\"#9c179e\"],[0.4444444444444444,\"#bd3786\"],[0.5555555555555556,\"#d8576b\"],[0.6666666666666666,\"#ed7953\"],[0.7777777777777778,\"#fb9f3a\"],[0.8888888888888888,\"#fdca26\"],[1.0,\"#f0f921\"]]}],\"heatmap\":[{\"type\":\"heatmap\",\"colorbar\":{\"outlinewidth\":0,\"ticks\":\"\"},\"colorscale\":[[0.0,\"#0d0887\"],[0.1111111111111111,\"#46039f\"],[0.2222222222222222,\"#7201a8\"],[0.3333333333333333,\"#9c179e\"],[0.4444444444444444,\"#bd3786\"],[0.5555555555555556,\"#d8576b\"],[0.6666666666666666,\"#ed7953\"],[0.7777777777777778,\"#fb9f3a\"],[0.8888888888888888,\"#fdca26\"],[1.0,\"#f0f921\"]]}],\"heatmapgl\":[{\"type\":\"heatmapgl\",\"colorbar\":{\"outlinewidth\":0,\"ticks\":\"\"},\"colorscale\":[[0.0,\"#0d0887\"],[0.1111111111111111,\"#46039f\"],[0.2222222222222222,\"#7201a8\"],[0.3333333333333333,\"#9c179e\"],[0.4444444444444444,\"#bd3786\"],[0.5555555555555556,\"#d8576b\"],[0.6666666666666666,\"#ed7953\"],[0.7777777777777778,\"#fb9f3a\"],[0.8888888888888888,\"#fdca26\"],[1.0,\"#f0f921\"]]}],\"contourcarpet\":[{\"type\":\"contourcarpet\",\"colorbar\":{\"outlinewidth\":0,\"ticks\":\"\"}}],\"contour\":[{\"type\":\"contour\",\"colorbar\":{\"outlinewidth\":0,\"ticks\":\"\"},\"colorscale\":[[0.0,\"#0d0887\"],[0.1111111111111111,\"#46039f\"],[0.2222222222222222,\"#7201a8\"],[0.3333333333333333,\"#9c179e\"],[0.4444444444444444,\"#bd3786\"],[0.5555555555555556,\"#d8576b\"],[0.6666666666666666,\"#ed7953\"],[0.7777777777777778,\"#fb9f3a\"],[0.8888888888888888,\"#fdca26\"],[1.0,\"#f0f921\"]]}],\"surface\":[{\"type\":\"surface\",\"colorbar\":{\"outlinewidth\":0,\"ticks\":\"\"},\"colorscale\":[[0.0,\"#0d0887\"],[0.1111111111111111,\"#46039f\"],[0.2222222222222222,\"#7201a8\"],[0.3333333333333333,\"#9c179e\"],[0.4444444444444444,\"#bd3786\"],[0.5555555555555556,\"#d8576b\"],[0.6666666666666666,\"#ed7953\"],[0.7777777777777778,\"#fb9f3a\"],[0.8888888888888888,\"#fdca26\"],[1.0,\"#f0f921\"]]}],\"mesh3d\":[{\"type\":\"mesh3d\",\"colorbar\":{\"outlinewidth\":0,\"ticks\":\"\"}}],\"scatter\":[{\"fillpattern\":{\"fillmode\":\"overlay\",\"size\":10,\"solidity\":0.2},\"type\":\"scatter\"}],\"parcoords\":[{\"type\":\"parcoords\",\"line\":{\"colorbar\":{\"outlinewidth\":0,\"ticks\":\"\"}}}],\"scatterpolargl\":[{\"type\":\"scatterpolargl\",\"marker\":{\"colorbar\":{\"outlinewidth\":0,\"ticks\":\"\"}}}],\"bar\":[{\"error_x\":{\"color\":\"#2a3f5f\"},\"error_y\":{\"color\":\"#2a3f5f\"},\"marker\":{\"line\":{\"color\":\"#E5ECF6\",\"width\":0.5},\"pattern\":{\"fillmode\":\"overlay\",\"size\":10,\"solidity\":0.2}},\"type\":\"bar\"}],\"scattergeo\":[{\"type\":\"scattergeo\",\"marker\":{\"colorbar\":{\"outlinewidth\":0,\"ticks\":\"\"}}}],\"scatterpolar\":[{\"type\":\"scatterpolar\",\"marker\":{\"colorbar\":{\"outlinewidth\":0,\"ticks\":\"\"}}}],\"histogram\":[{\"marker\":{\"pattern\":{\"fillmode\":\"overlay\",\"size\":10,\"solidity\":0.2}},\"type\":\"histogram\"}],\"scattergl\":[{\"type\":\"scattergl\",\"marker\":{\"colorbar\":{\"outlinewidth\":0,\"ticks\":\"\"}}}],\"scatter3d\":[{\"type\":\"scatter3d\",\"line\":{\"colorbar\":{\"outlinewidth\":0,\"ticks\":\"\"}},\"marker\":{\"colorbar\":{\"outlinewidth\":0,\"ticks\":\"\"}}}],\"scattermapbox\":[{\"type\":\"scattermapbox\",\"marker\":{\"colorbar\":{\"outlinewidth\":0,\"ticks\":\"\"}}}],\"scatterternary\":[{\"type\":\"scatterternary\",\"marker\":{\"colorbar\":{\"outlinewidth\":0,\"ticks\":\"\"}}}],\"scattercarpet\":[{\"type\":\"scattercarpet\",\"marker\":{\"colorbar\":{\"outlinewidth\":0,\"ticks\":\"\"}}}],\"carpet\":[{\"aaxis\":{\"endlinecolor\":\"#2a3f5f\",\"gridcolor\":\"white\",\"linecolor\":\"white\",\"minorgridcolor\":\"white\",\"startlinecolor\":\"#2a3f5f\"},\"baxis\":{\"endlinecolor\":\"#2a3f5f\",\"gridcolor\":\"white\",\"linecolor\":\"white\",\"minorgridcolor\":\"white\",\"startlinecolor\":\"#2a3f5f\"},\"type\":\"carpet\"}],\"table\":[{\"cells\":{\"fill\":{\"color\":\"#EBF0F8\"},\"line\":{\"color\":\"white\"}},\"header\":{\"fill\":{\"color\":\"#C8D4E3\"},\"line\":{\"color\":\"white\"}},\"type\":\"table\"}],\"barpolar\":[{\"marker\":{\"line\":{\"color\":\"#E5ECF6\",\"width\":0.5},\"pattern\":{\"fillmode\":\"overlay\",\"size\":10,\"solidity\":0.2}},\"type\":\"barpolar\"}],\"pie\":[{\"automargin\":true,\"type\":\"pie\"}]},\"layout\":{\"autotypenumbers\":\"strict\",\"colorway\":[\"#636efa\",\"#EF553B\",\"#00cc96\",\"#ab63fa\",\"#FFA15A\",\"#19d3f3\",\"#FF6692\",\"#B6E880\",\"#FF97FF\",\"#FECB52\"],\"font\":{\"color\":\"#2a3f5f\"},\"hovermode\":\"closest\",\"hoverlabel\":{\"align\":\"left\"},\"paper_bgcolor\":\"white\",\"plot_bgcolor\":\"#E5ECF6\",\"polar\":{\"bgcolor\":\"#E5ECF6\",\"angularaxis\":{\"gridcolor\":\"white\",\"linecolor\":\"white\",\"ticks\":\"\"},\"radialaxis\":{\"gridcolor\":\"white\",\"linecolor\":\"white\",\"ticks\":\"\"}},\"ternary\":{\"bgcolor\":\"#E5ECF6\",\"aaxis\":{\"gridcolor\":\"white\",\"linecolor\":\"white\",\"ticks\":\"\"},\"baxis\":{\"gridcolor\":\"white\",\"linecolor\":\"white\",\"ticks\":\"\"},\"caxis\":{\"gridcolor\":\"white\",\"linecolor\":\"white\",\"ticks\":\"\"}},\"coloraxis\":{\"colorbar\":{\"outlinewidth\":0,\"ticks\":\"\"}},\"colorscale\":{\"sequential\":[[0.0,\"#0d0887\"],[0.1111111111111111,\"#46039f\"],[0.2222222222222222,\"#7201a8\"],[0.3333333333333333,\"#9c179e\"],[0.4444444444444444,\"#bd3786\"],[0.5555555555555556,\"#d8576b\"],[0.6666666666666666,\"#ed7953\"],[0.7777777777777778,\"#fb9f3a\"],[0.8888888888888888,\"#fdca26\"],[1.0,\"#f0f921\"]],\"sequentialminus\":[[0.0,\"#0d0887\"],[0.1111111111111111,\"#46039f\"],[0.2222222222222222,\"#7201a8\"],[0.3333333333333333,\"#9c179e\"],[0.4444444444444444,\"#bd3786\"],[0.5555555555555556,\"#d8576b\"],[0.6666666666666666,\"#ed7953\"],[0.7777777777777778,\"#fb9f3a\"],[0.8888888888888888,\"#fdca26\"],[1.0,\"#f0f921\"]],\"diverging\":[[0,\"#8e0152\"],[0.1,\"#c51b7d\"],[0.2,\"#de77ae\"],[0.3,\"#f1b6da\"],[0.4,\"#fde0ef\"],[0.5,\"#f7f7f7\"],[0.6,\"#e6f5d0\"],[0.7,\"#b8e186\"],[0.8,\"#7fbc41\"],[0.9,\"#4d9221\"],[1,\"#276419\"]]},\"xaxis\":{\"gridcolor\":\"white\",\"linecolor\":\"white\",\"ticks\":\"\",\"title\":{\"standoff\":15},\"zerolinecolor\":\"white\",\"automargin\":true,\"zerolinewidth\":2},\"yaxis\":{\"gridcolor\":\"white\",\"linecolor\":\"white\",\"ticks\":\"\",\"title\":{\"standoff\":15},\"zerolinecolor\":\"white\",\"automargin\":true,\"zerolinewidth\":2},\"scene\":{\"xaxis\":{\"backgroundcolor\":\"#E5ECF6\",\"gridcolor\":\"white\",\"linecolor\":\"white\",\"showbackground\":true,\"ticks\":\"\",\"zerolinecolor\":\"white\",\"gridwidth\":2},\"yaxis\":{\"backgroundcolor\":\"#E5ECF6\",\"gridcolor\":\"white\",\"linecolor\":\"white\",\"showbackground\":true,\"ticks\":\"\",\"zerolinecolor\":\"white\",\"gridwidth\":2},\"zaxis\":{\"backgroundcolor\":\"#E5ECF6\",\"gridcolor\":\"white\",\"linecolor\":\"white\",\"showbackground\":true,\"ticks\":\"\",\"zerolinecolor\":\"white\",\"gridwidth\":2}},\"shapedefaults\":{\"line\":{\"color\":\"#2a3f5f\"}},\"annotationdefaults\":{\"arrowcolor\":\"#2a3f5f\",\"arrowhead\":0,\"arrowwidth\":1},\"geo\":{\"bgcolor\":\"white\",\"landcolor\":\"#E5ECF6\",\"subunitcolor\":\"white\",\"showland\":true,\"showlakes\":true,\"lakecolor\":\"white\"},\"title\":{\"x\":0.05},\"mapbox\":{\"style\":\"light\"}}},\"xaxis\":{\"anchor\":\"y\",\"domain\":[0.0,0.45]},\"yaxis\":{\"anchor\":\"x\",\"domain\":[0.0,1.0]},\"xaxis2\":{\"anchor\":\"y2\",\"domain\":[0.55,1.0]},\"yaxis2\":{\"anchor\":\"x2\",\"domain\":[0.0,1.0]},\"title\":{\"font\":{\"size\":18,\"color\":\"#7aa64d\"},\"text\":\"Favourite Media Source<br><i><sup>Q44:Who/what are your favorite media sources that report on data science topics? </sup></i>\",\"x\":0.5},\"height\":600,\"width\":1300},                        {\"responsive\": true}                    ).then(function(){\n",
       "                            \n",
       "var gd = document.getElementById('d15b86dc-e099-40bc-98ec-63ce39aa46a3');\n",
       "var x = new MutationObserver(function (mutations, observer) {{\n",
       "        var display = window.getComputedStyle(gd).display;\n",
       "        if (!display || display === 'none') {{\n",
       "            console.log([gd, 'removed!']);\n",
       "            Plotly.purge(gd);\n",
       "            observer.disconnect();\n",
       "        }}\n",
       "}});\n",
       "\n",
       "// Listen for the removal of the full notebook cells\n",
       "var notebookContainer = gd.closest('#notebook-container');\n",
       "if (notebookContainer) {{\n",
       "    x.observe(notebookContainer, {childList: true});\n",
       "}}\n",
       "\n",
       "// Listen for the clearing of the current output cell\n",
       "var outputEl = gd.closest('.output');\n",
       "if (outputEl) {{\n",
       "    x.observe(outputEl, {childList: true});\n",
       "}}\n",
       "\n",
       "                        })                };                });            </script>        </div>"
      ]
     },
     "metadata": {},
     "output_type": "display_data"
    }
   ],
   "source": [
    "df=df_2022.copy()\n",
    "df.head(1)\n",
    "df=df.rename(columns={'FMS_Journal Publications (peer-reviewed journals, conference proceedings, etc)': 'FMS_Journal Pub', \n",
    "                      'FMS_Email newsletters (Data Elixir, O\\'Reilly Data & AI, etc)': 'FMS_Email newsl','FMS_Slack Communities (ods.ai, kagglenoobs, etc)':'FMS_Slack Comm'})\n",
    "\n",
    "drawSubplotBar(df,'CV_None','FMS','FMS','Favourite Media Source'+'<br><i><sup>Q44:Who/what are your favorite media sources that report on data science topics? </sup></i>')"
   ]
  },
  {
   "cell_type": "markdown",
   "id": "b2fbad81",
   "metadata": {
    "papermill": {
     "duration": 0.020274,
     "end_time": "2022-11-27T02:56:08.221736",
     "exception": false,
     "start_time": "2022-11-27T02:56:08.201462",
     "status": "completed"
    },
    "tags": []
   },
   "source": [
    "<p class='default-font'>Almost the same picture here. Again Kaggle is the first choice as favourite media source among CV users. Both groups' top three favourite media sources are Kaggle, YouTube, and blogs.Another thing is to note here that,<b>those who often utilize computer vision consider journal publications more frequently than those who do not</b>.  </p>"
   ]
  },
  {
   "cell_type": "code",
   "execution_count": 24,
   "id": "ba8bbf12",
   "metadata": {
    "_kg_hide-input": true,
    "execution": {
     "iopub.execute_input": "2022-11-27T02:56:08.260948Z",
     "iopub.status.busy": "2022-11-27T02:56:08.259815Z",
     "iopub.status.idle": "2022-11-27T02:56:08.444501Z",
     "shell.execute_reply": "2022-11-27T02:56:08.443316Z"
    },
    "papermill": {
     "duration": 0.206688,
     "end_time": "2022-11-27T02:56:08.446778",
     "exception": false,
     "start_time": "2022-11-27T02:56:08.240090",
     "status": "completed"
    },
    "tags": []
   },
   "outputs": [
    {
     "data": {
      "text/html": [
       "<div>                            <div id=\"73dafe2c-c5f1-43ef-b466-e8e697f28a77\" class=\"plotly-graph-div\" style=\"height:600px; width:1300px;\"></div>            <script type=\"text/javascript\">                require([\"plotly\"], function(Plotly) {                    window.PLOTLYENV=window.PLOTLYENV || {};                                    if (document.getElementById(\"73dafe2c-c5f1-43ef-b466-e8e697f28a77\")) {                    Plotly.newPlot(                        \"73dafe2c-c5f1-43ef-b466-e8e697f28a77\",                        [{\"marker\":{\"color\":\"#B24E8F\"},\"name\":\"Works on CV\",\"orientation\":\"h\",\"text\":[1.39,1.57,1.75,1.93,2.29,2.47,3.54,5.2,7.44,14.57,14.75,43.12],\"textposition\":\"inside\",\"x\":[1.39,1.57,1.75,1.93,2.29,2.47,3.54,5.2,7.44,14.57,14.75,43.12],\"y\":[\" Seldon Core \",\" BentoML \",\"Multi MDL SRV\",\" KServe \",\"Other\",\"Triton Infern SRV\",\"OpenVINO SRV\",\" TorchServe \",\" ONNX Runtime \",\"TensorFlow Extn\",\" MLflow \",\"None\"],\"type\":\"bar\",\"xaxis\":\"x\",\"yaxis\":\"y\"},{\"marker\":{\"color\":\"#EBACBF\"},\"name\":\"Does not work on CV\",\"orientation\":\"h\",\"text\":[0.42,0.52,0.52,0.55,0.59,0.8,1.59,1.8,2.49,6.27,9.45,75.0],\"textposition\":\"inside\",\"x\":[0.42,0.52,0.52,0.55,0.59,0.8,1.59,1.8,2.49,6.27,9.45,75.0],\"y\":[\"OpenVINO SRV\",\"Triton Infern SRV\",\" BentoML \",\" Seldon Core \",\" KServe \",\"Multi MDL SRV\",\" TorchServe \",\" ONNX Runtime \",\"Other\",\"TensorFlow Extn\",\" MLflow \",\"None\"],\"type\":\"bar\",\"xaxis\":\"x2\",\"yaxis\":\"y2\"}],                        {\"template\":{\"data\":{\"histogram2dcontour\":[{\"type\":\"histogram2dcontour\",\"colorbar\":{\"outlinewidth\":0,\"ticks\":\"\"},\"colorscale\":[[0.0,\"#0d0887\"],[0.1111111111111111,\"#46039f\"],[0.2222222222222222,\"#7201a8\"],[0.3333333333333333,\"#9c179e\"],[0.4444444444444444,\"#bd3786\"],[0.5555555555555556,\"#d8576b\"],[0.6666666666666666,\"#ed7953\"],[0.7777777777777778,\"#fb9f3a\"],[0.8888888888888888,\"#fdca26\"],[1.0,\"#f0f921\"]]}],\"choropleth\":[{\"type\":\"choropleth\",\"colorbar\":{\"outlinewidth\":0,\"ticks\":\"\"}}],\"histogram2d\":[{\"type\":\"histogram2d\",\"colorbar\":{\"outlinewidth\":0,\"ticks\":\"\"},\"colorscale\":[[0.0,\"#0d0887\"],[0.1111111111111111,\"#46039f\"],[0.2222222222222222,\"#7201a8\"],[0.3333333333333333,\"#9c179e\"],[0.4444444444444444,\"#bd3786\"],[0.5555555555555556,\"#d8576b\"],[0.6666666666666666,\"#ed7953\"],[0.7777777777777778,\"#fb9f3a\"],[0.8888888888888888,\"#fdca26\"],[1.0,\"#f0f921\"]]}],\"heatmap\":[{\"type\":\"heatmap\",\"colorbar\":{\"outlinewidth\":0,\"ticks\":\"\"},\"colorscale\":[[0.0,\"#0d0887\"],[0.1111111111111111,\"#46039f\"],[0.2222222222222222,\"#7201a8\"],[0.3333333333333333,\"#9c179e\"],[0.4444444444444444,\"#bd3786\"],[0.5555555555555556,\"#d8576b\"],[0.6666666666666666,\"#ed7953\"],[0.7777777777777778,\"#fb9f3a\"],[0.8888888888888888,\"#fdca26\"],[1.0,\"#f0f921\"]]}],\"heatmapgl\":[{\"type\":\"heatmapgl\",\"colorbar\":{\"outlinewidth\":0,\"ticks\":\"\"},\"colorscale\":[[0.0,\"#0d0887\"],[0.1111111111111111,\"#46039f\"],[0.2222222222222222,\"#7201a8\"],[0.3333333333333333,\"#9c179e\"],[0.4444444444444444,\"#bd3786\"],[0.5555555555555556,\"#d8576b\"],[0.6666666666666666,\"#ed7953\"],[0.7777777777777778,\"#fb9f3a\"],[0.8888888888888888,\"#fdca26\"],[1.0,\"#f0f921\"]]}],\"contourcarpet\":[{\"type\":\"contourcarpet\",\"colorbar\":{\"outlinewidth\":0,\"ticks\":\"\"}}],\"contour\":[{\"type\":\"contour\",\"colorbar\":{\"outlinewidth\":0,\"ticks\":\"\"},\"colorscale\":[[0.0,\"#0d0887\"],[0.1111111111111111,\"#46039f\"],[0.2222222222222222,\"#7201a8\"],[0.3333333333333333,\"#9c179e\"],[0.4444444444444444,\"#bd3786\"],[0.5555555555555556,\"#d8576b\"],[0.6666666666666666,\"#ed7953\"],[0.7777777777777778,\"#fb9f3a\"],[0.8888888888888888,\"#fdca26\"],[1.0,\"#f0f921\"]]}],\"surface\":[{\"type\":\"surface\",\"colorbar\":{\"outlinewidth\":0,\"ticks\":\"\"},\"colorscale\":[[0.0,\"#0d0887\"],[0.1111111111111111,\"#46039f\"],[0.2222222222222222,\"#7201a8\"],[0.3333333333333333,\"#9c179e\"],[0.4444444444444444,\"#bd3786\"],[0.5555555555555556,\"#d8576b\"],[0.6666666666666666,\"#ed7953\"],[0.7777777777777778,\"#fb9f3a\"],[0.8888888888888888,\"#fdca26\"],[1.0,\"#f0f921\"]]}],\"mesh3d\":[{\"type\":\"mesh3d\",\"colorbar\":{\"outlinewidth\":0,\"ticks\":\"\"}}],\"scatter\":[{\"fillpattern\":{\"fillmode\":\"overlay\",\"size\":10,\"solidity\":0.2},\"type\":\"scatter\"}],\"parcoords\":[{\"type\":\"parcoords\",\"line\":{\"colorbar\":{\"outlinewidth\":0,\"ticks\":\"\"}}}],\"scatterpolargl\":[{\"type\":\"scatterpolargl\",\"marker\":{\"colorbar\":{\"outlinewidth\":0,\"ticks\":\"\"}}}],\"bar\":[{\"error_x\":{\"color\":\"#2a3f5f\"},\"error_y\":{\"color\":\"#2a3f5f\"},\"marker\":{\"line\":{\"color\":\"#E5ECF6\",\"width\":0.5},\"pattern\":{\"fillmode\":\"overlay\",\"size\":10,\"solidity\":0.2}},\"type\":\"bar\"}],\"scattergeo\":[{\"type\":\"scattergeo\",\"marker\":{\"colorbar\":{\"outlinewidth\":0,\"ticks\":\"\"}}}],\"scatterpolar\":[{\"type\":\"scatterpolar\",\"marker\":{\"colorbar\":{\"outlinewidth\":0,\"ticks\":\"\"}}}],\"histogram\":[{\"marker\":{\"pattern\":{\"fillmode\":\"overlay\",\"size\":10,\"solidity\":0.2}},\"type\":\"histogram\"}],\"scattergl\":[{\"type\":\"scattergl\",\"marker\":{\"colorbar\":{\"outlinewidth\":0,\"ticks\":\"\"}}}],\"scatter3d\":[{\"type\":\"scatter3d\",\"line\":{\"colorbar\":{\"outlinewidth\":0,\"ticks\":\"\"}},\"marker\":{\"colorbar\":{\"outlinewidth\":0,\"ticks\":\"\"}}}],\"scattermapbox\":[{\"type\":\"scattermapbox\",\"marker\":{\"colorbar\":{\"outlinewidth\":0,\"ticks\":\"\"}}}],\"scatterternary\":[{\"type\":\"scatterternary\",\"marker\":{\"colorbar\":{\"outlinewidth\":0,\"ticks\":\"\"}}}],\"scattercarpet\":[{\"type\":\"scattercarpet\",\"marker\":{\"colorbar\":{\"outlinewidth\":0,\"ticks\":\"\"}}}],\"carpet\":[{\"aaxis\":{\"endlinecolor\":\"#2a3f5f\",\"gridcolor\":\"white\",\"linecolor\":\"white\",\"minorgridcolor\":\"white\",\"startlinecolor\":\"#2a3f5f\"},\"baxis\":{\"endlinecolor\":\"#2a3f5f\",\"gridcolor\":\"white\",\"linecolor\":\"white\",\"minorgridcolor\":\"white\",\"startlinecolor\":\"#2a3f5f\"},\"type\":\"carpet\"}],\"table\":[{\"cells\":{\"fill\":{\"color\":\"#EBF0F8\"},\"line\":{\"color\":\"white\"}},\"header\":{\"fill\":{\"color\":\"#C8D4E3\"},\"line\":{\"color\":\"white\"}},\"type\":\"table\"}],\"barpolar\":[{\"marker\":{\"line\":{\"color\":\"#E5ECF6\",\"width\":0.5},\"pattern\":{\"fillmode\":\"overlay\",\"size\":10,\"solidity\":0.2}},\"type\":\"barpolar\"}],\"pie\":[{\"automargin\":true,\"type\":\"pie\"}]},\"layout\":{\"autotypenumbers\":\"strict\",\"colorway\":[\"#636efa\",\"#EF553B\",\"#00cc96\",\"#ab63fa\",\"#FFA15A\",\"#19d3f3\",\"#FF6692\",\"#B6E880\",\"#FF97FF\",\"#FECB52\"],\"font\":{\"color\":\"#2a3f5f\"},\"hovermode\":\"closest\",\"hoverlabel\":{\"align\":\"left\"},\"paper_bgcolor\":\"white\",\"plot_bgcolor\":\"#E5ECF6\",\"polar\":{\"bgcolor\":\"#E5ECF6\",\"angularaxis\":{\"gridcolor\":\"white\",\"linecolor\":\"white\",\"ticks\":\"\"},\"radialaxis\":{\"gridcolor\":\"white\",\"linecolor\":\"white\",\"ticks\":\"\"}},\"ternary\":{\"bgcolor\":\"#E5ECF6\",\"aaxis\":{\"gridcolor\":\"white\",\"linecolor\":\"white\",\"ticks\":\"\"},\"baxis\":{\"gridcolor\":\"white\",\"linecolor\":\"white\",\"ticks\":\"\"},\"caxis\":{\"gridcolor\":\"white\",\"linecolor\":\"white\",\"ticks\":\"\"}},\"coloraxis\":{\"colorbar\":{\"outlinewidth\":0,\"ticks\":\"\"}},\"colorscale\":{\"sequential\":[[0.0,\"#0d0887\"],[0.1111111111111111,\"#46039f\"],[0.2222222222222222,\"#7201a8\"],[0.3333333333333333,\"#9c179e\"],[0.4444444444444444,\"#bd3786\"],[0.5555555555555556,\"#d8576b\"],[0.6666666666666666,\"#ed7953\"],[0.7777777777777778,\"#fb9f3a\"],[0.8888888888888888,\"#fdca26\"],[1.0,\"#f0f921\"]],\"sequentialminus\":[[0.0,\"#0d0887\"],[0.1111111111111111,\"#46039f\"],[0.2222222222222222,\"#7201a8\"],[0.3333333333333333,\"#9c179e\"],[0.4444444444444444,\"#bd3786\"],[0.5555555555555556,\"#d8576b\"],[0.6666666666666666,\"#ed7953\"],[0.7777777777777778,\"#fb9f3a\"],[0.8888888888888888,\"#fdca26\"],[1.0,\"#f0f921\"]],\"diverging\":[[0,\"#8e0152\"],[0.1,\"#c51b7d\"],[0.2,\"#de77ae\"],[0.3,\"#f1b6da\"],[0.4,\"#fde0ef\"],[0.5,\"#f7f7f7\"],[0.6,\"#e6f5d0\"],[0.7,\"#b8e186\"],[0.8,\"#7fbc41\"],[0.9,\"#4d9221\"],[1,\"#276419\"]]},\"xaxis\":{\"gridcolor\":\"white\",\"linecolor\":\"white\",\"ticks\":\"\",\"title\":{\"standoff\":15},\"zerolinecolor\":\"white\",\"automargin\":true,\"zerolinewidth\":2},\"yaxis\":{\"gridcolor\":\"white\",\"linecolor\":\"white\",\"ticks\":\"\",\"title\":{\"standoff\":15},\"zerolinecolor\":\"white\",\"automargin\":true,\"zerolinewidth\":2},\"scene\":{\"xaxis\":{\"backgroundcolor\":\"#E5ECF6\",\"gridcolor\":\"white\",\"linecolor\":\"white\",\"showbackground\":true,\"ticks\":\"\",\"zerolinecolor\":\"white\",\"gridwidth\":2},\"yaxis\":{\"backgroundcolor\":\"#E5ECF6\",\"gridcolor\":\"white\",\"linecolor\":\"white\",\"showbackground\":true,\"ticks\":\"\",\"zerolinecolor\":\"white\",\"gridwidth\":2},\"zaxis\":{\"backgroundcolor\":\"#E5ECF6\",\"gridcolor\":\"white\",\"linecolor\":\"white\",\"showbackground\":true,\"ticks\":\"\",\"zerolinecolor\":\"white\",\"gridwidth\":2}},\"shapedefaults\":{\"line\":{\"color\":\"#2a3f5f\"}},\"annotationdefaults\":{\"arrowcolor\":\"#2a3f5f\",\"arrowhead\":0,\"arrowwidth\":1},\"geo\":{\"bgcolor\":\"white\",\"landcolor\":\"#E5ECF6\",\"subunitcolor\":\"white\",\"showland\":true,\"showlakes\":true,\"lakecolor\":\"white\"},\"title\":{\"x\":0.05},\"mapbox\":{\"style\":\"light\"}}},\"xaxis\":{\"anchor\":\"y\",\"domain\":[0.0,0.45]},\"yaxis\":{\"anchor\":\"x\",\"domain\":[0.0,1.0]},\"xaxis2\":{\"anchor\":\"y2\",\"domain\":[0.55,1.0]},\"yaxis2\":{\"anchor\":\"x2\",\"domain\":[0.0,1.0]},\"title\":{\"font\":{\"size\":18,\"color\":\"#7aa64d\"},\"text\":\"ML Model Hubs/Repositories<br><i><sup>Q2:Which of the following ML model hubs/repositories do you use most often?</sup></i>\",\"x\":0.5},\"height\":600,\"width\":1300},                        {\"responsive\": true}                    ).then(function(){\n",
       "                            \n",
       "var gd = document.getElementById('73dafe2c-c5f1-43ef-b466-e8e697f28a77');\n",
       "var x = new MutationObserver(function (mutations, observer) {{\n",
       "        var display = window.getComputedStyle(gd).display;\n",
       "        if (!display || display === 'none') {{\n",
       "            console.log([gd, 'removed!']);\n",
       "            Plotly.purge(gd);\n",
       "            observer.disconnect();\n",
       "        }}\n",
       "}});\n",
       "\n",
       "// Listen for the removal of the full notebook cells\n",
       "var notebookContainer = gd.closest('#notebook-container');\n",
       "if (notebookContainer) {{\n",
       "    x.observe(notebookContainer, {childList: true});\n",
       "}}\n",
       "\n",
       "// Listen for the clearing of the current output cell\n",
       "var outputEl = gd.closest('.output');\n",
       "if (outputEl) {{\n",
       "    x.observe(outputEl, {childList: true});\n",
       "}}\n",
       "\n",
       "                        })                };                });            </script>        </div>"
      ]
     },
     "metadata": {},
     "output_type": "display_data"
    }
   ],
   "source": [
    "df=df_2022.copy()\n",
    "df=df.rename(columns={'MLModel_ TensorFlow Extended (TFX) ': 'MLModel_TensorFlow Extn', \n",
    "                      'MLModel_ Multi Model Server (MMS) ': 'MLModel_Multi MDL SRV',\n",
    "                      'MLModel_ Triton Inference Server ':'MLModel_Triton Infern SRV',\n",
    "                     'MLModel_ OpenVINO Model Server ':'MLModel_OpenVINO SRV'})\n",
    "\n",
    "# df.filter(regex='^MLModel_',axis=1).columns.to_list()\n",
    "drawSubplotBar(df,'CV_None','MLModel','ML Model Hubs/Repositories','ML Model Hubs/Repositories'+'<br><i><sup>Q2:Which of the following ML model hubs/repositories do you use most often?</sup></i>')"
   ]
  },
  {
   "cell_type": "markdown",
   "id": "3ad9e5d2",
   "metadata": {
    "papermill": {
     "duration": 0.017735,
     "end_time": "2022-11-27T02:56:08.482613",
     "exception": false,
     "start_time": "2022-11-27T02:56:08.464878",
     "status": "completed"
    },
    "tags": []
   },
   "source": [
    "<p class='default-font'>ML model hubs/repositorities are repositories of trained machine learning models ready for fine-tuning and deployable anywhere. <b>The use of ML model hubs/repositorities are more often among CV users than Non-CV users. Top two repositories are MLFlow and TensorFlow Extnt.</b></p>"
   ]
  },
  {
   "cell_type": "code",
   "execution_count": 25,
   "id": "fecd05c5",
   "metadata": {
    "_kg_hide-input": true,
    "execution": {
     "iopub.execute_input": "2022-11-27T02:56:08.520773Z",
     "iopub.status.busy": "2022-11-27T02:56:08.520091Z",
     "iopub.status.idle": "2022-11-27T02:56:08.648199Z",
     "shell.execute_reply": "2022-11-27T02:56:08.647126Z"
    },
    "papermill": {
     "duration": 0.150181,
     "end_time": "2022-11-27T02:56:08.650856",
     "exception": false,
     "start_time": "2022-11-27T02:56:08.500675",
     "status": "completed"
    },
    "tags": []
   },
   "outputs": [
    {
     "data": {
      "text/html": [
       "<div>                            <div id=\"46e11fed-d05d-4fb6-be1f-91f428f4796a\" class=\"plotly-graph-div\" style=\"height:600px; width:1300px;\"></div>            <script type=\"text/javascript\">                require([\"plotly\"], function(Plotly) {                    window.PLOTLYENV=window.PLOTLYENV || {};                                    if (document.getElementById(\"46e11fed-d05d-4fb6-be1f-91f428f4796a\")) {                    Plotly.newPlot(                        \"46e11fed-d05d-4fb6-be1f-91f428f4796a\",                        [{\"marker\":{\"color\":\"#B24E8F\"},\"name\":\"Works on CV\",\"orientation\":\"h\",\"text\":[0.72,0.95,1.22,1.72,1.76,1.99,10.79,18.56,62.29],\"textposition\":\"inside\",\"x\":[0.72,0.95,1.22,1.72,1.76,1.99,10.79,18.56,62.29],\"y\":[\" WSEs \",\"Other\",\" Trainium Chips \",\" RDUs \",\" IPUs \",\" Inferentia Chips \",\"None\",\" TPUs \",\" GPUs \"],\"type\":\"bar\",\"xaxis\":\"x\",\"yaxis\":\"y\"},{\"marker\":{\"color\":\"#EBACBF\"},\"name\":\"Does not work on CV\",\"orientation\":\"h\",\"text\":[0.3,0.41,0.41,0.61,0.95,1.62,7.41,40.49,47.8],\"textposition\":\"inside\",\"x\":[0.3,0.41,0.41,0.61,0.95,1.62,7.41,40.49,47.8],\"y\":[\" WSEs \",\" Trainium Chips \",\" Inferentia Chips \",\" RDUs \",\" IPUs \",\"Other\",\" TPUs \",\" GPUs \",\"None\"],\"type\":\"bar\",\"xaxis\":\"x2\",\"yaxis\":\"y2\"}],                        {\"template\":{\"data\":{\"histogram2dcontour\":[{\"type\":\"histogram2dcontour\",\"colorbar\":{\"outlinewidth\":0,\"ticks\":\"\"},\"colorscale\":[[0.0,\"#0d0887\"],[0.1111111111111111,\"#46039f\"],[0.2222222222222222,\"#7201a8\"],[0.3333333333333333,\"#9c179e\"],[0.4444444444444444,\"#bd3786\"],[0.5555555555555556,\"#d8576b\"],[0.6666666666666666,\"#ed7953\"],[0.7777777777777778,\"#fb9f3a\"],[0.8888888888888888,\"#fdca26\"],[1.0,\"#f0f921\"]]}],\"choropleth\":[{\"type\":\"choropleth\",\"colorbar\":{\"outlinewidth\":0,\"ticks\":\"\"}}],\"histogram2d\":[{\"type\":\"histogram2d\",\"colorbar\":{\"outlinewidth\":0,\"ticks\":\"\"},\"colorscale\":[[0.0,\"#0d0887\"],[0.1111111111111111,\"#46039f\"],[0.2222222222222222,\"#7201a8\"],[0.3333333333333333,\"#9c179e\"],[0.4444444444444444,\"#bd3786\"],[0.5555555555555556,\"#d8576b\"],[0.6666666666666666,\"#ed7953\"],[0.7777777777777778,\"#fb9f3a\"],[0.8888888888888888,\"#fdca26\"],[1.0,\"#f0f921\"]]}],\"heatmap\":[{\"type\":\"heatmap\",\"colorbar\":{\"outlinewidth\":0,\"ticks\":\"\"},\"colorscale\":[[0.0,\"#0d0887\"],[0.1111111111111111,\"#46039f\"],[0.2222222222222222,\"#7201a8\"],[0.3333333333333333,\"#9c179e\"],[0.4444444444444444,\"#bd3786\"],[0.5555555555555556,\"#d8576b\"],[0.6666666666666666,\"#ed7953\"],[0.7777777777777778,\"#fb9f3a\"],[0.8888888888888888,\"#fdca26\"],[1.0,\"#f0f921\"]]}],\"heatmapgl\":[{\"type\":\"heatmapgl\",\"colorbar\":{\"outlinewidth\":0,\"ticks\":\"\"},\"colorscale\":[[0.0,\"#0d0887\"],[0.1111111111111111,\"#46039f\"],[0.2222222222222222,\"#7201a8\"],[0.3333333333333333,\"#9c179e\"],[0.4444444444444444,\"#bd3786\"],[0.5555555555555556,\"#d8576b\"],[0.6666666666666666,\"#ed7953\"],[0.7777777777777778,\"#fb9f3a\"],[0.8888888888888888,\"#fdca26\"],[1.0,\"#f0f921\"]]}],\"contourcarpet\":[{\"type\":\"contourcarpet\",\"colorbar\":{\"outlinewidth\":0,\"ticks\":\"\"}}],\"contour\":[{\"type\":\"contour\",\"colorbar\":{\"outlinewidth\":0,\"ticks\":\"\"},\"colorscale\":[[0.0,\"#0d0887\"],[0.1111111111111111,\"#46039f\"],[0.2222222222222222,\"#7201a8\"],[0.3333333333333333,\"#9c179e\"],[0.4444444444444444,\"#bd3786\"],[0.5555555555555556,\"#d8576b\"],[0.6666666666666666,\"#ed7953\"],[0.7777777777777778,\"#fb9f3a\"],[0.8888888888888888,\"#fdca26\"],[1.0,\"#f0f921\"]]}],\"surface\":[{\"type\":\"surface\",\"colorbar\":{\"outlinewidth\":0,\"ticks\":\"\"},\"colorscale\":[[0.0,\"#0d0887\"],[0.1111111111111111,\"#46039f\"],[0.2222222222222222,\"#7201a8\"],[0.3333333333333333,\"#9c179e\"],[0.4444444444444444,\"#bd3786\"],[0.5555555555555556,\"#d8576b\"],[0.6666666666666666,\"#ed7953\"],[0.7777777777777778,\"#fb9f3a\"],[0.8888888888888888,\"#fdca26\"],[1.0,\"#f0f921\"]]}],\"mesh3d\":[{\"type\":\"mesh3d\",\"colorbar\":{\"outlinewidth\":0,\"ticks\":\"\"}}],\"scatter\":[{\"fillpattern\":{\"fillmode\":\"overlay\",\"size\":10,\"solidity\":0.2},\"type\":\"scatter\"}],\"parcoords\":[{\"type\":\"parcoords\",\"line\":{\"colorbar\":{\"outlinewidth\":0,\"ticks\":\"\"}}}],\"scatterpolargl\":[{\"type\":\"scatterpolargl\",\"marker\":{\"colorbar\":{\"outlinewidth\":0,\"ticks\":\"\"}}}],\"bar\":[{\"error_x\":{\"color\":\"#2a3f5f\"},\"error_y\":{\"color\":\"#2a3f5f\"},\"marker\":{\"line\":{\"color\":\"#E5ECF6\",\"width\":0.5},\"pattern\":{\"fillmode\":\"overlay\",\"size\":10,\"solidity\":0.2}},\"type\":\"bar\"}],\"scattergeo\":[{\"type\":\"scattergeo\",\"marker\":{\"colorbar\":{\"outlinewidth\":0,\"ticks\":\"\"}}}],\"scatterpolar\":[{\"type\":\"scatterpolar\",\"marker\":{\"colorbar\":{\"outlinewidth\":0,\"ticks\":\"\"}}}],\"histogram\":[{\"marker\":{\"pattern\":{\"fillmode\":\"overlay\",\"size\":10,\"solidity\":0.2}},\"type\":\"histogram\"}],\"scattergl\":[{\"type\":\"scattergl\",\"marker\":{\"colorbar\":{\"outlinewidth\":0,\"ticks\":\"\"}}}],\"scatter3d\":[{\"type\":\"scatter3d\",\"line\":{\"colorbar\":{\"outlinewidth\":0,\"ticks\":\"\"}},\"marker\":{\"colorbar\":{\"outlinewidth\":0,\"ticks\":\"\"}}}],\"scattermapbox\":[{\"type\":\"scattermapbox\",\"marker\":{\"colorbar\":{\"outlinewidth\":0,\"ticks\":\"\"}}}],\"scatterternary\":[{\"type\":\"scatterternary\",\"marker\":{\"colorbar\":{\"outlinewidth\":0,\"ticks\":\"\"}}}],\"scattercarpet\":[{\"type\":\"scattercarpet\",\"marker\":{\"colorbar\":{\"outlinewidth\":0,\"ticks\":\"\"}}}],\"carpet\":[{\"aaxis\":{\"endlinecolor\":\"#2a3f5f\",\"gridcolor\":\"white\",\"linecolor\":\"white\",\"minorgridcolor\":\"white\",\"startlinecolor\":\"#2a3f5f\"},\"baxis\":{\"endlinecolor\":\"#2a3f5f\",\"gridcolor\":\"white\",\"linecolor\":\"white\",\"minorgridcolor\":\"white\",\"startlinecolor\":\"#2a3f5f\"},\"type\":\"carpet\"}],\"table\":[{\"cells\":{\"fill\":{\"color\":\"#EBF0F8\"},\"line\":{\"color\":\"white\"}},\"header\":{\"fill\":{\"color\":\"#C8D4E3\"},\"line\":{\"color\":\"white\"}},\"type\":\"table\"}],\"barpolar\":[{\"marker\":{\"line\":{\"color\":\"#E5ECF6\",\"width\":0.5},\"pattern\":{\"fillmode\":\"overlay\",\"size\":10,\"solidity\":0.2}},\"type\":\"barpolar\"}],\"pie\":[{\"automargin\":true,\"type\":\"pie\"}]},\"layout\":{\"autotypenumbers\":\"strict\",\"colorway\":[\"#636efa\",\"#EF553B\",\"#00cc96\",\"#ab63fa\",\"#FFA15A\",\"#19d3f3\",\"#FF6692\",\"#B6E880\",\"#FF97FF\",\"#FECB52\"],\"font\":{\"color\":\"#2a3f5f\"},\"hovermode\":\"closest\",\"hoverlabel\":{\"align\":\"left\"},\"paper_bgcolor\":\"white\",\"plot_bgcolor\":\"#E5ECF6\",\"polar\":{\"bgcolor\":\"#E5ECF6\",\"angularaxis\":{\"gridcolor\":\"white\",\"linecolor\":\"white\",\"ticks\":\"\"},\"radialaxis\":{\"gridcolor\":\"white\",\"linecolor\":\"white\",\"ticks\":\"\"}},\"ternary\":{\"bgcolor\":\"#E5ECF6\",\"aaxis\":{\"gridcolor\":\"white\",\"linecolor\":\"white\",\"ticks\":\"\"},\"baxis\":{\"gridcolor\":\"white\",\"linecolor\":\"white\",\"ticks\":\"\"},\"caxis\":{\"gridcolor\":\"white\",\"linecolor\":\"white\",\"ticks\":\"\"}},\"coloraxis\":{\"colorbar\":{\"outlinewidth\":0,\"ticks\":\"\"}},\"colorscale\":{\"sequential\":[[0.0,\"#0d0887\"],[0.1111111111111111,\"#46039f\"],[0.2222222222222222,\"#7201a8\"],[0.3333333333333333,\"#9c179e\"],[0.4444444444444444,\"#bd3786\"],[0.5555555555555556,\"#d8576b\"],[0.6666666666666666,\"#ed7953\"],[0.7777777777777778,\"#fb9f3a\"],[0.8888888888888888,\"#fdca26\"],[1.0,\"#f0f921\"]],\"sequentialminus\":[[0.0,\"#0d0887\"],[0.1111111111111111,\"#46039f\"],[0.2222222222222222,\"#7201a8\"],[0.3333333333333333,\"#9c179e\"],[0.4444444444444444,\"#bd3786\"],[0.5555555555555556,\"#d8576b\"],[0.6666666666666666,\"#ed7953\"],[0.7777777777777778,\"#fb9f3a\"],[0.8888888888888888,\"#fdca26\"],[1.0,\"#f0f921\"]],\"diverging\":[[0,\"#8e0152\"],[0.1,\"#c51b7d\"],[0.2,\"#de77ae\"],[0.3,\"#f1b6da\"],[0.4,\"#fde0ef\"],[0.5,\"#f7f7f7\"],[0.6,\"#e6f5d0\"],[0.7,\"#b8e186\"],[0.8,\"#7fbc41\"],[0.9,\"#4d9221\"],[1,\"#276419\"]]},\"xaxis\":{\"gridcolor\":\"white\",\"linecolor\":\"white\",\"ticks\":\"\",\"title\":{\"standoff\":15},\"zerolinecolor\":\"white\",\"automargin\":true,\"zerolinewidth\":2},\"yaxis\":{\"gridcolor\":\"white\",\"linecolor\":\"white\",\"ticks\":\"\",\"title\":{\"standoff\":15},\"zerolinecolor\":\"white\",\"automargin\":true,\"zerolinewidth\":2},\"scene\":{\"xaxis\":{\"backgroundcolor\":\"#E5ECF6\",\"gridcolor\":\"white\",\"linecolor\":\"white\",\"showbackground\":true,\"ticks\":\"\",\"zerolinecolor\":\"white\",\"gridwidth\":2},\"yaxis\":{\"backgroundcolor\":\"#E5ECF6\",\"gridcolor\":\"white\",\"linecolor\":\"white\",\"showbackground\":true,\"ticks\":\"\",\"zerolinecolor\":\"white\",\"gridwidth\":2},\"zaxis\":{\"backgroundcolor\":\"#E5ECF6\",\"gridcolor\":\"white\",\"linecolor\":\"white\",\"showbackground\":true,\"ticks\":\"\",\"zerolinecolor\":\"white\",\"gridwidth\":2}},\"shapedefaults\":{\"line\":{\"color\":\"#2a3f5f\"}},\"annotationdefaults\":{\"arrowcolor\":\"#2a3f5f\",\"arrowhead\":0,\"arrowwidth\":1},\"geo\":{\"bgcolor\":\"white\",\"landcolor\":\"#E5ECF6\",\"subunitcolor\":\"white\",\"showland\":true,\"showlakes\":true,\"lakecolor\":\"white\"},\"title\":{\"x\":0.05},\"mapbox\":{\"style\":\"light\"}}},\"xaxis\":{\"anchor\":\"y\",\"domain\":[0.0,0.45]},\"yaxis\":{\"anchor\":\"x\",\"domain\":[0.0,1.0]},\"xaxis2\":{\"anchor\":\"y2\",\"domain\":[0.55,1.0]},\"yaxis2\":{\"anchor\":\"x2\",\"domain\":[0.0,1.0]},\"title\":{\"font\":{\"size\":18,\"color\":\"#7aa64d\"},\"text\":\"Specialized Hardware <br><i><sup>Q42:Do you use any of the following types of specialized hardware when training machine learning models?</sup></i>\",\"x\":0.5},\"height\":600,\"width\":1300},                        {\"responsive\": true}                    ).then(function(){\n",
       "                            \n",
       "var gd = document.getElementById('46e11fed-d05d-4fb6-be1f-91f428f4796a');\n",
       "var x = new MutationObserver(function (mutations, observer) {{\n",
       "        var display = window.getComputedStyle(gd).display;\n",
       "        if (!display || display === 'none') {{\n",
       "            console.log([gd, 'removed!']);\n",
       "            Plotly.purge(gd);\n",
       "            observer.disconnect();\n",
       "        }}\n",
       "}});\n",
       "\n",
       "// Listen for the removal of the full notebook cells\n",
       "var notebookContainer = gd.closest('#notebook-container');\n",
       "if (notebookContainer) {{\n",
       "    x.observe(notebookContainer, {childList: true});\n",
       "}}\n",
       "\n",
       "// Listen for the clearing of the current output cell\n",
       "var outputEl = gd.closest('.output');\n",
       "if (outputEl) {{\n",
       "    x.observe(outputEl, {childList: true});\n",
       "}}\n",
       "\n",
       "                        })                };                });            </script>        </div>"
      ]
     },
     "metadata": {},
     "output_type": "display_data"
    }
   ],
   "source": [
    "drawSubplotBar(df_2022,'CV_None','MLHard','MLHard','Specialized Hardware '+'<br><i><sup>Q42:Do you use any of the following types of specialized hardware when training machine learning models?</sup></i>')"
   ]
  },
  {
   "cell_type": "markdown",
   "id": "83acfc41",
   "metadata": {
    "papermill": {
     "duration": 0.017958,
     "end_time": "2022-11-27T02:56:08.688075",
     "exception": false,
     "start_time": "2022-11-27T02:56:08.670117",
     "status": "completed"
    },
    "tags": []
   },
   "source": [
    "<p class='default-font'><b>Almost half of the Non-CV user do not use any specialized hardware for training their machine learning models while 62.29% of CV user use GPUs.</b> Use of TPUs is also higher among CV users. This indicates that CV users are more in need of using specialized hardware to carry out their regular task. This is obvious as CV users have to work with a lot of image data and working with huge amount of image data requires special computation power.   </p>"
   ]
  },
  {
   "cell_type": "code",
   "execution_count": 26,
   "id": "3404ba99",
   "metadata": {
    "_kg_hide-input": true,
    "execution": {
     "iopub.execute_input": "2022-11-27T02:56:08.726879Z",
     "iopub.status.busy": "2022-11-27T02:56:08.725812Z",
     "iopub.status.idle": "2022-11-27T02:56:08.900480Z",
     "shell.execute_reply": "2022-11-27T02:56:08.899235Z"
    },
    "papermill": {
     "duration": 0.196887,
     "end_time": "2022-11-27T02:56:08.903124",
     "exception": false,
     "start_time": "2022-11-27T02:56:08.706237",
     "status": "completed"
    },
    "tags": []
   },
   "outputs": [
    {
     "data": {
      "text/html": [
       "<div>                            <div id=\"ba3bfd3c-42ae-47af-aad5-287f06c58023\" class=\"plotly-graph-div\" style=\"height:600px; width:1300px;\"></div>            <script type=\"text/javascript\">                require([\"plotly\"], function(Plotly) {                    window.PLOTLYENV=window.PLOTLYENV || {};                                    if (document.getElementById(\"ba3bfd3c-42ae-47af-aad5-287f06c58023\")) {                    Plotly.newPlot(                        \"ba3bfd3c-42ae-47af-aad5-287f06c58023\",                        [{\"marker\":{\"color\":\"#B24E8F\"},\"name\":\"Works on CV\",\"orientation\":\"h\",\"text\":[0.68,0.72,0.89,1.01,1.18,1.43,1.69,1.98,2.24,3.46,3.63,10.97,14.47,24.47,31.18],\"textposition\":\"inside\",\"x\":[0.68,0.72,0.89,1.01,1.18,1.43,1.69,1.98,2.24,3.46,3.63,10.97,14.47,24.47,31.18],\"y\":[\" Aporia \",\" WhyLabs \",\" Guild.ai \",\" Arize \",\" Evidently AI \",\" Comet.ml \",\" Fiddler \",\"Other\",\" ClearML \",\" Neptune.ai \",\" DVC \",\" Weights & Biases \",\" MLflow \",\" TensorBoard \",\"No / None\"],\"type\":\"bar\",\"xaxis\":\"x\",\"yaxis\":\"y\"},{\"marker\":{\"color\":\"#EBACBF\"},\"name\":\"Does not work on CV\",\"orientation\":\"h\",\"text\":[0.27,0.44,0.47,0.5,0.54,0.71,0.77,0.77,1.55,1.82,2.42,3.7,8.27,10.12,67.65],\"textposition\":\"inside\",\"x\":[0.27,0.44,0.47,0.5,0.54,0.71,0.77,0.77,1.55,1.82,2.42,3.7,8.27,10.12,67.65],\"y\":[\" Aporia \",\" Arize \",\" Guild.ai \",\" WhyLabs \",\" ClearML \",\" Comet.ml \",\" Evidently AI \",\" Fiddler \",\" Neptune.ai \",\" DVC \",\"Other\",\" Weights & Biases \",\" TensorBoard \",\" MLflow \",\"No / None\"],\"type\":\"bar\",\"xaxis\":\"x2\",\"yaxis\":\"y2\"}],                        {\"template\":{\"data\":{\"histogram2dcontour\":[{\"type\":\"histogram2dcontour\",\"colorbar\":{\"outlinewidth\":0,\"ticks\":\"\"},\"colorscale\":[[0.0,\"#0d0887\"],[0.1111111111111111,\"#46039f\"],[0.2222222222222222,\"#7201a8\"],[0.3333333333333333,\"#9c179e\"],[0.4444444444444444,\"#bd3786\"],[0.5555555555555556,\"#d8576b\"],[0.6666666666666666,\"#ed7953\"],[0.7777777777777778,\"#fb9f3a\"],[0.8888888888888888,\"#fdca26\"],[1.0,\"#f0f921\"]]}],\"choropleth\":[{\"type\":\"choropleth\",\"colorbar\":{\"outlinewidth\":0,\"ticks\":\"\"}}],\"histogram2d\":[{\"type\":\"histogram2d\",\"colorbar\":{\"outlinewidth\":0,\"ticks\":\"\"},\"colorscale\":[[0.0,\"#0d0887\"],[0.1111111111111111,\"#46039f\"],[0.2222222222222222,\"#7201a8\"],[0.3333333333333333,\"#9c179e\"],[0.4444444444444444,\"#bd3786\"],[0.5555555555555556,\"#d8576b\"],[0.6666666666666666,\"#ed7953\"],[0.7777777777777778,\"#fb9f3a\"],[0.8888888888888888,\"#fdca26\"],[1.0,\"#f0f921\"]]}],\"heatmap\":[{\"type\":\"heatmap\",\"colorbar\":{\"outlinewidth\":0,\"ticks\":\"\"},\"colorscale\":[[0.0,\"#0d0887\"],[0.1111111111111111,\"#46039f\"],[0.2222222222222222,\"#7201a8\"],[0.3333333333333333,\"#9c179e\"],[0.4444444444444444,\"#bd3786\"],[0.5555555555555556,\"#d8576b\"],[0.6666666666666666,\"#ed7953\"],[0.7777777777777778,\"#fb9f3a\"],[0.8888888888888888,\"#fdca26\"],[1.0,\"#f0f921\"]]}],\"heatmapgl\":[{\"type\":\"heatmapgl\",\"colorbar\":{\"outlinewidth\":0,\"ticks\":\"\"},\"colorscale\":[[0.0,\"#0d0887\"],[0.1111111111111111,\"#46039f\"],[0.2222222222222222,\"#7201a8\"],[0.3333333333333333,\"#9c179e\"],[0.4444444444444444,\"#bd3786\"],[0.5555555555555556,\"#d8576b\"],[0.6666666666666666,\"#ed7953\"],[0.7777777777777778,\"#fb9f3a\"],[0.8888888888888888,\"#fdca26\"],[1.0,\"#f0f921\"]]}],\"contourcarpet\":[{\"type\":\"contourcarpet\",\"colorbar\":{\"outlinewidth\":0,\"ticks\":\"\"}}],\"contour\":[{\"type\":\"contour\",\"colorbar\":{\"outlinewidth\":0,\"ticks\":\"\"},\"colorscale\":[[0.0,\"#0d0887\"],[0.1111111111111111,\"#46039f\"],[0.2222222222222222,\"#7201a8\"],[0.3333333333333333,\"#9c179e\"],[0.4444444444444444,\"#bd3786\"],[0.5555555555555556,\"#d8576b\"],[0.6666666666666666,\"#ed7953\"],[0.7777777777777778,\"#fb9f3a\"],[0.8888888888888888,\"#fdca26\"],[1.0,\"#f0f921\"]]}],\"surface\":[{\"type\":\"surface\",\"colorbar\":{\"outlinewidth\":0,\"ticks\":\"\"},\"colorscale\":[[0.0,\"#0d0887\"],[0.1111111111111111,\"#46039f\"],[0.2222222222222222,\"#7201a8\"],[0.3333333333333333,\"#9c179e\"],[0.4444444444444444,\"#bd3786\"],[0.5555555555555556,\"#d8576b\"],[0.6666666666666666,\"#ed7953\"],[0.7777777777777778,\"#fb9f3a\"],[0.8888888888888888,\"#fdca26\"],[1.0,\"#f0f921\"]]}],\"mesh3d\":[{\"type\":\"mesh3d\",\"colorbar\":{\"outlinewidth\":0,\"ticks\":\"\"}}],\"scatter\":[{\"fillpattern\":{\"fillmode\":\"overlay\",\"size\":10,\"solidity\":0.2},\"type\":\"scatter\"}],\"parcoords\":[{\"type\":\"parcoords\",\"line\":{\"colorbar\":{\"outlinewidth\":0,\"ticks\":\"\"}}}],\"scatterpolargl\":[{\"type\":\"scatterpolargl\",\"marker\":{\"colorbar\":{\"outlinewidth\":0,\"ticks\":\"\"}}}],\"bar\":[{\"error_x\":{\"color\":\"#2a3f5f\"},\"error_y\":{\"color\":\"#2a3f5f\"},\"marker\":{\"line\":{\"color\":\"#E5ECF6\",\"width\":0.5},\"pattern\":{\"fillmode\":\"overlay\",\"size\":10,\"solidity\":0.2}},\"type\":\"bar\"}],\"scattergeo\":[{\"type\":\"scattergeo\",\"marker\":{\"colorbar\":{\"outlinewidth\":0,\"ticks\":\"\"}}}],\"scatterpolar\":[{\"type\":\"scatterpolar\",\"marker\":{\"colorbar\":{\"outlinewidth\":0,\"ticks\":\"\"}}}],\"histogram\":[{\"marker\":{\"pattern\":{\"fillmode\":\"overlay\",\"size\":10,\"solidity\":0.2}},\"type\":\"histogram\"}],\"scattergl\":[{\"type\":\"scattergl\",\"marker\":{\"colorbar\":{\"outlinewidth\":0,\"ticks\":\"\"}}}],\"scatter3d\":[{\"type\":\"scatter3d\",\"line\":{\"colorbar\":{\"outlinewidth\":0,\"ticks\":\"\"}},\"marker\":{\"colorbar\":{\"outlinewidth\":0,\"ticks\":\"\"}}}],\"scattermapbox\":[{\"type\":\"scattermapbox\",\"marker\":{\"colorbar\":{\"outlinewidth\":0,\"ticks\":\"\"}}}],\"scatterternary\":[{\"type\":\"scatterternary\",\"marker\":{\"colorbar\":{\"outlinewidth\":0,\"ticks\":\"\"}}}],\"scattercarpet\":[{\"type\":\"scattercarpet\",\"marker\":{\"colorbar\":{\"outlinewidth\":0,\"ticks\":\"\"}}}],\"carpet\":[{\"aaxis\":{\"endlinecolor\":\"#2a3f5f\",\"gridcolor\":\"white\",\"linecolor\":\"white\",\"minorgridcolor\":\"white\",\"startlinecolor\":\"#2a3f5f\"},\"baxis\":{\"endlinecolor\":\"#2a3f5f\",\"gridcolor\":\"white\",\"linecolor\":\"white\",\"minorgridcolor\":\"white\",\"startlinecolor\":\"#2a3f5f\"},\"type\":\"carpet\"}],\"table\":[{\"cells\":{\"fill\":{\"color\":\"#EBF0F8\"},\"line\":{\"color\":\"white\"}},\"header\":{\"fill\":{\"color\":\"#C8D4E3\"},\"line\":{\"color\":\"white\"}},\"type\":\"table\"}],\"barpolar\":[{\"marker\":{\"line\":{\"color\":\"#E5ECF6\",\"width\":0.5},\"pattern\":{\"fillmode\":\"overlay\",\"size\":10,\"solidity\":0.2}},\"type\":\"barpolar\"}],\"pie\":[{\"automargin\":true,\"type\":\"pie\"}]},\"layout\":{\"autotypenumbers\":\"strict\",\"colorway\":[\"#636efa\",\"#EF553B\",\"#00cc96\",\"#ab63fa\",\"#FFA15A\",\"#19d3f3\",\"#FF6692\",\"#B6E880\",\"#FF97FF\",\"#FECB52\"],\"font\":{\"color\":\"#2a3f5f\"},\"hovermode\":\"closest\",\"hoverlabel\":{\"align\":\"left\"},\"paper_bgcolor\":\"white\",\"plot_bgcolor\":\"#E5ECF6\",\"polar\":{\"bgcolor\":\"#E5ECF6\",\"angularaxis\":{\"gridcolor\":\"white\",\"linecolor\":\"white\",\"ticks\":\"\"},\"radialaxis\":{\"gridcolor\":\"white\",\"linecolor\":\"white\",\"ticks\":\"\"}},\"ternary\":{\"bgcolor\":\"#E5ECF6\",\"aaxis\":{\"gridcolor\":\"white\",\"linecolor\":\"white\",\"ticks\":\"\"},\"baxis\":{\"gridcolor\":\"white\",\"linecolor\":\"white\",\"ticks\":\"\"},\"caxis\":{\"gridcolor\":\"white\",\"linecolor\":\"white\",\"ticks\":\"\"}},\"coloraxis\":{\"colorbar\":{\"outlinewidth\":0,\"ticks\":\"\"}},\"colorscale\":{\"sequential\":[[0.0,\"#0d0887\"],[0.1111111111111111,\"#46039f\"],[0.2222222222222222,\"#7201a8\"],[0.3333333333333333,\"#9c179e\"],[0.4444444444444444,\"#bd3786\"],[0.5555555555555556,\"#d8576b\"],[0.6666666666666666,\"#ed7953\"],[0.7777777777777778,\"#fb9f3a\"],[0.8888888888888888,\"#fdca26\"],[1.0,\"#f0f921\"]],\"sequentialminus\":[[0.0,\"#0d0887\"],[0.1111111111111111,\"#46039f\"],[0.2222222222222222,\"#7201a8\"],[0.3333333333333333,\"#9c179e\"],[0.4444444444444444,\"#bd3786\"],[0.5555555555555556,\"#d8576b\"],[0.6666666666666666,\"#ed7953\"],[0.7777777777777778,\"#fb9f3a\"],[0.8888888888888888,\"#fdca26\"],[1.0,\"#f0f921\"]],\"diverging\":[[0,\"#8e0152\"],[0.1,\"#c51b7d\"],[0.2,\"#de77ae\"],[0.3,\"#f1b6da\"],[0.4,\"#fde0ef\"],[0.5,\"#f7f7f7\"],[0.6,\"#e6f5d0\"],[0.7,\"#b8e186\"],[0.8,\"#7fbc41\"],[0.9,\"#4d9221\"],[1,\"#276419\"]]},\"xaxis\":{\"gridcolor\":\"white\",\"linecolor\":\"white\",\"ticks\":\"\",\"title\":{\"standoff\":15},\"zerolinecolor\":\"white\",\"automargin\":true,\"zerolinewidth\":2},\"yaxis\":{\"gridcolor\":\"white\",\"linecolor\":\"white\",\"ticks\":\"\",\"title\":{\"standoff\":15},\"zerolinecolor\":\"white\",\"automargin\":true,\"zerolinewidth\":2},\"scene\":{\"xaxis\":{\"backgroundcolor\":\"#E5ECF6\",\"gridcolor\":\"white\",\"linecolor\":\"white\",\"showbackground\":true,\"ticks\":\"\",\"zerolinecolor\":\"white\",\"gridwidth\":2},\"yaxis\":{\"backgroundcolor\":\"#E5ECF6\",\"gridcolor\":\"white\",\"linecolor\":\"white\",\"showbackground\":true,\"ticks\":\"\",\"zerolinecolor\":\"white\",\"gridwidth\":2},\"zaxis\":{\"backgroundcolor\":\"#E5ECF6\",\"gridcolor\":\"white\",\"linecolor\":\"white\",\"showbackground\":true,\"ticks\":\"\",\"zerolinecolor\":\"white\",\"gridwidth\":2}},\"shapedefaults\":{\"line\":{\"color\":\"#2a3f5f\"}},\"annotationdefaults\":{\"arrowcolor\":\"#2a3f5f\",\"arrowhead\":0,\"arrowwidth\":1},\"geo\":{\"bgcolor\":\"white\",\"landcolor\":\"#E5ECF6\",\"subunitcolor\":\"white\",\"showland\":true,\"showlakes\":true,\"lakecolor\":\"white\"},\"title\":{\"x\":0.05},\"mapbox\":{\"style\":\"light\"}}},\"xaxis\":{\"anchor\":\"y\",\"domain\":[0.0,0.45]},\"yaxis\":{\"anchor\":\"x\",\"domain\":[0.0,1.0]},\"xaxis2\":{\"anchor\":\"y2\",\"domain\":[0.55,1.0]},\"yaxis2\":{\"anchor\":\"x2\",\"domain\":[0.0,1.0]},\"title\":{\"font\":{\"size\":18,\"color\":\"#7aa64d\"},\"text\":\"Tools to monitor ML models<br><i><sup>Q40:Do you use any tools to help monitor your machine learning models and/or experiments?</sup></i>\",\"x\":0.5},\"height\":600,\"width\":1300},                        {\"responsive\": true}                    ).then(function(){\n",
       "                            \n",
       "var gd = document.getElementById('ba3bfd3c-42ae-47af-aad5-287f06c58023');\n",
       "var x = new MutationObserver(function (mutations, observer) {{\n",
       "        var display = window.getComputedStyle(gd).display;\n",
       "        if (!display || display === 'none') {{\n",
       "            console.log([gd, 'removed!']);\n",
       "            Plotly.purge(gd);\n",
       "            observer.disconnect();\n",
       "        }}\n",
       "}});\n",
       "\n",
       "// Listen for the removal of the full notebook cells\n",
       "var notebookContainer = gd.closest('#notebook-container');\n",
       "if (notebookContainer) {{\n",
       "    x.observe(notebookContainer, {childList: true});\n",
       "}}\n",
       "\n",
       "// Listen for the clearing of the current output cell\n",
       "var outputEl = gd.closest('.output');\n",
       "if (outputEl) {{\n",
       "    x.observe(outputEl, {childList: true});\n",
       "}}\n",
       "\n",
       "                        })                };                });            </script>        </div>"
      ]
     },
     "metadata": {},
     "output_type": "display_data"
    }
   ],
   "source": [
    "drawSubplotBar(df_2022,'CV_None','MonitorML','MonitorML','Tools to monitor ML models'+'<br><i><sup>Q40:Do you use any tools to help monitor your machine learning models and/or experiments?</sup></i>')"
   ]
  },
  {
   "cell_type": "markdown",
   "id": "a50d444e",
   "metadata": {
    "papermill": {
     "duration": 0.0182,
     "end_time": "2022-11-27T02:56:08.939947",
     "exception": false,
     "start_time": "2022-11-27T02:56:08.921747",
     "status": "completed"
    },
    "tags": []
   },
   "source": [
    "<p class='default-font'>Model Monitoring is an operational stage in the machine learning lifecycle that comes after model deployment. Monitoring is a way to track the performance of the model in production. It requires continuously monitoring ML models for changes such as model degradation, data drift, and idea drift, and ensuring that model is performing at an appropriate level <a href='https://medium.com/geekculture/monitoring-your-deployed-machine-learning-models-in-production-8822d1bab11a#a00c'>[7]</a>. The graph above showcases how often data scientists employ model monitoring tools and which tool they prefer. </p>\n",
    "\n",
    "<p class='default-font'><b>67.65 % of Non-CV users do not use any ML model monitoring tools while this rate is 31.18% amon CV users.</b> Top three popular used ML model monitoring tools among CV users are-TensorBoard, MLFlow and Weights & Biases. Other tools are used not more than 4%.  </p>\n",
    "<a id='CV_Methods'></a>\n",
    "<h2 class='sub-heading'>Methods the CV users use</h2>"
   ]
  },
  {
   "cell_type": "code",
   "execution_count": 27,
   "id": "1293349a",
   "metadata": {
    "_kg_hide-input": true,
    "execution": {
     "iopub.execute_input": "2022-11-27T02:56:08.979709Z",
     "iopub.status.busy": "2022-11-27T02:56:08.979295Z",
     "iopub.status.idle": "2022-11-27T02:56:09.079438Z",
     "shell.execute_reply": "2022-11-27T02:56:09.078131Z"
    },
    "papermill": {
     "duration": 0.123083,
     "end_time": "2022-11-27T02:56:09.081909",
     "exception": false,
     "start_time": "2022-11-27T02:56:08.958826",
     "status": "completed"
    },
    "tags": []
   },
   "outputs": [
    {
     "data": {
      "text/html": [
       "<div>                            <div id=\"f1f83234-dc70-4244-bcbf-c671ed2a954b\" class=\"plotly-graph-div\" style=\"height:500px; width:900px;\"></div>            <script type=\"text/javascript\">                require([\"plotly\"], function(Plotly) {                    window.PLOTLYENV=window.PLOTLYENV || {};                                    if (document.getElementById(\"f1f83234-dc70-4244-bcbf-c671ed2a954b\")) {                    Plotly.newPlot(                        \"f1f83234-dc70-4244-bcbf-c671ed2a954b\",                        [{\"insidetextorientation\":\"radial\",\"labels\":[\"Other\",\"ViT\",\"GAN\",\"General img/video tools \",\"Img segmentation\",\"Obj detection\",\"Img claasify/General Nets \"],\"marker\":{\"colors\":[\"rgb(243, 203, 211)\",\"rgb(234, 169, 189)\",\"rgb(221, 136, 172)\",\"rgb(202, 105, 157)\",\"rgb(177, 77, 142)\",\"rgb(145, 53, 125)\",\"rgb(108, 33, 103)\"],\"line\":{\"color\":\"#000000\",\"width\":2}},\"textinfo\":\"percent\",\"values\":[1.23,6.28,9.72,17.8,18.1,19.44,27.43],\"type\":\"pie\"}],                        {\"template\":{\"data\":{\"histogram2dcontour\":[{\"type\":\"histogram2dcontour\",\"colorbar\":{\"outlinewidth\":0,\"ticks\":\"\"},\"colorscale\":[[0.0,\"#0d0887\"],[0.1111111111111111,\"#46039f\"],[0.2222222222222222,\"#7201a8\"],[0.3333333333333333,\"#9c179e\"],[0.4444444444444444,\"#bd3786\"],[0.5555555555555556,\"#d8576b\"],[0.6666666666666666,\"#ed7953\"],[0.7777777777777778,\"#fb9f3a\"],[0.8888888888888888,\"#fdca26\"],[1.0,\"#f0f921\"]]}],\"choropleth\":[{\"type\":\"choropleth\",\"colorbar\":{\"outlinewidth\":0,\"ticks\":\"\"}}],\"histogram2d\":[{\"type\":\"histogram2d\",\"colorbar\":{\"outlinewidth\":0,\"ticks\":\"\"},\"colorscale\":[[0.0,\"#0d0887\"],[0.1111111111111111,\"#46039f\"],[0.2222222222222222,\"#7201a8\"],[0.3333333333333333,\"#9c179e\"],[0.4444444444444444,\"#bd3786\"],[0.5555555555555556,\"#d8576b\"],[0.6666666666666666,\"#ed7953\"],[0.7777777777777778,\"#fb9f3a\"],[0.8888888888888888,\"#fdca26\"],[1.0,\"#f0f921\"]]}],\"heatmap\":[{\"type\":\"heatmap\",\"colorbar\":{\"outlinewidth\":0,\"ticks\":\"\"},\"colorscale\":[[0.0,\"#0d0887\"],[0.1111111111111111,\"#46039f\"],[0.2222222222222222,\"#7201a8\"],[0.3333333333333333,\"#9c179e\"],[0.4444444444444444,\"#bd3786\"],[0.5555555555555556,\"#d8576b\"],[0.6666666666666666,\"#ed7953\"],[0.7777777777777778,\"#fb9f3a\"],[0.8888888888888888,\"#fdca26\"],[1.0,\"#f0f921\"]]}],\"heatmapgl\":[{\"type\":\"heatmapgl\",\"colorbar\":{\"outlinewidth\":0,\"ticks\":\"\"},\"colorscale\":[[0.0,\"#0d0887\"],[0.1111111111111111,\"#46039f\"],[0.2222222222222222,\"#7201a8\"],[0.3333333333333333,\"#9c179e\"],[0.4444444444444444,\"#bd3786\"],[0.5555555555555556,\"#d8576b\"],[0.6666666666666666,\"#ed7953\"],[0.7777777777777778,\"#fb9f3a\"],[0.8888888888888888,\"#fdca26\"],[1.0,\"#f0f921\"]]}],\"contourcarpet\":[{\"type\":\"contourcarpet\",\"colorbar\":{\"outlinewidth\":0,\"ticks\":\"\"}}],\"contour\":[{\"type\":\"contour\",\"colorbar\":{\"outlinewidth\":0,\"ticks\":\"\"},\"colorscale\":[[0.0,\"#0d0887\"],[0.1111111111111111,\"#46039f\"],[0.2222222222222222,\"#7201a8\"],[0.3333333333333333,\"#9c179e\"],[0.4444444444444444,\"#bd3786\"],[0.5555555555555556,\"#d8576b\"],[0.6666666666666666,\"#ed7953\"],[0.7777777777777778,\"#fb9f3a\"],[0.8888888888888888,\"#fdca26\"],[1.0,\"#f0f921\"]]}],\"surface\":[{\"type\":\"surface\",\"colorbar\":{\"outlinewidth\":0,\"ticks\":\"\"},\"colorscale\":[[0.0,\"#0d0887\"],[0.1111111111111111,\"#46039f\"],[0.2222222222222222,\"#7201a8\"],[0.3333333333333333,\"#9c179e\"],[0.4444444444444444,\"#bd3786\"],[0.5555555555555556,\"#d8576b\"],[0.6666666666666666,\"#ed7953\"],[0.7777777777777778,\"#fb9f3a\"],[0.8888888888888888,\"#fdca26\"],[1.0,\"#f0f921\"]]}],\"mesh3d\":[{\"type\":\"mesh3d\",\"colorbar\":{\"outlinewidth\":0,\"ticks\":\"\"}}],\"scatter\":[{\"fillpattern\":{\"fillmode\":\"overlay\",\"size\":10,\"solidity\":0.2},\"type\":\"scatter\"}],\"parcoords\":[{\"type\":\"parcoords\",\"line\":{\"colorbar\":{\"outlinewidth\":0,\"ticks\":\"\"}}}],\"scatterpolargl\":[{\"type\":\"scatterpolargl\",\"marker\":{\"colorbar\":{\"outlinewidth\":0,\"ticks\":\"\"}}}],\"bar\":[{\"error_x\":{\"color\":\"#2a3f5f\"},\"error_y\":{\"color\":\"#2a3f5f\"},\"marker\":{\"line\":{\"color\":\"#E5ECF6\",\"width\":0.5},\"pattern\":{\"fillmode\":\"overlay\",\"size\":10,\"solidity\":0.2}},\"type\":\"bar\"}],\"scattergeo\":[{\"type\":\"scattergeo\",\"marker\":{\"colorbar\":{\"outlinewidth\":0,\"ticks\":\"\"}}}],\"scatterpolar\":[{\"type\":\"scatterpolar\",\"marker\":{\"colorbar\":{\"outlinewidth\":0,\"ticks\":\"\"}}}],\"histogram\":[{\"marker\":{\"pattern\":{\"fillmode\":\"overlay\",\"size\":10,\"solidity\":0.2}},\"type\":\"histogram\"}],\"scattergl\":[{\"type\":\"scattergl\",\"marker\":{\"colorbar\":{\"outlinewidth\":0,\"ticks\":\"\"}}}],\"scatter3d\":[{\"type\":\"scatter3d\",\"line\":{\"colorbar\":{\"outlinewidth\":0,\"ticks\":\"\"}},\"marker\":{\"colorbar\":{\"outlinewidth\":0,\"ticks\":\"\"}}}],\"scattermapbox\":[{\"type\":\"scattermapbox\",\"marker\":{\"colorbar\":{\"outlinewidth\":0,\"ticks\":\"\"}}}],\"scatterternary\":[{\"type\":\"scatterternary\",\"marker\":{\"colorbar\":{\"outlinewidth\":0,\"ticks\":\"\"}}}],\"scattercarpet\":[{\"type\":\"scattercarpet\",\"marker\":{\"colorbar\":{\"outlinewidth\":0,\"ticks\":\"\"}}}],\"carpet\":[{\"aaxis\":{\"endlinecolor\":\"#2a3f5f\",\"gridcolor\":\"white\",\"linecolor\":\"white\",\"minorgridcolor\":\"white\",\"startlinecolor\":\"#2a3f5f\"},\"baxis\":{\"endlinecolor\":\"#2a3f5f\",\"gridcolor\":\"white\",\"linecolor\":\"white\",\"minorgridcolor\":\"white\",\"startlinecolor\":\"#2a3f5f\"},\"type\":\"carpet\"}],\"table\":[{\"cells\":{\"fill\":{\"color\":\"#EBF0F8\"},\"line\":{\"color\":\"white\"}},\"header\":{\"fill\":{\"color\":\"#C8D4E3\"},\"line\":{\"color\":\"white\"}},\"type\":\"table\"}],\"barpolar\":[{\"marker\":{\"line\":{\"color\":\"#E5ECF6\",\"width\":0.5},\"pattern\":{\"fillmode\":\"overlay\",\"size\":10,\"solidity\":0.2}},\"type\":\"barpolar\"}],\"pie\":[{\"automargin\":true,\"type\":\"pie\"}]},\"layout\":{\"autotypenumbers\":\"strict\",\"colorway\":[\"#636efa\",\"#EF553B\",\"#00cc96\",\"#ab63fa\",\"#FFA15A\",\"#19d3f3\",\"#FF6692\",\"#B6E880\",\"#FF97FF\",\"#FECB52\"],\"font\":{\"color\":\"#2a3f5f\"},\"hovermode\":\"closest\",\"hoverlabel\":{\"align\":\"left\"},\"paper_bgcolor\":\"white\",\"plot_bgcolor\":\"#E5ECF6\",\"polar\":{\"bgcolor\":\"#E5ECF6\",\"angularaxis\":{\"gridcolor\":\"white\",\"linecolor\":\"white\",\"ticks\":\"\"},\"radialaxis\":{\"gridcolor\":\"white\",\"linecolor\":\"white\",\"ticks\":\"\"}},\"ternary\":{\"bgcolor\":\"#E5ECF6\",\"aaxis\":{\"gridcolor\":\"white\",\"linecolor\":\"white\",\"ticks\":\"\"},\"baxis\":{\"gridcolor\":\"white\",\"linecolor\":\"white\",\"ticks\":\"\"},\"caxis\":{\"gridcolor\":\"white\",\"linecolor\":\"white\",\"ticks\":\"\"}},\"coloraxis\":{\"colorbar\":{\"outlinewidth\":0,\"ticks\":\"\"}},\"colorscale\":{\"sequential\":[[0.0,\"#0d0887\"],[0.1111111111111111,\"#46039f\"],[0.2222222222222222,\"#7201a8\"],[0.3333333333333333,\"#9c179e\"],[0.4444444444444444,\"#bd3786\"],[0.5555555555555556,\"#d8576b\"],[0.6666666666666666,\"#ed7953\"],[0.7777777777777778,\"#fb9f3a\"],[0.8888888888888888,\"#fdca26\"],[1.0,\"#f0f921\"]],\"sequentialminus\":[[0.0,\"#0d0887\"],[0.1111111111111111,\"#46039f\"],[0.2222222222222222,\"#7201a8\"],[0.3333333333333333,\"#9c179e\"],[0.4444444444444444,\"#bd3786\"],[0.5555555555555556,\"#d8576b\"],[0.6666666666666666,\"#ed7953\"],[0.7777777777777778,\"#fb9f3a\"],[0.8888888888888888,\"#fdca26\"],[1.0,\"#f0f921\"]],\"diverging\":[[0,\"#8e0152\"],[0.1,\"#c51b7d\"],[0.2,\"#de77ae\"],[0.3,\"#f1b6da\"],[0.4,\"#fde0ef\"],[0.5,\"#f7f7f7\"],[0.6,\"#e6f5d0\"],[0.7,\"#b8e186\"],[0.8,\"#7fbc41\"],[0.9,\"#4d9221\"],[1,\"#276419\"]]},\"xaxis\":{\"gridcolor\":\"white\",\"linecolor\":\"white\",\"ticks\":\"\",\"title\":{\"standoff\":15},\"zerolinecolor\":\"white\",\"automargin\":true,\"zerolinewidth\":2},\"yaxis\":{\"gridcolor\":\"white\",\"linecolor\":\"white\",\"ticks\":\"\",\"title\":{\"standoff\":15},\"zerolinecolor\":\"white\",\"automargin\":true,\"zerolinewidth\":2},\"scene\":{\"xaxis\":{\"backgroundcolor\":\"#E5ECF6\",\"gridcolor\":\"white\",\"linecolor\":\"white\",\"showbackground\":true,\"ticks\":\"\",\"zerolinecolor\":\"white\",\"gridwidth\":2},\"yaxis\":{\"backgroundcolor\":\"#E5ECF6\",\"gridcolor\":\"white\",\"linecolor\":\"white\",\"showbackground\":true,\"ticks\":\"\",\"zerolinecolor\":\"white\",\"gridwidth\":2},\"zaxis\":{\"backgroundcolor\":\"#E5ECF6\",\"gridcolor\":\"white\",\"linecolor\":\"white\",\"showbackground\":true,\"ticks\":\"\",\"zerolinecolor\":\"white\",\"gridwidth\":2}},\"shapedefaults\":{\"line\":{\"color\":\"#2a3f5f\"}},\"annotationdefaults\":{\"arrowcolor\":\"#2a3f5f\",\"arrowhead\":0,\"arrowwidth\":1},\"geo\":{\"bgcolor\":\"white\",\"landcolor\":\"#E5ECF6\",\"subunitcolor\":\"white\",\"showland\":true,\"showlakes\":true,\"lakecolor\":\"white\"},\"title\":{\"x\":0.05},\"mapbox\":{\"style\":\"light\"}}},\"title\":{\"font\":{\"size\":18,\"color\":\"#7aa64d\"},\"text\":\"Popular Computer Vision methods<br><sup><i >Q19:Which categories of computer vision methods do you use on a regular basis? </i></sup>\",\"y\":0.9,\"x\":0.5},\"autosize\":false,\"width\":900,\"height\":500},                        {\"responsive\": true}                    ).then(function(){\n",
       "                            \n",
       "var gd = document.getElementById('f1f83234-dc70-4244-bcbf-c671ed2a954b');\n",
       "var x = new MutationObserver(function (mutations, observer) {{\n",
       "        var display = window.getComputedStyle(gd).display;\n",
       "        if (!display || display === 'none') {{\n",
       "            console.log([gd, 'removed!']);\n",
       "            Plotly.purge(gd);\n",
       "            observer.disconnect();\n",
       "        }}\n",
       "}});\n",
       "\n",
       "// Listen for the removal of the full notebook cells\n",
       "var notebookContainer = gd.closest('#notebook-container');\n",
       "if (notebookContainer) {{\n",
       "    x.observe(notebookContainer, {childList: true});\n",
       "}}\n",
       "\n",
       "// Listen for the clearing of the current output cell\n",
       "var outputEl = gd.closest('.output');\n",
       "if (outputEl) {{\n",
       "    x.observe(outputEl, {childList: true});\n",
       "}}\n",
       "\n",
       "                        })                };                });            </script>        </div>"
      ]
     },
     "metadata": {},
     "output_type": "display_data"
    }
   ],
   "source": [
    "keyword='CV'\n",
    "keyword_name='Computer Vision'\n",
    "title=\"\"\n",
    "df=df_2022.copy()\n",
    "df=df[df['CV_None']=='UsesCV'].copy()\n",
    "df.drop(columns=['CV_None'],inplace=True)\n",
    "\n",
    "df_sum=get_summary_df(df,keyword,keyword_name,True)\n",
    "df_sum[keyword_name]=df_sum[keyword_name].apply(lambda x: cv_name_mapping(x))\n",
    "df_sum=df_sum.sort_values('Percentage', ascending=True)\n",
    "\n",
    "if(title==\"\"):\n",
    "        title='Popular Computer Vision methods'+'<br><sup><i >Q19:Which categories of computer vision methods do you use on a regular basis? </i></sup>'\n",
    "\n",
    "colors=px.colors.sequential.Magenta\n",
    "fig = go.Figure(data=[go.Pie(labels=df_sum[keyword_name], values=df_sum[\"Percentage\"],textinfo='percent',marker=dict(colors=colors, line=dict(color='#000000', width=2)),insidetextorientation='radial')])\n",
    "fig.update_layout(title_text=title ,title_y=0.90, title_x=0.5,autosize=False,width=900,height=500,title_font=dict(size=18,color='#7aa64d'))\n",
    "fig.show()"
   ]
  },
  {
   "cell_type": "markdown",
   "id": "809dde38",
   "metadata": {
    "papermill": {
     "duration": 0.018634,
     "end_time": "2022-11-27T02:56:09.119693",
     "exception": false,
     "start_time": "2022-11-27T02:56:09.101059",
     "status": "completed"
    },
    "tags": []
   },
   "source": [
    "<p class='default-font'> Among the computer vision methods,<b>CV user mostly use Image classification and other general purpose networks(27.4%)</b>.The adoption of object detection, image segmentation methods, and general image/video tools is almost same (between 17% to 19.4%).Generative Networks are used less often(9.72%).Vision transformer networks are used the least(6.28%). Kagglers also use some other methods for Computer Vision tasks but that percentage is very small(1.23%)  </p>"
   ]
  },
  {
   "cell_type": "code",
   "execution_count": 28,
   "id": "fe98ab25",
   "metadata": {
    "_kg_hide-input": true,
    "execution": {
     "iopub.execute_input": "2022-11-27T02:56:09.159636Z",
     "iopub.status.busy": "2022-11-27T02:56:09.159188Z",
     "iopub.status.idle": "2022-11-27T02:56:09.330671Z",
     "shell.execute_reply": "2022-11-27T02:56:09.329548Z"
    },
    "papermill": {
     "duration": 0.194137,
     "end_time": "2022-11-27T02:56:09.333218",
     "exception": false,
     "start_time": "2022-11-27T02:56:09.139081",
     "status": "completed"
    },
    "tags": []
   },
   "outputs": [
    {
     "data": {
      "text/html": [
       "<div>                            <div id=\"f20b7bbf-1e9d-4cc6-a16b-78a8e890521f\" class=\"plotly-graph-div\" style=\"height:500px; width:800px;\"></div>            <script type=\"text/javascript\">                require([\"plotly\"], function(Plotly) {                    window.PLOTLYENV=window.PLOTLYENV || {};                                    if (document.getElementById(\"f20b7bbf-1e9d-4cc6-a16b-78a8e890521f\")) {                    Plotly.newPlot(                        \"f20b7bbf-1e9d-4cc6-a16b-78a8e890521f\",                        [{\"colorscale\":[[0.0,\"rgb(243, 203, 211)\"],[0.16666666666666666,\"rgb(234, 169, 189)\"],[0.3333333333333333,\"rgb(221, 136, 172)\"],[0.5,\"rgb(202, 105, 157)\"],[0.6666666666666666,\"rgb(177, 77, 142)\"],[0.8333333333333334,\"rgb(145, 53, 125)\"],[1.0,\"rgb(108, 33, 103)\"]],\"text\":[18.23,17.61,19.52,27.31,\"\",\"\",\"\",\"\",21.81,19.58,28.75,\"\",\"\",\"\"],\"texttemplate\":\"%{text}\",\"x\":[\"Man\",\"Man\",\"Man\",\"Man\",\"Man\",\"Man\",\"Man\",\"Woman\",\"Woman\",\"Woman\",\"Woman\",\"Woman\",\"Woman\",\"Woman\"],\"y\":[\"General img/video tools \",\"Img segmentation\",\"Obj detection\",\"Img claasify/General Nets \",\"GAN\",\"ViT\",\"Other\",\"General img/video tools \",\"Img segmentation\",\"Obj detection\",\"Img claasify/General Nets \",\"GAN\",\"ViT\",\"Other\"],\"z\":[18.23,17.61,19.52,27.31,9.76,6.51,1.06,15.0,21.81,19.58,28.75,8.33,4.31,2.22],\"type\":\"heatmap\"}],                        {\"template\":{\"data\":{\"histogram2dcontour\":[{\"type\":\"histogram2dcontour\",\"colorbar\":{\"outlinewidth\":0,\"ticks\":\"\"},\"colorscale\":[[0.0,\"#0d0887\"],[0.1111111111111111,\"#46039f\"],[0.2222222222222222,\"#7201a8\"],[0.3333333333333333,\"#9c179e\"],[0.4444444444444444,\"#bd3786\"],[0.5555555555555556,\"#d8576b\"],[0.6666666666666666,\"#ed7953\"],[0.7777777777777778,\"#fb9f3a\"],[0.8888888888888888,\"#fdca26\"],[1.0,\"#f0f921\"]]}],\"choropleth\":[{\"type\":\"choropleth\",\"colorbar\":{\"outlinewidth\":0,\"ticks\":\"\"}}],\"histogram2d\":[{\"type\":\"histogram2d\",\"colorbar\":{\"outlinewidth\":0,\"ticks\":\"\"},\"colorscale\":[[0.0,\"#0d0887\"],[0.1111111111111111,\"#46039f\"],[0.2222222222222222,\"#7201a8\"],[0.3333333333333333,\"#9c179e\"],[0.4444444444444444,\"#bd3786\"],[0.5555555555555556,\"#d8576b\"],[0.6666666666666666,\"#ed7953\"],[0.7777777777777778,\"#fb9f3a\"],[0.8888888888888888,\"#fdca26\"],[1.0,\"#f0f921\"]]}],\"heatmap\":[{\"type\":\"heatmap\",\"colorbar\":{\"outlinewidth\":0,\"ticks\":\"\"},\"colorscale\":[[0.0,\"#0d0887\"],[0.1111111111111111,\"#46039f\"],[0.2222222222222222,\"#7201a8\"],[0.3333333333333333,\"#9c179e\"],[0.4444444444444444,\"#bd3786\"],[0.5555555555555556,\"#d8576b\"],[0.6666666666666666,\"#ed7953\"],[0.7777777777777778,\"#fb9f3a\"],[0.8888888888888888,\"#fdca26\"],[1.0,\"#f0f921\"]]}],\"heatmapgl\":[{\"type\":\"heatmapgl\",\"colorbar\":{\"outlinewidth\":0,\"ticks\":\"\"},\"colorscale\":[[0.0,\"#0d0887\"],[0.1111111111111111,\"#46039f\"],[0.2222222222222222,\"#7201a8\"],[0.3333333333333333,\"#9c179e\"],[0.4444444444444444,\"#bd3786\"],[0.5555555555555556,\"#d8576b\"],[0.6666666666666666,\"#ed7953\"],[0.7777777777777778,\"#fb9f3a\"],[0.8888888888888888,\"#fdca26\"],[1.0,\"#f0f921\"]]}],\"contourcarpet\":[{\"type\":\"contourcarpet\",\"colorbar\":{\"outlinewidth\":0,\"ticks\":\"\"}}],\"contour\":[{\"type\":\"contour\",\"colorbar\":{\"outlinewidth\":0,\"ticks\":\"\"},\"colorscale\":[[0.0,\"#0d0887\"],[0.1111111111111111,\"#46039f\"],[0.2222222222222222,\"#7201a8\"],[0.3333333333333333,\"#9c179e\"],[0.4444444444444444,\"#bd3786\"],[0.5555555555555556,\"#d8576b\"],[0.6666666666666666,\"#ed7953\"],[0.7777777777777778,\"#fb9f3a\"],[0.8888888888888888,\"#fdca26\"],[1.0,\"#f0f921\"]]}],\"surface\":[{\"type\":\"surface\",\"colorbar\":{\"outlinewidth\":0,\"ticks\":\"\"},\"colorscale\":[[0.0,\"#0d0887\"],[0.1111111111111111,\"#46039f\"],[0.2222222222222222,\"#7201a8\"],[0.3333333333333333,\"#9c179e\"],[0.4444444444444444,\"#bd3786\"],[0.5555555555555556,\"#d8576b\"],[0.6666666666666666,\"#ed7953\"],[0.7777777777777778,\"#fb9f3a\"],[0.8888888888888888,\"#fdca26\"],[1.0,\"#f0f921\"]]}],\"mesh3d\":[{\"type\":\"mesh3d\",\"colorbar\":{\"outlinewidth\":0,\"ticks\":\"\"}}],\"scatter\":[{\"fillpattern\":{\"fillmode\":\"overlay\",\"size\":10,\"solidity\":0.2},\"type\":\"scatter\"}],\"parcoords\":[{\"type\":\"parcoords\",\"line\":{\"colorbar\":{\"outlinewidth\":0,\"ticks\":\"\"}}}],\"scatterpolargl\":[{\"type\":\"scatterpolargl\",\"marker\":{\"colorbar\":{\"outlinewidth\":0,\"ticks\":\"\"}}}],\"bar\":[{\"error_x\":{\"color\":\"#2a3f5f\"},\"error_y\":{\"color\":\"#2a3f5f\"},\"marker\":{\"line\":{\"color\":\"#E5ECF6\",\"width\":0.5},\"pattern\":{\"fillmode\":\"overlay\",\"size\":10,\"solidity\":0.2}},\"type\":\"bar\"}],\"scattergeo\":[{\"type\":\"scattergeo\",\"marker\":{\"colorbar\":{\"outlinewidth\":0,\"ticks\":\"\"}}}],\"scatterpolar\":[{\"type\":\"scatterpolar\",\"marker\":{\"colorbar\":{\"outlinewidth\":0,\"ticks\":\"\"}}}],\"histogram\":[{\"marker\":{\"pattern\":{\"fillmode\":\"overlay\",\"size\":10,\"solidity\":0.2}},\"type\":\"histogram\"}],\"scattergl\":[{\"type\":\"scattergl\",\"marker\":{\"colorbar\":{\"outlinewidth\":0,\"ticks\":\"\"}}}],\"scatter3d\":[{\"type\":\"scatter3d\",\"line\":{\"colorbar\":{\"outlinewidth\":0,\"ticks\":\"\"}},\"marker\":{\"colorbar\":{\"outlinewidth\":0,\"ticks\":\"\"}}}],\"scattermapbox\":[{\"type\":\"scattermapbox\",\"marker\":{\"colorbar\":{\"outlinewidth\":0,\"ticks\":\"\"}}}],\"scatterternary\":[{\"type\":\"scatterternary\",\"marker\":{\"colorbar\":{\"outlinewidth\":0,\"ticks\":\"\"}}}],\"scattercarpet\":[{\"type\":\"scattercarpet\",\"marker\":{\"colorbar\":{\"outlinewidth\":0,\"ticks\":\"\"}}}],\"carpet\":[{\"aaxis\":{\"endlinecolor\":\"#2a3f5f\",\"gridcolor\":\"white\",\"linecolor\":\"white\",\"minorgridcolor\":\"white\",\"startlinecolor\":\"#2a3f5f\"},\"baxis\":{\"endlinecolor\":\"#2a3f5f\",\"gridcolor\":\"white\",\"linecolor\":\"white\",\"minorgridcolor\":\"white\",\"startlinecolor\":\"#2a3f5f\"},\"type\":\"carpet\"}],\"table\":[{\"cells\":{\"fill\":{\"color\":\"#EBF0F8\"},\"line\":{\"color\":\"white\"}},\"header\":{\"fill\":{\"color\":\"#C8D4E3\"},\"line\":{\"color\":\"white\"}},\"type\":\"table\"}],\"barpolar\":[{\"marker\":{\"line\":{\"color\":\"#E5ECF6\",\"width\":0.5},\"pattern\":{\"fillmode\":\"overlay\",\"size\":10,\"solidity\":0.2}},\"type\":\"barpolar\"}],\"pie\":[{\"automargin\":true,\"type\":\"pie\"}]},\"layout\":{\"autotypenumbers\":\"strict\",\"colorway\":[\"#636efa\",\"#EF553B\",\"#00cc96\",\"#ab63fa\",\"#FFA15A\",\"#19d3f3\",\"#FF6692\",\"#B6E880\",\"#FF97FF\",\"#FECB52\"],\"font\":{\"color\":\"#2a3f5f\"},\"hovermode\":\"closest\",\"hoverlabel\":{\"align\":\"left\"},\"paper_bgcolor\":\"white\",\"plot_bgcolor\":\"#E5ECF6\",\"polar\":{\"bgcolor\":\"#E5ECF6\",\"angularaxis\":{\"gridcolor\":\"white\",\"linecolor\":\"white\",\"ticks\":\"\"},\"radialaxis\":{\"gridcolor\":\"white\",\"linecolor\":\"white\",\"ticks\":\"\"}},\"ternary\":{\"bgcolor\":\"#E5ECF6\",\"aaxis\":{\"gridcolor\":\"white\",\"linecolor\":\"white\",\"ticks\":\"\"},\"baxis\":{\"gridcolor\":\"white\",\"linecolor\":\"white\",\"ticks\":\"\"},\"caxis\":{\"gridcolor\":\"white\",\"linecolor\":\"white\",\"ticks\":\"\"}},\"coloraxis\":{\"colorbar\":{\"outlinewidth\":0,\"ticks\":\"\"}},\"colorscale\":{\"sequential\":[[0.0,\"#0d0887\"],[0.1111111111111111,\"#46039f\"],[0.2222222222222222,\"#7201a8\"],[0.3333333333333333,\"#9c179e\"],[0.4444444444444444,\"#bd3786\"],[0.5555555555555556,\"#d8576b\"],[0.6666666666666666,\"#ed7953\"],[0.7777777777777778,\"#fb9f3a\"],[0.8888888888888888,\"#fdca26\"],[1.0,\"#f0f921\"]],\"sequentialminus\":[[0.0,\"#0d0887\"],[0.1111111111111111,\"#46039f\"],[0.2222222222222222,\"#7201a8\"],[0.3333333333333333,\"#9c179e\"],[0.4444444444444444,\"#bd3786\"],[0.5555555555555556,\"#d8576b\"],[0.6666666666666666,\"#ed7953\"],[0.7777777777777778,\"#fb9f3a\"],[0.8888888888888888,\"#fdca26\"],[1.0,\"#f0f921\"]],\"diverging\":[[0,\"#8e0152\"],[0.1,\"#c51b7d\"],[0.2,\"#de77ae\"],[0.3,\"#f1b6da\"],[0.4,\"#fde0ef\"],[0.5,\"#f7f7f7\"],[0.6,\"#e6f5d0\"],[0.7,\"#b8e186\"],[0.8,\"#7fbc41\"],[0.9,\"#4d9221\"],[1,\"#276419\"]]},\"xaxis\":{\"gridcolor\":\"white\",\"linecolor\":\"white\",\"ticks\":\"\",\"title\":{\"standoff\":15},\"zerolinecolor\":\"white\",\"automargin\":true,\"zerolinewidth\":2},\"yaxis\":{\"gridcolor\":\"white\",\"linecolor\":\"white\",\"ticks\":\"\",\"title\":{\"standoff\":15},\"zerolinecolor\":\"white\",\"automargin\":true,\"zerolinewidth\":2},\"scene\":{\"xaxis\":{\"backgroundcolor\":\"#E5ECF6\",\"gridcolor\":\"white\",\"linecolor\":\"white\",\"showbackground\":true,\"ticks\":\"\",\"zerolinecolor\":\"white\",\"gridwidth\":2},\"yaxis\":{\"backgroundcolor\":\"#E5ECF6\",\"gridcolor\":\"white\",\"linecolor\":\"white\",\"showbackground\":true,\"ticks\":\"\",\"zerolinecolor\":\"white\",\"gridwidth\":2},\"zaxis\":{\"backgroundcolor\":\"#E5ECF6\",\"gridcolor\":\"white\",\"linecolor\":\"white\",\"showbackground\":true,\"ticks\":\"\",\"zerolinecolor\":\"white\",\"gridwidth\":2}},\"shapedefaults\":{\"line\":{\"color\":\"#2a3f5f\"}},\"annotationdefaults\":{\"arrowcolor\":\"#2a3f5f\",\"arrowhead\":0,\"arrowwidth\":1},\"geo\":{\"bgcolor\":\"white\",\"landcolor\":\"#E5ECF6\",\"subunitcolor\":\"white\",\"showland\":true,\"showlakes\":true,\"lakecolor\":\"white\"},\"title\":{\"x\":0.05},\"mapbox\":{\"style\":\"light\"}}},\"title\":{\"font\":{\"size\":18,\"color\":\"#7aa64d\"},\"text\":\"Use of computer vision methods between man and woman<br><sup><i >Q3:What is your gender?</i></sup><br><sup><i >Q19:Which categories of computer vision methods do you use on a regular basis? </i></sup>\",\"y\":0.95,\"x\":0.5},\"margin\":{\"l\":50,\"r\":50,\"b\":100,\"t\":100,\"pad\":4},\"autosize\":false,\"width\":800,\"height\":500},                        {\"responsive\": true}                    ).then(function(){\n",
       "                            \n",
       "var gd = document.getElementById('f20b7bbf-1e9d-4cc6-a16b-78a8e890521f');\n",
       "var x = new MutationObserver(function (mutations, observer) {{\n",
       "        var display = window.getComputedStyle(gd).display;\n",
       "        if (!display || display === 'none') {{\n",
       "            console.log([gd, 'removed!']);\n",
       "            Plotly.purge(gd);\n",
       "            observer.disconnect();\n",
       "        }}\n",
       "}});\n",
       "\n",
       "// Listen for the removal of the full notebook cells\n",
       "var notebookContainer = gd.closest('#notebook-container');\n",
       "if (notebookContainer) {{\n",
       "    x.observe(notebookContainer, {childList: true});\n",
       "}}\n",
       "\n",
       "// Listen for the clearing of the current output cell\n",
       "var outputEl = gd.closest('.output');\n",
       "if (outputEl) {{\n",
       "    x.observe(outputEl, {childList: true});\n",
       "}}\n",
       "\n",
       "                        })                };                });            </script>        </div>"
      ]
     },
     "metadata": {},
     "output_type": "display_data"
    }
   ],
   "source": [
    "df=df_2022[df_2022['Gender'].isin(['Man','Woman'])].copy()\n",
    "drawCVMethodHeatMap(df,'Gender','CV','Computer Vision','Use of computer vision methods between man and woman'+'<br><sup><i >Q3:What is your gender?</i></sup>'+'<br><sup><i >Q19:Which categories of computer vision methods do you use on a regular basis? </i></sup>')"
   ]
  },
  {
   "cell_type": "markdown",
   "id": "f7385663",
   "metadata": {
    "papermill": {
     "duration": 0.01891,
     "end_time": "2022-11-27T02:56:09.371430",
     "exception": false,
     "start_time": "2022-11-27T02:56:09.352520",
     "status": "completed"
    },
    "tags": []
   },
   "source": [
    "<p class='default-font'>Both men and women mostly use Image Classification/General Networks. <b>Image segmentation method is sligtly more popular in women(21%)</b>.Men tend to use general image/video editing tools more frequently than women.</p>"
   ]
  },
  {
   "cell_type": "code",
   "execution_count": 29,
   "id": "4aa94917",
   "metadata": {
    "_kg_hide-input": true,
    "execution": {
     "iopub.execute_input": "2022-11-27T02:56:09.411604Z",
     "iopub.status.busy": "2022-11-27T02:56:09.411155Z",
     "iopub.status.idle": "2022-11-27T02:56:09.851205Z",
     "shell.execute_reply": "2022-11-27T02:56:09.850426Z"
    },
    "papermill": {
     "duration": 0.463055,
     "end_time": "2022-11-27T02:56:09.853503",
     "exception": false,
     "start_time": "2022-11-27T02:56:09.390448",
     "status": "completed"
    },
    "tags": []
   },
   "outputs": [
    {
     "data": {
      "text/html": [
       "<div>                            <div id=\"d48586f7-aa71-4ca4-b640-bacca1489fe3\" class=\"plotly-graph-div\" style=\"height:500px; width:800px;\"></div>            <script type=\"text/javascript\">                require([\"plotly\"], function(Plotly) {                    window.PLOTLYENV=window.PLOTLYENV || {};                                    if (document.getElementById(\"d48586f7-aa71-4ca4-b640-bacca1489fe3\")) {                    Plotly.newPlot(                        \"d48586f7-aa71-4ca4-b640-bacca1489fe3\",                        [{\"marker\":{\"color\":[17.38,19.58,17.29,28.0,10.61,5.49,1.65,18.95,16.01,17.32,27.78,12.09,6.21,1.63,16.67,15.0,20.0,28.33,15.0,3.33,1.67,17.98,17.42,20.34,26.78,9.55,7.23,0.7,17.68,20.44,19.89,22.65,11.6,6.63,1.1,18.7,17.39,20.43,29.13,8.26,5.22,0.87,19.66,20.51,17.95,29.91,6.84,4.27,0.85,18.9,16.77,18.9,28.35,8.23,7.32,1.52,14.78,19.13,19.13,30.43,8.7,7.83,0.0,18.13,21.81,16.43,28.05,9.35,4.82,1.42,19.1,22.47,15.73,26.97,8.99,5.62,1.12,16.94,16.12,20.22,25.41,10.93,7.92,2.46,17.37,17.66,20.96,28.74,7.78,5.09,2.4,17.9,16.05,23.46,30.25,7.41,3.7,1.23,17.5,12.5,30.0,27.5,10.0,2.5,0.0],\"colorbar\":{\"thickness\":10},\"colorscale\":[[0.0,\"rgb(243, 203, 211)\"],[0.16666666666666666,\"rgb(234, 169, 189)\"],[0.3333333333333333,\"rgb(221, 136, 172)\"],[0.5,\"rgb(202, 105, 157)\"],[0.6666666666666666,\"rgb(177, 77, 142)\"],[0.8333333333333334,\"rgb(145, 53, 125)\"],[1.0,\"rgb(108, 33, 103)\"]],\"size\":[17.38,19.58,17.29,28.0,10.61,5.49,1.65,18.95,16.01,17.32,27.78,12.09,6.21,1.63,16.67,15.0,20.0,28.33,15.0,3.33,1.67,17.98,17.42,20.34,26.78,9.55,7.23,0.7,17.68,20.44,19.89,22.65,11.6,6.63,1.1,18.7,17.39,20.43,29.13,8.26,5.22,0.87,19.66,20.51,17.95,29.91,6.84,4.27,0.85,18.9,16.77,18.9,28.35,8.23,7.32,1.52,14.78,19.13,19.13,30.43,8.7,7.83,0.0,18.13,21.81,16.43,28.05,9.35,4.82,1.42,19.1,22.47,15.73,26.97,8.99,5.62,1.12,16.94,16.12,20.22,25.41,10.93,7.92,2.46,17.37,17.66,20.96,28.74,7.78,5.09,2.4,17.9,16.05,23.46,30.25,7.41,3.7,1.23,17.5,12.5,30.0,27.5,10.0,2.5,0.0]},\"mode\":\"markers\",\"name\":\"\",\"showlegend\":false,\"text\":[17.38,19.58,17.29,28.0,10.61,5.49,1.65,18.95,16.01,17.32,27.78,12.09,6.21,1.63,16.67,15.0,20.0,28.33,15.0,3.33,1.67,17.98,17.42,20.34,26.78,9.55,7.23,0.7,17.68,20.44,19.89,22.65,11.6,6.63,1.1,18.7,17.39,20.43,29.13,8.26,5.22,0.87,19.66,20.51,17.95,29.91,6.84,4.27,0.85,18.9,16.77,18.9,28.35,8.23,7.32,1.52,14.78,19.13,19.13,30.43,8.7,7.83,0.0,18.13,21.81,16.43,28.05,9.35,4.82,1.42,19.1,22.47,15.73,26.97,8.99,5.62,1.12,16.94,16.12,20.22,25.41,10.93,7.92,2.46,17.37,17.66,20.96,28.74,7.78,5.09,2.4,17.9,16.05,23.46,30.25,7.41,3.7,1.23,17.5,12.5,30.0,27.5,10.0,2.5,0.0],\"x\":[\"Academics/Edu\",\"Academics/Edu\",\"Academics/Edu\",\"Academics/Edu\",\"Academics/Edu\",\"Academics/Edu\",\"Academics/Edu\",\"Accounting\",\"Accounting\",\"Accounting\",\"Accounting\",\"Accounting\",\"Accounting\",\"Accounting\",\"Broadcasting\",\"Broadcasting\",\"Broadcasting\",\"Broadcasting\",\"Broadcasting\",\"Broadcasting\",\"Broadcasting\",\"Com/Tech\",\"Com/Tech\",\"Com/Tech\",\"Com/Tech\",\"Com/Tech\",\"Com/Tech\",\"Com/Tech\",\"Energy/Mining\",\"Energy/Mining\",\"Energy/Mining\",\"Energy/Mining\",\"Energy/Mining\",\"Energy/Mining\",\"Energy/Mining\",\"Government\",\"Government\",\"Government\",\"Government\",\"Government\",\"Government\",\"Government\",\"Ins/Risk Assessment\",\"Ins/Risk Assessment\",\"Ins/Risk Assessment\",\"Ins/Risk Assessment\",\"Ins/Risk Assessment\",\"Ins/Risk Assessment\",\"Ins/Risk Assessment\",\"Mfs/Fabrication\",\"Mfs/Fabrication\",\"Mfs/Fabrication\",\"Mfs/Fabrication\",\"Mfs/Fabrication\",\"Mfs/Fabrication\",\"Mfs/Fabrication\",\"Marketing/CRM\",\"Marketing/CRM\",\"Marketing/CRM\",\"Marketing/CRM\",\"Marketing/CRM\",\"Marketing/CRM\",\"Marketing/CRM\",\"Medical/Pharma\",\"Medical/Pharma\",\"Medical/Pharma\",\"Medical/Pharma\",\"Medical/Pharma\",\"Medical/Pharma\",\"Medical/Pharma\",\"Non-profit/Service\",\"Non-profit/Service\",\"Non-profit/Service\",\"Non-profit/Service\",\"Non-profit/Service\",\"Non-profit/Service\",\"Non-profit/Service\",\"Online Service\",\"Online Service\",\"Online Service\",\"Online Service\",\"Online Service\",\"Online Service\",\"Online Service\",\"Other\",\"Other\",\"Other\",\"Other\",\"Other\",\"Other\",\"Other\",\"Retail/Sales\",\"Retail/Sales\",\"Retail/Sales\",\"Retail/Sales\",\"Retail/Sales\",\"Retail/Sales\",\"Retail/Sales\",\"Ship/Trans\",\"Ship/Trans\",\"Ship/Trans\",\"Ship/Trans\",\"Ship/Trans\",\"Ship/Trans\",\"Ship/Trans\"],\"y\":[\"General img/video tools \",\"Img segmentation\",\"Obj detection\",\"Img claasify/General Nets \",\"GAN\",\"ViT\",\"Other\",\"General img/video tools \",\"Img segmentation\",\"Obj detection\",\"Img claasify/General Nets \",\"GAN\",\"ViT\",\"Other\",\"General img/video tools \",\"Img segmentation\",\"Obj detection\",\"Img claasify/General Nets \",\"GAN\",\"ViT\",\"Other\",\"General img/video tools \",\"Img segmentation\",\"Obj detection\",\"Img claasify/General Nets \",\"GAN\",\"ViT\",\"Other\",\"General img/video tools \",\"Img segmentation\",\"Obj detection\",\"Img claasify/General Nets \",\"GAN\",\"ViT\",\"Other\",\"General img/video tools \",\"Img segmentation\",\"Obj detection\",\"Img claasify/General Nets \",\"GAN\",\"ViT\",\"Other\",\"General img/video tools \",\"Img segmentation\",\"Obj detection\",\"Img claasify/General Nets \",\"GAN\",\"ViT\",\"Other\",\"General img/video tools \",\"Img segmentation\",\"Obj detection\",\"Img claasify/General Nets \",\"GAN\",\"ViT\",\"Other\",\"General img/video tools \",\"Img segmentation\",\"Obj detection\",\"Img claasify/General Nets \",\"GAN\",\"ViT\",\"Other\",\"General img/video tools \",\"Img segmentation\",\"Obj detection\",\"Img claasify/General Nets \",\"GAN\",\"ViT\",\"Other\",\"General img/video tools \",\"Img segmentation\",\"Obj detection\",\"Img claasify/General Nets \",\"GAN\",\"ViT\",\"Other\",\"General img/video tools \",\"Img segmentation\",\"Obj detection\",\"Img claasify/General Nets \",\"GAN\",\"ViT\",\"Other\",\"General img/video tools \",\"Img segmentation\",\"Obj detection\",\"Img claasify/General Nets \",\"GAN\",\"ViT\",\"Other\",\"General img/video tools \",\"Img segmentation\",\"Obj detection\",\"Img claasify/General Nets \",\"GAN\",\"ViT\",\"Other\",\"General img/video tools \",\"Img segmentation\",\"Obj detection\",\"Img claasify/General Nets \",\"GAN\",\"ViT\",\"Other\"],\"type\":\"scatter\",\"textfont\":{\"size\":14}}],                        {\"template\":{\"data\":{\"histogram2dcontour\":[{\"type\":\"histogram2dcontour\",\"colorbar\":{\"outlinewidth\":0,\"ticks\":\"\"},\"colorscale\":[[0.0,\"#0d0887\"],[0.1111111111111111,\"#46039f\"],[0.2222222222222222,\"#7201a8\"],[0.3333333333333333,\"#9c179e\"],[0.4444444444444444,\"#bd3786\"],[0.5555555555555556,\"#d8576b\"],[0.6666666666666666,\"#ed7953\"],[0.7777777777777778,\"#fb9f3a\"],[0.8888888888888888,\"#fdca26\"],[1.0,\"#f0f921\"]]}],\"choropleth\":[{\"type\":\"choropleth\",\"colorbar\":{\"outlinewidth\":0,\"ticks\":\"\"}}],\"histogram2d\":[{\"type\":\"histogram2d\",\"colorbar\":{\"outlinewidth\":0,\"ticks\":\"\"},\"colorscale\":[[0.0,\"#0d0887\"],[0.1111111111111111,\"#46039f\"],[0.2222222222222222,\"#7201a8\"],[0.3333333333333333,\"#9c179e\"],[0.4444444444444444,\"#bd3786\"],[0.5555555555555556,\"#d8576b\"],[0.6666666666666666,\"#ed7953\"],[0.7777777777777778,\"#fb9f3a\"],[0.8888888888888888,\"#fdca26\"],[1.0,\"#f0f921\"]]}],\"heatmap\":[{\"type\":\"heatmap\",\"colorbar\":{\"outlinewidth\":0,\"ticks\":\"\"},\"colorscale\":[[0.0,\"#0d0887\"],[0.1111111111111111,\"#46039f\"],[0.2222222222222222,\"#7201a8\"],[0.3333333333333333,\"#9c179e\"],[0.4444444444444444,\"#bd3786\"],[0.5555555555555556,\"#d8576b\"],[0.6666666666666666,\"#ed7953\"],[0.7777777777777778,\"#fb9f3a\"],[0.8888888888888888,\"#fdca26\"],[1.0,\"#f0f921\"]]}],\"heatmapgl\":[{\"type\":\"heatmapgl\",\"colorbar\":{\"outlinewidth\":0,\"ticks\":\"\"},\"colorscale\":[[0.0,\"#0d0887\"],[0.1111111111111111,\"#46039f\"],[0.2222222222222222,\"#7201a8\"],[0.3333333333333333,\"#9c179e\"],[0.4444444444444444,\"#bd3786\"],[0.5555555555555556,\"#d8576b\"],[0.6666666666666666,\"#ed7953\"],[0.7777777777777778,\"#fb9f3a\"],[0.8888888888888888,\"#fdca26\"],[1.0,\"#f0f921\"]]}],\"contourcarpet\":[{\"type\":\"contourcarpet\",\"colorbar\":{\"outlinewidth\":0,\"ticks\":\"\"}}],\"contour\":[{\"type\":\"contour\",\"colorbar\":{\"outlinewidth\":0,\"ticks\":\"\"},\"colorscale\":[[0.0,\"#0d0887\"],[0.1111111111111111,\"#46039f\"],[0.2222222222222222,\"#7201a8\"],[0.3333333333333333,\"#9c179e\"],[0.4444444444444444,\"#bd3786\"],[0.5555555555555556,\"#d8576b\"],[0.6666666666666666,\"#ed7953\"],[0.7777777777777778,\"#fb9f3a\"],[0.8888888888888888,\"#fdca26\"],[1.0,\"#f0f921\"]]}],\"surface\":[{\"type\":\"surface\",\"colorbar\":{\"outlinewidth\":0,\"ticks\":\"\"},\"colorscale\":[[0.0,\"#0d0887\"],[0.1111111111111111,\"#46039f\"],[0.2222222222222222,\"#7201a8\"],[0.3333333333333333,\"#9c179e\"],[0.4444444444444444,\"#bd3786\"],[0.5555555555555556,\"#d8576b\"],[0.6666666666666666,\"#ed7953\"],[0.7777777777777778,\"#fb9f3a\"],[0.8888888888888888,\"#fdca26\"],[1.0,\"#f0f921\"]]}],\"mesh3d\":[{\"type\":\"mesh3d\",\"colorbar\":{\"outlinewidth\":0,\"ticks\":\"\"}}],\"scatter\":[{\"fillpattern\":{\"fillmode\":\"overlay\",\"size\":10,\"solidity\":0.2},\"type\":\"scatter\"}],\"parcoords\":[{\"type\":\"parcoords\",\"line\":{\"colorbar\":{\"outlinewidth\":0,\"ticks\":\"\"}}}],\"scatterpolargl\":[{\"type\":\"scatterpolargl\",\"marker\":{\"colorbar\":{\"outlinewidth\":0,\"ticks\":\"\"}}}],\"bar\":[{\"error_x\":{\"color\":\"#2a3f5f\"},\"error_y\":{\"color\":\"#2a3f5f\"},\"marker\":{\"line\":{\"color\":\"#E5ECF6\",\"width\":0.5},\"pattern\":{\"fillmode\":\"overlay\",\"size\":10,\"solidity\":0.2}},\"type\":\"bar\"}],\"scattergeo\":[{\"type\":\"scattergeo\",\"marker\":{\"colorbar\":{\"outlinewidth\":0,\"ticks\":\"\"}}}],\"scatterpolar\":[{\"type\":\"scatterpolar\",\"marker\":{\"colorbar\":{\"outlinewidth\":0,\"ticks\":\"\"}}}],\"histogram\":[{\"marker\":{\"pattern\":{\"fillmode\":\"overlay\",\"size\":10,\"solidity\":0.2}},\"type\":\"histogram\"}],\"scattergl\":[{\"type\":\"scattergl\",\"marker\":{\"colorbar\":{\"outlinewidth\":0,\"ticks\":\"\"}}}],\"scatter3d\":[{\"type\":\"scatter3d\",\"line\":{\"colorbar\":{\"outlinewidth\":0,\"ticks\":\"\"}},\"marker\":{\"colorbar\":{\"outlinewidth\":0,\"ticks\":\"\"}}}],\"scattermapbox\":[{\"type\":\"scattermapbox\",\"marker\":{\"colorbar\":{\"outlinewidth\":0,\"ticks\":\"\"}}}],\"scatterternary\":[{\"type\":\"scatterternary\",\"marker\":{\"colorbar\":{\"outlinewidth\":0,\"ticks\":\"\"}}}],\"scattercarpet\":[{\"type\":\"scattercarpet\",\"marker\":{\"colorbar\":{\"outlinewidth\":0,\"ticks\":\"\"}}}],\"carpet\":[{\"aaxis\":{\"endlinecolor\":\"#2a3f5f\",\"gridcolor\":\"white\",\"linecolor\":\"white\",\"minorgridcolor\":\"white\",\"startlinecolor\":\"#2a3f5f\"},\"baxis\":{\"endlinecolor\":\"#2a3f5f\",\"gridcolor\":\"white\",\"linecolor\":\"white\",\"minorgridcolor\":\"white\",\"startlinecolor\":\"#2a3f5f\"},\"type\":\"carpet\"}],\"table\":[{\"cells\":{\"fill\":{\"color\":\"#EBF0F8\"},\"line\":{\"color\":\"white\"}},\"header\":{\"fill\":{\"color\":\"#C8D4E3\"},\"line\":{\"color\":\"white\"}},\"type\":\"table\"}],\"barpolar\":[{\"marker\":{\"line\":{\"color\":\"#E5ECF6\",\"width\":0.5},\"pattern\":{\"fillmode\":\"overlay\",\"size\":10,\"solidity\":0.2}},\"type\":\"barpolar\"}],\"pie\":[{\"automargin\":true,\"type\":\"pie\"}]},\"layout\":{\"autotypenumbers\":\"strict\",\"colorway\":[\"#636efa\",\"#EF553B\",\"#00cc96\",\"#ab63fa\",\"#FFA15A\",\"#19d3f3\",\"#FF6692\",\"#B6E880\",\"#FF97FF\",\"#FECB52\"],\"font\":{\"color\":\"#2a3f5f\"},\"hovermode\":\"closest\",\"hoverlabel\":{\"align\":\"left\"},\"paper_bgcolor\":\"white\",\"plot_bgcolor\":\"#E5ECF6\",\"polar\":{\"bgcolor\":\"#E5ECF6\",\"angularaxis\":{\"gridcolor\":\"white\",\"linecolor\":\"white\",\"ticks\":\"\"},\"radialaxis\":{\"gridcolor\":\"white\",\"linecolor\":\"white\",\"ticks\":\"\"}},\"ternary\":{\"bgcolor\":\"#E5ECF6\",\"aaxis\":{\"gridcolor\":\"white\",\"linecolor\":\"white\",\"ticks\":\"\"},\"baxis\":{\"gridcolor\":\"white\",\"linecolor\":\"white\",\"ticks\":\"\"},\"caxis\":{\"gridcolor\":\"white\",\"linecolor\":\"white\",\"ticks\":\"\"}},\"coloraxis\":{\"colorbar\":{\"outlinewidth\":0,\"ticks\":\"\"}},\"colorscale\":{\"sequential\":[[0.0,\"#0d0887\"],[0.1111111111111111,\"#46039f\"],[0.2222222222222222,\"#7201a8\"],[0.3333333333333333,\"#9c179e\"],[0.4444444444444444,\"#bd3786\"],[0.5555555555555556,\"#d8576b\"],[0.6666666666666666,\"#ed7953\"],[0.7777777777777778,\"#fb9f3a\"],[0.8888888888888888,\"#fdca26\"],[1.0,\"#f0f921\"]],\"sequentialminus\":[[0.0,\"#0d0887\"],[0.1111111111111111,\"#46039f\"],[0.2222222222222222,\"#7201a8\"],[0.3333333333333333,\"#9c179e\"],[0.4444444444444444,\"#bd3786\"],[0.5555555555555556,\"#d8576b\"],[0.6666666666666666,\"#ed7953\"],[0.7777777777777778,\"#fb9f3a\"],[0.8888888888888888,\"#fdca26\"],[1.0,\"#f0f921\"]],\"diverging\":[[0,\"#8e0152\"],[0.1,\"#c51b7d\"],[0.2,\"#de77ae\"],[0.3,\"#f1b6da\"],[0.4,\"#fde0ef\"],[0.5,\"#f7f7f7\"],[0.6,\"#e6f5d0\"],[0.7,\"#b8e186\"],[0.8,\"#7fbc41\"],[0.9,\"#4d9221\"],[1,\"#276419\"]]},\"xaxis\":{\"gridcolor\":\"white\",\"linecolor\":\"white\",\"ticks\":\"\",\"title\":{\"standoff\":15},\"zerolinecolor\":\"white\",\"automargin\":true,\"zerolinewidth\":2},\"yaxis\":{\"gridcolor\":\"white\",\"linecolor\":\"white\",\"ticks\":\"\",\"title\":{\"standoff\":15},\"zerolinecolor\":\"white\",\"automargin\":true,\"zerolinewidth\":2},\"scene\":{\"xaxis\":{\"backgroundcolor\":\"#E5ECF6\",\"gridcolor\":\"white\",\"linecolor\":\"white\",\"showbackground\":true,\"ticks\":\"\",\"zerolinecolor\":\"white\",\"gridwidth\":2},\"yaxis\":{\"backgroundcolor\":\"#E5ECF6\",\"gridcolor\":\"white\",\"linecolor\":\"white\",\"showbackground\":true,\"ticks\":\"\",\"zerolinecolor\":\"white\",\"gridwidth\":2},\"zaxis\":{\"backgroundcolor\":\"#E5ECF6\",\"gridcolor\":\"white\",\"linecolor\":\"white\",\"showbackground\":true,\"ticks\":\"\",\"zerolinecolor\":\"white\",\"gridwidth\":2}},\"shapedefaults\":{\"line\":{\"color\":\"#2a3f5f\"}},\"annotationdefaults\":{\"arrowcolor\":\"#2a3f5f\",\"arrowhead\":0,\"arrowwidth\":1},\"geo\":{\"bgcolor\":\"white\",\"landcolor\":\"#E5ECF6\",\"subunitcolor\":\"white\",\"showland\":true,\"showlakes\":true,\"lakecolor\":\"white\"},\"title\":{\"x\":0.05},\"mapbox\":{\"style\":\"light\"}}},\"xaxis\":{\"tickangle\":25,\"showgrid\":false},\"yaxis\":{\"showgrid\":false},\"title\":{\"font\":{\"size\":18,\"color\":\"#7aa64d\"},\"text\":\"Use of Computer Vision Methods in different Industry<br><sup><i >Q24:In what industry is your current employer/contract?</i></sup><br><sup><i >Q19:Which categories of computer vision methods do you use on a regular basis? </i></sup>\",\"y\":0.9,\"x\":0.5},\"margin\":{\"l\":50,\"r\":50,\"b\":100,\"t\":100,\"pad\":4},\"autosize\":false,\"width\":800,\"height\":500},                        {\"responsive\": true}                    ).then(function(){\n",
       "                            \n",
       "var gd = document.getElementById('d48586f7-aa71-4ca4-b640-bacca1489fe3');\n",
       "var x = new MutationObserver(function (mutations, observer) {{\n",
       "        var display = window.getComputedStyle(gd).display;\n",
       "        if (!display || display === 'none') {{\n",
       "            console.log([gd, 'removed!']);\n",
       "            Plotly.purge(gd);\n",
       "            observer.disconnect();\n",
       "        }}\n",
       "}});\n",
       "\n",
       "// Listen for the removal of the full notebook cells\n",
       "var notebookContainer = gd.closest('#notebook-container');\n",
       "if (notebookContainer) {{\n",
       "    x.observe(notebookContainer, {childList: true});\n",
       "}}\n",
       "\n",
       "// Listen for the clearing of the current output cell\n",
       "var outputEl = gd.closest('.output');\n",
       "if (outputEl) {{\n",
       "    x.observe(outputEl, {childList: true});\n",
       "}}\n",
       "\n",
       "                        })                };                });            </script>        </div>"
      ]
     },
     "metadata": {},
     "output_type": "display_data"
    }
   ],
   "source": [
    "keyword='CV'\n",
    "keyword_name='Computer Vision'\n",
    "df=df_2022.copy()\n",
    "df=df[df['CV_None']=='UsesCV'].copy()\n",
    "df.drop(columns=['CV_None'],inplace=True)\n",
    "\n",
    "df=get_industry_wise_df(df,keyword,keyword_name,True)\n",
    "\n",
    "df[keyword_name]=df[keyword_name].apply(lambda x: cv_name_mapping(x))\n",
    "df['Industry']=df['Industry'].apply(lambda x: industry_name_mapping(x))\n",
    "\n",
    "fig = go.Figure((go.Scatter(x=df['Industry'], y=df[keyword_name], showlegend=False,text=df['Percentage'],\n",
    "                    mode='markers',name='',marker=dict(color=df['Percentage'],colorscale ='Magenta',colorbar=dict(thickness=10),size=df['Percentage']*1,)))\n",
    "               )\n",
    "fig.update_traces(textfont_size=14)\n",
    "fig.update_xaxes(tickangle=25)\n",
    "fig.update_xaxes(showgrid=False)\n",
    "fig.update_yaxes(showgrid=False)\n",
    "fig.update_layout(title_text='Use of Computer Vision Methods in different Industry'+'<br><sup><i >Q24:In what industry is your current employer/contract?</i></sup>'+'<br><sup><i >Q19:Which categories of computer vision methods do you use on a regular basis? </i></sup>', title_y=0.90, \n",
    "                  title_x=0.5,autosize=False,width=800,height=500,margin=dict(l=50,r=50,b=100,t=100,pad=4),title_font=dict(size=18,color='#7aa64d'))\n",
    "fig.show()        "
   ]
  },
  {
   "cell_type": "markdown",
   "id": "99dab254",
   "metadata": {
    "papermill": {
     "duration": 0.019239,
     "end_time": "2022-11-27T02:56:09.892389",
     "exception": false,
     "start_time": "2022-11-27T02:56:09.873150",
     "status": "completed"
    },
    "tags": []
   },
   "source": [
    "<p class='default-font'>Kagglers from all industries mostly use Image Classification/ General Networks. \n",
    "<b>The use of Object Detection in Shipping/Transport is greater than in any other industry(30%).</b> The use of Image Segmentation does not vary that much depending upon the industry.Though GAN is less used by Kagglers regardless of industry, interestingly <b>the use of GAN  in Broadcasting industry is greater than other industries(15%)</b>.</p>"
   ]
  },
  {
   "cell_type": "code",
   "execution_count": 30,
   "id": "bfdeca43",
   "metadata": {
    "_kg_hide-input": true,
    "execution": {
     "iopub.execute_input": "2022-11-27T02:56:09.933658Z",
     "iopub.status.busy": "2022-11-27T02:56:09.932659Z",
     "iopub.status.idle": "2022-11-27T02:56:10.152286Z",
     "shell.execute_reply": "2022-11-27T02:56:10.151181Z"
    },
    "papermill": {
     "duration": 0.242935,
     "end_time": "2022-11-27T02:56:10.154837",
     "exception": false,
     "start_time": "2022-11-27T02:56:09.911902",
     "status": "completed"
    },
    "tags": []
   },
   "outputs": [
    {
     "data": {
      "text/html": [
       "<div>                            <div id=\"91588b51-7b78-43fc-a39e-0131536e09d3\" class=\"plotly-graph-div\" style=\"height:500px; width:800px;\"></div>            <script type=\"text/javascript\">                require([\"plotly\"], function(Plotly) {                    window.PLOTLYENV=window.PLOTLYENV || {};                                    if (document.getElementById(\"91588b51-7b78-43fc-a39e-0131536e09d3\")) {                    Plotly.newPlot(                        \"91588b51-7b78-43fc-a39e-0131536e09d3\",                        [{\"colorscale\":[[0.0,\"rgb(243, 203, 211)\"],[0.16666666666666666,\"rgb(234, 169, 189)\"],[0.3333333333333333,\"rgb(221, 136, 172)\"],[0.5,\"rgb(202, 105, 157)\"],[0.6666666666666666,\"rgb(177, 77, 142)\"],[0.8333333333333334,\"rgb(145, 53, 125)\"],[1.0,\"rgb(108, 33, 103)\"]],\"text\":[\"\",22.98,19.57,27.02,\"\",\"\",\"\",15.87,\"\",20.63,25.4,17.46,\"\",\"\",17.14,17.52,20.35,28.8,\"\",\"\",\"\",17.75,17.75,20.91,25.56,\"\",\"\",\"\",17.4,19.54,16.55,25.68,\"\",\"\",\"\",19.14,18.65,17.33,29.54,\"\",\"\",\"\"],\"texttemplate\":\"%{text}\",\"x\":[\"Data Analyst\",\"Data Analyst\",\"Data Analyst\",\"Data Analyst\",\"Data Analyst\",\"Data Analyst\",\"Data Analyst\",\"Data Architect\",\"Data Architect\",\"Data Architect\",\"Data Architect\",\"Data Architect\",\"Data Architect\",\"Data Architect\",\"Data Scientist\",\"Data Scientist\",\"Data Scientist\",\"Data Scientist\",\"Data Scientist\",\"Data Scientist\",\"Data Scientist\",\"ML/MLops Engineer\",\"ML/MLops Engineer\",\"ML/MLops Engineer\",\"ML/MLops Engineer\",\"ML/MLops Engineer\",\"ML/MLops Engineer\",\"ML/MLops Engineer\",\"Research Scientist\",\"Research Scientist\",\"Research Scientist\",\"Research Scientist\",\"Research Scientist\",\"Research Scientist\",\"Research Scientist\",\"Teacher / professor\",\"Teacher / professor\",\"Teacher / professor\",\"Teacher / professor\",\"Teacher / professor\",\"Teacher / professor\",\"Teacher / professor\"],\"y\":[\"General img/video tools \",\"Img segmentation\",\"Obj detection\",\"Img claasify/General Nets \",\"GAN\",\"ViT\",\"Other\",\"General img/video tools \",\"Img segmentation\",\"Obj detection\",\"Img claasify/General Nets \",\"GAN\",\"ViT\",\"Other\",\"General img/video tools \",\"Img segmentation\",\"Obj detection\",\"Img claasify/General Nets \",\"GAN\",\"ViT\",\"Other\",\"General img/video tools \",\"Img segmentation\",\"Obj detection\",\"Img claasify/General Nets \",\"GAN\",\"ViT\",\"Other\",\"General img/video tools \",\"Img segmentation\",\"Obj detection\",\"Img claasify/General Nets \",\"GAN\",\"ViT\",\"Other\",\"General img/video tools \",\"Img segmentation\",\"Obj detection\",\"Img claasify/General Nets \",\"GAN\",\"ViT\",\"Other\"],\"z\":[14.29,22.98,19.57,27.02,10.56,4.35,1.24,15.87,12.7,20.63,25.4,17.46,4.76,3.17,17.14,17.52,20.35,28.8,8.63,6.62,0.95,17.75,17.75,20.91,25.56,8.83,8.36,0.84,17.4,19.54,16.55,25.68,11.7,7.42,1.71,19.14,18.65,17.33,29.54,9.57,3.96,1.82],\"type\":\"heatmap\"}],                        {\"template\":{\"data\":{\"histogram2dcontour\":[{\"type\":\"histogram2dcontour\",\"colorbar\":{\"outlinewidth\":0,\"ticks\":\"\"},\"colorscale\":[[0.0,\"#0d0887\"],[0.1111111111111111,\"#46039f\"],[0.2222222222222222,\"#7201a8\"],[0.3333333333333333,\"#9c179e\"],[0.4444444444444444,\"#bd3786\"],[0.5555555555555556,\"#d8576b\"],[0.6666666666666666,\"#ed7953\"],[0.7777777777777778,\"#fb9f3a\"],[0.8888888888888888,\"#fdca26\"],[1.0,\"#f0f921\"]]}],\"choropleth\":[{\"type\":\"choropleth\",\"colorbar\":{\"outlinewidth\":0,\"ticks\":\"\"}}],\"histogram2d\":[{\"type\":\"histogram2d\",\"colorbar\":{\"outlinewidth\":0,\"ticks\":\"\"},\"colorscale\":[[0.0,\"#0d0887\"],[0.1111111111111111,\"#46039f\"],[0.2222222222222222,\"#7201a8\"],[0.3333333333333333,\"#9c179e\"],[0.4444444444444444,\"#bd3786\"],[0.5555555555555556,\"#d8576b\"],[0.6666666666666666,\"#ed7953\"],[0.7777777777777778,\"#fb9f3a\"],[0.8888888888888888,\"#fdca26\"],[1.0,\"#f0f921\"]]}],\"heatmap\":[{\"type\":\"heatmap\",\"colorbar\":{\"outlinewidth\":0,\"ticks\":\"\"},\"colorscale\":[[0.0,\"#0d0887\"],[0.1111111111111111,\"#46039f\"],[0.2222222222222222,\"#7201a8\"],[0.3333333333333333,\"#9c179e\"],[0.4444444444444444,\"#bd3786\"],[0.5555555555555556,\"#d8576b\"],[0.6666666666666666,\"#ed7953\"],[0.7777777777777778,\"#fb9f3a\"],[0.8888888888888888,\"#fdca26\"],[1.0,\"#f0f921\"]]}],\"heatmapgl\":[{\"type\":\"heatmapgl\",\"colorbar\":{\"outlinewidth\":0,\"ticks\":\"\"},\"colorscale\":[[0.0,\"#0d0887\"],[0.1111111111111111,\"#46039f\"],[0.2222222222222222,\"#7201a8\"],[0.3333333333333333,\"#9c179e\"],[0.4444444444444444,\"#bd3786\"],[0.5555555555555556,\"#d8576b\"],[0.6666666666666666,\"#ed7953\"],[0.7777777777777778,\"#fb9f3a\"],[0.8888888888888888,\"#fdca26\"],[1.0,\"#f0f921\"]]}],\"contourcarpet\":[{\"type\":\"contourcarpet\",\"colorbar\":{\"outlinewidth\":0,\"ticks\":\"\"}}],\"contour\":[{\"type\":\"contour\",\"colorbar\":{\"outlinewidth\":0,\"ticks\":\"\"},\"colorscale\":[[0.0,\"#0d0887\"],[0.1111111111111111,\"#46039f\"],[0.2222222222222222,\"#7201a8\"],[0.3333333333333333,\"#9c179e\"],[0.4444444444444444,\"#bd3786\"],[0.5555555555555556,\"#d8576b\"],[0.6666666666666666,\"#ed7953\"],[0.7777777777777778,\"#fb9f3a\"],[0.8888888888888888,\"#fdca26\"],[1.0,\"#f0f921\"]]}],\"surface\":[{\"type\":\"surface\",\"colorbar\":{\"outlinewidth\":0,\"ticks\":\"\"},\"colorscale\":[[0.0,\"#0d0887\"],[0.1111111111111111,\"#46039f\"],[0.2222222222222222,\"#7201a8\"],[0.3333333333333333,\"#9c179e\"],[0.4444444444444444,\"#bd3786\"],[0.5555555555555556,\"#d8576b\"],[0.6666666666666666,\"#ed7953\"],[0.7777777777777778,\"#fb9f3a\"],[0.8888888888888888,\"#fdca26\"],[1.0,\"#f0f921\"]]}],\"mesh3d\":[{\"type\":\"mesh3d\",\"colorbar\":{\"outlinewidth\":0,\"ticks\":\"\"}}],\"scatter\":[{\"fillpattern\":{\"fillmode\":\"overlay\",\"size\":10,\"solidity\":0.2},\"type\":\"scatter\"}],\"parcoords\":[{\"type\":\"parcoords\",\"line\":{\"colorbar\":{\"outlinewidth\":0,\"ticks\":\"\"}}}],\"scatterpolargl\":[{\"type\":\"scatterpolargl\",\"marker\":{\"colorbar\":{\"outlinewidth\":0,\"ticks\":\"\"}}}],\"bar\":[{\"error_x\":{\"color\":\"#2a3f5f\"},\"error_y\":{\"color\":\"#2a3f5f\"},\"marker\":{\"line\":{\"color\":\"#E5ECF6\",\"width\":0.5},\"pattern\":{\"fillmode\":\"overlay\",\"size\":10,\"solidity\":0.2}},\"type\":\"bar\"}],\"scattergeo\":[{\"type\":\"scattergeo\",\"marker\":{\"colorbar\":{\"outlinewidth\":0,\"ticks\":\"\"}}}],\"scatterpolar\":[{\"type\":\"scatterpolar\",\"marker\":{\"colorbar\":{\"outlinewidth\":0,\"ticks\":\"\"}}}],\"histogram\":[{\"marker\":{\"pattern\":{\"fillmode\":\"overlay\",\"size\":10,\"solidity\":0.2}},\"type\":\"histogram\"}],\"scattergl\":[{\"type\":\"scattergl\",\"marker\":{\"colorbar\":{\"outlinewidth\":0,\"ticks\":\"\"}}}],\"scatter3d\":[{\"type\":\"scatter3d\",\"line\":{\"colorbar\":{\"outlinewidth\":0,\"ticks\":\"\"}},\"marker\":{\"colorbar\":{\"outlinewidth\":0,\"ticks\":\"\"}}}],\"scattermapbox\":[{\"type\":\"scattermapbox\",\"marker\":{\"colorbar\":{\"outlinewidth\":0,\"ticks\":\"\"}}}],\"scatterternary\":[{\"type\":\"scatterternary\",\"marker\":{\"colorbar\":{\"outlinewidth\":0,\"ticks\":\"\"}}}],\"scattercarpet\":[{\"type\":\"scattercarpet\",\"marker\":{\"colorbar\":{\"outlinewidth\":0,\"ticks\":\"\"}}}],\"carpet\":[{\"aaxis\":{\"endlinecolor\":\"#2a3f5f\",\"gridcolor\":\"white\",\"linecolor\":\"white\",\"minorgridcolor\":\"white\",\"startlinecolor\":\"#2a3f5f\"},\"baxis\":{\"endlinecolor\":\"#2a3f5f\",\"gridcolor\":\"white\",\"linecolor\":\"white\",\"minorgridcolor\":\"white\",\"startlinecolor\":\"#2a3f5f\"},\"type\":\"carpet\"}],\"table\":[{\"cells\":{\"fill\":{\"color\":\"#EBF0F8\"},\"line\":{\"color\":\"white\"}},\"header\":{\"fill\":{\"color\":\"#C8D4E3\"},\"line\":{\"color\":\"white\"}},\"type\":\"table\"}],\"barpolar\":[{\"marker\":{\"line\":{\"color\":\"#E5ECF6\",\"width\":0.5},\"pattern\":{\"fillmode\":\"overlay\",\"size\":10,\"solidity\":0.2}},\"type\":\"barpolar\"}],\"pie\":[{\"automargin\":true,\"type\":\"pie\"}]},\"layout\":{\"autotypenumbers\":\"strict\",\"colorway\":[\"#636efa\",\"#EF553B\",\"#00cc96\",\"#ab63fa\",\"#FFA15A\",\"#19d3f3\",\"#FF6692\",\"#B6E880\",\"#FF97FF\",\"#FECB52\"],\"font\":{\"color\":\"#2a3f5f\"},\"hovermode\":\"closest\",\"hoverlabel\":{\"align\":\"left\"},\"paper_bgcolor\":\"white\",\"plot_bgcolor\":\"#E5ECF6\",\"polar\":{\"bgcolor\":\"#E5ECF6\",\"angularaxis\":{\"gridcolor\":\"white\",\"linecolor\":\"white\",\"ticks\":\"\"},\"radialaxis\":{\"gridcolor\":\"white\",\"linecolor\":\"white\",\"ticks\":\"\"}},\"ternary\":{\"bgcolor\":\"#E5ECF6\",\"aaxis\":{\"gridcolor\":\"white\",\"linecolor\":\"white\",\"ticks\":\"\"},\"baxis\":{\"gridcolor\":\"white\",\"linecolor\":\"white\",\"ticks\":\"\"},\"caxis\":{\"gridcolor\":\"white\",\"linecolor\":\"white\",\"ticks\":\"\"}},\"coloraxis\":{\"colorbar\":{\"outlinewidth\":0,\"ticks\":\"\"}},\"colorscale\":{\"sequential\":[[0.0,\"#0d0887\"],[0.1111111111111111,\"#46039f\"],[0.2222222222222222,\"#7201a8\"],[0.3333333333333333,\"#9c179e\"],[0.4444444444444444,\"#bd3786\"],[0.5555555555555556,\"#d8576b\"],[0.6666666666666666,\"#ed7953\"],[0.7777777777777778,\"#fb9f3a\"],[0.8888888888888888,\"#fdca26\"],[1.0,\"#f0f921\"]],\"sequentialminus\":[[0.0,\"#0d0887\"],[0.1111111111111111,\"#46039f\"],[0.2222222222222222,\"#7201a8\"],[0.3333333333333333,\"#9c179e\"],[0.4444444444444444,\"#bd3786\"],[0.5555555555555556,\"#d8576b\"],[0.6666666666666666,\"#ed7953\"],[0.7777777777777778,\"#fb9f3a\"],[0.8888888888888888,\"#fdca26\"],[1.0,\"#f0f921\"]],\"diverging\":[[0,\"#8e0152\"],[0.1,\"#c51b7d\"],[0.2,\"#de77ae\"],[0.3,\"#f1b6da\"],[0.4,\"#fde0ef\"],[0.5,\"#f7f7f7\"],[0.6,\"#e6f5d0\"],[0.7,\"#b8e186\"],[0.8,\"#7fbc41\"],[0.9,\"#4d9221\"],[1,\"#276419\"]]},\"xaxis\":{\"gridcolor\":\"white\",\"linecolor\":\"white\",\"ticks\":\"\",\"title\":{\"standoff\":15},\"zerolinecolor\":\"white\",\"automargin\":true,\"zerolinewidth\":2},\"yaxis\":{\"gridcolor\":\"white\",\"linecolor\":\"white\",\"ticks\":\"\",\"title\":{\"standoff\":15},\"zerolinecolor\":\"white\",\"automargin\":true,\"zerolinewidth\":2},\"scene\":{\"xaxis\":{\"backgroundcolor\":\"#E5ECF6\",\"gridcolor\":\"white\",\"linecolor\":\"white\",\"showbackground\":true,\"ticks\":\"\",\"zerolinecolor\":\"white\",\"gridwidth\":2},\"yaxis\":{\"backgroundcolor\":\"#E5ECF6\",\"gridcolor\":\"white\",\"linecolor\":\"white\",\"showbackground\":true,\"ticks\":\"\",\"zerolinecolor\":\"white\",\"gridwidth\":2},\"zaxis\":{\"backgroundcolor\":\"#E5ECF6\",\"gridcolor\":\"white\",\"linecolor\":\"white\",\"showbackground\":true,\"ticks\":\"\",\"zerolinecolor\":\"white\",\"gridwidth\":2}},\"shapedefaults\":{\"line\":{\"color\":\"#2a3f5f\"}},\"annotationdefaults\":{\"arrowcolor\":\"#2a3f5f\",\"arrowhead\":0,\"arrowwidth\":1},\"geo\":{\"bgcolor\":\"white\",\"landcolor\":\"#E5ECF6\",\"subunitcolor\":\"white\",\"showland\":true,\"showlakes\":true,\"lakecolor\":\"white\"},\"title\":{\"x\":0.05},\"mapbox\":{\"style\":\"light\"}}},\"title\":{\"font\":{\"size\":18,\"color\":\"#7aa64d\"},\"text\":\"Use of Computer Vision Methods in different Role<br><sup><i >Q23:Select the title most similar to your current role:</i></sup><br><sup><i >Q19:Which categories of computer vision methods do you use on a regular basis? </i></sup>\",\"y\":0.95,\"x\":0.5},\"margin\":{\"l\":50,\"r\":50,\"b\":100,\"t\":100,\"pad\":4},\"autosize\":false,\"width\":800,\"height\":500},                        {\"responsive\": true}                    ).then(function(){\n",
       "                            \n",
       "var gd = document.getElementById('91588b51-7b78-43fc-a39e-0131536e09d3');\n",
       "var x = new MutationObserver(function (mutations, observer) {{\n",
       "        var display = window.getComputedStyle(gd).display;\n",
       "        if (!display || display === 'none') {{\n",
       "            console.log([gd, 'removed!']);\n",
       "            Plotly.purge(gd);\n",
       "            observer.disconnect();\n",
       "        }}\n",
       "}});\n",
       "\n",
       "// Listen for the removal of the full notebook cells\n",
       "var notebookContainer = gd.closest('#notebook-container');\n",
       "if (notebookContainer) {{\n",
       "    x.observe(notebookContainer, {childList: true});\n",
       "}}\n",
       "\n",
       "// Listen for the clearing of the current output cell\n",
       "var outputEl = gd.closest('.output');\n",
       "if (outputEl) {{\n",
       "    x.observe(outputEl, {childList: true});\n",
       "}}\n",
       "\n",
       "                        })                };                });            </script>        </div>"
      ]
     },
     "metadata": {},
     "output_type": "display_data"
    }
   ],
   "source": [
    "roles=['Data Scientist', 'Research Scientist', 'Data Analyst','ML/MLops Engineer', 'Teacher / professor', 'Data Architect']\n",
    "df=df_2022[df_2022['Current_role'].isin(roles)]\n",
    "drawCVMethodHeatMap(df,'Current_role','CV','Computer Vision','Use of Computer Vision Methods in different Role'+'<br><sup><i >Q23:Select the title most similar to your current role:</i></sup>'+'<br><sup><i >Q19:Which categories of computer vision methods do you use on a regular basis? </i></sup>')"
   ]
  },
  {
   "cell_type": "markdown",
   "id": "2b4bb517",
   "metadata": {
    "papermill": {
     "duration": 0.019559,
     "end_time": "2022-11-27T02:56:10.194660",
     "exception": false,
     "start_time": "2022-11-27T02:56:10.175101",
     "status": "completed"
    },
    "tags": []
   },
   "source": [
    "<p class='default-font'>Reviewing use of CV methods in light of the current role reveals no different picture. Here the oder of methods based on their use is same as before. But one thing is to note here,Data Analysts use Image Segmentation slightly more often than other roles. Another thing is , <b>use of GAN is significantly high among Data Architects(17.46%)</b> than other roles. </p>"
   ]
  },
  {
   "cell_type": "code",
   "execution_count": 31,
   "id": "94fae906",
   "metadata": {
    "_kg_hide-input": true,
    "execution": {
     "iopub.execute_input": "2022-11-27T02:56:10.238220Z",
     "iopub.status.busy": "2022-11-27T02:56:10.237802Z",
     "iopub.status.idle": "2022-11-27T02:56:10.505677Z",
     "shell.execute_reply": "2022-11-27T02:56:10.504558Z"
    },
    "papermill": {
     "duration": 0.291898,
     "end_time": "2022-11-27T02:56:10.508132",
     "exception": false,
     "start_time": "2022-11-27T02:56:10.216234",
     "status": "completed"
    },
    "tags": []
   },
   "outputs": [
    {
     "data": {
      "text/html": [
       "<div>                            <div id=\"4baf95c0-169b-4ec4-9b59-521daac70da3\" class=\"plotly-graph-div\" style=\"height:600px; width:1200px;\"></div>            <script type=\"text/javascript\">                require([\"plotly\"], function(Plotly) {                    window.PLOTLYENV=window.PLOTLYENV || {};                                    if (document.getElementById(\"4baf95c0-169b-4ec4-9b59-521daac70da3\")) {                    Plotly.newPlot(                        \"4baf95c0-169b-4ec4-9b59-521daac70da3\",                        [{\"colorscale\":[[0.0,\"rgb(243, 203, 211)\"],[0.16666666666666666,\"rgb(234, 169, 189)\"],[0.3333333333333333,\"rgb(221, 136, 172)\"],[0.5,\"rgb(202, 105, 157)\"],[0.6666666666666666,\"rgb(177, 77, 142)\"],[0.8333333333333334,\"rgb(145, 53, 125)\"],[1.0,\"rgb(108, 33, 103)\"]],\"text\":[18.53,17.48,20.95,27.1,\"\",\"\",\"\",17.11,17.76,19.08,24.34,\"\",\"\",\"\",18.14,18.74,16.58,28.55,\"\",\"\",\"\",17.72,17.83,20.1,27.67,\"\",\"\",\"\",15.25,16.1,17.8,29.66,\"\",\"\",\"\",15.53,21.04,19.42,24.92,\"\",\"\",\"\"],\"texttemplate\":\"%{text}\",\"x\":[\"Bachelor’s degree\",\"Bachelor’s degree\",\"Bachelor’s degree\",\"Bachelor’s degree\",\"Bachelor’s degree\",\"Bachelor’s degree\",\"Bachelor’s degree\",\"College/uni study without bachelor\",\"College/uni study without bachelor\",\"College/uni study without bachelor\",\"College/uni study without bachelor\",\"College/uni study without bachelor\",\"College/uni study without bachelor\",\"College/uni study without bachelor\",\"Doctoral degree\",\"Doctoral degree\",\"Doctoral degree\",\"Doctoral degree\",\"Doctoral degree\",\"Doctoral degree\",\"Doctoral degree\",\"Master’s degree\",\"Master’s degree\",\"Master’s degree\",\"Master’s degree\",\"Master’s degree\",\"Master’s degree\",\"Master’s degree\",\"No formal education past high school\",\"No formal education past high school\",\"No formal education past high school\",\"No formal education past high school\",\"No formal education past high school\",\"No formal education past high school\",\"No formal education past high school\",\"Professional doctorate\",\"Professional doctorate\",\"Professional doctorate\",\"Professional doctorate\",\"Professional doctorate\",\"Professional doctorate\",\"Professional doctorate\"],\"y\":[\"General img/video tools \",\"Img segmentation\",\"Obj detection\",\"Img claasify/General Nets \",\"GAN\",\"ViT\",\"Other\",\"General img/video tools \",\"Img segmentation\",\"Obj detection\",\"Img claasify/General Nets \",\"GAN\",\"ViT\",\"Other\",\"General img/video tools \",\"Img segmentation\",\"Obj detection\",\"Img claasify/General Nets \",\"GAN\",\"ViT\",\"Other\",\"General img/video tools \",\"Img segmentation\",\"Obj detection\",\"Img claasify/General Nets \",\"GAN\",\"ViT\",\"Other\",\"General img/video tools \",\"Img segmentation\",\"Obj detection\",\"Img claasify/General Nets \",\"GAN\",\"ViT\",\"Other\",\"General img/video tools \",\"Img segmentation\",\"Obj detection\",\"Img claasify/General Nets \",\"GAN\",\"ViT\",\"Other\"],\"z\":[18.53,17.48,20.95,27.1,8.98,5.83,1.13,17.11,17.76,19.08,24.34,11.18,7.24,3.29,18.14,18.74,16.58,28.55,10.19,6.47,1.34,17.72,17.83,20.1,27.67,9.45,6.38,0.85,15.25,16.1,17.8,29.66,11.02,7.63,2.54,15.53,21.04,19.42,24.92,11.97,5.5,1.62],\"type\":\"heatmap\"}],                        {\"template\":{\"data\":{\"histogram2dcontour\":[{\"type\":\"histogram2dcontour\",\"colorbar\":{\"outlinewidth\":0,\"ticks\":\"\"},\"colorscale\":[[0.0,\"#0d0887\"],[0.1111111111111111,\"#46039f\"],[0.2222222222222222,\"#7201a8\"],[0.3333333333333333,\"#9c179e\"],[0.4444444444444444,\"#bd3786\"],[0.5555555555555556,\"#d8576b\"],[0.6666666666666666,\"#ed7953\"],[0.7777777777777778,\"#fb9f3a\"],[0.8888888888888888,\"#fdca26\"],[1.0,\"#f0f921\"]]}],\"choropleth\":[{\"type\":\"choropleth\",\"colorbar\":{\"outlinewidth\":0,\"ticks\":\"\"}}],\"histogram2d\":[{\"type\":\"histogram2d\",\"colorbar\":{\"outlinewidth\":0,\"ticks\":\"\"},\"colorscale\":[[0.0,\"#0d0887\"],[0.1111111111111111,\"#46039f\"],[0.2222222222222222,\"#7201a8\"],[0.3333333333333333,\"#9c179e\"],[0.4444444444444444,\"#bd3786\"],[0.5555555555555556,\"#d8576b\"],[0.6666666666666666,\"#ed7953\"],[0.7777777777777778,\"#fb9f3a\"],[0.8888888888888888,\"#fdca26\"],[1.0,\"#f0f921\"]]}],\"heatmap\":[{\"type\":\"heatmap\",\"colorbar\":{\"outlinewidth\":0,\"ticks\":\"\"},\"colorscale\":[[0.0,\"#0d0887\"],[0.1111111111111111,\"#46039f\"],[0.2222222222222222,\"#7201a8\"],[0.3333333333333333,\"#9c179e\"],[0.4444444444444444,\"#bd3786\"],[0.5555555555555556,\"#d8576b\"],[0.6666666666666666,\"#ed7953\"],[0.7777777777777778,\"#fb9f3a\"],[0.8888888888888888,\"#fdca26\"],[1.0,\"#f0f921\"]]}],\"heatmapgl\":[{\"type\":\"heatmapgl\",\"colorbar\":{\"outlinewidth\":0,\"ticks\":\"\"},\"colorscale\":[[0.0,\"#0d0887\"],[0.1111111111111111,\"#46039f\"],[0.2222222222222222,\"#7201a8\"],[0.3333333333333333,\"#9c179e\"],[0.4444444444444444,\"#bd3786\"],[0.5555555555555556,\"#d8576b\"],[0.6666666666666666,\"#ed7953\"],[0.7777777777777778,\"#fb9f3a\"],[0.8888888888888888,\"#fdca26\"],[1.0,\"#f0f921\"]]}],\"contourcarpet\":[{\"type\":\"contourcarpet\",\"colorbar\":{\"outlinewidth\":0,\"ticks\":\"\"}}],\"contour\":[{\"type\":\"contour\",\"colorbar\":{\"outlinewidth\":0,\"ticks\":\"\"},\"colorscale\":[[0.0,\"#0d0887\"],[0.1111111111111111,\"#46039f\"],[0.2222222222222222,\"#7201a8\"],[0.3333333333333333,\"#9c179e\"],[0.4444444444444444,\"#bd3786\"],[0.5555555555555556,\"#d8576b\"],[0.6666666666666666,\"#ed7953\"],[0.7777777777777778,\"#fb9f3a\"],[0.8888888888888888,\"#fdca26\"],[1.0,\"#f0f921\"]]}],\"surface\":[{\"type\":\"surface\",\"colorbar\":{\"outlinewidth\":0,\"ticks\":\"\"},\"colorscale\":[[0.0,\"#0d0887\"],[0.1111111111111111,\"#46039f\"],[0.2222222222222222,\"#7201a8\"],[0.3333333333333333,\"#9c179e\"],[0.4444444444444444,\"#bd3786\"],[0.5555555555555556,\"#d8576b\"],[0.6666666666666666,\"#ed7953\"],[0.7777777777777778,\"#fb9f3a\"],[0.8888888888888888,\"#fdca26\"],[1.0,\"#f0f921\"]]}],\"mesh3d\":[{\"type\":\"mesh3d\",\"colorbar\":{\"outlinewidth\":0,\"ticks\":\"\"}}],\"scatter\":[{\"fillpattern\":{\"fillmode\":\"overlay\",\"size\":10,\"solidity\":0.2},\"type\":\"scatter\"}],\"parcoords\":[{\"type\":\"parcoords\",\"line\":{\"colorbar\":{\"outlinewidth\":0,\"ticks\":\"\"}}}],\"scatterpolargl\":[{\"type\":\"scatterpolargl\",\"marker\":{\"colorbar\":{\"outlinewidth\":0,\"ticks\":\"\"}}}],\"bar\":[{\"error_x\":{\"color\":\"#2a3f5f\"},\"error_y\":{\"color\":\"#2a3f5f\"},\"marker\":{\"line\":{\"color\":\"#E5ECF6\",\"width\":0.5},\"pattern\":{\"fillmode\":\"overlay\",\"size\":10,\"solidity\":0.2}},\"type\":\"bar\"}],\"scattergeo\":[{\"type\":\"scattergeo\",\"marker\":{\"colorbar\":{\"outlinewidth\":0,\"ticks\":\"\"}}}],\"scatterpolar\":[{\"type\":\"scatterpolar\",\"marker\":{\"colorbar\":{\"outlinewidth\":0,\"ticks\":\"\"}}}],\"histogram\":[{\"marker\":{\"pattern\":{\"fillmode\":\"overlay\",\"size\":10,\"solidity\":0.2}},\"type\":\"histogram\"}],\"scattergl\":[{\"type\":\"scattergl\",\"marker\":{\"colorbar\":{\"outlinewidth\":0,\"ticks\":\"\"}}}],\"scatter3d\":[{\"type\":\"scatter3d\",\"line\":{\"colorbar\":{\"outlinewidth\":0,\"ticks\":\"\"}},\"marker\":{\"colorbar\":{\"outlinewidth\":0,\"ticks\":\"\"}}}],\"scattermapbox\":[{\"type\":\"scattermapbox\",\"marker\":{\"colorbar\":{\"outlinewidth\":0,\"ticks\":\"\"}}}],\"scatterternary\":[{\"type\":\"scatterternary\",\"marker\":{\"colorbar\":{\"outlinewidth\":0,\"ticks\":\"\"}}}],\"scattercarpet\":[{\"type\":\"scattercarpet\",\"marker\":{\"colorbar\":{\"outlinewidth\":0,\"ticks\":\"\"}}}],\"carpet\":[{\"aaxis\":{\"endlinecolor\":\"#2a3f5f\",\"gridcolor\":\"white\",\"linecolor\":\"white\",\"minorgridcolor\":\"white\",\"startlinecolor\":\"#2a3f5f\"},\"baxis\":{\"endlinecolor\":\"#2a3f5f\",\"gridcolor\":\"white\",\"linecolor\":\"white\",\"minorgridcolor\":\"white\",\"startlinecolor\":\"#2a3f5f\"},\"type\":\"carpet\"}],\"table\":[{\"cells\":{\"fill\":{\"color\":\"#EBF0F8\"},\"line\":{\"color\":\"white\"}},\"header\":{\"fill\":{\"color\":\"#C8D4E3\"},\"line\":{\"color\":\"white\"}},\"type\":\"table\"}],\"barpolar\":[{\"marker\":{\"line\":{\"color\":\"#E5ECF6\",\"width\":0.5},\"pattern\":{\"fillmode\":\"overlay\",\"size\":10,\"solidity\":0.2}},\"type\":\"barpolar\"}],\"pie\":[{\"automargin\":true,\"type\":\"pie\"}]},\"layout\":{\"autotypenumbers\":\"strict\",\"colorway\":[\"#636efa\",\"#EF553B\",\"#00cc96\",\"#ab63fa\",\"#FFA15A\",\"#19d3f3\",\"#FF6692\",\"#B6E880\",\"#FF97FF\",\"#FECB52\"],\"font\":{\"color\":\"#2a3f5f\"},\"hovermode\":\"closest\",\"hoverlabel\":{\"align\":\"left\"},\"paper_bgcolor\":\"white\",\"plot_bgcolor\":\"#E5ECF6\",\"polar\":{\"bgcolor\":\"#E5ECF6\",\"angularaxis\":{\"gridcolor\":\"white\",\"linecolor\":\"white\",\"ticks\":\"\"},\"radialaxis\":{\"gridcolor\":\"white\",\"linecolor\":\"white\",\"ticks\":\"\"}},\"ternary\":{\"bgcolor\":\"#E5ECF6\",\"aaxis\":{\"gridcolor\":\"white\",\"linecolor\":\"white\",\"ticks\":\"\"},\"baxis\":{\"gridcolor\":\"white\",\"linecolor\":\"white\",\"ticks\":\"\"},\"caxis\":{\"gridcolor\":\"white\",\"linecolor\":\"white\",\"ticks\":\"\"}},\"coloraxis\":{\"colorbar\":{\"outlinewidth\":0,\"ticks\":\"\"}},\"colorscale\":{\"sequential\":[[0.0,\"#0d0887\"],[0.1111111111111111,\"#46039f\"],[0.2222222222222222,\"#7201a8\"],[0.3333333333333333,\"#9c179e\"],[0.4444444444444444,\"#bd3786\"],[0.5555555555555556,\"#d8576b\"],[0.6666666666666666,\"#ed7953\"],[0.7777777777777778,\"#fb9f3a\"],[0.8888888888888888,\"#fdca26\"],[1.0,\"#f0f921\"]],\"sequentialminus\":[[0.0,\"#0d0887\"],[0.1111111111111111,\"#46039f\"],[0.2222222222222222,\"#7201a8\"],[0.3333333333333333,\"#9c179e\"],[0.4444444444444444,\"#bd3786\"],[0.5555555555555556,\"#d8576b\"],[0.6666666666666666,\"#ed7953\"],[0.7777777777777778,\"#fb9f3a\"],[0.8888888888888888,\"#fdca26\"],[1.0,\"#f0f921\"]],\"diverging\":[[0,\"#8e0152\"],[0.1,\"#c51b7d\"],[0.2,\"#de77ae\"],[0.3,\"#f1b6da\"],[0.4,\"#fde0ef\"],[0.5,\"#f7f7f7\"],[0.6,\"#e6f5d0\"],[0.7,\"#b8e186\"],[0.8,\"#7fbc41\"],[0.9,\"#4d9221\"],[1,\"#276419\"]]},\"xaxis\":{\"gridcolor\":\"white\",\"linecolor\":\"white\",\"ticks\":\"\",\"title\":{\"standoff\":15},\"zerolinecolor\":\"white\",\"automargin\":true,\"zerolinewidth\":2},\"yaxis\":{\"gridcolor\":\"white\",\"linecolor\":\"white\",\"ticks\":\"\",\"title\":{\"standoff\":15},\"zerolinecolor\":\"white\",\"automargin\":true,\"zerolinewidth\":2},\"scene\":{\"xaxis\":{\"backgroundcolor\":\"#E5ECF6\",\"gridcolor\":\"white\",\"linecolor\":\"white\",\"showbackground\":true,\"ticks\":\"\",\"zerolinecolor\":\"white\",\"gridwidth\":2},\"yaxis\":{\"backgroundcolor\":\"#E5ECF6\",\"gridcolor\":\"white\",\"linecolor\":\"white\",\"showbackground\":true,\"ticks\":\"\",\"zerolinecolor\":\"white\",\"gridwidth\":2},\"zaxis\":{\"backgroundcolor\":\"#E5ECF6\",\"gridcolor\":\"white\",\"linecolor\":\"white\",\"showbackground\":true,\"ticks\":\"\",\"zerolinecolor\":\"white\",\"gridwidth\":2}},\"shapedefaults\":{\"line\":{\"color\":\"#2a3f5f\"}},\"annotationdefaults\":{\"arrowcolor\":\"#2a3f5f\",\"arrowhead\":0,\"arrowwidth\":1},\"geo\":{\"bgcolor\":\"white\",\"landcolor\":\"#E5ECF6\",\"subunitcolor\":\"white\",\"showland\":true,\"showlakes\":true,\"lakecolor\":\"white\"},\"title\":{\"x\":0.05},\"mapbox\":{\"style\":\"light\"}}},\"title\":{\"font\":{\"size\":18,\"color\":\"#7aa64d\"},\"text\":\"Use of Computer Vision Methods based on Highest Formal Degree<br><sup><i >Q8:What is the highest level of formal education that you have attained or plan to attain within the next 2 years?</i></sup><br><sup><i >Q19:Which categories of computer vision methods do you use on a regular basis? </i></sup>\",\"y\":0.95,\"x\":0.5},\"margin\":{\"l\":50,\"r\":50,\"b\":100,\"t\":100,\"pad\":4},\"autosize\":false,\"width\":1200,\"height\":600},                        {\"responsive\": true}                    ).then(function(){\n",
       "                            \n",
       "var gd = document.getElementById('4baf95c0-169b-4ec4-9b59-521daac70da3');\n",
       "var x = new MutationObserver(function (mutations, observer) {{\n",
       "        var display = window.getComputedStyle(gd).display;\n",
       "        if (!display || display === 'none') {{\n",
       "            console.log([gd, 'removed!']);\n",
       "            Plotly.purge(gd);\n",
       "            observer.disconnect();\n",
       "        }}\n",
       "}});\n",
       "\n",
       "// Listen for the removal of the full notebook cells\n",
       "var notebookContainer = gd.closest('#notebook-container');\n",
       "if (notebookContainer) {{\n",
       "    x.observe(notebookContainer, {childList: true});\n",
       "}}\n",
       "\n",
       "// Listen for the clearing of the current output cell\n",
       "var outputEl = gd.closest('.output');\n",
       "if (outputEl) {{\n",
       "    x.observe(outputEl, {childList: true});\n",
       "}}\n",
       "\n",
       "                        })                };                });            </script>        </div>"
      ]
     },
     "metadata": {},
     "output_type": "display_data"
    }
   ],
   "source": [
    "df=df_2022[~df_2022['Highest_Fomal_Edu'].isin(['I prefer not to answer'])].copy()\n",
    "df['Highest_Fomal_Edu']=df['Highest_Fomal_Edu'].apply(lambda x: 'College/uni study without bachelor' if x=='Some college/university study without earning a bachelor’s degree' else x )\n",
    "drawCVMethodHeatMap(df,'Highest_Fomal_Edu','CV','Computer Vision','Use of Computer Vision Methods based on Highest Formal Degree'+'<br><sup><i >Q8:What is the highest level of formal education that you have attained or plan to attain within the next 2 years?</i></sup>'+'<br><sup><i >Q19:Which categories of computer vision methods do you use on a regular basis? </i></sup>',1200,600)"
   ]
  },
  {
   "cell_type": "markdown",
   "id": "f192f83b",
   "metadata": {
    "papermill": {
     "duration": 0.019996,
     "end_time": "2022-11-27T02:56:10.548340",
     "exception": false,
     "start_time": "2022-11-27T02:56:10.528344",
     "status": "completed"
    },
    "tags": []
   },
   "source": [
    "<p class='default-font'>The graph above provides a comparison of CV methods used by highest level of formal education. <b>The use of Image Segmentation among Professional Doctorates are relativel high than others (21.04%)</b> and object detection is slightly less used among those who have Doctoral Degree(16.58%).</p>"
   ]
  },
  {
   "cell_type": "markdown",
   "id": "fc251368",
   "metadata": {
    "papermill": {
     "duration": 0.019774,
     "end_time": "2022-11-27T02:56:10.587928",
     "exception": false,
     "start_time": "2022-11-27T02:56:10.568154",
     "status": "completed"
    },
    "tags": []
   },
   "source": [
    "<a id='CV_Key'></a>\n",
    "<p class='sub-heading'>Key Findings from the Analysis</p>\n",
    "\n",
    "<ul class='default-font'>\n",
    "<p class='ref-heading'>Who Uses Computer Vision?:</p>\n",
    "<li>Computer/technology, Academics/Education and Medical/Pharmaceuticles are top three industries to use computer vision.</li>\n",
    "<li>Organization's use of computer vision doesn't that much depend upon company size.</li>\n",
    "<li>Two clusters can be seen when looking at the world map in terms of CV use.One cluster includes countries from East and South-East Asia and another cluster includes countries from Western Europe and Northern Africa.</li>\n",
    "<li>Top two roles that mostly use Computer vision are ML/MLops Engineer (60%) and Research Scientists(41%).</li>\n",
    "<li>Women do less computer vision work on regular basis than men. But reviewing the data from the previous two years and this year reveals that the gender gap is gradually decreasing.</li>\n",
    "<li>Working on computer vision correlates linearly with programming experience. However, there is no direct correlation between the number of years of ML expertise and computer vision work.</li>\n",
    "<p class='ref-heading'> Benefits of Working on Computer Vision</p>\n",
    "<li>Average ratio of salary between Kagglers using and not using computer vision on a regular basis in their country: 2.37.</li>\n",
    "<p class='ref-heading'> CV users' preferences over non-CV users</p>\n",
    "<li>Kaggle,online courses and video platforms are the top three learning platforms for both groups. Popularity of Kaggle is slightly high among CV users.</li>\n",
    "<li>Kaggle is also the first choice as favourite media source among CV users.</li>\n",
    "<li>Python and SQL are the most popular programming languages among CV and Non-CV users. Use of C and C++ is higher among CV users than Non-CV users.</li>\n",
    "<li> Scikit-learn and tensorflow remains top two most widely used ML framework for both groups. CV users use keras most often than Non-CV users. PyTorch is also more popular among CV users.</li>\n",
    "<li>CV users use hosted motebooks most often than Non-CV users. The Google subsidiaries Kaggle and Colab are the two most preferred hosted notebook services.</li>\n",
    "<li>There is no significant difference between the two groups in terms of IDE use. Jupyter Notebook, Visual Studio Code, Pycharm and JupyterLab are the top three popular IDE.</li>\n",
    "<li>AWS, GCP, and Microsoft Azure are the most popular cloud computing platforms in both groups among CV and Non-CV users.</li>\n",
    "<li>Most of the Kaggler don't use AutoML for their task.CV users use automated machine learning tools more often than Non-CV users. The reason might be AutoML solution providers offer solutions for a range of computer vision applications, including image classification, object detection, instance segmentation, and more.</li>\n",
    "<li>A sizeable percentage(more than 25%) of Kagglers from both categories do not use BI yet. The top two popular BI tools are Tableau and Microsoft Power BI. </li>\n",
    "    \n",
    "<li>The use of ML model hubs/repositorities are more often among CV users than Non-CV users. Top two repositories are MLFlow and TensorFlow Extnt.</li>\n",
    "<li>CV users use more specialized hardware than Non-CV users.Almost half of the Non-CV user do not use any specialized hardware for training their machine learning models while 62.29% of CV user use GPUs. Use of TPUs is also higher among CV users.</li>\n",
    "<li>67.65 % of Non-CV users do not use any ML model monitoring tools while this rate is 31.18% amon CV users. Top three popular used ML model monitoring tools among CV users are-TensorBoard, MLFlow and Weights & Biases.</li>\n",
    "\n",
    "<p class='ref-heading'> Methods the CV users use</p>\n",
    "<li>Among the computer vision methods, CV user mostly use Image classification and other general purpose networks(27.4%).The adoption of object detection, image segmentation methods, and general image/video tools is almost same (between 17% to 19.4%).Generative Networks are used less often(9.72%).Vision transformer networks are used the least(6.28%). Kagglers also use some other methods for Computer Vision tasks but that percentage is very small(1.23%)</li>\n",
    "<li>Both men and women mostly use Image Classification/General Networks. Image segmentation method is sligtly more popular in women(21%).Men tend to use general image/video editing tools more frequently than women.</li>\n",
    "<li>Kagglers from all industries mostly use Image Classification/ General Networks. \n",
    "The use of Object Detection in Shipping/Transport is greater than in any other industry(30%). The use of Image Segmentation does not vary that much depending upon the industry.The use of GAN  in Broadcasting industry is greater than other industries(15%).</li>\n",
    "<li>Data Analysts use Image Segmentation slightly more often than other roles and use of GAN is significantly high among Data Architects than other roles.</li>\n",
    "<li>The use of Image Segmentation among Professional Doctorates is relativel high than others (21.04%) and object detection is slightly less used among those who have Doctoral Degree(16.58%).</li>\n",
    "\n",
    "\n",
    "</ul>"
   ]
  },
  {
   "cell_type": "markdown",
   "id": "852b745f",
   "metadata": {
    "papermill": {
     "duration": 0.01946,
     "end_time": "2022-11-27T02:56:10.627234",
     "exception": false,
     "start_time": "2022-11-27T02:56:10.607774",
     "status": "completed"
    },
    "tags": []
   },
   "source": [
    "<a id='CV_Con'></a>\n",
    "<p class='sub-heading'>Conclusion:</p>\n",
    "<p class='default-font'>Computer vision is a rapidly growing field in research and applications. Understanding the present maturity levels of the computer vision area across industries and geographies is our goal in selecting this topic. Additionally, we are interested in learning about the preferred tools, technologies, services, platforms, and methodologies among users of computer vision.</p>\n",
    "\n",
    "<p class='default-font'>We examined this dataset from several angles in order to gain a clear picture of the present level of computer vision. We have seen that computer vision application in business is still relatively low. Apart from <b>tech and academics</b>, the <b>medical</b> sector has seen a lot of use of computer vision in other industries.</p>\n",
    "\n",
    "<p class='default-font'>We have also noticed that, countries in <b>East and South-East Asia like Vietnam,China,Taiwan,South Korea,Nepal,Thailand,Japan</b> are doing great in computer vision.The reason behind so much improvement in computer vision in these countries is the huge patronage at the government level. </p>\n",
    "\n",
    "<p class='default-font'>It is also clear that those who work in computer vision on a regular basis make <b>2.37</b> times as much as those who do not.</p>\n",
    "<p class='default-font'>The preferences for products,tools and technologies between individuals who work in computer vision and those who do not can be compared and contrasted in a number of ways. Use of <b>C,C++(programming languages),PyTorch(ML framework), Kaggle and Colab notebook(hosted notebook)</b> is  higher among CV users than Non-CV users. Use of <b>AutoML ,ML model hubs/repositorities, specialized hardware, ML model monitoring tools</b> is also higher among CV users.</p>\n",
    "\n",
    "<p class='default-font'>The most popular computer vision methods include <b>image classification and other general-purpose networks</b>. Then, roughly equally, object detection, image segmentation approaches, and generic image/video tools are used.</p>\n",
    "\n",
    "<p class='default-font'> Finally,we observed that the application of computer vision is still more in research lab than in real life business application. Once we can move from research labs into the real world, computer vision will be able to realize its full potential. We anticipate that computer vision applications will enter a booming phase in the upcoming years. </p>\n",
    "\n",
    "\n",
    "\n",
    "<a id='CV_Ref'></a>\n",
    "<p class='sub-heading'>References:</p>\n",
    "<ol type=\"1\" class='default-font'>\n",
    "<li><a href='https://www.alvervalleysoftware.com/2016/02/28/computer-vision-a-developers-viewpoint/'>Computer Vision – a Developer’s Viewpoint</a></li>\n",
    "<li><a href='https://www.linkedin.com/pulse/what-computer-vision-why-important-gabriella-leone/'>What is Computer Vision and Why Is It Important?</a></li>\n",
    "<li><a href='https://www.techrepublic.com/article/report-computer-vision-adoption-expected-to-grow-significantly-in-the-near-future/'>Report: Computer vision adoption expected to grow significantly in the near future</a></li>\n",
    "<li><a href='https://www.insight.com/en_US/campaigns/hva/insight/early-adopters-see-value-in-computer-vision.html'>Early Adopters See Value in Computer Vision</a></li>\n",
    "<li><a href='https://www.cio.com/article/308384/computer-vision-is-transforming-the-transportation-industry-making-it-safer-more-efficient-and-improving-the-bottom-line.html'>Computer Vision Is Transforming the Transportation Industry, Making It Safer, More Efficient and Improving the Bottom Line</a></li>\n",
    "<li><a href='https://www.oxfordinsights.com/ai-readiness2019'>Government Artificial Intelligence ReadinessIndex 2019</a></li>\t\n",
    "<li><a href='https://medium.com/geekculture/monitoring-your-deployed-machine-learning-models-in-production-8822d1bab11a#a00c'>Monitoring Your Deployed Machine Learning Models in Production</a></li>\n",
    "    \n",
    "</ol>"
   ]
  }
 ],
 "metadata": {
  "kernelspec": {
   "display_name": "Python 3",
   "language": "python",
   "name": "python3"
  },
  "language_info": {
   "codemirror_mode": {
    "name": "ipython",
    "version": 3
   },
   "file_extension": ".py",
   "mimetype": "text/x-python",
   "name": "python",
   "nbconvert_exporter": "python",
   "pygments_lexer": "ipython3",
   "version": "3.7.12"
  },
  "papermill": {
   "default_parameters": {},
   "duration": 23.485708,
   "end_time": "2022-11-27T02:56:11.569898",
   "environment_variables": {},
   "exception": null,
   "input_path": "__notebook__.ipynb",
   "output_path": "__notebook__.ipynb",
   "parameters": {},
   "start_time": "2022-11-27T02:55:48.084190",
   "version": "2.3.4"
  }
 },
 "nbformat": 4,
 "nbformat_minor": 5
}
